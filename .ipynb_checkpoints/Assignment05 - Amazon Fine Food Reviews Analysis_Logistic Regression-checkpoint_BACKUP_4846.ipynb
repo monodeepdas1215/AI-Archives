{
 "cells": [
  {
   "cell_type": "markdown",
   "metadata": {
    "colab_type": "text",
    "id": "AM7jsfwALPlp"
   },
   "source": [
    "# Amazon Fine Food Reviews Analysis\n",
    "\n",
    "\n",
    "Data Source: https://www.kaggle.com/snap/amazon-fine-food-reviews <br>\n",
    "\n",
    "EDA: https://nycdatascience.com/blog/student-works/amazon-fine-foods-visualization/\n",
    "\n",
    "\n",
    "The Amazon Fine Food Reviews dataset consists of reviews of fine foods from Amazon.<br>\n",
    "\n",
    "Number of reviews: 568,454<br>\n",
    "Number of users: 256,059<br>\n",
    "Number of products: 74,258<br>\n",
    "Timespan: Oct 1999 - Oct 2012<br>\n",
    "Number of Attributes/Columns in data: 10 \n",
    "\n",
    "Attribute Information:\n",
    "\n",
    "1. Id\n",
    "2. ProductId - unique identifier for the product\n",
    "3. UserId - unqiue identifier for the user\n",
    "4. ProfileName\n",
    "5. HelpfulnessNumerator - number of users who found the review helpful\n",
    "6. HelpfulnessDenominator - number of users who indicated whether they found the review helpful or not\n",
    "7. Score - rating between 1 and 5\n",
    "8. Time - timestamp for the review\n",
    "9. Summary - brief summary of the review\n",
    "10. Text - text of the review\n",
    "\n",
    "\n",
    "#### Objective:\n",
    "Given a review, determine whether the review is positive (rating of 4 or 5) or negative (rating of 1 or 2).\n",
    "\n",
    "<br>\n",
    "[Q] How to determine if a review is positive or negative?<br>\n",
    "<br> \n",
    "[Ans] We could use Score/Rating. A rating of 4 or 5 can be cosnidered as a positive review. A rating of 1 or 2 can be considered as negative one. A review of rating 3 is considered nuetral and such reviews are ignored from our analysis. This is an approximate and proxy way of determining the polarity (positivity/negativity) of a review.\n",
    "\n",
    "\n"
   ]
  },
  {
   "cell_type": "markdown",
   "metadata": {
    "colab_type": "text",
    "id": "CaQ7XJ4OLPls"
   },
   "source": [
    "# [1]. Reading Data"
   ]
  },
  {
   "cell_type": "markdown",
   "metadata": {
    "colab_type": "text",
    "id": "5VnEBjKRLPlu"
   },
   "source": [
    "## [1.1] Loading the data\n",
    "\n",
    "The dataset is available in two forms\n",
    "1. .csv file\n",
    "2. SQLite Database\n",
    "\n",
    "In order to load the data, We have used the SQLITE dataset as it is easier to query the data and visualise the data efficiently.\n",
    "<br> \n",
    "\n",
    "Here as we only want to get the global sentiment of the recommendations (positive or negative), we will purposefully ignore all Scores equal to 3. If the score is above 3, then the recommendation wil be set to \"positive\". Otherwise, it will be set to \"negative\"."
   ]
  },
  {
   "cell_type": "code",
   "execution_count": 1,
   "metadata": {
    "colab": {},
    "colab_type": "code",
    "id": "x6YclOzXLPlv"
   },
   "outputs": [],
   "source": [
    "%matplotlib inline\n",
    "import warnings\n",
    "warnings.filterwarnings(\"ignore\")\n",
    "\n",
    "\n",
    "import sqlite3\n",
    "import pandas as pd\n",
    "import numpy as np\n",
    "import nltk\n",
    "import string\n",
    "import matplotlib.pyplot as plt\n",
    "import seaborn as sns\n",
    "from sklearn.feature_extraction.text import TfidfTransformer\n",
    "from sklearn.feature_extraction.text import TfidfVectorizer\n",
    "\n",
    "from sklearn.feature_extraction.text import CountVectorizer\n",
    "from sklearn.metrics import confusion_matrix\n",
    "from sklearn import metrics\n",
    "from sklearn.metrics import roc_curve, auc\n",
    "from nltk.stem.porter import PorterStemmer\n",
    "\n",
    "import re\n",
    "# Tutorial about Python regular expressions: https://pymotw.com/2/re/\n",
    "import string\n",
    "from nltk.corpus import stopwords\n",
    "from nltk.stem import PorterStemmer\n",
    "from nltk.stem.wordnet import WordNetLemmatizer\n",
    "\n",
    "from gensim.models import Word2Vec\n",
    "from gensim.models import KeyedVectors\n",
    "import pickle\n",
    "\n",
    "from tqdm import tqdm\n",
    "import os"
   ]
  },
  {
   "cell_type": "code",
   "execution_count": 2,
   "metadata": {
    "colab": {},
    "colab_type": "code",
    "id": "NZ4OSpSiLPl0",
    "outputId": "241c4c64-6186-4351-e38f-fcd06c6896dd"
   },
   "outputs": [
    {
     "name": "stdout",
     "output_type": "stream",
     "text": [
      "Number of data points in our data (500000, 10)\n"
     ]
    },
    {
     "data": {
      "text/html": [
       "<div>\n",
       "<style scoped>\n",
       "    .dataframe tbody tr th:only-of-type {\n",
       "        vertical-align: middle;\n",
       "    }\n",
       "\n",
       "    .dataframe tbody tr th {\n",
       "        vertical-align: top;\n",
       "    }\n",
       "\n",
       "    .dataframe thead th {\n",
       "        text-align: right;\n",
       "    }\n",
       "</style>\n",
       "<table border=\"1\" class=\"dataframe\">\n",
       "  <thead>\n",
       "    <tr style=\"text-align: right;\">\n",
       "      <th></th>\n",
       "      <th>Id</th>\n",
       "      <th>ProductId</th>\n",
       "      <th>UserId</th>\n",
       "      <th>ProfileName</th>\n",
       "      <th>HelpfulnessNumerator</th>\n",
       "      <th>HelpfulnessDenominator</th>\n",
       "      <th>Score</th>\n",
       "      <th>Time</th>\n",
       "      <th>Summary</th>\n",
       "      <th>Text</th>\n",
       "    </tr>\n",
       "  </thead>\n",
       "  <tbody>\n",
       "    <tr>\n",
       "      <th>0</th>\n",
       "      <td>1</td>\n",
       "      <td>B001E4KFG0</td>\n",
       "      <td>A3SGXH7AUHU8GW</td>\n",
       "      <td>delmartian</td>\n",
       "      <td>1</td>\n",
       "      <td>1</td>\n",
       "      <td>1</td>\n",
       "      <td>1303862400</td>\n",
       "      <td>Good Quality Dog Food</td>\n",
       "      <td>I have bought several of the Vitality canned d...</td>\n",
       "    </tr>\n",
       "    <tr>\n",
       "      <th>1</th>\n",
       "      <td>2</td>\n",
       "      <td>B00813GRG4</td>\n",
       "      <td>A1D87F6ZCVE5NK</td>\n",
       "      <td>dll pa</td>\n",
       "      <td>0</td>\n",
       "      <td>0</td>\n",
       "      <td>0</td>\n",
       "      <td>1346976000</td>\n",
       "      <td>Not as Advertised</td>\n",
       "      <td>Product arrived labeled as Jumbo Salted Peanut...</td>\n",
       "    </tr>\n",
       "    <tr>\n",
       "      <th>2</th>\n",
       "      <td>3</td>\n",
       "      <td>B000LQOCH0</td>\n",
       "      <td>ABXLMWJIXXAIN</td>\n",
       "      <td>Natalia Corres \"Natalia Corres\"</td>\n",
       "      <td>1</td>\n",
       "      <td>1</td>\n",
       "      <td>1</td>\n",
       "      <td>1219017600</td>\n",
       "      <td>\"Delight\" says it all</td>\n",
       "      <td>This is a confection that has been around a fe...</td>\n",
       "    </tr>\n",
       "  </tbody>\n",
       "</table>\n",
       "</div>"
      ],
      "text/plain": [
       "   Id   ProductId          UserId                      ProfileName  \\\n",
       "0   1  B001E4KFG0  A3SGXH7AUHU8GW                       delmartian   \n",
       "1   2  B00813GRG4  A1D87F6ZCVE5NK                           dll pa   \n",
       "2   3  B000LQOCH0   ABXLMWJIXXAIN  Natalia Corres \"Natalia Corres\"   \n",
       "\n",
       "   HelpfulnessNumerator  HelpfulnessDenominator  Score        Time  \\\n",
       "0                     1                       1      1  1303862400   \n",
       "1                     0                       0      0  1346976000   \n",
       "2                     1                       1      1  1219017600   \n",
       "\n",
       "                 Summary                                               Text  \n",
       "0  Good Quality Dog Food  I have bought several of the Vitality canned d...  \n",
       "1      Not as Advertised  Product arrived labeled as Jumbo Salted Peanut...  \n",
       "2  \"Delight\" says it all  This is a confection that has been around a fe...  "
      ]
     },
     "execution_count": 2,
     "metadata": {},
     "output_type": "execute_result"
    }
   ],
   "source": [
    "# using SQLite Table to read data.\n",
    "db_path = '/home/monodeepdas112/Datasets/amazon-fine-food-reviews/database.sqlite'\n",
<<<<<<< HEAD
    "# db_path = '/home/monodeepdas112/Datasets/AmazonFineFoodReviews/database.sqlite'\n",
=======
    "#db_path = '/home/monodeepdas112/Datasets/AmazonFineFoodReviews/database.sqlite'\n",
>>>>>>> cb90e3818a26040598ce4252e36424944ad4d2cd
    "con = sqlite3.connect(db_path) \n",
    "\n",
    "# filtering only positive and negative reviews i.e. \n",
    "# not taking into consideration those reviews with Score=3\n",
    "# SELECT * FROM Reviews WHERE Score != 3 LIMIT 500000, will give top 500000 data points\n",
    "# you can change the number to any other number based on your computing power\n",
    "\n",
    "# filtered_data = pd.read_sql_query(\"\"\" SELECT * FROM Reviews WHERE Score != 3 LIMIT 500000\"\"\", con) \n",
    "# for tsne assignment you can take 5k data points\n",
    "\n",
    "filtered_data = pd.read_sql_query(\"\"\" SELECT * FROM Reviews WHERE Score != 3 LIMIT 500000\"\"\", con) \n",
    "\n",
    "# Give reviews with Score>3 a positive rating(1), and reviews with a score<3 a negative rating(0).\n",
    "def partition(x):\n",
    "    if x < 3:\n",
    "        return 0\n",
    "    return 1\n",
    "\n",
    "#changing reviews with score less than 3 to be positive and vice-versa\n",
    "actualScore = filtered_data['Score']\n",
    "positiveNegative = actualScore.map(partition) \n",
    "filtered_data['Score'] = positiveNegative\n",
    "print(\"Number of data points in our data\", filtered_data.shape)\n",
    "filtered_data.head(3)"
   ]
  },
  {
   "cell_type": "code",
   "execution_count": 3,
   "metadata": {
    "colab": {},
    "colab_type": "code",
    "id": "r44Y4VDjLPl7"
   },
   "outputs": [],
   "source": [
    "display = pd.read_sql_query(\"\"\"\n",
    "SELECT UserId, ProductId, ProfileName, Time, Score, Text, COUNT(*)\n",
    "FROM Reviews\n",
    "GROUP BY UserId\n",
    "HAVING COUNT(*)>1\n",
    "\"\"\", con)"
   ]
  },
  {
   "cell_type": "code",
   "execution_count": 4,
   "metadata": {
    "colab": {},
    "colab_type": "code",
    "id": "tTwINQv1LPl_",
    "outputId": "0385b9ca-0a35-4c2b-b656-8e8494414e6f",
    "scrolled": true
   },
   "outputs": [
    {
     "name": "stdout",
     "output_type": "stream",
     "text": [
      "(80668, 7)\n"
     ]
    },
    {
     "data": {
      "text/html": [
       "<div>\n",
       "<style scoped>\n",
       "    .dataframe tbody tr th:only-of-type {\n",
       "        vertical-align: middle;\n",
       "    }\n",
       "\n",
       "    .dataframe tbody tr th {\n",
       "        vertical-align: top;\n",
       "    }\n",
       "\n",
       "    .dataframe thead th {\n",
       "        text-align: right;\n",
       "    }\n",
       "</style>\n",
       "<table border=\"1\" class=\"dataframe\">\n",
       "  <thead>\n",
       "    <tr style=\"text-align: right;\">\n",
       "      <th></th>\n",
       "      <th>UserId</th>\n",
       "      <th>ProductId</th>\n",
       "      <th>ProfileName</th>\n",
       "      <th>Time</th>\n",
       "      <th>Score</th>\n",
       "      <th>Text</th>\n",
       "      <th>COUNT(*)</th>\n",
       "    </tr>\n",
       "  </thead>\n",
       "  <tbody>\n",
       "    <tr>\n",
       "      <th>0</th>\n",
       "      <td>#oc-R115TNMSPFT9I7</td>\n",
       "      <td>B007Y59HVM</td>\n",
       "      <td>Breyton</td>\n",
       "      <td>1331510400</td>\n",
       "      <td>2</td>\n",
       "      <td>Overall its just OK when considering the price...</td>\n",
       "      <td>2</td>\n",
       "    </tr>\n",
       "    <tr>\n",
       "      <th>1</th>\n",
       "      <td>#oc-R11D9D7SHXIJB9</td>\n",
       "      <td>B005HG9ET0</td>\n",
       "      <td>Louis E. Emory \"hoppy\"</td>\n",
       "      <td>1342396800</td>\n",
       "      <td>5</td>\n",
       "      <td>My wife has recurring extreme muscle spasms, u...</td>\n",
       "      <td>3</td>\n",
       "    </tr>\n",
       "    <tr>\n",
       "      <th>2</th>\n",
       "      <td>#oc-R11DNU2NBKQ23Z</td>\n",
       "      <td>B007Y59HVM</td>\n",
       "      <td>Kim Cieszykowski</td>\n",
       "      <td>1348531200</td>\n",
       "      <td>1</td>\n",
       "      <td>This coffee is horrible and unfortunately not ...</td>\n",
       "      <td>2</td>\n",
       "    </tr>\n",
       "    <tr>\n",
       "      <th>3</th>\n",
       "      <td>#oc-R11O5J5ZVQE25C</td>\n",
       "      <td>B005HG9ET0</td>\n",
       "      <td>Penguin Chick</td>\n",
       "      <td>1346889600</td>\n",
       "      <td>5</td>\n",
       "      <td>This will be the bottle that you grab from the...</td>\n",
       "      <td>3</td>\n",
       "    </tr>\n",
       "    <tr>\n",
       "      <th>4</th>\n",
       "      <td>#oc-R12KPBODL2B5ZD</td>\n",
       "      <td>B007OSBE1U</td>\n",
       "      <td>Christopher P. Presta</td>\n",
       "      <td>1348617600</td>\n",
       "      <td>1</td>\n",
       "      <td>I didnt like this coffee. Instead of telling y...</td>\n",
       "      <td>2</td>\n",
       "    </tr>\n",
       "  </tbody>\n",
       "</table>\n",
       "</div>"
      ],
      "text/plain": [
       "               UserId   ProductId             ProfileName        Time  Score  \\\n",
       "0  #oc-R115TNMSPFT9I7  B007Y59HVM                 Breyton  1331510400      2   \n",
       "1  #oc-R11D9D7SHXIJB9  B005HG9ET0  Louis E. Emory \"hoppy\"  1342396800      5   \n",
       "2  #oc-R11DNU2NBKQ23Z  B007Y59HVM        Kim Cieszykowski  1348531200      1   \n",
       "3  #oc-R11O5J5ZVQE25C  B005HG9ET0           Penguin Chick  1346889600      5   \n",
       "4  #oc-R12KPBODL2B5ZD  B007OSBE1U   Christopher P. Presta  1348617600      1   \n",
       "\n",
       "                                                Text  COUNT(*)  \n",
       "0  Overall its just OK when considering the price...         2  \n",
       "1  My wife has recurring extreme muscle spasms, u...         3  \n",
       "2  This coffee is horrible and unfortunately not ...         2  \n",
       "3  This will be the bottle that you grab from the...         3  \n",
       "4  I didnt like this coffee. Instead of telling y...         2  "
      ]
     },
     "execution_count": 4,
     "metadata": {},
     "output_type": "execute_result"
    }
   ],
   "source": [
    "print(display.shape)\n",
    "display.head()"
   ]
  },
  {
   "cell_type": "code",
   "execution_count": 5,
   "metadata": {
    "colab": {},
    "colab_type": "code",
    "id": "EOslHQgnLPmF",
    "outputId": "cb28598d-470a-42bb-e742-4763f953c8cb"
   },
   "outputs": [
    {
     "data": {
      "text/html": [
       "<div>\n",
       "<style scoped>\n",
       "    .dataframe tbody tr th:only-of-type {\n",
       "        vertical-align: middle;\n",
       "    }\n",
       "\n",
       "    .dataframe tbody tr th {\n",
       "        vertical-align: top;\n",
       "    }\n",
       "\n",
       "    .dataframe thead th {\n",
       "        text-align: right;\n",
       "    }\n",
       "</style>\n",
       "<table border=\"1\" class=\"dataframe\">\n",
       "  <thead>\n",
       "    <tr style=\"text-align: right;\">\n",
       "      <th></th>\n",
       "      <th>UserId</th>\n",
       "      <th>ProductId</th>\n",
       "      <th>ProfileName</th>\n",
       "      <th>Time</th>\n",
       "      <th>Score</th>\n",
       "      <th>Text</th>\n",
       "      <th>COUNT(*)</th>\n",
       "    </tr>\n",
       "  </thead>\n",
       "  <tbody>\n",
       "    <tr>\n",
       "      <th>80638</th>\n",
       "      <td>AZY10LLTJ71NX</td>\n",
       "      <td>B006P7E5ZI</td>\n",
       "      <td>undertheshrine \"undertheshrine\"</td>\n",
       "      <td>1334707200</td>\n",
       "      <td>5</td>\n",
       "      <td>I was recommended to try green tea extract to ...</td>\n",
       "      <td>5</td>\n",
       "    </tr>\n",
       "  </tbody>\n",
       "</table>\n",
       "</div>"
      ],
      "text/plain": [
       "              UserId   ProductId                      ProfileName        Time  \\\n",
       "80638  AZY10LLTJ71NX  B006P7E5ZI  undertheshrine \"undertheshrine\"  1334707200   \n",
       "\n",
       "       Score                                               Text  COUNT(*)  \n",
       "80638      5  I was recommended to try green tea extract to ...         5  "
      ]
     },
     "execution_count": 5,
     "metadata": {},
     "output_type": "execute_result"
    }
   ],
   "source": [
    "display[display['UserId']=='AZY10LLTJ71NX']"
   ]
  },
  {
   "cell_type": "code",
   "execution_count": 6,
   "metadata": {
    "colab": {},
    "colab_type": "code",
    "id": "pSwF4sdoLPmM",
    "outputId": "2f3bd7f2-0eea-45f7-eab6-bf08c630d9a3"
   },
   "outputs": [
    {
     "data": {
      "text/plain": [
       "393063"
      ]
     },
     "execution_count": 6,
     "metadata": {},
     "output_type": "execute_result"
    }
   ],
   "source": [
    "display['COUNT(*)'].sum()"
   ]
  },
  {
   "cell_type": "markdown",
   "metadata": {
    "colab_type": "text",
    "id": "PuNkhjz0LPmQ"
   },
   "source": [
    "#  [2] Exploratory Data Analysis"
   ]
  },
  {
   "cell_type": "markdown",
   "metadata": {
    "colab_type": "text",
    "id": "oCJaTWrTLPmS"
   },
   "source": [
    "## [2.1] Data Cleaning: Deduplication\n",
    "\n",
    "It is observed (as shown in the table below) that the reviews data had many duplicate entries. Hence it was necessary to remove duplicates in order to get unbiased results for the analysis of the data.  Following is an example:"
   ]
  },
  {
   "cell_type": "code",
   "execution_count": 7,
   "metadata": {
    "colab": {},
    "colab_type": "code",
    "id": "3lvzRwWVLPmT",
    "outputId": "96ba6f90-6c40-4972-ecd2-d2d208e48877",
    "scrolled": false
   },
   "outputs": [
    {
     "data": {
      "text/html": [
       "<div>\n",
       "<style scoped>\n",
       "    .dataframe tbody tr th:only-of-type {\n",
       "        vertical-align: middle;\n",
       "    }\n",
       "\n",
       "    .dataframe tbody tr th {\n",
       "        vertical-align: top;\n",
       "    }\n",
       "\n",
       "    .dataframe thead th {\n",
       "        text-align: right;\n",
       "    }\n",
       "</style>\n",
       "<table border=\"1\" class=\"dataframe\">\n",
       "  <thead>\n",
       "    <tr style=\"text-align: right;\">\n",
       "      <th></th>\n",
       "      <th>Id</th>\n",
       "      <th>ProductId</th>\n",
       "      <th>UserId</th>\n",
       "      <th>ProfileName</th>\n",
       "      <th>HelpfulnessNumerator</th>\n",
       "      <th>HelpfulnessDenominator</th>\n",
       "      <th>Score</th>\n",
       "      <th>Time</th>\n",
       "      <th>Summary</th>\n",
       "      <th>Text</th>\n",
       "    </tr>\n",
       "  </thead>\n",
       "  <tbody>\n",
       "    <tr>\n",
       "      <th>0</th>\n",
       "      <td>78445</td>\n",
       "      <td>B000HDL1RQ</td>\n",
       "      <td>AR5J8UI46CURR</td>\n",
       "      <td>Geetha Krishnan</td>\n",
       "      <td>2</td>\n",
       "      <td>2</td>\n",
       "      <td>5</td>\n",
       "      <td>1199577600</td>\n",
       "      <td>LOACKER QUADRATINI VANILLA WAFERS</td>\n",
       "      <td>DELICIOUS WAFERS. I FIND THAT EUROPEAN WAFERS ...</td>\n",
       "    </tr>\n",
       "    <tr>\n",
       "      <th>1</th>\n",
       "      <td>138317</td>\n",
       "      <td>B000HDOPYC</td>\n",
       "      <td>AR5J8UI46CURR</td>\n",
       "      <td>Geetha Krishnan</td>\n",
       "      <td>2</td>\n",
       "      <td>2</td>\n",
       "      <td>5</td>\n",
       "      <td>1199577600</td>\n",
       "      <td>LOACKER QUADRATINI VANILLA WAFERS</td>\n",
       "      <td>DELICIOUS WAFERS. I FIND THAT EUROPEAN WAFERS ...</td>\n",
       "    </tr>\n",
       "    <tr>\n",
       "      <th>2</th>\n",
       "      <td>138277</td>\n",
       "      <td>B000HDOPYM</td>\n",
       "      <td>AR5J8UI46CURR</td>\n",
       "      <td>Geetha Krishnan</td>\n",
       "      <td>2</td>\n",
       "      <td>2</td>\n",
       "      <td>5</td>\n",
       "      <td>1199577600</td>\n",
       "      <td>LOACKER QUADRATINI VANILLA WAFERS</td>\n",
       "      <td>DELICIOUS WAFERS. I FIND THAT EUROPEAN WAFERS ...</td>\n",
       "    </tr>\n",
       "    <tr>\n",
       "      <th>3</th>\n",
       "      <td>73791</td>\n",
       "      <td>B000HDOPZG</td>\n",
       "      <td>AR5J8UI46CURR</td>\n",
       "      <td>Geetha Krishnan</td>\n",
       "      <td>2</td>\n",
       "      <td>2</td>\n",
       "      <td>5</td>\n",
       "      <td>1199577600</td>\n",
       "      <td>LOACKER QUADRATINI VANILLA WAFERS</td>\n",
       "      <td>DELICIOUS WAFERS. I FIND THAT EUROPEAN WAFERS ...</td>\n",
       "    </tr>\n",
       "    <tr>\n",
       "      <th>4</th>\n",
       "      <td>155049</td>\n",
       "      <td>B000PAQ75C</td>\n",
       "      <td>AR5J8UI46CURR</td>\n",
       "      <td>Geetha Krishnan</td>\n",
       "      <td>2</td>\n",
       "      <td>2</td>\n",
       "      <td>5</td>\n",
       "      <td>1199577600</td>\n",
       "      <td>LOACKER QUADRATINI VANILLA WAFERS</td>\n",
       "      <td>DELICIOUS WAFERS. I FIND THAT EUROPEAN WAFERS ...</td>\n",
       "    </tr>\n",
       "  </tbody>\n",
       "</table>\n",
       "</div>"
      ],
      "text/plain": [
       "       Id   ProductId         UserId      ProfileName  HelpfulnessNumerator  \\\n",
       "0   78445  B000HDL1RQ  AR5J8UI46CURR  Geetha Krishnan                     2   \n",
       "1  138317  B000HDOPYC  AR5J8UI46CURR  Geetha Krishnan                     2   \n",
       "2  138277  B000HDOPYM  AR5J8UI46CURR  Geetha Krishnan                     2   \n",
       "3   73791  B000HDOPZG  AR5J8UI46CURR  Geetha Krishnan                     2   \n",
       "4  155049  B000PAQ75C  AR5J8UI46CURR  Geetha Krishnan                     2   \n",
       "\n",
       "   HelpfulnessDenominator  Score        Time  \\\n",
       "0                       2      5  1199577600   \n",
       "1                       2      5  1199577600   \n",
       "2                       2      5  1199577600   \n",
       "3                       2      5  1199577600   \n",
       "4                       2      5  1199577600   \n",
       "\n",
       "                             Summary  \\\n",
       "0  LOACKER QUADRATINI VANILLA WAFERS   \n",
       "1  LOACKER QUADRATINI VANILLA WAFERS   \n",
       "2  LOACKER QUADRATINI VANILLA WAFERS   \n",
       "3  LOACKER QUADRATINI VANILLA WAFERS   \n",
       "4  LOACKER QUADRATINI VANILLA WAFERS   \n",
       "\n",
       "                                                Text  \n",
       "0  DELICIOUS WAFERS. I FIND THAT EUROPEAN WAFERS ...  \n",
       "1  DELICIOUS WAFERS. I FIND THAT EUROPEAN WAFERS ...  \n",
       "2  DELICIOUS WAFERS. I FIND THAT EUROPEAN WAFERS ...  \n",
       "3  DELICIOUS WAFERS. I FIND THAT EUROPEAN WAFERS ...  \n",
       "4  DELICIOUS WAFERS. I FIND THAT EUROPEAN WAFERS ...  "
      ]
     },
     "execution_count": 7,
     "metadata": {},
     "output_type": "execute_result"
    }
   ],
   "source": [
    "display= pd.read_sql_query(\"\"\"\n",
    "SELECT *\n",
    "FROM Reviews\n",
    "WHERE Score != 3 AND UserId=\"AR5J8UI46CURR\"\n",
    "ORDER BY ProductID\n",
    "\"\"\", con)\n",
    "display.head()"
   ]
  },
  {
   "cell_type": "markdown",
   "metadata": {
    "colab_type": "text",
    "id": "uT7p9_deLPmb"
   },
   "source": [
    "As it can be seen above that same user has multiple reviews with same values for HelpfulnessNumerator, HelpfulnessDenominator, Score, Time, Summary and Text and on doing analysis it was found that <br>\n",
    "<br> \n",
    "ProductId=B000HDOPZG was Loacker Quadratini Vanilla Wafer Cookies, 8.82-Ounce Packages (Pack of 8)<br>\n",
    "<br> \n",
    "ProductId=B000HDL1RQ was Loacker Quadratini Lemon Wafer Cookies, 8.82-Ounce Packages (Pack of 8) and so on<br>\n",
    "\n",
    "It was inferred after analysis that reviews with same parameters other than ProductId belonged to the same product just having different flavour or quantity. Hence in order to reduce redundancy it was decided to eliminate the rows having same parameters.<br>\n",
    "\n",
    "The method used for the same was that we first sort the data according to ProductId and then just keep the first similar product review and delelte the others. for eg. in the above just the review for ProductId=B000HDL1RQ remains. This method ensures that there is only one representative for each product and deduplication without sorting would lead to possibility of different representatives still existing for the same product."
   ]
  },
  {
   "cell_type": "code",
   "execution_count": 8,
   "metadata": {
    "colab": {},
    "colab_type": "code",
    "id": "mdsKFc50LPme"
   },
   "outputs": [],
   "source": [
    "#Sorting data according to ProductId in ascending order\n",
    "sorted_data=filtered_data.sort_values('ProductId', axis=0, ascending=True, inplace=False, kind='quicksort', na_position='last')"
   ]
  },
  {
   "cell_type": "code",
   "execution_count": 9,
   "metadata": {
    "colab": {},
    "colab_type": "code",
    "id": "2itLgX-NLPmk",
    "outputId": "ac765625-dfdc-4e4e-f886-bd3b7ca3635a"
   },
   "outputs": [
    {
     "data": {
      "text/plain": [
       "(348262, 10)"
      ]
     },
     "execution_count": 9,
     "metadata": {},
     "output_type": "execute_result"
    }
   ],
   "source": [
    "#Deduplication of entries\n",
    "final=sorted_data.drop_duplicates(subset={\"UserId\",\"ProfileName\",\"Time\",\"Text\"}, keep='first', inplace=False)\n",
    "final.shape"
   ]
  },
  {
   "cell_type": "code",
   "execution_count": 10,
   "metadata": {
    "colab": {},
    "colab_type": "code",
    "id": "IBU4iZk4LPmt",
    "outputId": "ceeba223-fe3f-407a-b4e5-0d46c08f69dd"
   },
   "outputs": [
    {
     "data": {
      "text/plain": [
       "69.6524"
      ]
     },
     "execution_count": 10,
     "metadata": {},
     "output_type": "execute_result"
    }
   ],
   "source": [
    "#Checking to see how much % of data still remains\n",
    "(final['Id'].size*1.0)/(filtered_data['Id'].size*1.0)*100"
   ]
  },
  {
   "cell_type": "markdown",
   "metadata": {
    "colab_type": "text",
    "id": "gFBOfSe4LPmy"
   },
   "source": [
    "<b>Observation:-</b> It was also seen that in two rows given below the value of HelpfulnessNumerator is greater than HelpfulnessDenominator which is not practically possible hence these two rows too are removed from calcualtions"
   ]
  },
  {
   "cell_type": "code",
   "execution_count": 11,
   "metadata": {
    "colab": {},
    "colab_type": "code",
    "id": "50flE40lLPmz",
    "outputId": "b6c7e38e-25c1-4a48-be1f-70fdf31aba13"
   },
   "outputs": [
    {
     "data": {
      "text/html": [
       "<div>\n",
       "<style scoped>\n",
       "    .dataframe tbody tr th:only-of-type {\n",
       "        vertical-align: middle;\n",
       "    }\n",
       "\n",
       "    .dataframe tbody tr th {\n",
       "        vertical-align: top;\n",
       "    }\n",
       "\n",
       "    .dataframe thead th {\n",
       "        text-align: right;\n",
       "    }\n",
       "</style>\n",
       "<table border=\"1\" class=\"dataframe\">\n",
       "  <thead>\n",
       "    <tr style=\"text-align: right;\">\n",
       "      <th></th>\n",
       "      <th>Id</th>\n",
       "      <th>ProductId</th>\n",
       "      <th>UserId</th>\n",
       "      <th>ProfileName</th>\n",
       "      <th>HelpfulnessNumerator</th>\n",
       "      <th>HelpfulnessDenominator</th>\n",
       "      <th>Score</th>\n",
       "      <th>Time</th>\n",
       "      <th>Summary</th>\n",
       "      <th>Text</th>\n",
       "    </tr>\n",
       "  </thead>\n",
       "  <tbody>\n",
       "    <tr>\n",
       "      <th>0</th>\n",
       "      <td>64422</td>\n",
       "      <td>B000MIDROQ</td>\n",
       "      <td>A161DK06JJMCYF</td>\n",
       "      <td>J. E. Stephens \"Jeanne\"</td>\n",
       "      <td>3</td>\n",
       "      <td>1</td>\n",
       "      <td>5</td>\n",
       "      <td>1224892800</td>\n",
       "      <td>Bought This for My Son at College</td>\n",
       "      <td>My son loves spaghetti so I didn't hesitate or...</td>\n",
       "    </tr>\n",
       "    <tr>\n",
       "      <th>1</th>\n",
       "      <td>44737</td>\n",
       "      <td>B001EQ55RW</td>\n",
       "      <td>A2V0I904FH7ABY</td>\n",
       "      <td>Ram</td>\n",
       "      <td>3</td>\n",
       "      <td>2</td>\n",
       "      <td>4</td>\n",
       "      <td>1212883200</td>\n",
       "      <td>Pure cocoa taste with crunchy almonds inside</td>\n",
       "      <td>It was almost a 'love at first bite' - the per...</td>\n",
       "    </tr>\n",
       "  </tbody>\n",
       "</table>\n",
       "</div>"
      ],
      "text/plain": [
       "      Id   ProductId          UserId              ProfileName  \\\n",
       "0  64422  B000MIDROQ  A161DK06JJMCYF  J. E. Stephens \"Jeanne\"   \n",
       "1  44737  B001EQ55RW  A2V0I904FH7ABY                      Ram   \n",
       "\n",
       "   HelpfulnessNumerator  HelpfulnessDenominator  Score        Time  \\\n",
       "0                     3                       1      5  1224892800   \n",
       "1                     3                       2      4  1212883200   \n",
       "\n",
       "                                        Summary  \\\n",
       "0             Bought This for My Son at College   \n",
       "1  Pure cocoa taste with crunchy almonds inside   \n",
       "\n",
       "                                                Text  \n",
       "0  My son loves spaghetti so I didn't hesitate or...  \n",
       "1  It was almost a 'love at first bite' - the per...  "
      ]
     },
     "execution_count": 11,
     "metadata": {},
     "output_type": "execute_result"
    }
   ],
   "source": [
    "display= pd.read_sql_query(\"\"\"\n",
    "SELECT *\n",
    "FROM Reviews\n",
    "WHERE Score != 3 AND Id=44737 OR Id=64422\n",
    "ORDER BY ProductID\n",
    "\"\"\", con)\n",
    "\n",
    "display.head()"
   ]
  },
  {
   "cell_type": "code",
   "execution_count": 12,
   "metadata": {
    "colab": {},
    "colab_type": "code",
    "id": "0YTPJMLTLPm7"
   },
   "outputs": [],
   "source": [
    "final=final[final.HelpfulnessNumerator<=final.HelpfulnessDenominator]"
   ]
  },
  {
   "cell_type": "code",
   "execution_count": 13,
   "metadata": {
    "colab": {},
    "colab_type": "code",
    "id": "LVJ_l-x2LPnC",
    "outputId": "d4a19c7a-16fe-4b5b-c3d1-aa1ef0f948a0"
   },
   "outputs": [
    {
     "name": "stdout",
     "output_type": "stream",
     "text": [
      "(348260, 10)\n"
     ]
    },
    {
     "data": {
      "text/plain": [
       "1    293516\n",
       "0     54744\n",
       "Name: Score, dtype: int64"
      ]
     },
     "execution_count": 13,
     "metadata": {},
     "output_type": "execute_result"
    }
   ],
   "source": [
    "#Before starting the next phase of preprocessing lets see the number of entries left\n",
    "print(final.shape)\n",
    "\n",
    "#How many positive and negative reviews are present in our dataset?\n",
    "final['Score'].value_counts()"
   ]
  },
  {
   "cell_type": "markdown",
   "metadata": {
    "colab_type": "text",
    "id": "GrTYWzYrLPnH"
   },
   "source": [
    "#  [3] Preprocessing"
   ]
  },
  {
   "cell_type": "markdown",
   "metadata": {
    "colab_type": "text",
    "id": "zbvLitZeLPnI"
   },
   "source": [
    "## [3.1].  Preprocessing Review Text\n",
    "\n",
    "Now that we have finished deduplication our data requires some preprocessing before we go on further with analysis and making the prediction model.\n",
    "\n",
    "Hence in the Preprocessing phase we do the following in the order below:-\n",
    "\n",
    "1. Begin by removing the html tags\n",
    "2. Remove any punctuations or limited set of special characters like , or . or # etc.\n",
    "3. Check if the word is made up of english letters and is not alpha-numeric\n",
    "4. Check to see if the length of the word is greater than 2 (as it was researched that there is no adjective in 2-letters)\n",
    "5. Convert the word to lowercase\n",
    "6. Remove Stopwords\n",
    "7. Finally Snowball Stemming the word (it was obsereved to be better than Porter Stemming)<br>\n",
    "\n",
    "After which we collect the words used to describe positive and negative reviews"
   ]
  },
  {
   "cell_type": "code",
   "execution_count": 14,
   "metadata": {
    "colab": {},
    "colab_type": "code",
    "id": "yYDc0ZXALPnK",
    "outputId": "5403fab9-796a-493d-f9d3-2a410d004f64"
   },
   "outputs": [
    {
     "name": "stdout",
     "output_type": "stream",
     "text": [
      "This book was purchased as a birthday gift for a 4 year old boy. He squealed with delight and hugged it when told it was his to keep and he did not have to return it to the library.\n",
      "==================================================\n",
      "I've purchased both the Espressione Espresso (classic) and the 100% Arabica.  My vote is definitely with the 100% Arabica.  The flavor has more bite and flavor (much more like European coffee than American).\n",
      "==================================================\n",
      "This is a great product. It is very healthy for all of our dogs, and it is the first food that they all love to eat. It helped my older dog lose weight and my 10 year old lab gain the weight he needed to be healthy.\n",
      "==================================================\n",
      "I find everything I need at Amazon so I always look there first. Chocolate tennis balls for a tennis party, perfect! They were the size of malted milk balls. Unfortunately, they arrived 3 days after the party. The caveat here is, not everything from Amazon may arrive at an impressive 2 or 3 days. This shipment took 8 days from the Candy/Cosmetic Depot back east to southern California.\n",
      "==================================================\n"
     ]
    }
   ],
   "source": [
    "# printing some random reviews\n",
    "sent_0 = final['Text'].values[0]\n",
    "print(sent_0)\n",
    "print(\"=\"*50)\n",
    "\n",
    "sent_1000 = final['Text'].values[1000]\n",
    "print(sent_1000)\n",
    "print(\"=\"*50)\n",
    "\n",
    "sent_1500 = final['Text'].values[1500]\n",
    "print(sent_1500)\n",
    "print(\"=\"*50)\n",
    "\n",
    "sent_4900 = final['Text'].values[4900]\n",
    "print(sent_4900)\n",
    "print(\"=\"*50)"
   ]
  },
  {
   "cell_type": "code",
   "execution_count": 15,
   "metadata": {
    "colab": {},
    "colab_type": "code",
    "id": "AxYh-wPiLPnS",
    "outputId": "31bddcb2-6c52-4b16-f9fb-c03d5b3bb7c8"
   },
   "outputs": [
    {
     "name": "stdout",
     "output_type": "stream",
     "text": [
      "This book was purchased as a birthday gift for a 4 year old boy. He squealed with delight and hugged it when told it was his to keep and he did not have to return it to the library.\n"
     ]
    }
   ],
   "source": [
    "# remove urls from text python: https://stackoverflow.com/a/40823105/4084039\n",
    "sent_0 = re.sub(r\"http\\S+\", \"\", sent_0)\n",
    "sent_1000 = re.sub(r\"http\\S+\", \"\", sent_1000)\n",
    "sent_150 = re.sub(r\"http\\S+\", \"\", sent_1500)\n",
    "sent_4900 = re.sub(r\"http\\S+\", \"\", sent_4900)\n",
    "\n",
    "print(sent_0)"
   ]
  },
  {
   "cell_type": "code",
   "execution_count": 16,
   "metadata": {
    "colab": {},
    "colab_type": "code",
    "id": "JMSSWjZqLPne",
    "outputId": "eb1bae4e-6f37-45ee-84a3-ef3bebf4e30a"
   },
   "outputs": [
    {
     "name": "stdout",
     "output_type": "stream",
     "text": [
      "This book was purchased as a birthday gift for a 4 year old boy. He squealed with delight and hugged it when told it was his to keep and he did not have to return it to the library.\n",
      "==================================================\n",
      "I've purchased both the Espressione Espresso (classic) and the 100% Arabica.  My vote is definitely with the 100% Arabica.  The flavor has more bite and flavor (much more like European coffee than American).\n",
      "==================================================\n",
      "This is a great product. It is very healthy for all of our dogs, and it is the first food that they all love to eat. It helped my older dog lose weight and my 10 year old lab gain the weight he needed to be healthy.\n",
      "==================================================\n",
      "I find everything I need at Amazon so I always look there first. Chocolate tennis balls for a tennis party, perfect! They were the size of malted milk balls. Unfortunately, they arrived 3 days after the party. The caveat here is, not everything from Amazon may arrive at an impressive 2 or 3 days. This shipment took 8 days from the Candy/Cosmetic Depot back east to southern California.\n"
     ]
    }
   ],
   "source": [
    "# https://stackoverflow.com/questions/16206380/python-beautifulsoup-how-to-remove-all-tags-from-an-element\n",
    "from bs4 import BeautifulSoup\n",
    "\n",
    "soup = BeautifulSoup(sent_0, 'lxml')\n",
    "text = soup.get_text()\n",
    "print(text)\n",
    "print(\"=\"*50)\n",
    "\n",
    "soup = BeautifulSoup(sent_1000, 'lxml')\n",
    "text = soup.get_text()\n",
    "print(text)\n",
    "print(\"=\"*50)\n",
    "\n",
    "soup = BeautifulSoup(sent_1500, 'lxml')\n",
    "text = soup.get_text()\n",
    "print(text)\n",
    "print(\"=\"*50)\n",
    "\n",
    "soup = BeautifulSoup(sent_4900, 'lxml')\n",
    "text = soup.get_text()\n",
    "print(text)"
   ]
  },
  {
   "cell_type": "code",
   "execution_count": 17,
   "metadata": {
    "colab": {},
    "colab_type": "code",
    "id": "BEtpMkhULPnt"
   },
   "outputs": [],
   "source": [
    "# https://stackoverflow.com/a/47091490/4084039\n",
    "import re\n",
    "\n",
    "def decontracted(phrase):\n",
    "    # specific\n",
    "    phrase = re.sub(r\"won't\", \"will not\", phrase)\n",
    "    phrase = re.sub(r\"can\\'t\", \"can not\", phrase)\n",
    "\n",
    "    # general\n",
    "    phrase = re.sub(r\"n\\'t\", \" not\", phrase)\n",
    "    phrase = re.sub(r\"\\'re\", \" are\", phrase)\n",
    "    phrase = re.sub(r\"\\'s\", \" is\", phrase)\n",
    "    phrase = re.sub(r\"\\'d\", \" would\", phrase)\n",
    "    phrase = re.sub(r\"\\'ll\", \" will\", phrase)\n",
    "    phrase = re.sub(r\"\\'t\", \" not\", phrase)\n",
    "    phrase = re.sub(r\"\\'ve\", \" have\", phrase)\n",
    "    phrase = re.sub(r\"\\'m\", \" am\", phrase)\n",
    "    return phrase"
   ]
  },
  {
   "cell_type": "code",
   "execution_count": 18,
   "metadata": {
    "colab": {},
    "colab_type": "code",
    "id": "GavAnzNjLPnx",
    "outputId": "517fca9a-b1b6-4c6c-ab33-4c5ac4a5bd62"
   },
   "outputs": [
    {
     "name": "stdout",
     "output_type": "stream",
     "text": [
      "This is a great product. It is very healthy for all of our dogs, and it is the first food that they all love to eat. It helped my older dog lose weight and my 10 year old lab gain the weight he needed to be healthy.\n",
      "==================================================\n"
     ]
    }
   ],
   "source": [
    "sent_1500 = decontracted(sent_1500)\n",
    "print(sent_1500)\n",
    "print(\"=\"*50)"
   ]
  },
  {
   "cell_type": "code",
   "execution_count": 19,
   "metadata": {
    "colab": {},
    "colab_type": "code",
    "id": "Kl8nOoL-LPn3",
    "outputId": "16742d57-2529-4fc0-9d28-e9332dbbca97"
   },
   "outputs": [
    {
     "name": "stdout",
     "output_type": "stream",
     "text": [
      "This book was purchased as a birthday gift for a  year old boy. He squealed with delight and hugged it when told it was his to keep and he did not have to return it to the library.\n"
     ]
    }
   ],
   "source": [
    "#remove words with numbers python: https://stackoverflow.com/a/18082370/4084039\n",
    "sent_0 = re.sub(\"\\S*\\d\\S*\", \"\", sent_0).strip()\n",
    "print(sent_0)"
   ]
  },
  {
   "cell_type": "code",
   "execution_count": 20,
   "metadata": {
    "colab": {},
    "colab_type": "code",
    "id": "EGB6X2uxLPn7",
    "outputId": "dbd754e5-eb73-4b3a-f3c3-7b1b40952851"
   },
   "outputs": [
    {
     "name": "stdout",
     "output_type": "stream",
     "text": [
      "This is a great product It is very healthy for all of our dogs and it is the first food that they all love to eat It helped my older dog lose weight and my 10 year old lab gain the weight he needed to be healthy \n"
     ]
    }
   ],
   "source": [
    "#remove spacial character: https://stackoverflow.com/a/5843547/4084039\n",
    "sent_1500 = re.sub('[^A-Za-z0-9]+', ' ', sent_1500)\n",
    "print(sent_1500)"
   ]
  },
  {
   "cell_type": "code",
   "execution_count": 21,
   "metadata": {
    "colab": {},
    "colab_type": "code",
    "id": "CCurSJJ2LPn_"
   },
   "outputs": [],
   "source": [
    "# https://gist.github.com/sebleier/554280\n",
    "# we are removing the words from the stop words list: 'no', 'nor', 'not'\n",
    "# <br /><br /> ==> after the above steps, we are getting \"br br\"\n",
    "# we are including them into stop words list\n",
    "# instead of <br /> if we have <br/> these tags would have revmoved in the 1st step\n",
    "\n",
    "stopwords= set(['br', 'the', 'i', 'me', 'my', 'myself', 'we', 'our', 'ours', 'ourselves', 'you', \"you're\", \"you've\",\\\n",
    "            \"you'll\", \"you'd\", 'your', 'yours', 'yourself', 'yourselves', 'he', 'him', 'his', 'himself', \\\n",
    "            'she', \"she's\", 'her', 'hers', 'herself', 'it', \"it's\", 'its', 'itself', 'they', 'them', 'their',\\\n",
    "            'theirs', 'themselves', 'what', 'which', 'who', 'whom', 'this', 'that', \"that'll\", 'these', 'those', \\\n",
    "            'am', 'is', 'are', 'was', 'were', 'be', 'been', 'being', 'have', 'has', 'had', 'having', 'do', 'does', \\\n",
    "            'did', 'doing', 'a', 'an', 'the', 'and', 'but', 'if', 'or', 'because', 'as', 'until', 'while', 'of', \\\n",
    "            'at', 'by', 'for', 'with', 'about', 'against', 'between', 'into', 'through', 'during', 'before', 'after',\\\n",
    "            'above', 'below', 'to', 'from', 'up', 'down', 'in', 'out', 'on', 'off', 'over', 'under', 'again', 'further',\\\n",
    "            'then', 'once', 'here', 'there', 'when', 'where', 'why', 'how', 'all', 'any', 'both', 'each', 'few', 'more',\\\n",
    "            'most', 'other', 'some', 'such', 'only', 'own', 'same', 'so', 'than', 'too', 'very', \\\n",
    "            's', 't', 'can', 'will', 'just', 'don', \"don't\", 'should', \"should've\", 'now', 'd', 'll', 'm', 'o', 're', \\\n",
    "            've', 'y', 'ain', 'aren', \"aren't\", 'couldn', \"couldn't\", 'didn', \"didn't\", 'doesn', \"doesn't\", 'hadn',\\\n",
    "            \"hadn't\", 'hasn', \"hasn't\", 'haven', \"haven't\", 'isn', \"isn't\", 'ma', 'mightn', \"mightn't\", 'mustn',\\\n",
    "            \"mustn't\", 'needn', \"needn't\", 'shan', \"shan't\", 'shouldn', \"shouldn't\", 'wasn', \"wasn't\", 'weren', \"weren't\", \\\n",
    "            'won', \"won't\", 'wouldn', \"wouldn't\"])"
   ]
  },
  {
   "cell_type": "code",
   "execution_count": 22,
   "metadata": {
    "colab": {},
    "colab_type": "code",
    "id": "mFHQEvfnLPoF",
    "outputId": "5cd6bcc3-54fe-4a8e-a39d-d6dabf3f37f9"
   },
   "outputs": [
    {
     "name": "stderr",
     "output_type": "stream",
     "text": [
      "100%|██████████| 348260/348260 [02:35<00:00, 2232.87it/s]\n"
     ]
    }
   ],
   "source": [
    "# Combining all the above stundents \n",
    "from tqdm import tqdm\n",
    "preprocessed_reviews = []\n",
    "# tqdm is for printing the status bar\n",
    "for sentance in tqdm(final['Text'].values):\n",
    "    sentance = re.sub(r\"http\\S+\", \"\", sentance)\n",
    "    sentance = BeautifulSoup(sentance, 'lxml').get_text()\n",
    "    sentance = decontracted(sentance)\n",
    "    sentance = re.sub(\"\\S*\\d\\S*\", \"\", sentance).strip()\n",
    "    sentance = re.sub('[^A-Za-z]+', ' ', sentance)\n",
    "    # https://gist.github.com/sebleier/554280\n",
    "    sentance = ' '.join(e.lower() for e in sentance.split() if e.lower() not in stopwords)\n",
    "    preprocessed_reviews.append(sentance.strip())"
   ]
  },
  {
   "cell_type": "code",
   "execution_count": 23,
   "metadata": {
    "colab": {},
    "colab_type": "code",
    "id": "Tqx8QUeRLPoH",
    "outputId": "0182081c-6282-4113-b186-5b5bac596388"
   },
   "outputs": [
    {
     "data": {
      "text/plain": [
       "'great product healthy dogs first food love eat helped older dog lose weight year old lab gain weight needed healthy'"
      ]
     },
     "execution_count": 23,
     "metadata": {},
     "output_type": "execute_result"
    }
   ],
   "source": [
    "preprocessed_reviews[1500]"
   ]
  },
  {
   "cell_type": "markdown",
   "metadata": {
    "colab_type": "text",
    "id": "9IuKp2HULPoL"
   },
   "source": [
    "<h2><font color='red'>[3.2] Preprocessing Review Summary</font></h2>"
   ]
  },
  {
   "cell_type": "code",
   "execution_count": 24,
   "metadata": {
    "colab": {},
    "colab_type": "code",
    "id": "Qk7gYOmKLPoM"
   },
   "outputs": [],
   "source": [
    "# ## Similartly you can do preprocessing for review summary also.\n",
    "# # Combining all the above stundents \n",
    "# from tqdm import tqdm\n",
    "# preprocessed_summary = []\n",
    "# # tqdm is for printing the status bar\n",
    "# for sentance in tqdm(final['Summary'].values):\n",
    "#     sentance = re.sub(r\"http\\S+\", \"\", sentance)\n",
    "#     sentance = BeautifulSoup(sentance, 'lxml').get_text()\n",
    "#     sentance = decontracted(sentance)\n",
    "#     sentance = re.sub(\"\\S*\\d\\S*\", \"\", sentance).strip()\n",
    "#     sentance = re.sub('[^A-Za-z]+', ' ', sentance)\n",
    "#     # https://gist.github.com/sebleier/554280\n",
    "#     sentance = ' '.join(e.lower() for e in sentance.split() if e.lower() not in stopwords)\n",
    "#     preprocessed_summary.append(sentance.strip())"
   ]
  },
  {
   "cell_type": "markdown",
   "metadata": {
    "colab_type": "text",
    "id": "B93jqKuhLPoQ"
   },
   "source": [
    "# [4] Featurization"
   ]
  },
  {
   "cell_type": "markdown",
   "metadata": {
    "colab_type": "text",
    "id": "Mr4j2QhgLPoQ"
   },
   "source": [
    "## [4.1] BAG OF WORDS"
   ]
  },
  {
   "cell_type": "code",
   "execution_count": 25,
   "metadata": {
    "colab": {},
    "colab_type": "code",
    "id": "dZVHt3mtLPoR",
    "outputId": "ea1629cd-7c92-400e-9acd-f7caeef0f389"
   },
   "outputs": [],
   "source": [
    "# #BoW\n",
    "# count_vect = CountVectorizer() #in scikit-learn\n",
    "# count_vect.fit(preprocessed_reviews)\n",
    "# print(\"some feature names \", count_vect.get_feature_names()[:10])\n",
    "# print('='*50)\n",
    "\n",
    "# final_counts = count_vect.transform(preprocessed_reviews)\n",
    "# print(\"the type of count vectorizer \",type(final_counts))\n",
    "# print(\"the shape of out text BOW vectorizer \",final_counts.get_shape())\n",
    "# print(\"the number of unique words \", final_counts.get_shape()[1])"
   ]
  },
  {
   "cell_type": "markdown",
   "metadata": {
    "colab_type": "text",
    "id": "tSf5kRdLLPoV"
   },
   "source": [
    "## [4.2] Bi-Grams and n-Grams."
   ]
  },
  {
   "cell_type": "code",
   "execution_count": 26,
   "metadata": {
    "colab": {},
    "colab_type": "code",
    "id": "Yfk2d7bLLPoW",
    "outputId": "33472132-5eb3-493f-b08c-081749f99239"
   },
   "outputs": [],
   "source": [
    "# #bi-gram, tri-gram and n-gram\n",
    "\n",
    "# #removing stop words like \"not\" should be avoided before building n-grams\n",
    "# # count_vect = CountVectorizer(ngram_range=(1,2))\n",
    "# # please do read the CountVectorizer documentation http://scikit-learn.org/stable/modules/generated/sklearn.feature_extraction.text.CountVectorizer.html\n",
    "\n",
    "# # you can choose these numebrs min_df=10, max_features=5000, of your choice\n",
    "# count_vect = CountVectorizer(ngram_range=(1,2), min_df=10, max_features=5000)\n",
    "# final_bigram_counts = count_vect.fit_transform(preprocessed_reviews)\n",
    "# print(\"the type of count vectorizer \",type(final_bigram_counts))\n",
    "# print(\"the shape of out text BOW vectorizer \",final_bigram_counts.get_shape())\n",
    "# print(\"the number of unique words including both unigrams and bigrams \", final_bigram_counts.get_shape()[1])"
   ]
  },
  {
   "cell_type": "markdown",
   "metadata": {
    "colab_type": "text",
    "id": "-cEEpDx0LPoZ"
   },
   "source": [
    "## [4.3] TF-IDF"
   ]
  },
  {
   "cell_type": "code",
   "execution_count": 27,
   "metadata": {
    "colab": {},
    "colab_type": "code",
    "id": "TgP61HqBLPoa",
    "outputId": "15f1c123-d93b-414d-914b-d4e3f32a6ac1"
   },
   "outputs": [],
   "source": [
    "# tf_idf_vect = TfidfVectorizer(ngram_range=(1,2), min_df=10)\n",
    "# tf_idf_vect.fit(preprocessed_reviews)\n",
    "# print(\"some sample features(unique words in the corpus)\",tf_idf_vect.get_feature_names()[0:10])\n",
    "# print('='*50)\n",
    "\n",
    "# final_tf_idf = tf_idf_vect.transform(preprocessed_reviews)\n",
    "# print(\"the type of count vectorizer \",type(final_tf_idf))\n",
    "# print(\"the shape of out text TFIDF vectorizer \",final_tf_idf.get_shape())\n",
    "# print(\"the number of unique words including both unigrams and bigrams \", final_tf_idf.get_shape()[1])"
   ]
  },
  {
   "cell_type": "markdown",
   "metadata": {
    "colab_type": "text",
    "id": "m3YEHTLPLPod"
   },
   "source": [
    "## [4.4] Word2Vec"
   ]
  },
  {
   "cell_type": "code",
   "execution_count": 28,
   "metadata": {
    "colab": {},
    "colab_type": "code",
    "id": "8ddGZNUfLPog",
    "outputId": "390d4ccb-cda2-4391-83e9-0e502b578171",
    "scrolled": true
   },
   "outputs": [],
   "source": [
    "# # Using Google News Word2Vectors\n",
    "\n",
    "# # in this project we are using a pretrained model by google\n",
    "# # its 3.3G file, once you load this into your memory \n",
    "# # it occupies ~9Gb, so please do this step only if you have >12G of ram\n",
    "# # we will provide a pickle file wich contains a dict , \n",
    "# # and it contains all our courpus words as keys and  model[word] as values\n",
    "# # To use this code-snippet, download \"GoogleNews-vectors-negative300.bin\" \n",
    "# # from https://drive.google.com/file/d/0B7XkCwpI5KDYNlNUTTlSS21pQmM/edit\n",
    "# # it's 1.9GB in size.\n",
    "\n",
    "\n",
    "# # http://kavita-ganesan.com/gensim-word2vec-tutorial-starter-code/#.W17SRFAzZPY\n",
    "# # you can comment this whole cell\n",
    "# # or change these varible according to your need\n",
    "\n",
    "# is_your_ram_gt_16g=True\n",
    "# want_to_use_google_w2v = False\n",
    "# want_to_train_w2v = True\n",
    "\n",
    "# path_to_word2vec = '/home/monodeepdas112/Datasets/GoogleNews-vectors-negative300.bin.gz'\n",
    "\n",
    "# if want_to_train_w2v:\n",
    "    \n",
    "#     # Train your own Word2Vec model using your own text corpus\n",
    "#     i=0\n",
    "#     list_of_sentences=[]\n",
    "#     for sentance in preprocessed_reviews:\n",
    "#         list_of_sentences.append(sentance.split())\n",
    "    \n",
    "#     # min_count = 5 considers only words that occured atleast 5 times\n",
    "#     w2v_model=Word2Vec(list_of_sentences,min_count=5,size=100, workers=4)\n",
    "#     print(w2v_model.wv.most_similar('great'))\n",
    "#     print('='*50)\n",
    "#     print(w2v_model.wv.most_similar('worst'))\n",
    "    \n",
    "# elif want_to_use_google_w2v and is_your_ram_gt_16g:\n",
    "#     if os.path.isfile(path_to_word2vec):\n",
    "#         print('Preparing to load pre-trained Word2Vec model !')\n",
    "#         w2v_model=KeyedVectors.load_word2vec_format(path_to_word2vec, binary=True)\n",
    "#         print('Successfully loaded model into memory !!')\n",
    "#         print('Words similar to \"similar\" : ', w2v_model.wv.most_similar('great'))\n",
    "#         print('Words similar to \"worst\" : ',w2v_model.wv.most_similar('worst'))\n",
    "#     else:\n",
    "#         print(\"you don't have google's word2vec file, keep want_to_train_w2v = True, to train your own w2v \")"
   ]
  },
  {
   "cell_type": "code",
   "execution_count": 29,
   "metadata": {
    "colab": {},
    "colab_type": "code",
    "id": "bRWXmmnWLPoo",
    "outputId": "1cc345e7-d991-49b8-f1b7-a0d81f0b97e6"
   },
   "outputs": [],
   "source": [
    "# w2v_words = list(w2v_model.wv.vocab)\n",
    "# print(\"number of words that occured minimum 5 times \",len(w2v_words))\n",
    "# print(\"sample words \", w2v_words[0:50])"
   ]
  },
  {
   "cell_type": "markdown",
   "metadata": {
    "colab_type": "text",
    "id": "TtWqibqfLPos"
   },
   "source": [
    "## [4.4.1] Converting text into vectors using Avg W2V, TFIDF-W2V"
   ]
  },
  {
   "cell_type": "markdown",
   "metadata": {
    "colab_type": "text",
    "id": "JriP5nZCLPot"
   },
   "source": [
    "#### [4.4.1.1] Avg W2v"
   ]
  },
  {
   "cell_type": "code",
   "execution_count": 30,
   "metadata": {
    "colab": {},
    "colab_type": "code",
    "id": "UnXI9NHTLPot",
    "outputId": "ecbe8256-9718-4bad-de33-e5ce1ee69038"
   },
   "outputs": [],
   "source": [
    "# # average Word2Vec\n",
    "# # compute average word2vec for each review.\n",
    "# sent_vectors = []; # the avg-w2v for each sentence/review is stored in this list\n",
    "# for sent in tqdm(list_of_sentences): # for each review/sentence\n",
    "#     sent_vec = np.zeros(50) # as word vectors are of zero length 50, you might need to change this to 300 if you use google's w2v\n",
    "#     cnt_words =0; # num of words with a valid vector in the sentence/review\n",
    "#     for word in sent: # for each word in a review/sentence\n",
    "#         if word in w2v_words:\n",
    "#             vec = w2v_model.wv[word]\n",
    "#             sent_vec += vec\n",
    "#             cnt_words += 1\n",
    "#     if cnt_words != 0:\n",
    "#         sent_vec /= cnt_words\n",
    "#     sent_vectors.append(sent_vec)\n",
    "# print(len(sent_vectors))\n",
    "# print(len(sent_vectors[0]))"
   ]
  },
  {
   "cell_type": "markdown",
   "metadata": {
    "colab_type": "text",
    "id": "2sHfb529LPow"
   },
   "source": [
    "#### [4.4.1.2] TFIDF weighted W2v"
   ]
  },
  {
   "cell_type": "code",
   "execution_count": 31,
   "metadata": {
    "colab": {},
    "colab_type": "code",
    "id": "sb_wDjAqLPow"
   },
   "outputs": [],
   "source": [
    "# # S = [\"abc def pqr\", \"def def def abc\", \"pqr pqr def\"]\n",
    "# model = TfidfVectorizer()\n",
    "# tf_idf_matrix = model.fit_transform(preprocessed_reviews)\n",
    "# # we are converting a dictionary with word as a key, and the idf as a value\n",
    "# dictionary = dict(zip(model.get_feature_names(), list(model.idf_)))"
   ]
  },
  {
   "cell_type": "code",
   "execution_count": 32,
   "metadata": {
    "colab": {},
    "colab_type": "code",
    "id": "3VrUzqx7LPoy",
    "outputId": "8480d5da-7b1d-4bbe-a4c9-fe0a5800b5d0",
    "scrolled": true
   },
   "outputs": [],
   "source": [
    "# # TF-IDF weighted Word2Vec\n",
    "# tfidf_feat = model.get_feature_names() # tfidf words/col-names\n",
    "# # final_tf_idf is the sparse matrix with row= sentence, col=word and cell_val = tfidf\n",
    "\n",
    "# tfidf_sent_vectors = []; # the tfidf-w2v for each sentence/review is stored in this list\n",
    "# row=0;\n",
    "# for sent in tqdm(list_of_sentance): # for each review/sentence \n",
    "#     sent_vec = np.zeros(50) # as word vectors are of zero length\n",
    "#     weight_sum =0; # num of words with a valid vector in the sentence/review\n",
    "#     for word in sent: # for each word in a review/sentence\n",
    "#         if word in w2v_words and word in tfidf_feat:\n",
    "#             vec = w2v_model.wv[word]\n",
    "# #             tf_idf = tf_idf_matrix[row, tfidf_feat.index(word)]\n",
    "#             # to reduce the computation we are \n",
    "#             # dictionary[word] = idf value of word in whole courpus\n",
    "#             # sent.count(word) = tf valeus of word in this review\n",
    "#             tf_idf = dictionary[word]*(sent.count(word)/len(sent))\n",
    "#             sent_vec += (vec * tf_idf)\n",
    "#             weight_sum += tf_idf\n",
    "#     if weight_sum != 0:\n",
    "#         sent_vec /= weight_sum\n",
    "#     tfidf_sent_vectors.append(sent_vec)\n",
    "#     row += 1"
   ]
  },
  {
   "cell_type": "markdown",
   "metadata": {
    "colab_type": "text",
    "id": "Kxx72u1hLPo1"
   },
   "source": [
    "# [5] Assignment 5: Apply Logistic Regression"
   ]
  },
  {
   "cell_type": "markdown",
   "metadata": {
    "colab_type": "text",
    "id": "KDR9We0oLPo2"
   },
   "source": [
    "<ol>\n",
    "    <li><strong>Apply Logistic Regression on these feature sets</strong>\n",
    "        <ul>\n",
    "            <li><font color='red'>SET 1:</font>Review text, preprocessed one converted into vectors using (BOW)</li>\n",
    "            <li><font color='red'>SET 2:</font>Review text, preprocessed one converted into vectors using (TFIDF)</li>\n",
    "            <li><font color='red'>SET 3:</font>Review text, preprocessed one converted into vectors using (AVG W2v)</li>\n",
    "            <li><font color='red'>SET 4:</font>Review text, preprocessed one converted into vectors using (TFIDF W2v)</li>\n",
    "        </ul>\n",
    "    </li>\n",
    "    <br>\n",
    "    <li><strong>Hyper paramter tuning (find best hyper parameters corresponding the algorithm that you choose)</strong>\n",
    "        <ul>\n",
    "    <li>Find the best hyper parameter which will give the maximum <a href='https://www.appliedaicourse.com/course/applied-ai-course-online/lessons/receiver-operating-characteristic-curve-roc-curve-and-auc-1/'>AUC</a> value</li>\n",
    "    <li>Find the best hyper paramter using k-fold cross validation or simple cross validation data</li>\n",
    "    <li>Use gridsearch cv or randomsearch cv or you can also write your own for loops to do this task of hyperparameter tuning</li>          \n",
    "        </ul>\n",
    "    </li>\n",
    "    <br>\n",
    "    <li><strong>Pertubation Test</strong>\n",
    "        <ul>\n",
    "    <li>Get the weights W after fit your model with the data X i.e Train data.</li>\n",
    "    <li>Add a noise to the X (X' = X + e) and get the new data set X' (if X is a sparse\n",
    "matrix, X.data+=e)</li>\n",
    "    <li>Fit the model again on data X' and get the weights W'</li>\n",
    "    <li>Add a small eps value(to eliminate the divisible by zero error) to W and W’ i.e\n",
    "W=W+10^-6 and W’ = W’+10^-6</li>\n",
    "    <li>Now find the % change between W and W' (| (W-W') / (W) |)*100)</li>\n",
    "    <li>Calculate the 0th, 10th, 20th, 30th, ...100th percentiles, and observe any sudden rise in the values of percentage_change_vector</li>\n",
    "    <li> Ex: consider your 99th percentile is 1.3 and your 100th percentiles are 34.6, there is sudden rise from 1.3 to 34.6, now calculate the 99.1, 99.2, 99.3,..., 100th percentile values and get the proper value after which there is sudden rise the values, assume it is 2.5</li>\n",
    "            <li> Print the feature names whose % change is more than a threshold x(in our example it's 2.5)</li>\n",
    "        </ul>\n",
    "    </li>\n",
    "    <br>\n",
    "    <li><strong>Sparsity</strong>\n",
    "        <ul>\n",
    "    <li>Calculate sparsity on weight vector obtained after using L1 regularization</li>\n",
    "        </ul>\n",
    "    </li>\n",
    "    <br><font color='red'>NOTE: Do sparsity and multicollinearity for any one of the vectorizers. Bow or tf-idf is recommended.</font>\n",
    "    <br>\n",
    "    <br>\n",
    "    <li><strong>Feature importance</strong>\n",
    "        <ul>\n",
    "    <li>Get top 10 important features for both positive and negative classes separately.</li>\n",
    "        </ul>\n",
    "    </li>\n",
    "    <br>\n",
    "    <li><strong>Feature engineering</strong>\n",
    "        <ul>\n",
    "    <li>To increase the performance of your model, you can also experiment with with feature engineering like :</li>\n",
    "            <ul>\n",
    "            <li>Taking length of reviews as another feature.</li>\n",
    "            <li>Considering some features from review summary as well.</li>\n",
    "        </ul>\n",
    "        </ul>\n",
    "    </li>\n",
    "    <br>\n",
    "    <li><strong>Representation of results</strong>\n",
    "        <ul>\n",
    "    <li>You need to plot the performance of model both on train data and cross validation data for each hyper parameter, like shown in the figure.\n",
    "    <img src='train_cv_auc.JPG' width=300px></li>\n",
    "    <li>Once after you found the best hyper parameter, you need to train your model with it, and find the AUC on test data and plot the ROC curve on both train and test.\n",
    "    <img src='train_test_auc.JPG' width=300px></li>\n",
    "    <li>Along with plotting ROC curve, you need to print the <a href='https://www.appliedaicourse.com/course/applied-ai-course-online/lessons/confusion-matrix-tpr-fpr-fnr-tnr-1/'>confusion matrix</a> with predicted and original labels of test data points. Please visualize your confusion matrices using <a href='https://seaborn.pydata.org/generated/seaborn.heatmap.html'>seaborn heatmaps.\n",
    "    <img src='confusion_matrix.png' width=300px></li>\n",
    "        </ul>\n",
    "    </li>\n",
    "    <br>\n",
    "    <li><strong>Conclusion</strong>\n",
    "        <ul>\n",
    "    <li>You need to summarize the results at the end of the notebook, summarize it in the table format. To print out a table please refer to this prettytable library<a href='http://zetcode.com/python/prettytable/'>  link</a> \n",
    "        <img src='summary.JPG' width=400px>\n",
    "    </li>\n",
    "        </ul>\n",
    "</ol>"
   ]
  },
  {
   "cell_type": "markdown",
   "metadata": {
    "colab_type": "text",
    "id": "gilb-DOVLPo2"
   },
   "source": [
    "<h4><font color='red'>Note: Data Leakage</font></h4>\n",
    "\n",
    "1. There will be an issue of data-leakage if you vectorize the entire data and then split it into train/cv/test.\n",
    "2. To avoid the issue of data-leakag, make sure to split your data first and then vectorize it. \n",
    "3. While vectorizing your data, apply the method fit_transform() on you train data, and apply the method transform() on cv/test data.\n",
    "4. For more details please go through this <a href='https://soundcloud.com/applied-ai-course/leakage-bow-and-tfidf'>link.</a>"
   ]
  },
  {
   "cell_type": "markdown",
   "metadata": {
    "colab_type": "text",
    "id": "jiYocvSHLPo4"
   },
   "source": [
    "# Applying Logistic Regression"
   ]
  },
  {
   "cell_type": "code",
   "execution_count": 33,
   "metadata": {},
   "outputs": [],
   "source": [
    "#Getting the necessary imports and function definations\n",
    "from sklearn.linear_model import LogisticRegression\n",
    "from sklearn.metrics import confusion_matrix\n",
    "from sklearn.metrics import roc_curve, auc\n",
    "from sklearn.metrics import roc_auc_score\n",
    "from scipy.stats import uniform\n",
    "from sklearn.model_selection import train_test_split\n",
    "from sklearn.model_selection import RandomizedSearchCV\n",
    "from sklearn.model_selection import StratifiedKFold\n",
    "import pprint\n",
    "from sklearn.pipeline import Pipeline\n",
    "import os.path\n",
    "import pickle\n",
    "import pprint\n",
    "from sklearn import preprocessing\n",
    "\n",
    "import warnings\n",
    "warnings.filterwarnings('ignore')"
   ]
  },
  {
   "cell_type": "markdown",
   "metadata": {},
   "source": [
    "### [5.0.0] Splitting up the Dataset into D_train and D_test"
   ]
  },
  {
   "cell_type": "code",
   "execution_count": 34,
   "metadata": {},
   "outputs": [],
   "source": [
    "num_data_points = 50000"
   ]
  },
  {
   "cell_type": "code",
   "execution_count": 35,
   "metadata": {},
   "outputs": [],
   "source": [
    "Dx_train, Dx_test, Dy_train, Dy_test = train_test_split(preprocessed_reviews[:num_data_points], final['Score'].tolist()[:num_data_points], test_size=0.30, random_state=42)"
   ]
  },
  {
   "cell_type": "code",
   "execution_count": 36,
   "metadata": {},
   "outputs": [],
   "source": [
    "prettytable_data = []"
   ]
  },
  {
   "cell_type": "markdown",
   "metadata": {},
   "source": [
    "### [5.0.1] Defining some functions to increase code reusability and readability"
   ]
  },
  {
   "cell_type": "code",
   "execution_count": 37,
   "metadata": {},
   "outputs": [],
   "source": [
    "'''Creating Custom Vectorizers for TFIDF - W2Vec and Avg - W2Vec'''\n",
    "class Tfidf_W2Vec_Vectorizer(object):\n",
    "    def __init__(self, w2vec_model):\n",
    "        if(w2v_model is None):\n",
    "            raise Exception('Word 2 Vector model passed to Tfidf_W2Vec Vectorizer is None !')\n",
    "        self.tfidf = TfidfVectorizer(max_features=100)\n",
    "        self.dictionary = None\n",
    "        self.tfidf_feat = None\n",
    "        \n",
    "        self.word2vec = w2vec_model\n",
    "        \n",
    "    def fit(self, X):\n",
    "        #Initializing the TFIDF Vectorizer\n",
    "        self.tfidf.fit_transform(X)\n",
    "        # we are converting a dictionary with word as a key, and the idf as a value\n",
    "        self.dictionary = dict(zip(self.tfidf.get_feature_names(), list(self.tfidf.idf_)))\n",
    "        self.tfidf_feat = self.tfidf.get_feature_names()\n",
    "        \n",
    "        return self\n",
    "\n",
    "    def transform(self, X):\n",
    "        return np.array([\n",
    "                np.mean([self.word2vec[w] * self.dictionary[word]*(X.cout(word)/len(X))\n",
    "                         for w in words if w in self.word2vec and w in self.tfidf_feat] or\n",
    "                        [np.zeros(100)], axis=0)\n",
    "                for words in X\n",
    "            ])\n",
    "\n",
    "class Avg_W2Vec_Vectorizer(object):\n",
    "    def __init__(self, w2vec_model):\n",
    "        if(w2v_model is None):\n",
    "            raise Exception('Word 2 Vector model passed to Avg_W2Vec Vectorizer is None !')\n",
    "        self.word2vec = w2vec_model\n",
    "\n",
    "    def fit(self, X):\n",
    "        return self\n",
    "\n",
    "    def transform(self, X):\n",
    "        return np.array([\n",
    "            np.mean([self.word2vec[w] for w in words if w in self.word2vec]\n",
    "                    or [np.zeros(100)], axis=0)\n",
    "            for words in X\n",
    "        ])"
   ]
  },
  {
   "cell_type": "code",
   "execution_count": 38,
   "metadata": {},
   "outputs": [],
   "source": [
    "# def get_vectorizer(vectorizer, w2vec_model=None):\n",
    "#     if(vectorizer=='BOW'):\n",
    "#         vectorizer = CountVectorizer(ngram_range=(1,2), min_df=10, max_features=300)\n",
    "#     if(vectorizer=='TFIDF'):\n",
    "#         vectorizer = TfidfVectorizer(ngram_range=(1,2), min_df=10, max_features=300)\n",
    "#     if(vectorizer=='TFIDF-W2Vec'):\n",
    "#         if(w2vec_model is None):\n",
    "#             raise Exception('TFIDF-W2Vec model is being used but W2Vec model is not passed as params')\n",
    "#         vectorizer = Tfidf_W2Vec_Vectorizer(w2vec_model)\n",
    "#     if(vectorizer=='Avg-W2Vec'):\n",
    "#         if(w2vec_model is None):\n",
    "#             raise Exception('Avg-W2Vec model is being used but W2Vec model is not passed as params')\n",
    "#         vectorizer = Avg_W2Vec_Vectorizer(w2vec_model)\n",
    "    \n",
    "#     return vectorizer\n",
    "\n",
    "def get_vectorizer(vectorizer, train, W2V_model=None):\n",
    "    if(vectorizer=='BOW'):\n",
    "        vectorizer = CountVectorizer(ngram_range=(1,2), min_df=10, max_features=1000)\n",
    "    if(vectorizer=='TFIDF'):\n",
    "        vectorizer = TfidfVectorizer(ngram_range=(1,2), min_df=10, max_features=1000)\n",
    "    if(vectorizer=='TFIDF-W2Vec'):\n",
    "        vectorizer = Tfidf_W2Vec_Vectorizer(W2V_model)\n",
    "    if(vectorizer=='Avg-W2Vec'):\n",
    "        vectorizer = Avg_W2Vec_Vectorizer(W2V_model)\n",
    "    \n",
    "    vectorizer.fit(train)\n",
    "    return vectorizer"
   ]
  },
  {
   "cell_type": "code",
   "execution_count": 39,
   "metadata": {},
   "outputs": [],
   "source": [
    "'''Creation of Pipeline'''    \n",
    "def create_CV_pipeline(vectorizer, w2vec_model=None):\n",
    "    steps = []\n",
    "    steps.append((vectorizer, get_vectorizer(vectorizer, w2vec_model)))\n",
    "    #Appending the KNN Classifier at the end of vectorization\n",
    "    steps.append(('logistic', LogisticRegression()))\n",
    "    return Pipeline(steps)"
   ]
  },
  {
   "cell_type": "code",
   "execution_count": 40,
   "metadata": {},
   "outputs": [],
   "source": [
    "# '''This function performs RandomizedSearchCV with the accepted parameters and fits the model \n",
    "# after performing cross validation to get the best parameters and retrains the model with it and finally returns it'''\n",
    "# def perform_randomized_search_cv(X, Y, vectorizer, w2vec_model, model_path, penalty):\n",
    "#     if(os.path.exists(model_path)):\n",
    "#         #if present simply load the model\n",
    "#         with open(model_path, 'rb') as input_file:\n",
    "#             clf = pickle.load(input_file)\n",
    "#     else:\n",
    "#         print('Model is not present in the location hence retraining the model.')\n",
    "#         #if model not present then initialize --> perform cross validation --> save it to the above file path\n",
    "#         hyperparameters = {\n",
    "#             'logistic__penalty' : penalty,\n",
    "#             'logistic__solver' : ['saga'],\n",
    "#             'logistic__max_iter' : [500],\n",
    "#             'logistic__C' : uniform(0.001, 1000)\n",
    "#         }\n",
    "#         #creating the pipeline\n",
    "#         pipe = create_CV_pipeline(vectorizer, w2vec_model)\n",
    "        \n",
    "#         #initializing the classifier\n",
    "#         clf = RandomizedSearchCV(estimator = pipe, \n",
    "#                              param_distributions = hyperparameters, \n",
    "#                              n_iter=100, \n",
    "#                              scoring = 'roc_auc', \n",
    "#                              n_jobs=1, verbose=20, cv=5, \n",
    "#                              iid=False, refit=True,\n",
    "#                              pre_dispatch='1', \n",
    "#                              error_score='raise')\n",
    "        \n",
    "#         # Attempting to train the classifier\n",
    "#         try:\n",
    "#             #Start to fit the model to get the best hyperparameters\n",
    "#             clf.fit(X, Y)\n",
    "#         except Exception as e:\n",
    "#             print('Error occured during performing Cross Validation : ', str(e))\n",
    "        \n",
    "#         # Attempting to save the RandomSearchCV model\n",
    "#         try:\n",
    "#             #Save the model to the supplied model path \n",
    "#             with open(model_path, 'wb') as output_file:\n",
    "#                 pickle.dump(clf, output_file)\n",
    "#         except Exception as e:\n",
    "#             print('Error occured during attempting to save the model !\\n', str(e))\n",
    "#             print('Attempting to save the CV results as a dataframe !')\n",
    "#             try:\n",
    "#                 # TODO save the dataFrame as csv file\n",
    "#                 cv_results = pd.DataFrame(clf.cv_results_)\n",
    "#                 cv_results.to_csv('tmp.csv')\n",
    "                \n",
    "#             except Exception as ex:\n",
    "#                 print(str(ex), ' : Error attempting to write the DataFrame to csv. Aborting...')\n",
    "#     try:\n",
    "#         #Displaying the best parameters and best score acheived\n",
    "#         print('\\nMaximum Area under ROC curve : ', clf.best_score_)\n",
    "#         print('\\nBest Parameters that led to the score above : ')\n",
    "#         pprint.pprint(clf.best_params_)\n",
    "#     except Exception as e:\n",
    "#         print('Error Occurred...')\n",
    "    \n",
    "#     # return the training randomized search classifier\n",
    "#     return clf"
   ]
  },
  {
   "cell_type": "code",
   "execution_count": 41,
   "metadata": {},
   "outputs": [],
   "source": [
    "# s = np.random.uniform(0.0001, 1000,1000).tolist()\n",
    "# s.sort()\n",
    "# s"
   ]
  },
  {
   "cell_type": "code",
   "execution_count": 50,
   "metadata": {},
   "outputs": [],
   "source": [
    "'''Perform Cross Validation without using RandomizedSearchCV'''\n",
    "def perform_hyperparameter_tuning(X, Y, vectorizer, vec_name, penalty, results_path, retrain=False, W2V_model=None):\n",
    "    #If the pandas dataframe with the hyperparameter info exists then return it\n",
    "\n",
    "    if(retrain==False):\n",
    "        # If Cross Validation results exists then return them\n",
    "        if(os.path.exists(results_path)):\n",
    "            return pd.read_csv(results_path)\n",
    "        else:\n",
    "            # If no data exists but retrain=False then mention accordingly\n",
    "            print('Retrain is set to be False but no Cross Validation Results DataFrame was found !\\nPlease set retrain to True.')\n",
    "    else:\n",
    "        # else perform hyperparameter tuning\n",
    "        print('Performing Hyperparameter Tuning...\\n')\n",
    "        # regularization parameter\n",
    "        c = np.random.uniform(0.001, 1000,100).tolist()\n",
    "        c.sort()\n",
    "        hyperparameters = {\n",
    "            'logistic__penalty' : penalty,\n",
    "            'logistic__C' : c\n",
    "        }\n",
    "\n",
    "        penalties = []\n",
    "        C_values = []\n",
    "\n",
    "        train_scores = []\n",
    "        test_scores = []\n",
    "\n",
    "        train_mean_score = []\n",
    "        test_mean_score = []\n",
    "\n",
    "        # Initializing KFold\n",
    "        skf = StratifiedKFold(n_splits=3)\n",
    "        X = np.array(X)\n",
    "        Y = np.array(Y)\n",
    "\n",
    "        saver = 0 # This is a counter variable that saves \n",
    "        for penalty in hyperparameters['logistic__penalty']:\n",
    "            for reg_param in hyperparameters['logistic__C']:\n",
    "                \n",
    "                #Performing Cross Validation\n",
    "                for train_index, test_index in skf.split(X, Y):\n",
    "                    Dx_train, Dx_cv = X[train_index], X[test_index]\n",
    "                    Dy_train, Dy_cv = Y[train_index], Y[test_index]\n",
    "\n",
    "                    #Initializing the Vectorizer\n",
    "                    vectorizer = get_vectorizer(vectorizer, Dx_train.tolist(), W2V_model)\n",
    "\n",
    "                    #Transforming the data to features\n",
    "                    x_train = vectorizer.transform(Dx_train.tolist())\n",
    "                    x_cv = vectorizer.transform(Dx_cv.tolist())\n",
    "\n",
    "                    #Initializing the LR model\n",
    "                    log_reg_model = LogisticRegression(penalty=penalty, C=reg_param, max_iter=100, solver='saga')\n",
    "\n",
    "                    # Fit the model\n",
    "                    log_reg_model.fit(x_train, Dy_train)\n",
    "\n",
    "                    #Prediction\n",
    "                    train_results = log_reg_model.predict_proba(x_train)\n",
    "                    cv_results = log_reg_model.predict_proba(x_cv)\n",
    "\n",
    "                    try:\n",
    "                        train_score = roc_auc_score(Dy_train, train_results[:, 1])\n",
    "                        test_score = roc_auc_score(Dy_cv, cv_results[:, 1])\n",
    "\n",
    "                        #storing the results to form a dataframe\n",
    "                        train_scores.append(train_score)\n",
    "                        test_scores.append(test_score)\n",
    "\n",
    "                    except Exception as e:\n",
    "                        print('Error Case : ', e)\n",
    "                        print(('Actual, Predicted'))\n",
    "                        [print((Dy_cv[i], cv_results[i, 1])) for i in range(len(Dy_cv))]\n",
    "\n",
    "                    print('CV iteration : C={0}, solver={1}, train_score={2}, test_score={3}'\n",
    "                      .format(reg_param, 'saga', train_score, test_score))\n",
    "\n",
    "                train_mean_score.append(sum(train_scores)/len(train_scores))\n",
    "                test_mean_score.append(sum(test_scores)/len(test_scores))\n",
    "\n",
    "                penalties.append(penalty)\n",
    "                C_values.append(reg_param)\n",
    "\n",
    "                print('C={0}, penalty={1}, solver=\"saga\", train_score={2}, test_score={3}'\n",
    "                      .format(reg_param, penalty, sum(train_scores)/len(train_scores), sum(test_scores)/len(test_scores)))\n",
    "\n",
    "                saver += 1\n",
    "\n",
    "                if(saver==10):\n",
    "                    # after every period of 100 iterations keep saving the parameters and results \n",
    "                    # so as to avoid data loss in case of system crash\n",
    "                    with open('saved_temp_data/{0}_penalties.pkl'.format(vec_name), 'wb') as file:\n",
    "                        pickle.dump(penalties, file)\n",
    "                    with open('saved_temp_data/{0}_reg_params.pkl'.format(vec_name), 'wb') as file:\n",
    "                        pickle.dump(C_values, file)\n",
    "                    with open('saved_temp_data/{0}_train_mean_score.pkl'.format(vec_name), 'wb') as file:\n",
    "                        pickle.dump(train_mean_score, file)\n",
    "                    with open('saved_temp_data/{0}_test_mean_score.pkl'.format(vec_name), 'wb') as file:\n",
    "                        pickle.dump(test_mean_score, file)\n",
    "                    saver = 0\n",
    "\n",
    "                train_scores = []\n",
    "                test_scores = []\n",
    "        try:\n",
    "            # Attempting to load saved data\n",
    "            # Load data from the saved files\n",
    "            with open('saved_temp_data/{0}_penalties.pkl'.format(vec_name), 'rb') as file:\n",
    "                penalties = pickle.load(file)\n",
    "            with open('saved_temp_data/{0}_reg_params.pkl'.format(vec_name), 'rb') as file:\n",
    "                C_values = pickle.load(file)\n",
    "            with open('saved_temp_data/{0}_train_mean_score.pkl'.format(vec_name), 'rb') as file:\n",
    "                train_mean_score = pickle.load(file)\n",
    "            with open('saved_temp_data/{0}_test_mean_score.pkl'.format(vec_name), 'rb') as file:\n",
    "                test_mean_score = pickle.load(file)\n",
    "        except Exception as ex:\n",
    "            print('Failed to load saved data from temp files')\n",
    "        # Creating a DataFrame from the saved data for visualization\n",
    "        results_df = pd.DataFrame({'C' : C_values, 'penalty' : penalties, \n",
    "                                   'solver' : ['saga' for i in C_values], 'train_score' : train_mean_score, \n",
    "                                   'test_score': test_mean_score})\n",
    "        \n",
    "        try:\n",
    "            # Attempting to remove the temporary files\n",
    "            os.remove('saved_temp_data/{0}_penalties.pkl'.format(vec_name))\n",
    "            os.remove('saved_temp_data/{0}_reg_params.pkl'.format(vec_name))\n",
    "            os.remove('saved_temp_data/{0}_train_mean_score.pkl'.format(vec_name))\n",
    "            os.remove('saved_temp_data/{0}_test_mean_score.pkl'.format(vec_name))\n",
    "        except Exception as e:\n",
    "            print('Error occurred while attempting to remove the temporary files')\n",
    "\n",
    "        #writing the results to csv after performing hyperparameter tuning\n",
    "        try:\n",
    "            results_df.to_csv(results_path)\n",
    "        except Exception as ex:\n",
    "            print(str(ex), \"\\nError occured while converting DataFrame to CSV after cross validation.\")\n",
    "        return results_df"
   ]
  },
  {
   "cell_type": "code",
   "execution_count": 51,
   "metadata": {},
   "outputs": [],
   "source": [
    "def analyse_results(df):\n",
    "    df = pd.DataFrame(trained_rand_searchcv_model.cv_results_)\n",
    "\n",
    "    c = [c['logistic__C'] for c in df.loc[:,'params'].tolist()]\n",
    "    pen = [pen['logistic__penalty'] for pen in df.loc[:,'params'].tolist()]\n",
    "    data = pd.DataFrame({'mean_test_score':df.mean_test_score, \n",
    "                         'std_test_score':df.std_test_score, \n",
    "                         'mean_train_score':df.mean_train_score, \n",
    "                         'std_train_score':df.std_train_score, \n",
    "                         'C':c, 'penalty':pen})\n",
    "    \n",
    "    \n",
    "\n",
    "    pass    \n",
    "    # Sorting the dataframe by the number of neighbours\n",
    "    df = data.sort_values(by=['C'], ascending=[False])\n",
    "    \n",
    "    \n",
    "    fig = plt.figure()\n",
    "    ax = fig.gca()\n",
    "    plt.plot(df.C, df.mean_test_score, '-o', c='b', label='Validation AUC')\n",
    "    plt.plot(df.C, df.mean_train_score, '-o', c='r', label='Train AUC')\n",
    "    plt.grid(True)\n",
    "    plt.xlabel('Hyperparameter : C')\n",
    "    plt.ylabel('Area Under ROC Curve')\n",
    "    plt.title('AUC ROC Curve for Logistic Regression')\n",
    "    plt.legend(loc='best')\n",
    "    plt.show()"
   ]
  },
  {
   "cell_type": "code",
   "execution_count": 52,
   "metadata": {},
   "outputs": [],
   "source": [
    "def retrain_with_best_params(data, labels, best_params, model_path):\n",
    "    if(os.path.exists(model_path)):\n",
    "        print('Loading Model....')\n",
    "        with open(model_path, 'rb') as input_file:\n",
    "            clf = pickle.load(input_file)\n",
    "    else:\n",
    "        clf = LogisticRegression(penalty=best_params['logistic__penalty'], \n",
    "                                 C = best_params['logistic__C'], \n",
    "                                 solver=best_params['logistic__solver'], max_iter=10000)\n",
    "        print('Training Model....')\n",
    "        clf.fit(data, labels)\n",
    "    \n",
    "        print('Saving Trained Model....')\n",
    "        with open(model_path,'wb') as file:\n",
    "            pickle.dump(clf,file)\n",
    "    return clf"
   ]
  },
  {
   "cell_type": "markdown",
   "metadata": {
    "colab_type": "text",
    "id": "LE_XPVZJLPo4"
   },
   "source": [
    "## [5.1] Logistic Regression on BOW,<font color='red'> SET 1</font>"
   ]
  },
  {
   "cell_type": "markdown",
   "metadata": {
    "colab_type": "text",
    "id": "_iciJvj2LPo4"
   },
   "source": [
    "### [5.1.1] Applying Logistic Regression with L1 regularization on BOW,<font color='red'> SET 1</font>"
   ]
  },
  {
   "cell_type": "code",
   "execution_count": 58,
   "metadata": {
    "colab": {},
    "colab_type": "code",
    "id": "MyOVi-xYLPo5",
    "scrolled": false
   },
   "outputs": [],
   "source": [
    "# Please write all the code with proper documentation\n",
    "csv_path = 'saved_models/BOW_log_reg_results_l1.csv'\n",
    "cv_results = perform_hyperparameter_tuning(X=Dx_train, Y=Dy_train, vectorizer='BOW', vec_name='BOW', \n",
    "                                           penalty=['l1'], results_path=csv_path, retrain=False, W2V_model=None)"
   ]
  },
  {
   "cell_type": "markdown",
   "metadata": {
    "colab_type": "text",
    "id": "5h4NhywcLPo7"
   },
   "source": [
    "#### [5.1.1.1] Calculating sparsity on weight vector obtained using L1 regularization on BOW,<font color='red'> SET 1</font>"
   ]
  },
  {
   "cell_type": "code",
   "execution_count": 59,
   "metadata": {
    "colab": {},
    "colab_type": "code",
    "id": "-mmdLzUALPo-"
   },
   "outputs": [],
   "source": [
    "# # Please write all the code with proper documentation\n",
    "# # fetching the coeff and calculating sparsity\n",
    "# weights = log_reg.coef_\n",
    "# elements = (weights.shape[0]*weights.shape[1])\n",
    "# zeroes = elements - np.count_nonzero(weights)\n",
    "# sparsity = zeroes/elements\n",
    "# print('Sparsity of the weight vector by L1 reguralization is : ', sparsity)"
   ]
  },
  {
   "cell_type": "markdown",
   "metadata": {
    "colab_type": "text",
    "id": "aRHMa52qLPpA"
   },
   "source": [
    "### [5.1.2] Applying Logistic Regression with L2 regularization on BOW,<font color='red'> SET 1</font>"
   ]
  },
  {
   "cell_type": "code",
   "execution_count": 60,
   "metadata": {
    "colab": {},
    "colab_type": "code",
    "id": "GBbb9lxlLPpB"
   },
   "outputs": [],
   "source": [
    "# Please write all the code with proper documentation\n",
    "csv_path = 'saved_models/BOW_log_reg_results_l2.csv'\n",
    "cv_results = perform_hyperparameter_tuning(X=Dx_train, Y=Dy_train, vectorizer='BOW', vec_name='BOW', \n",
    "                                           penalty=['l2'], results_path=csv_path, retrain=False, W2V_model=None)"
   ]
  },
  {
   "cell_type": "markdown",
   "metadata": {
    "colab_type": "text",
    "id": "UaJkugTKLPpE"
   },
   "source": [
    "#### [5.1.2.1] Performing pertubation test (multicollinearity check) on BOW,<font color='red'> SET 1</font>"
   ]
  },
  {
   "cell_type": "code",
   "execution_count": 47,
   "metadata": {
    "colab": {},
    "colab_type": "code",
    "id": "E1c5B1nELPpF"
   },
   "outputs": [],
   "source": [
    "# Please write all the code with proper documentation"
   ]
  },
  {
   "cell_type": "markdown",
   "metadata": {
    "colab_type": "text",
    "id": "eB1rF0BQLPpG"
   },
   "source": [
    "### [5.1.3] Feature Importance on BOW,<font color='red'> SET 1</font>"
   ]
  },
  {
   "cell_type": "markdown",
   "metadata": {
    "colab_type": "text",
    "id": "JZTP19dqLPpI"
   },
   "source": [
    "#### [5.1.3.1] Top 10 important features of positive class from<font color='red'> SET 1</font>"
   ]
  },
  {
   "cell_type": "code",
   "execution_count": 48,
   "metadata": {
    "colab": {},
    "colab_type": "code",
    "id": "oGRpCVJgLPpI"
   },
   "outputs": [],
   "source": [
    "# Please write all the code with proper documentation"
   ]
  },
  {
   "cell_type": "markdown",
   "metadata": {
    "colab_type": "text",
    "id": "UJLYBE1gLPpJ"
   },
   "source": [
    "#### [5.1.3.2] Top 10 important features of negative class from<font color='red'> SET 1</font>"
   ]
  },
  {
   "cell_type": "code",
   "execution_count": 49,
   "metadata": {
    "colab": {},
    "colab_type": "code",
    "id": "c9r7Zjx1LPpK"
   },
   "outputs": [],
   "source": [
    "# Please write all the code with proper documentation"
   ]
  },
  {
   "cell_type": "markdown",
   "metadata": {
    "colab_type": "text",
    "id": "nKn3VXcZLPpN"
   },
   "source": [
    "## [5.2] Logistic Regression on TFIDF,<font color='red'> SET 2</font>"
   ]
  },
  {
   "cell_type": "markdown",
   "metadata": {
    "colab_type": "text",
    "id": "naTBSzm6LPpN"
   },
   "source": [
    "### [5.2.1] Applying Logistic Regression with L1 regularization on TFIDF,<font color='red'> SET 2</font>"
   ]
  },
  {
   "cell_type": "code",
   "execution_count": 61,
   "metadata": {
    "colab": {},
    "colab_type": "code",
    "id": "PEhaagXXLPpS"
   },
   "outputs": [],
   "source": [
    "# Please write all the code with proper documentation\n",
    "csv_path = 'saved_models/TFIDF_log_reg_results_l1.csv'\n",
    "cv_results = perform_hyperparameter_tuning(X=Dx_train, Y=Dy_train, vectorizer='TFIDF', vec_name='TFIDF', \n",
    "                                           penalty=['l1'], results_path=csv_path, retrain=False, W2V_model=None)"
   ]
  },
  {
   "cell_type": "markdown",
   "metadata": {
    "colab_type": "text",
    "id": "NdFShHQJLPpV"
   },
   "source": [
    "### [5.2.2] Applying Logistic Regression with L2 regularization on TFIDF,<font color='red'> SET 2</font>"
   ]
  },
  {
   "cell_type": "code",
   "execution_count": 62,
   "metadata": {
    "colab": {},
    "colab_type": "code",
    "id": "Jyhq3JDzLPpW"
   },
   "outputs": [],
   "source": [
    "# Please write all the code with proper documentation\n",
    "csv_path = 'saved_models/TFIDF_log_reg_results_l2.csv'\n",
    "cv_results = perform_hyperparameter_tuning(X=Dx_train, Y=Dy_train, vectorizer='TFIDF', vec_name='TFIDF', \n",
    "                                           penalty=['l2'], results_path=csv_path, retrain=False, W2V_model=None)"
   ]
  },
  {
   "cell_type": "markdown",
   "metadata": {
    "colab_type": "text",
    "id": "xeeJ8eVvLPpX"
   },
   "source": [
    "### [5.2.3] Feature Importance on TFIDF,<font color='red'> SET 2</font>"
   ]
  },
  {
   "cell_type": "markdown",
   "metadata": {
    "colab_type": "text",
    "id": "Cj9XEmqQLPpY"
   },
   "source": [
    "#### [5.2.3.1] Top 10 important features of positive class from<font color='red'> SET 2</font>"
   ]
  },
  {
   "cell_type": "code",
   "execution_count": 52,
   "metadata": {
    "colab": {},
    "colab_type": "code",
    "id": "RG10txygLPpb"
   },
   "outputs": [],
   "source": [
    "# Please write all the code with proper documentation"
   ]
  },
  {
   "cell_type": "markdown",
   "metadata": {
    "colab_type": "text",
    "id": "PowEfns4LPpg"
   },
   "source": [
    "#### [5.2.3.2] Top 10 important features of negative class from<font color='red'> SET 2</font>"
   ]
  },
  {
   "cell_type": "code",
   "execution_count": 53,
   "metadata": {
    "colab": {},
    "colab_type": "code",
    "id": "G7jrma95LPpg"
   },
   "outputs": [],
   "source": [
    "# Please write all the code with proper documentation"
   ]
  },
  {
   "cell_type": "markdown",
   "metadata": {},
   "source": [
    "## Preparing/Training Google Word2Vec"
   ]
  },
  {
   "cell_type": "code",
   "execution_count": 63,
   "metadata": {},
   "outputs": [
    {
     "name": "stdout",
     "output_type": "stream",
     "text": [
      "[('fantastic', 0.869288444519043), ('terrific', 0.856323778629303), ('excellent', 0.8412621021270752), ('awesome', 0.8174195289611816), ('good', 0.8092024326324463), ('wonderful', 0.7859485149383545), ('fabulous', 0.7005833387374878), ('amazing', 0.691084623336792), ('perfect', 0.6895540952682495), ('nice', 0.6831441521644592)]\n",
      "==================================================\n",
      "[('nastiest', 0.8359123468399048), ('greatest', 0.7053834199905396), ('disgusting', 0.6828732490539551), ('best', 0.6780859231948853), ('weakest', 0.6398123502731323), ('saltiest', 0.6307118535041809), ('horrible', 0.6151873469352722), ('nicest', 0.6123323440551758), ('terrible', 0.6116286516189575), ('tastiest', 0.6115739941596985)]\n"
     ]
    }
   ],
   "source": [
    "is_your_ram_gt_16g=True\n",
    "want_to_use_google_w2v = False\n",
    "want_to_train_w2v = True\n",
    "\n",
    "path_to_word2vec = '/home/monodeepdas112/Datasets/GoogleNews-vectors-negative300.bin.gz'\n",
    "\n",
    "if want_to_train_w2v:\n",
    "    \n",
    "    # Train your own Word2Vec model using your own text corpus\n",
    "    i=0\n",
    "    list_of_sentences=[]\n",
    "    for sentance in preprocessed_reviews:\n",
    "        list_of_sentences.append(sentance.split())\n",
    "    \n",
    "    # min_count = 5 considers only words that occured atleast 5 times\n",
    "    w2v_model=Word2Vec(list_of_sentences,min_count=5,size=100, workers=4)\n",
    "    print(w2v_model.wv.most_similar('great'))\n",
    "    print('='*50)\n",
    "    print(w2v_model.wv.most_similar('worst'))\n",
    "    \n",
    "elif want_to_use_google_w2v and is_your_ram_gt_16g:\n",
    "    if os.path.isfile(path_to_word2vec):\n",
    "        print('Preparing to load pre-trained Word2Vec model !')\n",
    "        w2v_model=KeyedVectors.load_word2vec_format(path_to_word2vec, binary=True)\n",
    "        print('Successfully loaded model into memory !!')\n",
    "        print('Words similar to \"similar\" : ', w2v_model.wv.most_similar('great'))\n",
    "        print('Words similar to \"worst\" : ',w2v_model.wv.most_similar('worst'))\n",
    "    else:\n",
    "        print(\"you don't have google's word2vec file, keep want_to_train_w2v = True, to train your own w2v \")"
   ]
  },
  {
   "cell_type": "markdown",
   "metadata": {
    "colab_type": "text",
    "id": "sqYadGOgLPpi"
   },
   "source": [
    "## [5.3] Logistic Regression on AVG W2V,<font color='red'> SET 3</font>"
   ]
  },
  {
   "cell_type": "markdown",
   "metadata": {
    "colab_type": "text",
    "id": "kByBCEA1LPpj"
   },
   "source": [
    "### [5.3.1] Applying Logistic Regression with L1 regularization on AVG W2V<font color='red'> SET 3</font>"
   ]
  },
  {
   "cell_type": "code",
   "execution_count": 68,
   "metadata": {
    "scrolled": true
   },
   "outputs": [],
   "source": [
    "csv_path = 'saved_models/Avg-W2Vec_log_reg_results_l1.csv'\n",
    "cv_results = perform_hyperparameter_tuning(X=Dx_train, Y=Dy_train, vectorizer='Avg-W2Vec', vec_name='Avg-W2Vec', \n",
    "                                           penalty=['l1'], results_path=csv_path, retrain=False, W2V_model=w2v_model)"
   ]
  },
  {
   "cell_type": "markdown",
   "metadata": {
    "colab_type": "text",
    "id": "O_8Gu2SfLPpn"
   },
   "source": [
    "### [5.3.2] Applying Logistic Regression with L2 regularization on AVG W2V,<font color='red'> SET 3</font>"
   ]
  },
  {
   "cell_type": "code",
   "execution_count": 71,
   "metadata": {
    "colab": {},
    "colab_type": "code",
    "id": "Zy3s4jk1LPpn"
   },
   "outputs": [
    {
     "name": "stdout",
     "output_type": "stream",
     "text": [
      "Performing Hyperparameter Tuning...\n",
      "\n",
      "CV iteration : C=17.662767902942853, solver=saga, train_score=0.6637826642713918, test_score=0.6594624255588195\n",
      "CV iteration : C=17.662767902942853, solver=saga, train_score=0.6637544673253966, test_score=0.6594032794273107\n",
      "CV iteration : C=17.662767902942853, solver=saga, train_score=0.6611809460121849, test_score=0.6630381549055068\n",
      "C=17.662767902942853, penalty=l2, solver=\"saga\", train_score=0.6629060258696577, test_score=0.660634619963879\n",
      "CV iteration : C=20.529233385673184, solver=saga, train_score=0.6637905342090215, test_score=0.6594621910845619\n",
      "CV iteration : C=20.529233385673184, solver=saga, train_score=0.6637604906854818, test_score=0.659402517385973\n",
      "CV iteration : C=20.529233385673184, solver=saga, train_score=0.6611852544766704, test_score=0.663054569752783\n",
      "C=20.529233385673184, penalty=l2, solver=\"saga\", train_score=0.6629120931237246, test_score=0.6606397594077726\n",
      "CV iteration : C=28.42210875276687, solver=saga, train_score=0.6637951359975051, test_score=0.6594577360736653\n",
      "CV iteration : C=28.42210875276687, solver=saga, train_score=0.6637683606231115, test_score=0.6594062689740966\n",
      "CV iteration : C=28.42210875276687, solver=saga, train_score=0.661188478497714, test_score=0.6630642427877851\n",
      "C=28.42210875276687, penalty=l2, solver=\"saga\", train_score=0.6629173250394436, test_score=0.6606427492785156\n",
      "CV iteration : C=35.15065100468826, solver=saga, train_score=0.6637995619214607, test_score=0.6594734458489322\n",
      "CV iteration : C=35.15065100468826, solver=saga, train_score=0.6637762452161184, test_score=0.6594049793656791\n",
      "CV iteration : C=35.15065100468826, solver=saga, train_score=0.66119557134401, test_score=0.6630719225913322\n",
      "C=35.15065100468826, penalty=l2, solver=\"saga\", train_score=0.6629237928271964, test_score=0.6606501159353145\n",
      "CV iteration : C=50.344529991366564, solver=saga, train_score=0.6638004119333462, test_score=0.659470808013533\n",
      "CV iteration : C=50.344529991366564, solver=saga, train_score=0.6637782676581909, test_score=0.6593976520451255\n",
      "CV iteration : C=50.344529991366564, solver=saga, train_score=0.661198853983618, test_score=0.6630816542507889\n",
      "C=50.344529991366564, penalty=l2, solver=\"saga\", train_score=0.6629258445250518, test_score=0.6606500381031492\n",
      "CV iteration : C=55.2582186453529, solver=saga, train_score=0.6638001627919314, test_score=0.6594735630860611\n",
      "CV iteration : C=55.2582186453529, solver=saga, train_score=0.6637785900764922, test_score=0.6593972417151746\n",
      "CV iteration : C=55.2582186453529, solver=saga, train_score=0.6612000263549065, test_score=0.6630862855826989\n",
      "C=55.2582186453529, penalty=l2, solver=\"saga\", train_score=0.66292625974111, test_score=0.6606523634613115\n",
      "CV iteration : C=56.584940738989474, solver=saga, train_score=0.6638004705548556, test_score=0.6594662357655074\n",
      "CV iteration : C=56.584940738989474, solver=saga, train_score=0.6637796012975284, test_score=0.6593978865193832\n",
      "CV iteration : C=56.584940738989474, solver=saga, train_score=0.6611982677979736, test_score=0.6630750296874238\n",
      "C=56.584940738989474, penalty=l2, solver=\"saga\", train_score=0.6629261132167859, test_score=0.6606463839907715\n",
      "CV iteration : C=78.45312635222814, solver=saga, train_score=0.6638064352934314, test_score=0.6594702218278886\n",
      "CV iteration : C=78.45312635222814, solver=saga, train_score=0.6637837048031827, test_score=0.659400993303298\n",
      "CV iteration : C=78.45312635222814, solver=saga, train_score=0.6612034701955668, test_score=0.6630963103644283\n",
      "C=78.45312635222814, penalty=l2, solver=\"saga\", train_score=0.662931203430727, test_score=0.6606558418318716\n",
      "CV iteration : C=89.6583306205708, solver=saga, train_score=0.6638051895863577, test_score=0.6594719803848215\n",
      "CV iteration : C=89.6583306205708, solver=saga, train_score=0.6637853608608217, test_score=0.6594059758812745\n",
      "CV iteration : C=89.6583306205708, solver=saga, train_score=0.6612003780662932, test_score=0.6630804231372431\n",
      "C=89.6583306205708, penalty=l2, solver=\"saga\", train_score=0.6629303095044908, test_score=0.6606527931344464\n",
      "CV iteration : C=89.81867660401977, solver=saga, train_score=0.6638053214847538, test_score=0.6594718045291282\n",
      "CV iteration : C=89.81867660401977, solver=saga, train_score=0.6637827522036558, test_score=0.6594020484374576\n",
      "CV iteration : C=89.81867660401977, solver=saga, train_score=0.6611994841331856, test_score=0.663075146936333\n",
      "C=89.81867660401977, penalty=l2, solver=\"saga\", train_score=0.6629291859405317, test_score=0.6606496666343062\n",
      "CV iteration : C=103.6817366590883, solver=saga, train_score=0.6638056585584325, test_score=0.659466997806845\n",
      "CV iteration : C=103.6817366590883, solver=saga, train_score=0.6637852289624258, test_score=0.6594077344382072\n",
      "CV iteration : C=103.6817366590883, solver=saga, train_score=0.6612014038911707, test_score=0.6630871063250627\n",
      "C=103.6817366590883, penalty=l2, solver=\"saga\", train_score=0.6629307638040097, test_score=0.6606539461900384\n",
      "CV iteration : C=111.0196785334269, solver=saga, train_score=0.6638039438792842, test_score=0.6594643013528813\n",
      "CV iteration : C=111.0196785334269, solver=saga, train_score=0.6637860936296884, test_score=0.6594085550981093\n",
      "CV iteration : C=111.0196785334269, solver=saga, train_score=0.6612035288141311, test_score=0.6630922652770639\n",
      "C=111.0196785334269, penalty=l2, solver=\"saga\", train_score=0.662931188774368, test_score=0.6606550405760181\n",
      "CV iteration : C=163.5078442438616, solver=saga, train_score=0.6638050430325844, test_score=0.6594667047140229\n",
      "CV iteration : C=163.5078442438616, solver=saga, train_score=0.6637865772571406, test_score=0.6594081447681582\n",
      "CV iteration : C=163.5078442438616, solver=saga, train_score=0.6612047451493431, test_score=0.66310006232952\n",
      "C=163.5078442438616, penalty=l2, solver=\"saga\", train_score=0.6629321218130227, test_score=0.6606583039372337\n",
      "CV iteration : C=166.61790008857866, solver=saga, train_score=0.6638079154865424, test_score=0.6594727424261592\n",
      "CV iteration : C=166.61790008857866, solver=saga, train_score=0.6637864160479899, test_score=0.6594090826651892\n",
      "CV iteration : C=166.61790008857866, solver=saga, train_score=0.6612027960820759, test_score=0.6630947861286098\n",
      "C=166.61790008857866, penalty=l2, solver=\"saga\", train_score=0.6629323758722027, test_score=0.6606588704066527\n",
      "CV iteration : C=169.57927215570388, solver=saga, train_score=0.6638049111341884, test_score=0.6594639496414948\n",
      "CV iteration : C=169.57927215570388, solver=saga, train_score=0.6637883505577984, test_score=0.6594158238000986\n",
      "CV iteration : C=169.57927215570388, solver=saga, train_score=0.6612030012470513, test_score=0.6630976001024287\n",
      "C=169.57927215570388, penalty=l2, solver=\"saga\", train_score=0.662932087646346, test_score=0.660659124514674\n",
      "CV iteration : C=186.45792000140764, solver=saga, train_score=0.6638060542536206, test_score=0.6594677598481826\n",
      "CV iteration : C=186.45792000140764, solver=saga, train_score=0.6637847893011055, test_score=0.6594089654280603\n",
      "CV iteration : C=186.45792000140764, solver=saga, train_score=0.6612013452726062, test_score=0.6630815370018797\n",
      "C=186.45792000140764, penalty=l2, solver=\"saga\", train_score=0.6629307296091108, test_score=0.6606527540927075\n",
      "CV iteration : C=208.14844471397166, solver=saga, train_score=0.6638044421621137, test_score=0.6594647116828323\n",
      "CV iteration : C=208.14844471397166, solver=saga, train_score=0.663786811743178, test_score=0.6594082620052871\n",
      "CV iteration : C=208.14844471397166, solver=saga, train_score=0.6612027374635114, test_score=0.663091854905882\n",
      "C=208.14844471397166, penalty=l2, solver=\"saga\", train_score=0.6629313304562677, test_score=0.6606549428646671\n",
      "CV iteration : C=211.36126449193318, solver=saga, train_score=0.6638060395982434, test_score=0.6594648289199612\n",
      "CV iteration : C=211.36126449193318, solver=saga, train_score=0.6637897135078906, test_score=0.6594092585208824\n",
      "CV iteration : C=211.36126449193318, solver=saga, train_score=0.6612031331388213, test_score=0.6630939067617915\n",
      "C=211.36126449193318, penalty=l2, solver=\"saga\", train_score=0.6629329620816518, test_score=0.6606559980675449\n",
      "CV iteration : C=213.3010915372178, solver=saga, train_score=0.6638069335762609, test_score=0.6594688149823422\n",
      "CV iteration : C=213.3010915372178, solver=saga, train_score=0.6637886583207224, test_score=0.6594088481909315\n",
      "CV iteration : C=213.3010915372178, solver=saga, train_score=0.6612010228705019, test_score=0.6630931446438822\n",
      "C=213.3010915372178, penalty=l2, solver=\"saga\", train_score=0.662932204922495, test_score=0.660656935939052\n",
      "CV iteration : C=227.6159353883244, solver=saga, train_score=0.6638074025483356, test_score=0.6594672908996673\n",
      "CV iteration : C=227.6159353883244, solver=saga, train_score=0.6637868557093101, test_score=0.6594090240466248\n",
      "CV iteration : C=227.6159353883244, solver=saga, train_score=0.6612022098964316, test_score=0.6630964276133375\n",
      "C=227.6159353883244, penalty=l2, solver=\"saga\", train_score=0.6629321560513591, test_score=0.6606575808532099\n",
      "CV iteration : C=240.96858245381705, solver=saga, train_score=0.6638023317877773, test_score=0.6594613118060955\n",
      "CV iteration : C=240.96858245381705, solver=saga, train_score=0.6637884971115716, test_score=0.6594124239233616\n",
      "CV iteration : C=240.96858245381705, solver=saga, train_score=0.6612028107367169, test_score=0.6630997105827927\n",
      "C=240.96858245381705, penalty=l2, solver=\"saga\", train_score=0.662931213212022, test_score=0.6606578154374166\n",
      "CV iteration : C=245.2422002383837, solver=saga, train_score=0.6638057318353193, test_score=0.6594629531258994\n",
      "CV iteration : C=245.2422002383837, solver=saga, train_score=0.6637895962648719, test_score=0.6594108998406865\n",
      "CV iteration : C=245.2422002383837, solver=saga, train_score=0.661201726293275, test_score=0.663099007089338\n",
      "C=245.2422002383837, penalty=l2, solver=\"saga\", train_score=0.6629323514644887, test_score=0.6606576200186413\n",
      "CV iteration : C=251.77155119359062, solver=saga, train_score=0.6638078568650331, test_score=0.659472742426159\n",
      "CV iteration : C=251.77155119359062, solver=saga, train_score=0.6637901385138334, test_score=0.6594135376760857\n",
      "CV iteration : C=251.77155119359062, solver=saga, train_score=0.6612011840715539, test_score=0.6630881029407902\n",
      "C=251.77155119359062, penalty=l2, solver=\"saga\", train_score=0.6629330598168067, test_score=0.6606581276810116\n",
      "CV iteration : C=288.62431606005816, solver=saga, train_score=0.6638068309886195, test_score=0.6594696356422443\n",
      "CV iteration : C=288.62431606005816, solver=saga, train_score=0.6637908419719455, test_score=0.6594114274077664\n",
      "CV iteration : C=288.62431606005816, solver=saga, train_score=0.6612018728396861, test_score=0.6630864614560625\n",
      "C=288.62431606005816, penalty=l2, solver=\"saga\", train_score=0.662933181933417, test_score=0.6606558415020244\n",
      "CV iteration : C=299.93205509550614, solver=saga, train_score=0.6638069628870156, test_score=0.6594669391882806\n",
      "CV iteration : C=299.93205509550614, solver=saga, train_score=0.6637908566273228, test_score=0.6594095516137045\n",
      "CV iteration : C=299.93205509550614, solver=saga, train_score=0.6612035727780545, test_score=0.6630956068709737\n",
      "C=299.93205509550614, penalty=l2, solver=\"saga\", train_score=0.6629337974307977, test_score=0.6606573658909863\n",
      "CV iteration : C=302.7975640203489, solver=saga, train_score=0.6638055999369232, test_score=0.6594659426726853\n",
      "CV iteration : C=302.7975640203489, solver=saga, train_score=0.6637905195536441, test_score=0.6594116032634596\n",
      "CV iteration : C=302.7975640203489, solver=saga, train_score=0.6612031038295391, test_score=0.6630935550150642\n",
      "C=302.7975640203489, penalty=l2, solver=\"saga\", train_score=0.6629330744400356, test_score=0.660657033650403\n",
      "CV iteration : C=331.49718000592856, solver=saga, train_score=0.6638063473611675, test_score=0.659466587476894\n",
      "CV iteration : C=331.49718000592856, solver=saga, train_score=0.6637875445120448, test_score=0.6594103136550421\n",
      "CV iteration : C=331.49718000592856, solver=saga, train_score=0.6611997186074433, test_score=0.6630801886394249\n",
      "C=331.49718000592856, penalty=l2, solver=\"saga\", train_score=0.6629312034935518, test_score=0.6606523632571203\n",
      "CV iteration : C=346.8398294172205, solver=saga, train_score=0.663807285305317, test_score=0.6594699287350665\n",
      "CV iteration : C=346.8398294172205, solver=saga, train_score=0.6637888341852504, test_score=0.6594121894491038\n",
      "CV iteration : C=346.8398294172205, solver=saga, train_score=0.6612016383654283, test_score=0.6630946102552462\n",
      "C=346.8398294172205, penalty=l2, solver=\"saga\", train_score=0.6629325859519986, test_score=0.6606589094798055\n",
      "CV iteration : C=346.88138330661303, solver=saga, train_score=0.6638065965025821, test_score=0.6594674667553605\n",
      "CV iteration : C=346.88138330661303, solver=saga, train_score=0.6637897721293999, test_score=0.6594110756963798\n",
      "CV iteration : C=346.88138330661303, solver=saga, train_score=0.6612035141594901, test_score=0.6630981863469743\n",
      "C=346.88138330661303, penalty=l2, solver=\"saga\", train_score=0.6629332942638241, test_score=0.6606589095995715\n",
      "CV iteration : C=358.4422036192532, solver=saga, train_score=0.6638052335524899, test_score=0.6594648289199612\n",
      "CV iteration : C=358.4422036192532, solver=saga, train_score=0.6637910764579829, test_score=0.6594118963562817\n",
      "CV iteration : C=358.4422036192532, solver=saga, train_score=0.6612016237107872, test_score=0.6630941998840643\n",
      "C=358.4422036192532, penalty=l2, solver=\"saga\", train_score=0.6629326445737532, test_score=0.6606569750534358\n",
      "CV iteration : C=371.22982063319245, solver=saga, train_score=0.6638049404449431, test_score=0.659467408136796\n",
      "CV iteration : C=371.22982063319245, solver=saga, train_score=0.6637907100735495, test_score=0.659412599779055\n",
      "CV iteration : C=371.22982063319245, solver=saga, train_score=0.6612033383037969, test_score=0.6630940240107006\n",
      "C=371.22982063319245, penalty=l2, solver=\"saga\", train_score=0.6629329962740965, test_score=0.6606580106421839\n",
      "CV iteration : C=383.4671264523844, solver=saga, train_score=0.6638047059589057, test_score=0.6594635393115438\n",
      "CV iteration : C=383.4671264523844, solver=saga, train_score=0.663789728163268, test_score=0.6594113687892019\n",
      "CV iteration : C=383.4671264523844, solver=saga, train_score=0.6612028840099226, test_score=0.6630980690980651\n",
      "C=383.4671264523844, penalty=l2, solver=\"saga\", train_score=0.6629324393773653, test_score=0.6606576590662704\n",
      "CV iteration : C=386.5104820132459, solver=saga, train_score=0.6638067430563555, test_score=0.6594686391266491\n",
      "CV iteration : C=386.5104820132459, solver=saga, train_score=0.6637893764342119, test_score=0.6594148272845033\n",
      "CV iteration : C=386.5104820132459, solver=saga, train_score=0.6612033822677201, test_score=0.6630998864561564\n",
      "C=386.5104820132459, penalty=l2, solver=\"saga\", train_score=0.6629331672527625, test_score=0.6606611176224363\n",
      "CV iteration : C=388.98847919199676, solver=saga, train_score=0.6638083258371079, test_score=0.6594745596016565\n",
      "CV iteration : C=388.98847919199676, solver=saga, train_score=0.6637878229642142, test_score=0.6594105481292999\n",
      "CV iteration : C=388.98847919199676, solver=saga, train_score=0.6612040124172878, test_score=0.6630950206264281\n",
      "C=388.98847919199676, penalty=l2, solver=\"saga\", train_score=0.66293338707287, test_score=0.6606600427857948\n",
      "CV iteration : C=389.4223135596656, solver=saga, train_score=0.6638073732375809, test_score=0.6594713355806128\n",
      "CV iteration : C=389.4223135596656, solver=saga, train_score=0.6637891126374198, test_score=0.6594136549132146\n",
      "CV iteration : C=389.4223135596656, solver=saga, train_score=0.6612015650922228, test_score=0.6630961344910647\n",
      "C=389.4223135596656, penalty=l2, solver=\"saga\", train_score=0.6629326836557411, test_score=0.660660374994964\n",
      "CV iteration : C=398.46661079918357, solver=saga, train_score=0.6638066551240915, test_score=0.6594689322194712\n",
      "CV iteration : C=398.46661079918357, solver=saga, train_score=0.6637909445595869, test_score=0.6594115446448952\n",
      "CV iteration : C=398.46661079918357, solver=saga, train_score=0.6612015064736584, test_score=0.6630971311067921\n",
      "C=398.46661079918357, penalty=l2, solver=\"saga\", train_score=0.662933035385779, test_score=0.6606592026570528\n",
      "CV iteration : C=428.12782327249977, solver=saga, train_score=0.6638040318115483, test_score=0.6594672908996673\n",
      "CV iteration : C=428.12782327249977, solver=saga, train_score=0.6637871634722341, test_score=0.659407968912465\n",
      "CV iteration : C=428.12782327249977, solver=saga, train_score=0.6612036607059012, test_score=0.6630955482465191\n",
      "C=428.12782327249977, penalty=l2, solver=\"saga\", train_score=0.6629316186632278, test_score=0.6606569360195504\n",
      "CV iteration : C=435.7278667140125, solver=saga, train_score=0.6638080327295611, test_score=0.6594669391882806\n",
      "CV iteration : C=435.7278667140125, solver=saga, train_score=0.6637911350794923, test_score=0.6594123066862327\n",
      "CV iteration : C=435.7278667140125, solver=saga, train_score=0.6612028107367169, test_score=0.663097951849156\n",
      "C=435.7278667140125, penalty=l2, solver=\"saga\", train_score=0.6629339928485901, test_score=0.6606590659078898\n",
      "CV iteration : C=437.8797598669448, solver=saga, train_score=0.6638069921977703, test_score=0.6594693425494221\n",
      "CV iteration : C=437.8797598669448, solver=saga, train_score=0.6637921023343963, test_score=0.6594106067478642\n",
      "CV iteration : C=437.8797598669448, solver=saga, train_score=0.6612019754221738, test_score=0.6630991243382471\n",
      "C=437.8797598669448, penalty=l2, solver=\"saga\", train_score=0.6629336899847802, test_score=0.6606596912118445\n",
      "CV iteration : C=441.5885024269941, solver=saga, train_score=0.6638067430563555, test_score=0.6594641841157525\n",
      "CV iteration : C=441.5885024269941, solver=saga, train_score=0.663791604051567, test_score=0.6594135962946501\n",
      "CV iteration : C=441.5885024269941, solver=saga, train_score=0.6612025762624593, test_score=0.6630961931155193\n",
      "C=441.5885024269941, penalty=l2, solver=\"saga\", train_score=0.6629336411234606, test_score=0.6606579911753073\n",
      "CV iteration : C=459.04074513878606, solver=saga, train_score=0.6638079154865424, test_score=0.6594777836226999\n",
      "CV iteration : C=459.04074513878606, solver=saga, train_score=0.6637896988525133, test_score=0.6594127756347482\n",
      "CV iteration : C=459.04074513878606, solver=saga, train_score=0.661200084973471, test_score=0.6630845268490622\n",
      "C=459.04074513878606, penalty=l2, solver=\"saga\", train_score=0.6629325664375089, test_score=0.6606583620355034\n",
      "CV iteration : C=459.69890112322327, solver=saga, train_score=0.6638049404449431, test_score=0.6594684046523913\n",
      "CV iteration : C=459.69890112322327, solver=saga, train_score=0.6637888341852504, test_score=0.6594094929951402\n",
      "CV iteration : C=459.69890112322327, solver=saga, train_score=0.6612020340407383, test_score=0.6630931446438822\n",
      "C=459.69890112322327, penalty=l2, solver=\"saga\", train_score=0.662931936223644, test_score=0.6606570140971378\n",
      "CV iteration : C=462.2146862894889, solver=saga, train_score=0.6638078861757877, test_score=0.6594753216429939\n",
      "CV iteration : C=462.2146862894889, solver=saga, train_score=0.663791911814491, test_score=0.6594099619436556\n",
      "CV iteration : C=462.2146862894889, solver=saga, train_score=0.6612020926593027, test_score=0.6630993002116108\n",
      "C=462.2146862894889, penalty=l2, solver=\"saga\", train_score=0.6629339635498604, test_score=0.6606615279327535\n",
      "CV iteration : C=471.4997602075084, solver=saga, train_score=0.6638078275542784, test_score=0.6594674667553605\n",
      "CV iteration : C=471.4997602075084, solver=saga, train_score=0.6637880574502516, test_score=0.6594111929335086\n",
      "CV iteration : C=471.4997602075084, solver=saga, train_score=0.661201726293275, test_score=0.6630932618927914\n",
      "C=471.4997602075084, penalty=l2, solver=\"saga\", train_score=0.6629325370992684, test_score=0.6606573071938868\n",
      "CV iteration : C=501.16997646423715, solver=saga, train_score=0.6638078568650331, test_score=0.659476552632847\n",
      "CV iteration : C=501.16997646423715, solver=saga, train_score=0.6637908419719455, test_score=0.6594118963562818\n",
      "CV iteration : C=501.16997646423715, solver=saga, train_score=0.6612041882729811, test_score=0.6631004140762474\n",
      "C=501.16997646423715, penalty=l2, solver=\"saga\", train_score=0.6629342957033199, test_score=0.6606629543551255\n",
      "CV iteration : C=508.0083247182709, solver=saga, train_score=0.6638061568412621, test_score=0.6594659426726853\n",
      "CV iteration : C=508.0083247182709, solver=saga, train_score=0.6637862694942165, test_score=0.6594111343149441\n",
      "CV iteration : C=508.0083247182709, solver=saga, train_score=0.6612048916957541, test_score=0.663097834600247\n",
      "C=508.0083247182709, penalty=l2, solver=\"saga\", train_score=0.6629324393437442, test_score=0.6606583038626255\n",
      "CV iteration : C=508.65255788068555, solver=saga, train_score=0.6638087801538053, test_score=0.6594750871687363\n",
      "CV iteration : C=508.65255788068555, solver=saga, train_score=0.6637916480176991, test_score=0.6594159996557918\n",
      "CV iteration : C=508.65255788068555, solver=saga, train_score=0.661202532298536, test_score=0.6630875166962447\n",
      "C=508.65255788068555, penalty=l2, solver=\"saga\", train_score=0.6629343201566801, test_score=0.6606595345069243\n",
      "CV iteration : C=509.55908331650187, solver=saga, train_score=0.6638068749547515, test_score=0.6594662357655074\n",
      "CV iteration : C=509.55908331650187, solver=saga, train_score=0.6637912523225109, test_score=0.6594120135934106\n",
      "CV iteration : C=509.55908331650187, solver=saga, train_score=0.6612051994432174, test_score=0.6630997692072473\n",
      "C=509.55908331650187, penalty=l2, solver=\"saga\", train_score=0.66293444224016, test_score=0.6606593395220551\n",
      "CV iteration : C=513.8717471807792, solver=saga, train_score=0.6638070215085249, test_score=0.6594714528177417\n",
      "CV iteration : C=513.8717471807792, solver=saga, train_score=0.6637859617312925, test_score=0.6594084964795448\n",
      "CV iteration : C=513.8717471807792, solver=saga, train_score=0.6612010814890663, test_score=0.6630971897312468\n",
      "C=513.8717471807792, penalty=l2, solver=\"saga\", train_score=0.6629313549096278, test_score=0.6606590463428444\n",
      "CV iteration : C=532.2469757549418, solver=saga, train_score=0.6638063620165447, test_score=0.6594674667553604\n",
      "CV iteration : C=532.2469757549418, solver=saga, train_score=0.6637867824324233, test_score=0.6594095516137046\n",
      "CV iteration : C=532.2469757549418, solver=saga, train_score=0.6612032943398735, test_score=0.6630912100368819\n",
      "C=532.2469757549418, penalty=l2, solver=\"saga\", train_score=0.6629321462629472, test_score=0.6606560761353156\n",
      "CV iteration : C=546.3275380832102, solver=saga, train_score=0.6638071680622983, test_score=0.6594709838692262\n",
      "CV iteration : C=546.3275380832102, solver=saga, train_score=0.6637887022868544, test_score=0.6594089654280603\n",
      "CV iteration : C=546.3275380832102, solver=saga, train_score=0.6612008177055264, test_score=0.6630932032683369\n",
      "C=546.3275380832102, penalty=l2, solver=\"saga\", train_score=0.6629322293515597, test_score=0.6606577175218744\n",
      "CV iteration : C=547.9350134796745, solver=saga, train_score=0.6638076077236184, test_score=0.6594752630244296\n",
      "CV iteration : C=547.9350134796745, solver=saga, train_score=0.6637911790456241, test_score=0.6594111343149441\n",
      "CV iteration : C=547.9350134796745, solver=saga, train_score=0.6612023124789193, test_score=0.6630985967181562\n",
      "C=547.9350134796745, penalty=l2, solver=\"saga\", train_score=0.6629336997493872, test_score=0.6606616646858433\n",
      "CV iteration : C=565.0479260062596, solver=saga, train_score=0.6638070215085248, test_score=0.6594672908996672\n",
      "CV iteration : C=565.0479260062596, solver=saga, train_score=0.6637909299042095, test_score=0.6594118377377174\n",
      "CV iteration : C=565.0479260062596, solver=saga, train_score=0.6612016676747107, test_score=0.663094375757428\n",
      "C=565.0479260062596, penalty=l2, solver=\"saga\", train_score=0.6629332063624817, test_score=0.6606578347982709\n",
      "CV iteration : C=585.2692164566919, solver=saga, train_score=0.6638086775661639, test_score=0.6594773732927489\n",
      "CV iteration : C=585.2692164566919, solver=saga, train_score=0.6637894204003438, test_score=0.6594080861495939\n",
      "CV iteration : C=585.2692164566919, solver=saga, train_score=0.6612018874943272, test_score=0.663099827831702\n",
      "C=585.2692164566919, penalty=l2, solver=\"saga\", train_score=0.662933328486945, test_score=0.6606617624246816\n",
      "CV iteration : C=598.4972866618211, solver=saga, train_score=0.6638073439268263, test_score=0.6594689908380357\n",
      "CV iteration : C=598.4972866618211, solver=saga, train_score=0.6637910471472283, test_score=0.6594127756347481\n",
      "CV iteration : C=598.4972866618211, solver=saga, train_score=0.6612020486953795, test_score=0.6630966034867012\n",
      "C=598.4972866618211, penalty=l2, solver=\"saga\", train_score=0.6629334799231447, test_score=0.6606594566531616\n",
      "CV iteration : C=599.9719870375976, solver=saga, train_score=0.663804764580415, test_score=0.659463715167237\n",
      "CV iteration : C=599.9719870375976, solver=saga, train_score=0.6637895376433625, test_score=0.6594115446448952\n",
      "CV iteration : C=599.9719870375976, solver=saga, train_score=0.6612020193860972, test_score=0.6630883960630631\n",
      "C=599.9719870375976, penalty=l2, solver=\"saga\", train_score=0.6629321072032915, test_score=0.6606545519583984\n",
      "CV iteration : C=601.0856297913101, solver=saga, train_score=0.6638087948091826, test_score=0.6594762009214603\n",
      "CV iteration : C=601.0856297913101, solver=saga, train_score=0.6637880867610062, test_score=0.659407148252563\n",
      "CV iteration : C=601.0856297913101, solver=saga, train_score=0.6612015504375817, test_score=0.663095841368792\n",
      "C=601.0856297913101, penalty=l2, solver=\"saga\", train_score=0.6629328106692568, test_score=0.6606597301809384\n",
      "CV iteration : C=602.5371066484541, solver=saga, train_score=0.663807285305317, test_score=0.6594742078902698\n",
      "CV iteration : C=602.5371066484541, solver=saga, train_score=0.6637878669303463, test_score=0.6594090240466247\n",
      "CV iteration : C=602.5371066484541, solver=saga, train_score=0.66120364605126, test_score=0.6630948447530645\n",
      "C=602.5371066484541, penalty=l2, solver=\"saga\", train_score=0.6629329327623078, test_score=0.6606593588966531\n",
      "CV iteration : C=604.6629484929331, solver=saga, train_score=0.6638080913510704, test_score=0.659476552632847\n",
      "CV iteration : C=604.6629484929331, solver=saga, train_score=0.6637908712827002, test_score=0.6594132445832637\n",
      "CV iteration : C=604.6629484929331, solver=saga, train_score=0.6612014918190173, test_score=0.6630953137487008\n",
      "C=604.6629484929331, penalty=l2, solver=\"saga\", train_score=0.662933484817596, test_score=0.6606617036549371\n",
      "CV iteration : C=610.8686386097925, solver=saga, train_score=0.6638054826939046, test_score=0.6594746768387852\n",
      "CV iteration : C=610.8686386097925, solver=saga, train_score=0.6637903143783614, test_score=0.6594116032634597\n",
      "CV iteration : C=610.8686386097925, solver=saga, train_score=0.6612014185458118, test_score=0.6630875753206992\n",
      "C=610.8686386097925, penalty=l2, solver=\"saga\", train_score=0.662932405206026, test_score=0.660657951807648\n",
      "CV iteration : C=641.7976568685586, solver=saga, train_score=0.663804324919095, test_score=0.6594718631476927\n",
      "CV iteration : C=641.7976568685586, solver=saga, train_score=0.6637905928305308, test_score=0.6594117205005885\n",
      "CV iteration : C=641.7976568685586, solver=saga, train_score=0.6612031038295391, test_score=0.663093848137337\n",
      "C=641.7976568685586, penalty=l2, solver=\"saga\", train_score=0.6629326738597215, test_score=0.6606591439285394\n",
      "CV iteration : C=660.2412742381102, solver=saga, train_score=0.663807417203713, test_score=0.6594708666320973\n",
      "CV iteration : C=660.2412742381102, solver=saga, train_score=0.6637925859618485, test_score=0.6594108998406865\n",
      "CV iteration : C=660.2412742381102, solver=saga, train_score=0.6612031331388213, test_score=0.663097834600247\n",
      "C=660.2412742381102, penalty=l2, solver=\"saga\", train_score=0.6629343787681276, test_score=0.6606598670243435\n",
      "CV iteration : C=661.0139661594986, solver=saga, train_score=0.6638073585822036, test_score=0.6594690494566001\n",
      "CV iteration : C=661.0139661594986, solver=saga, train_score=0.6637929083801499, test_score=0.6594118377377174\n",
      "CV iteration : C=661.0139661594986, solver=saga, train_score=0.6612041882729809, test_score=0.6630982449714287\n",
      "C=661.0139661594986, penalty=l2, solver=\"saga\", train_score=0.6629348184117781, test_score=0.6606597107219154\n",
      "CV iteration : C=676.2092758140528, solver=saga, train_score=0.6638068309886195, test_score=0.6594647116828323\n",
      "CV iteration : C=676.2092758140528, solver=saga, train_score=0.6637913695655295, test_score=0.6594106067478643\n",
      "CV iteration : C=676.2092758140528, solver=saga, train_score=0.6612023857521248, test_score=0.6630920307792456\n",
      "C=676.2092758140528, penalty=l2, solver=\"saga\", train_score=0.6629335287687579, test_score=0.6606557830699807\n",
      "CV iteration : C=692.2849021455629, solver=saga, train_score=0.6638084723908813, test_score=0.6594770801999268\n",
      "CV iteration : C=692.2849021455629, solver=saga, train_score=0.6637898014401546, test_score=0.6594144169545523\n",
      "CV iteration : C=692.2849021455629, solver=saga, train_score=0.6612017849118395, test_score=0.6630965448622466\n",
      "C=692.2849021455629, penalty=l2, solver=\"saga\", train_score=0.6629333529142918, test_score=0.6606626806722419\n",
      "CV iteration : C=704.7363889089495, solver=saga, train_score=0.6638064939149407, test_score=0.6594689908380356\n",
      "CV iteration : C=704.7363889089495, solver=saga, train_score=0.663791823882227, test_score=0.6594107826035576\n",
      "CV iteration : C=704.7363889089495, solver=saga, train_score=0.6612014625097351, test_score=0.663096896608974\n",
      "C=704.7363889089495, penalty=l2, solver=\"saga\", train_score=0.6629332601023009, test_score=0.6606588900168556\n",
      "CV iteration : C=711.2790008994001, solver=saga, train_score=0.6638067870224875, test_score=0.6594682874152625\n",
      "CV iteration : C=711.2790008994001, solver=saga, train_score=0.6637899919600599, test_score=0.6594106653664287\n",
      "CV iteration : C=711.2790008994001, solver=saga, train_score=0.6612021073139438, test_score=0.6630880443163356\n",
      "C=711.2790008994001, penalty=l2, solver=\"saga\", train_score=0.6629329620988305, test_score=0.6606556656993422\n",
      "CV iteration : C=712.5056103642476, solver=saga, train_score=0.6638067284009782, test_score=0.6594777250041356\n",
      "CV iteration : C=712.5056103642476, solver=saga, train_score=0.663790695418172, test_score=0.6594110756963797\n",
      "CV iteration : C=712.5056103642476, solver=saga, train_score=0.6612028693552814, test_score=0.6630920307792456\n",
      "C=712.5056103642476, penalty=l2, solver=\"saga\", train_score=0.662933431058144, test_score=0.6606602771599203\n",
      "CV iteration : C=713.1064110133871, solver=saga, train_score=0.6638075637574864, test_score=0.659471921766257\n",
      "CV iteration : C=713.1064110133871, solver=saga, train_score=0.6637889514282691, test_score=0.6594114274077664\n",
      "CV iteration : C=713.1064110133871, solver=saga, train_score=0.6612054485721162, test_score=0.6631039901679754\n",
      "C=713.1064110133871, penalty=l2, solver=\"saga\", train_score=0.6629339879192906, test_score=0.660662446447333\n",
      "CV iteration : C=726.1274971293873, solver=saga, train_score=0.663807285305317, test_score=0.6594702804464531\n",
      "CV iteration : C=726.1274971293873, solver=saga, train_score=0.6637927325156219, test_score=0.6594113687892019\n",
      "CV iteration : C=726.1274971293873, solver=saga, train_score=0.661204730494702, test_score=0.6631002968273383\n",
      "C=726.1274971293873, penalty=l2, solver=\"saga\", train_score=0.6629349161052136, test_score=0.6606606486876644\n",
      "CV iteration : C=730.84314550335, solver=saga, train_score=0.6638038412916429, test_score=0.6594673495182316\n",
      "CV iteration : C=730.84314550335, solver=saga, train_score=0.6637927911371312, test_score=0.6594132445832637\n",
      "CV iteration : C=730.84314550335, solver=saga, train_score=0.6612013745818885, test_score=0.6630967793600648\n",
      "C=730.84314550335, penalty=l2, solver=\"saga\", train_score=0.6629326690035542, test_score=0.6606591244871867\n",
      "CV iteration : C=750.0181937586378, solver=saga, train_score=0.6638077396220144, test_score=0.6594730355189813\n",
      "CV iteration : C=750.0181937586378, solver=saga, train_score=0.6637913695655296, test_score=0.6594103136550422\n",
      "CV iteration : C=750.0181937586378, solver=saga, train_score=0.6612021219685849, test_score=0.6630975414779741\n",
      "C=750.0181937586378, penalty=l2, solver=\"saga\", train_score=0.6629337437187096, test_score=0.6606602968839992\n",
      "CV iteration : C=765.0055660173963, solver=saga, train_score=0.6638071240961663, test_score=0.6594733286118033\n",
      "CV iteration : C=765.0055660173963, solver=saga, train_score=0.6637880867610062, test_score=0.6594147686659387\n",
      "CV iteration : C=765.0055660173963, solver=saga, train_score=0.6612023564428425, test_score=0.6630992415871563\n",
      "C=765.0055660173963, penalty=l2, solver=\"saga\", train_score=0.6629325224333383, test_score=0.6606624462882995\n",
      "CV iteration : C=773.4211840618, solver=saga, train_score=0.6638070215085249, test_score=0.6594703390650174\n",
      "CV iteration : C=773.4211840618, solver=saga, train_score=0.6637922195774151, test_score=0.6594102550364778\n",
      "CV iteration : C=773.4211840618, solver=saga, train_score=0.6612023417882016, test_score=0.6630994174605199\n",
      "C=773.4211840618, penalty=l2, solver=\"saga\", train_score=0.6629338609580472, test_score=0.660660003854005\n",
      "CV iteration : C=773.6853496278469, solver=saga, train_score=0.6638067577117328, test_score=0.6594682874152625\n",
      "CV iteration : C=773.6853496278469, solver=saga, train_score=0.6637886583207224, test_score=0.6594121894491038\n",
      "CV iteration : C=773.6853496278469, solver=saga, train_score=0.6612018728396861, test_score=0.6630966621111558\n",
      "C=773.6853496278469, penalty=l2, solver=\"saga\", train_score=0.6629324296240471, test_score=0.660659046325174\n",
      "CV iteration : C=773.8674009731227, solver=saga, train_score=0.6638085310123906, test_score=0.6594763767771537\n",
      "CV iteration : C=773.8674009731227, solver=saga, train_score=0.6637913695655295, test_score=0.6594113687892019\n",
      "CV iteration : C=773.8674009731227, solver=saga, train_score=0.6612016676747106, test_score=0.6630904479189725\n",
      "C=773.8674009731227, penalty=l2, solver=\"saga\", train_score=0.6629338560842102, test_score=0.6606593978284426\n",
      "CV iteration : C=794.4056219269328, solver=saga, train_score=0.6638061568412621, test_score=0.6594709838692262\n",
      "CV iteration : C=794.4056219269328, solver=saga, train_score=0.6637880134841196, test_score=0.6594124825419261\n",
      "CV iteration : C=794.4056219269328, solver=saga, train_score=0.6612012426901185, test_score=0.6630914445347\n",
      "C=794.4056219269328, penalty=l2, solver=\"saga\", train_score=0.6629318043385001, test_score=0.6606583036486174\n",
      "CV iteration : C=795.3449248589745, solver=saga, train_score=0.663807417203713, test_score=0.6594729182818524\n",
      "CV iteration : C=795.3449248589745, solver=saga, train_score=0.6637901531692108, test_score=0.6594116032634596\n",
      "CV iteration : C=795.3449248589745, solver=saga, train_score=0.6612032357213091, test_score=0.6630960758666102\n",
      "C=795.3449248589745, penalty=l2, solver=\"saga\", train_score=0.6629336020314109, test_score=0.6606601991373074\n",
      "CV iteration : C=797.7520884559468, solver=saga, train_score=0.6638077835881464, test_score=0.6594716872919995\n",
      "CV iteration : C=797.7520884559468, solver=saga, train_score=0.6637906367966627, test_score=0.6594121308305394\n",
      "CV iteration : C=797.7520884559468, solver=saga, train_score=0.6612033529584379, test_score=0.6630958999932465\n",
      "C=797.7520884559468, penalty=l2, solver=\"saga\", train_score=0.6629339244477491, test_score=0.6606599060385951\n",
      "CV iteration : C=809.2122463567164, solver=saga, train_score=0.6638081939387117, test_score=0.6594753802615584\n",
      "CV iteration : C=809.2122463567164, solver=saga, train_score=0.6637902411014747, test_score=0.6594104308921711\n",
      "CV iteration : C=809.2122463567164, solver=saga, train_score=0.6612025762624593, test_score=0.6630970724823376\n",
      "C=809.2122463567164, penalty=l2, solver=\"saga\", train_score=0.6629336704342151, test_score=0.6606609612120223\n",
      "CV iteration : C=831.5680839415135, solver=saga, train_score=0.6638055999369232, test_score=0.6594649461570901\n",
      "CV iteration : C=831.5680839415135, solver=saga, train_score=0.6637883505577983, test_score=0.6594119549748462\n",
      "CV iteration : C=831.5680839415135, solver=saga, train_score=0.6612013306179652, test_score=0.6630963689888829\n",
      "C=831.5680839415135, penalty=l2, solver=\"saga\", train_score=0.6629317603708955, test_score=0.6606577567069397\n",
      "CV iteration : C=841.9157347909721, solver=saga, train_score=0.6638068749547515, test_score=0.6594703390650175\n",
      "CV iteration : C=841.9157347909721, solver=saga, train_score=0.6637858884544058, test_score=0.6594094343765757\n",
      "CV iteration : C=841.9157347909721, solver=saga, train_score=0.6612021512778671, test_score=0.663089451303245\n",
      "C=841.9157347909721, penalty=l2, solver=\"saga\", train_score=0.6629316382290081, test_score=0.6606564082482794\n",
      "CV iteration : C=848.6727650210951, solver=saga, train_score=0.6638085896338999, test_score=0.6594763767771538\n",
      "CV iteration : C=848.6727650210951, solver=saga, train_score=0.6637909299042095, test_score=0.6594116032634596\n",
      "CV iteration : C=848.6727650210951, solver=saga, train_score=0.6612003047930877, test_score=0.6630863442071535\n",
      "C=848.6727650210951, penalty=l2, solver=\"saga\", train_score=0.6629332747770657, test_score=0.660658108082589\n",
      "CV iteration : C=850.9779362881209, solver=saga, train_score=0.6638070801300342, test_score=0.6594697528793732\n",
      "CV iteration : C=850.9779362881209, solver=saga, train_score=0.6637905781751534, test_score=0.6594119549748462\n",
      "CV iteration : C=850.9779362881209, solver=saga, train_score=0.6611994108599801, test_score=0.6630827681154254\n",
      "C=850.9779362881209, penalty=l2, solver=\"saga\", train_score=0.6629323563883892, test_score=0.660654825323215\n",
      "CV iteration : C=861.201670213307, solver=saga, train_score=0.6638081499725798, test_score=0.6594746768387852\n",
      "CV iteration : C=861.201670213307, solver=saga, train_score=0.6637909885257189, test_score=0.6594120722119751\n",
      "CV iteration : C=861.201670213307, solver=saga, train_score=0.6612033969223613, test_score=0.663096486237792\n",
      "C=861.201670213307, penalty=l2, solver=\"saga\", train_score=0.6629341784735533, test_score=0.6606610784295174\n",
      "CV iteration : C=870.0123184255236, solver=saga, train_score=0.6638068016778649, test_score=0.6594680529410047\n",
      "CV iteration : C=870.0123184255236, solver=saga, train_score=0.6637873393367621, test_score=0.6594123066862327\n",
      "CV iteration : C=870.0123184255236, solver=saga, train_score=0.6612046865307786, test_score=0.6631013520675204\n",
      "C=870.0123184255236, penalty=l2, solver=\"saga\", train_score=0.6629329425151352, test_score=0.6606605705649192\n",
      "CV iteration : C=881.8307290809208, solver=saga, train_score=0.6638053361401313, test_score=0.6594668219511517\n",
      "CV iteration : C=881.8307290809208, solver=saga, train_score=0.663791340254775, test_score=0.6594116032634596\n",
      "CV iteration : C=881.8307290809208, solver=saga, train_score=0.6612010375251429, test_score=0.663095958617701\n",
      "C=881.8307290809208, penalty=l2, solver=\"saga\", train_score=0.662932571306683, test_score=0.6606581279441041\n",
      "CV iteration : C=883.7005966454506, solver=saga, train_score=0.6638077982435237, test_score=0.659466997806845\n",
      "CV iteration : C=883.7005966454506, solver=saga, train_score=0.6637895816094945, test_score=0.6594151789958898\n",
      "CV iteration : C=883.7005966454506, solver=saga, train_score=0.6612008909787319, test_score=0.6630960758666102\n",
      "C=883.7005966454506, penalty=l2, solver=\"saga\", train_score=0.6629327569439167, test_score=0.6606594175564483\n",
      "CV iteration : C=889.4597425766917, solver=saga, train_score=0.6638073878929582, test_score=0.659475731972945\n",
      "CV iteration : C=889.4597425766917, solver=saga, train_score=0.6637907540396815, test_score=0.6594128928718771\n",
      "CV iteration : C=889.4597425766917, solver=saga, train_score=0.6612027960820759, test_score=0.6630986553426107\n",
      "C=889.4597425766917, penalty=l2, solver=\"saga\", train_score=0.6629336460049052, test_score=0.6606624267291442\n",
      "CV iteration : C=922.0734635217965, solver=saga, train_score=0.6638071240961663, test_score=0.6594734458489322\n",
      "CV iteration : C=922.0734635217965, solver=saga, train_score=0.6637916187069444, test_score=0.6594127756347482\n",
      "CV iteration : C=922.0734635217965, solver=saga, train_score=0.6612038805255178, test_score=0.6630978932247015\n",
      "C=922.0734635217965, penalty=l2, solver=\"saga\", train_score=0.6629342077762095, test_score=0.6606613715694606\n",
      "CV iteration : C=923.9842898971805, solver=saga, train_score=0.6638064792595634, test_score=0.6594682874152624\n",
      "CV iteration : C=923.9842898971805, solver=saga, train_score=0.6637884971115717, test_score=0.659413420438957\n",
      "CV iteration : C=923.9842898971805, solver=saga, train_score=0.6612036167419778, test_score=0.6630958999932465\n",
      "C=923.9842898971805, penalty=l2, solver=\"saga\", train_score=0.6629328643710376, test_score=0.6606592026158219\n",
      "CV iteration : C=926.2809767664909, solver=saga, train_score=0.6638059076998474, test_score=0.6594773732927489\n",
      "CV iteration : C=926.2809767664909, solver=saga, train_score=0.6637882333147797, test_score=0.6594114860263307\n",
      "CV iteration : C=926.2809767664909, solver=saga, train_score=0.6612003487570108, test_score=0.663083881980062\n",
      "C=926.2809767664909, penalty=l2, solver=\"saga\", train_score=0.662931496590546, test_score=0.6606575804330472\n",
      "CV iteration : C=934.310604225705, solver=saga, train_score=0.6638082525602211, test_score=0.659476552632847\n",
      "CV iteration : C=934.310604225705, solver=saga, train_score=0.663793392007602, test_score=0.6594090240466247\n",
      "CV iteration : C=934.310604225705, solver=saga, train_score=0.6612031624481035, test_score=0.6630933791417004\n",
      "C=934.310604225705, penalty=l2, solver=\"saga\", train_score=0.6629349356719755, test_score=0.6606596519403907\n",
      "CV iteration : C=935.8260716765521, solver=saga, train_score=0.6638072559945623, test_score=0.6594762009214604\n",
      "CV iteration : C=935.8260716765521, solver=saga, train_score=0.6637904316213801, test_score=0.6594123653047972\n",
      "CV iteration : C=935.8260716765521, solver=saga, train_score=0.6612034701955668, test_score=0.663091972154791\n",
      "C=935.8260716765521, penalty=l2, solver=\"saga\", train_score=0.662933719270503, test_score=0.6606601794603496\n",
      "CV iteration : C=958.3858535673564, solver=saga, train_score=0.6638080620403157, test_score=0.6594774319113134\n",
      "CV iteration : C=958.3858535673564, solver=saga, train_score=0.6637883065916663, test_score=0.6594111929335087\n",
      "CV iteration : C=958.3858535673564, solver=saga, train_score=0.6612004220302166, test_score=0.6630864028316081\n",
      "C=958.3858535673564, penalty=l2, solver=\"saga\", train_score=0.6629322635540662, test_score=0.6606583425588101\n",
      "CV iteration : C=967.2808686089096, solver=saga, train_score=0.6638066258133368, test_score=0.659472859663288\n",
      "CV iteration : C=967.2808686089096, solver=saga, train_score=0.6637908419719455, test_score=0.6594117205005885\n",
      "CV iteration : C=967.2808686089096, solver=saga, train_score=0.6612038951801589, test_score=0.6630975414779741\n",
      "C=967.2808686089096, penalty=l2, solver=\"saga\", train_score=0.6629337876551471, test_score=0.6606607072139502\n",
      "CV iteration : C=986.9534017106594, solver=saga, train_score=0.6638059076998474, test_score=0.6594652978684765\n",
      "CV iteration : C=986.9534017106594, solver=saga, train_score=0.6637902264460973, test_score=0.6594103136550422\n",
      "CV iteration : C=986.9534017106594, solver=saga, train_score=0.6612010375251429, test_score=0.6630971897312468\n",
      "C=986.9534017106594, penalty=l2, solver=\"saga\", train_score=0.6629323905570292, test_score=0.6606576004182552\n",
      "CV iteration : C=987.9248633005344, solver=saga, train_score=0.6638064792595635, test_score=0.659467525373925\n",
      "CV iteration : C=987.9248633005344, solver=saga, train_score=0.6637911790456242, test_score=0.6594110756963797\n",
      "CV iteration : C=987.9248633005344, solver=saga, train_score=0.6612037486337479, test_score=0.663098069098065\n",
      "C=987.9248633005344, penalty=l2, solver=\"saga\", train_score=0.6629338023129785, test_score=0.6606588900561232\n",
      "CV iteration : C=996.2721545345643, solver=saga, train_score=0.6638069335762609, test_score=0.6594742078902698\n",
      "CV iteration : C=996.2721545345643, solver=saga, train_score=0.6637895376433625, test_score=0.6594102550364778\n",
      "CV iteration : C=996.2721545345643, solver=saga, train_score=0.6612033822677201, test_score=0.6630915617836092\n",
      "C=996.2721545345643, penalty=l2, solver=\"saga\", train_score=0.6629332844957811, test_score=0.6606586749034523\n",
      "CV iteration : C=998.2907016631931, solver=saga, train_score=0.6638065965025821, test_score=0.6594668219511517\n",
      "CV iteration : C=998.2907016631931, solver=saga, train_score=0.6637921023343964, test_score=0.6594108998406865\n",
      "CV iteration : C=998.2907016631931, solver=saga, train_score=0.6612046132575732, test_score=0.6630972483557014\n",
      "C=998.2907016631931, penalty=l2, solver=\"saga\", train_score=0.6629344373648506, test_score=0.6606583233825132\n"
     ]
    }
   ],
   "source": [
    "# Please write all the code with proper documentation\n",
    "csv_path = 'saved_models/Avg-W2Vec_log_reg_results_l2.csv'\n",
    "cv_results = perform_hyperparameter_tuning(X=Dx_train, Y=Dy_train, vectorizer='Avg-W2Vec', vec_name='Avg-W2Vec', \n",
    "                                           penalty=['l2'], results_path=csv_path, retrain=True, W2V_model=w2v_model)"
   ]
  },
  {
   "cell_type": "markdown",
   "metadata": {
    "colab_type": "text",
    "id": "pdXTwVIPLPpp"
   },
   "source": [
    "## [5.4] Logistic Regression on TFIDF W2V,<font color='red'> SET 4</font>"
   ]
  },
  {
   "cell_type": "markdown",
   "metadata": {
    "colab_type": "text",
    "id": "WP9NjwNSLPpp"
   },
   "source": [
    "### [5.4.1] Applying Logistic Regression with L1 regularization on TFIDF W2V,<font color='red'> SET 4</font>"
   ]
  },
  {
   "cell_type": "code",
   "execution_count": 72,
   "metadata": {
    "colab": {},
    "colab_type": "code",
    "id": "207gYymwLPpq"
   },
   "outputs": [],
   "source": [
    "# Please write all the code with proper documentation\n",
    "csv_path = 'saved_models/TFIDF-W2Vec_log_reg_results_l1.csv'\n",
    "cv_results = perform_hyperparameter_tuning(X=Dx_train, Y=Dy_train, vectorizer='TFIDF-W2Vec', vec_name='TFIDF-W2Vec', \n",
    "                                           penalty=['l1'], results_path=csv_path, retrain=False, W2V_model=w2v_model)"
   ]
  },
  {
   "cell_type": "markdown",
   "metadata": {
    "colab_type": "text",
    "id": "ynUK2tYDLPps"
   },
   "source": [
    "### [5.4.2] Applying Logistic Regression with L2 regularization on TFIDF W2V,<font color='red'> SET 4</font>"
   ]
  },
  {
   "cell_type": "code",
   "execution_count": 73,
   "metadata": {
    "colab": {},
    "colab_type": "code",
    "id": "hVYuiXl2LPpt"
   },
   "outputs": [
    {
     "name": "stdout",
     "output_type": "stream",
     "text": [
      "Performing Hyperparameter Tuning...\n",
      "\n",
      "CV iteration : C=0.9534997890939557, solver=saga, train_score=0.5, test_score=0.5\n",
      "CV iteration : C=0.9534997890939557, solver=saga, train_score=0.5, test_score=0.5\n",
      "CV iteration : C=0.9534997890939557, solver=saga, train_score=0.5, test_score=0.5\n",
      "C=0.9534997890939557, penalty=l2, solver=\"saga\", train_score=0.5, test_score=0.5\n",
      "CV iteration : C=8.497568046469375, solver=saga, train_score=0.5, test_score=0.5\n",
      "CV iteration : C=8.497568046469375, solver=saga, train_score=0.5, test_score=0.5\n",
      "CV iteration : C=8.497568046469375, solver=saga, train_score=0.5, test_score=0.5\n",
      "C=8.497568046469375, penalty=l2, solver=\"saga\", train_score=0.5, test_score=0.5\n",
      "CV iteration : C=9.783351737924255, solver=saga, train_score=0.5, test_score=0.5\n",
      "CV iteration : C=9.783351737924255, solver=saga, train_score=0.5, test_score=0.5\n",
      "CV iteration : C=9.783351737924255, solver=saga, train_score=0.5, test_score=0.5\n",
      "C=9.783351737924255, penalty=l2, solver=\"saga\", train_score=0.5, test_score=0.5\n",
      "CV iteration : C=11.487257748581952, solver=saga, train_score=0.5, test_score=0.5\n",
      "CV iteration : C=11.487257748581952, solver=saga, train_score=0.5, test_score=0.5\n",
      "CV iteration : C=11.487257748581952, solver=saga, train_score=0.5, test_score=0.5\n",
      "C=11.487257748581952, penalty=l2, solver=\"saga\", train_score=0.5, test_score=0.5\n",
      "CV iteration : C=19.72127520547251, solver=saga, train_score=0.5, test_score=0.5\n",
      "CV iteration : C=19.72127520547251, solver=saga, train_score=0.5, test_score=0.5\n",
      "CV iteration : C=19.72127520547251, solver=saga, train_score=0.5, test_score=0.5\n",
      "C=19.72127520547251, penalty=l2, solver=\"saga\", train_score=0.5, test_score=0.5\n",
      "CV iteration : C=23.779971101848684, solver=saga, train_score=0.5, test_score=0.5\n",
      "CV iteration : C=23.779971101848684, solver=saga, train_score=0.5, test_score=0.5\n",
      "CV iteration : C=23.779971101848684, solver=saga, train_score=0.5, test_score=0.5\n",
      "C=23.779971101848684, penalty=l2, solver=\"saga\", train_score=0.5, test_score=0.5\n",
      "CV iteration : C=40.01584070378072, solver=saga, train_score=0.5, test_score=0.5\n",
      "CV iteration : C=40.01584070378072, solver=saga, train_score=0.5, test_score=0.5\n",
      "CV iteration : C=40.01584070378072, solver=saga, train_score=0.5, test_score=0.5\n",
      "C=40.01584070378072, penalty=l2, solver=\"saga\", train_score=0.5, test_score=0.5\n",
      "CV iteration : C=51.73377744995136, solver=saga, train_score=0.5, test_score=0.5\n",
      "CV iteration : C=51.73377744995136, solver=saga, train_score=0.5, test_score=0.5\n",
      "CV iteration : C=51.73377744995136, solver=saga, train_score=0.5, test_score=0.5\n",
      "C=51.73377744995136, penalty=l2, solver=\"saga\", train_score=0.5, test_score=0.5\n",
      "CV iteration : C=57.923382876106224, solver=saga, train_score=0.5, test_score=0.5\n",
      "CV iteration : C=57.923382876106224, solver=saga, train_score=0.5, test_score=0.5\n",
      "CV iteration : C=57.923382876106224, solver=saga, train_score=0.5, test_score=0.5\n",
      "C=57.923382876106224, penalty=l2, solver=\"saga\", train_score=0.5, test_score=0.5\n",
      "CV iteration : C=64.91194468587474, solver=saga, train_score=0.5, test_score=0.5\n",
      "CV iteration : C=64.91194468587474, solver=saga, train_score=0.5, test_score=0.5\n",
      "CV iteration : C=64.91194468587474, solver=saga, train_score=0.5, test_score=0.5\n",
      "C=64.91194468587474, penalty=l2, solver=\"saga\", train_score=0.5, test_score=0.5\n",
      "CV iteration : C=69.80388764277996, solver=saga, train_score=0.5, test_score=0.5\n",
      "CV iteration : C=69.80388764277996, solver=saga, train_score=0.5, test_score=0.5\n",
      "CV iteration : C=69.80388764277996, solver=saga, train_score=0.5, test_score=0.5\n",
      "C=69.80388764277996, penalty=l2, solver=\"saga\", train_score=0.5, test_score=0.5\n",
      "CV iteration : C=70.77483643209997, solver=saga, train_score=0.5, test_score=0.5\n",
      "CV iteration : C=70.77483643209997, solver=saga, train_score=0.5, test_score=0.5\n",
      "CV iteration : C=70.77483643209997, solver=saga, train_score=0.5, test_score=0.5\n",
      "C=70.77483643209997, penalty=l2, solver=\"saga\", train_score=0.5, test_score=0.5\n",
      "CV iteration : C=93.55804095546111, solver=saga, train_score=0.5, test_score=0.5\n",
      "CV iteration : C=93.55804095546111, solver=saga, train_score=0.5, test_score=0.5\n",
      "CV iteration : C=93.55804095546111, solver=saga, train_score=0.5, test_score=0.5\n",
      "C=93.55804095546111, penalty=l2, solver=\"saga\", train_score=0.5, test_score=0.5\n",
      "CV iteration : C=103.33602268595985, solver=saga, train_score=0.5, test_score=0.5\n",
      "CV iteration : C=103.33602268595985, solver=saga, train_score=0.5, test_score=0.5\n",
      "CV iteration : C=103.33602268595985, solver=saga, train_score=0.5, test_score=0.5\n",
      "C=103.33602268595985, penalty=l2, solver=\"saga\", train_score=0.5, test_score=0.5\n",
      "CV iteration : C=107.1115994139523, solver=saga, train_score=0.5, test_score=0.5\n",
      "CV iteration : C=107.1115994139523, solver=saga, train_score=0.5, test_score=0.5\n",
      "CV iteration : C=107.1115994139523, solver=saga, train_score=0.5, test_score=0.5\n",
      "C=107.1115994139523, penalty=l2, solver=\"saga\", train_score=0.5, test_score=0.5\n",
      "CV iteration : C=113.96404835129782, solver=saga, train_score=0.5, test_score=0.5\n",
      "CV iteration : C=113.96404835129782, solver=saga, train_score=0.5, test_score=0.5\n",
      "CV iteration : C=113.96404835129782, solver=saga, train_score=0.5, test_score=0.5\n",
      "C=113.96404835129782, penalty=l2, solver=\"saga\", train_score=0.5, test_score=0.5\n",
      "CV iteration : C=137.16819053798557, solver=saga, train_score=0.5, test_score=0.5\n",
      "CV iteration : C=137.16819053798557, solver=saga, train_score=0.5, test_score=0.5\n",
      "CV iteration : C=137.16819053798557, solver=saga, train_score=0.5, test_score=0.5\n",
      "C=137.16819053798557, penalty=l2, solver=\"saga\", train_score=0.5, test_score=0.5\n",
      "CV iteration : C=145.55055992773038, solver=saga, train_score=0.5, test_score=0.5\n",
      "CV iteration : C=145.55055992773038, solver=saga, train_score=0.5, test_score=0.5\n",
      "CV iteration : C=145.55055992773038, solver=saga, train_score=0.5, test_score=0.5\n",
      "C=145.55055992773038, penalty=l2, solver=\"saga\", train_score=0.5, test_score=0.5\n",
      "CV iteration : C=155.33023010507475, solver=saga, train_score=0.5, test_score=0.5\n",
      "CV iteration : C=155.33023010507475, solver=saga, train_score=0.5, test_score=0.5\n",
      "CV iteration : C=155.33023010507475, solver=saga, train_score=0.5, test_score=0.5\n",
      "C=155.33023010507475, penalty=l2, solver=\"saga\", train_score=0.5, test_score=0.5\n",
      "CV iteration : C=157.8421792259729, solver=saga, train_score=0.5, test_score=0.5\n",
      "CV iteration : C=157.8421792259729, solver=saga, train_score=0.5, test_score=0.5\n",
      "CV iteration : C=157.8421792259729, solver=saga, train_score=0.5, test_score=0.5\n",
      "C=157.8421792259729, penalty=l2, solver=\"saga\", train_score=0.5, test_score=0.5\n",
      "CV iteration : C=164.23163229429636, solver=saga, train_score=0.5, test_score=0.5\n",
      "CV iteration : C=164.23163229429636, solver=saga, train_score=0.5, test_score=0.5\n",
      "CV iteration : C=164.23163229429636, solver=saga, train_score=0.5, test_score=0.5\n",
      "C=164.23163229429636, penalty=l2, solver=\"saga\", train_score=0.5, test_score=0.5\n",
      "CV iteration : C=169.0051802352524, solver=saga, train_score=0.5, test_score=0.5\n",
      "CV iteration : C=169.0051802352524, solver=saga, train_score=0.5, test_score=0.5\n",
      "CV iteration : C=169.0051802352524, solver=saga, train_score=0.5, test_score=0.5\n",
      "C=169.0051802352524, penalty=l2, solver=\"saga\", train_score=0.5, test_score=0.5\n",
      "CV iteration : C=171.4515636796972, solver=saga, train_score=0.5, test_score=0.5\n",
      "CV iteration : C=171.4515636796972, solver=saga, train_score=0.5, test_score=0.5\n",
      "CV iteration : C=171.4515636796972, solver=saga, train_score=0.5, test_score=0.5\n",
      "C=171.4515636796972, penalty=l2, solver=\"saga\", train_score=0.5, test_score=0.5\n",
      "CV iteration : C=184.0759043202923, solver=saga, train_score=0.5, test_score=0.5\n",
      "CV iteration : C=184.0759043202923, solver=saga, train_score=0.5, test_score=0.5\n",
      "CV iteration : C=184.0759043202923, solver=saga, train_score=0.5, test_score=0.5\n",
      "C=184.0759043202923, penalty=l2, solver=\"saga\", train_score=0.5, test_score=0.5\n",
      "CV iteration : C=194.4068216127134, solver=saga, train_score=0.5, test_score=0.5\n",
      "CV iteration : C=194.4068216127134, solver=saga, train_score=0.5, test_score=0.5\n",
      "CV iteration : C=194.4068216127134, solver=saga, train_score=0.5, test_score=0.5\n",
      "C=194.4068216127134, penalty=l2, solver=\"saga\", train_score=0.5, test_score=0.5\n",
      "CV iteration : C=206.73888393431235, solver=saga, train_score=0.5, test_score=0.5\n",
      "CV iteration : C=206.73888393431235, solver=saga, train_score=0.5, test_score=0.5\n",
      "CV iteration : C=206.73888393431235, solver=saga, train_score=0.5, test_score=0.5\n",
      "C=206.73888393431235, penalty=l2, solver=\"saga\", train_score=0.5, test_score=0.5\n",
      "CV iteration : C=259.7142261938223, solver=saga, train_score=0.5, test_score=0.5\n",
      "CV iteration : C=259.7142261938223, solver=saga, train_score=0.5, test_score=0.5\n",
      "CV iteration : C=259.7142261938223, solver=saga, train_score=0.5, test_score=0.5\n",
      "C=259.7142261938223, penalty=l2, solver=\"saga\", train_score=0.5, test_score=0.5\n",
      "CV iteration : C=262.44595375205625, solver=saga, train_score=0.5, test_score=0.5\n",
      "CV iteration : C=262.44595375205625, solver=saga, train_score=0.5, test_score=0.5\n",
      "CV iteration : C=262.44595375205625, solver=saga, train_score=0.5, test_score=0.5\n",
      "C=262.44595375205625, penalty=l2, solver=\"saga\", train_score=0.5, test_score=0.5\n",
      "CV iteration : C=268.2944094722611, solver=saga, train_score=0.5, test_score=0.5\n",
      "CV iteration : C=268.2944094722611, solver=saga, train_score=0.5, test_score=0.5\n",
      "CV iteration : C=268.2944094722611, solver=saga, train_score=0.5, test_score=0.5\n",
      "C=268.2944094722611, penalty=l2, solver=\"saga\", train_score=0.5, test_score=0.5\n",
      "CV iteration : C=289.7761895550416, solver=saga, train_score=0.5, test_score=0.5\n",
      "CV iteration : C=289.7761895550416, solver=saga, train_score=0.5, test_score=0.5\n",
      "CV iteration : C=289.7761895550416, solver=saga, train_score=0.5, test_score=0.5\n",
      "C=289.7761895550416, penalty=l2, solver=\"saga\", train_score=0.5, test_score=0.5\n",
      "CV iteration : C=303.1817032331967, solver=saga, train_score=0.5, test_score=0.5\n",
      "CV iteration : C=303.1817032331967, solver=saga, train_score=0.5, test_score=0.5\n",
      "CV iteration : C=303.1817032331967, solver=saga, train_score=0.5, test_score=0.5\n",
      "C=303.1817032331967, penalty=l2, solver=\"saga\", train_score=0.5, test_score=0.5\n",
      "CV iteration : C=308.8692410720046, solver=saga, train_score=0.5, test_score=0.5\n",
      "CV iteration : C=308.8692410720046, solver=saga, train_score=0.5, test_score=0.5\n",
      "CV iteration : C=308.8692410720046, solver=saga, train_score=0.5, test_score=0.5\n",
      "C=308.8692410720046, penalty=l2, solver=\"saga\", train_score=0.5, test_score=0.5\n",
      "CV iteration : C=311.5093230172233, solver=saga, train_score=0.5, test_score=0.5\n",
      "CV iteration : C=311.5093230172233, solver=saga, train_score=0.5, test_score=0.5\n",
      "CV iteration : C=311.5093230172233, solver=saga, train_score=0.5, test_score=0.5\n",
      "C=311.5093230172233, penalty=l2, solver=\"saga\", train_score=0.5, test_score=0.5\n",
      "CV iteration : C=317.54930520439075, solver=saga, train_score=0.5, test_score=0.5\n",
      "CV iteration : C=317.54930520439075, solver=saga, train_score=0.5, test_score=0.5\n",
      "CV iteration : C=317.54930520439075, solver=saga, train_score=0.5, test_score=0.5\n",
      "C=317.54930520439075, penalty=l2, solver=\"saga\", train_score=0.5, test_score=0.5\n",
      "CV iteration : C=329.3390957082419, solver=saga, train_score=0.5, test_score=0.5\n",
      "CV iteration : C=329.3390957082419, solver=saga, train_score=0.5, test_score=0.5\n",
      "CV iteration : C=329.3390957082419, solver=saga, train_score=0.5, test_score=0.5\n",
      "C=329.3390957082419, penalty=l2, solver=\"saga\", train_score=0.5, test_score=0.5\n",
      "CV iteration : C=357.63561843193287, solver=saga, train_score=0.5, test_score=0.5\n",
      "CV iteration : C=357.63561843193287, solver=saga, train_score=0.5, test_score=0.5\n",
      "CV iteration : C=357.63561843193287, solver=saga, train_score=0.5, test_score=0.5\n",
      "C=357.63561843193287, penalty=l2, solver=\"saga\", train_score=0.5, test_score=0.5\n",
      "CV iteration : C=366.5651349322832, solver=saga, train_score=0.5, test_score=0.5\n",
      "CV iteration : C=366.5651349322832, solver=saga, train_score=0.5, test_score=0.5\n",
      "CV iteration : C=366.5651349322832, solver=saga, train_score=0.5, test_score=0.5\n",
      "C=366.5651349322832, penalty=l2, solver=\"saga\", train_score=0.5, test_score=0.5\n",
      "CV iteration : C=375.22691135483353, solver=saga, train_score=0.5, test_score=0.5\n",
      "CV iteration : C=375.22691135483353, solver=saga, train_score=0.5, test_score=0.5\n",
      "CV iteration : C=375.22691135483353, solver=saga, train_score=0.5, test_score=0.5\n",
      "C=375.22691135483353, penalty=l2, solver=\"saga\", train_score=0.5, test_score=0.5\n",
      "CV iteration : C=392.64486294054984, solver=saga, train_score=0.5, test_score=0.5\n",
      "CV iteration : C=392.64486294054984, solver=saga, train_score=0.5, test_score=0.5\n",
      "CV iteration : C=392.64486294054984, solver=saga, train_score=0.5, test_score=0.5\n",
      "C=392.64486294054984, penalty=l2, solver=\"saga\", train_score=0.5, test_score=0.5\n",
      "CV iteration : C=396.1727132155814, solver=saga, train_score=0.5, test_score=0.5\n",
      "CV iteration : C=396.1727132155814, solver=saga, train_score=0.5, test_score=0.5\n",
      "CV iteration : C=396.1727132155814, solver=saga, train_score=0.5, test_score=0.5\n",
      "C=396.1727132155814, penalty=l2, solver=\"saga\", train_score=0.5, test_score=0.5\n",
      "CV iteration : C=443.49721454475707, solver=saga, train_score=0.5, test_score=0.5\n",
      "CV iteration : C=443.49721454475707, solver=saga, train_score=0.5, test_score=0.5\n",
      "CV iteration : C=443.49721454475707, solver=saga, train_score=0.5, test_score=0.5\n",
      "C=443.49721454475707, penalty=l2, solver=\"saga\", train_score=0.5, test_score=0.5\n",
      "CV iteration : C=447.77858647127556, solver=saga, train_score=0.5, test_score=0.5\n",
      "CV iteration : C=447.77858647127556, solver=saga, train_score=0.5, test_score=0.5\n",
      "CV iteration : C=447.77858647127556, solver=saga, train_score=0.5, test_score=0.5\n",
      "C=447.77858647127556, penalty=l2, solver=\"saga\", train_score=0.5, test_score=0.5\n",
      "CV iteration : C=469.8571640111461, solver=saga, train_score=0.5, test_score=0.5\n",
      "CV iteration : C=469.8571640111461, solver=saga, train_score=0.5, test_score=0.5\n",
      "CV iteration : C=469.8571640111461, solver=saga, train_score=0.5, test_score=0.5\n",
      "C=469.8571640111461, penalty=l2, solver=\"saga\", train_score=0.5, test_score=0.5\n",
      "CV iteration : C=478.4869091445523, solver=saga, train_score=0.5, test_score=0.5\n",
      "CV iteration : C=478.4869091445523, solver=saga, train_score=0.5, test_score=0.5\n",
      "CV iteration : C=478.4869091445523, solver=saga, train_score=0.5, test_score=0.5\n",
      "C=478.4869091445523, penalty=l2, solver=\"saga\", train_score=0.5, test_score=0.5\n",
      "CV iteration : C=484.5419404005038, solver=saga, train_score=0.5, test_score=0.5\n",
      "CV iteration : C=484.5419404005038, solver=saga, train_score=0.5, test_score=0.5\n",
      "CV iteration : C=484.5419404005038, solver=saga, train_score=0.5, test_score=0.5\n",
      "C=484.5419404005038, penalty=l2, solver=\"saga\", train_score=0.5, test_score=0.5\n",
      "CV iteration : C=498.6933650964376, solver=saga, train_score=0.5, test_score=0.5\n",
      "CV iteration : C=498.6933650964376, solver=saga, train_score=0.5, test_score=0.5\n",
      "CV iteration : C=498.6933650964376, solver=saga, train_score=0.5, test_score=0.5\n",
      "C=498.6933650964376, penalty=l2, solver=\"saga\", train_score=0.5, test_score=0.5\n",
      "CV iteration : C=506.1109414608854, solver=saga, train_score=0.5, test_score=0.5\n",
      "CV iteration : C=506.1109414608854, solver=saga, train_score=0.5, test_score=0.5\n",
      "CV iteration : C=506.1109414608854, solver=saga, train_score=0.5, test_score=0.5\n",
      "C=506.1109414608854, penalty=l2, solver=\"saga\", train_score=0.5, test_score=0.5\n",
      "CV iteration : C=525.2799998357273, solver=saga, train_score=0.5, test_score=0.5\n",
      "CV iteration : C=525.2799998357273, solver=saga, train_score=0.5, test_score=0.5\n",
      "CV iteration : C=525.2799998357273, solver=saga, train_score=0.5, test_score=0.5\n",
      "C=525.2799998357273, penalty=l2, solver=\"saga\", train_score=0.5, test_score=0.5\n",
      "CV iteration : C=540.6107575332858, solver=saga, train_score=0.5, test_score=0.5\n",
      "CV iteration : C=540.6107575332858, solver=saga, train_score=0.5, test_score=0.5\n",
      "CV iteration : C=540.6107575332858, solver=saga, train_score=0.5, test_score=0.5\n",
      "C=540.6107575332858, penalty=l2, solver=\"saga\", train_score=0.5, test_score=0.5\n",
      "CV iteration : C=548.2082117303108, solver=saga, train_score=0.5, test_score=0.5\n",
      "CV iteration : C=548.2082117303108, solver=saga, train_score=0.5, test_score=0.5\n",
      "CV iteration : C=548.2082117303108, solver=saga, train_score=0.5, test_score=0.5\n",
      "C=548.2082117303108, penalty=l2, solver=\"saga\", train_score=0.5, test_score=0.5\n",
      "CV iteration : C=553.7791553771254, solver=saga, train_score=0.5, test_score=0.5\n",
      "CV iteration : C=553.7791553771254, solver=saga, train_score=0.5, test_score=0.5\n",
      "CV iteration : C=553.7791553771254, solver=saga, train_score=0.5, test_score=0.5\n",
      "C=553.7791553771254, penalty=l2, solver=\"saga\", train_score=0.5, test_score=0.5\n",
      "CV iteration : C=566.2152425331061, solver=saga, train_score=0.5, test_score=0.5\n",
      "CV iteration : C=566.2152425331061, solver=saga, train_score=0.5, test_score=0.5\n",
      "CV iteration : C=566.2152425331061, solver=saga, train_score=0.5, test_score=0.5\n",
      "C=566.2152425331061, penalty=l2, solver=\"saga\", train_score=0.5, test_score=0.5\n",
      "CV iteration : C=570.2080873575102, solver=saga, train_score=0.5, test_score=0.5\n",
      "CV iteration : C=570.2080873575102, solver=saga, train_score=0.5, test_score=0.5\n",
      "CV iteration : C=570.2080873575102, solver=saga, train_score=0.5, test_score=0.5\n",
      "C=570.2080873575102, penalty=l2, solver=\"saga\", train_score=0.5, test_score=0.5\n",
      "CV iteration : C=574.2640696528963, solver=saga, train_score=0.5, test_score=0.5\n",
      "CV iteration : C=574.2640696528963, solver=saga, train_score=0.5, test_score=0.5\n",
      "CV iteration : C=574.2640696528963, solver=saga, train_score=0.5, test_score=0.5\n",
      "C=574.2640696528963, penalty=l2, solver=\"saga\", train_score=0.5, test_score=0.5\n",
      "CV iteration : C=575.5995291777793, solver=saga, train_score=0.5, test_score=0.5\n",
      "CV iteration : C=575.5995291777793, solver=saga, train_score=0.5, test_score=0.5\n",
      "CV iteration : C=575.5995291777793, solver=saga, train_score=0.5, test_score=0.5\n",
      "C=575.5995291777793, penalty=l2, solver=\"saga\", train_score=0.5, test_score=0.5\n",
      "CV iteration : C=579.8407978781656, solver=saga, train_score=0.5, test_score=0.5\n",
      "CV iteration : C=579.8407978781656, solver=saga, train_score=0.5, test_score=0.5\n",
      "CV iteration : C=579.8407978781656, solver=saga, train_score=0.5, test_score=0.5\n",
      "C=579.8407978781656, penalty=l2, solver=\"saga\", train_score=0.5, test_score=0.5\n",
      "CV iteration : C=591.2958641362236, solver=saga, train_score=0.5, test_score=0.5\n",
      "CV iteration : C=591.2958641362236, solver=saga, train_score=0.5, test_score=0.5\n",
      "CV iteration : C=591.2958641362236, solver=saga, train_score=0.5, test_score=0.5\n",
      "C=591.2958641362236, penalty=l2, solver=\"saga\", train_score=0.5, test_score=0.5\n",
      "CV iteration : C=602.7197188997832, solver=saga, train_score=0.5, test_score=0.5\n",
      "CV iteration : C=602.7197188997832, solver=saga, train_score=0.5, test_score=0.5\n",
      "CV iteration : C=602.7197188997832, solver=saga, train_score=0.5, test_score=0.5\n",
      "C=602.7197188997832, penalty=l2, solver=\"saga\", train_score=0.5, test_score=0.5\n",
      "CV iteration : C=622.4113808341981, solver=saga, train_score=0.5, test_score=0.5\n",
      "CV iteration : C=622.4113808341981, solver=saga, train_score=0.5, test_score=0.5\n",
      "CV iteration : C=622.4113808341981, solver=saga, train_score=0.5, test_score=0.5\n",
      "C=622.4113808341981, penalty=l2, solver=\"saga\", train_score=0.5, test_score=0.5\n",
      "CV iteration : C=638.434913082139, solver=saga, train_score=0.5, test_score=0.5\n",
      "CV iteration : C=638.434913082139, solver=saga, train_score=0.5, test_score=0.5\n",
      "CV iteration : C=638.434913082139, solver=saga, train_score=0.5, test_score=0.5\n",
      "C=638.434913082139, penalty=l2, solver=\"saga\", train_score=0.5, test_score=0.5\n",
      "CV iteration : C=651.8342869746705, solver=saga, train_score=0.5, test_score=0.5\n",
      "CV iteration : C=651.8342869746705, solver=saga, train_score=0.5, test_score=0.5\n",
      "CV iteration : C=651.8342869746705, solver=saga, train_score=0.5, test_score=0.5\n",
      "C=651.8342869746705, penalty=l2, solver=\"saga\", train_score=0.5, test_score=0.5\n",
      "CV iteration : C=662.5590688706666, solver=saga, train_score=0.5, test_score=0.5\n",
      "CV iteration : C=662.5590688706666, solver=saga, train_score=0.5, test_score=0.5\n",
      "CV iteration : C=662.5590688706666, solver=saga, train_score=0.5, test_score=0.5\n",
      "C=662.5590688706666, penalty=l2, solver=\"saga\", train_score=0.5, test_score=0.5\n",
      "CV iteration : C=676.9273181793636, solver=saga, train_score=0.5, test_score=0.5\n",
      "CV iteration : C=676.9273181793636, solver=saga, train_score=0.5, test_score=0.5\n",
      "CV iteration : C=676.9273181793636, solver=saga, train_score=0.5, test_score=0.5\n",
      "C=676.9273181793636, penalty=l2, solver=\"saga\", train_score=0.5, test_score=0.5\n",
      "CV iteration : C=678.0482226061382, solver=saga, train_score=0.5, test_score=0.5\n",
      "CV iteration : C=678.0482226061382, solver=saga, train_score=0.5, test_score=0.5\n",
      "CV iteration : C=678.0482226061382, solver=saga, train_score=0.5, test_score=0.5\n",
      "C=678.0482226061382, penalty=l2, solver=\"saga\", train_score=0.5, test_score=0.5\n",
      "CV iteration : C=679.7691977803272, solver=saga, train_score=0.5, test_score=0.5\n",
      "CV iteration : C=679.7691977803272, solver=saga, train_score=0.5, test_score=0.5\n",
      "CV iteration : C=679.7691977803272, solver=saga, train_score=0.5, test_score=0.5\n",
      "C=679.7691977803272, penalty=l2, solver=\"saga\", train_score=0.5, test_score=0.5\n",
      "CV iteration : C=692.2665071197117, solver=saga, train_score=0.5, test_score=0.5\n",
      "CV iteration : C=692.2665071197117, solver=saga, train_score=0.5, test_score=0.5\n",
      "CV iteration : C=692.2665071197117, solver=saga, train_score=0.5, test_score=0.5\n",
      "C=692.2665071197117, penalty=l2, solver=\"saga\", train_score=0.5, test_score=0.5\n",
      "CV iteration : C=696.5261199083644, solver=saga, train_score=0.5, test_score=0.5\n",
      "CV iteration : C=696.5261199083644, solver=saga, train_score=0.5, test_score=0.5\n",
      "CV iteration : C=696.5261199083644, solver=saga, train_score=0.5, test_score=0.5\n",
      "C=696.5261199083644, penalty=l2, solver=\"saga\", train_score=0.5, test_score=0.5\n",
      "CV iteration : C=699.5337656877208, solver=saga, train_score=0.5, test_score=0.5\n",
      "CV iteration : C=699.5337656877208, solver=saga, train_score=0.5, test_score=0.5\n",
      "CV iteration : C=699.5337656877208, solver=saga, train_score=0.5, test_score=0.5\n",
      "C=699.5337656877208, penalty=l2, solver=\"saga\", train_score=0.5, test_score=0.5\n",
      "CV iteration : C=709.2186240260878, solver=saga, train_score=0.5, test_score=0.5\n",
      "CV iteration : C=709.2186240260878, solver=saga, train_score=0.5, test_score=0.5\n",
      "CV iteration : C=709.2186240260878, solver=saga, train_score=0.5, test_score=0.5\n",
      "C=709.2186240260878, penalty=l2, solver=\"saga\", train_score=0.5, test_score=0.5\n",
      "CV iteration : C=716.8621232012175, solver=saga, train_score=0.5, test_score=0.5\n",
      "CV iteration : C=716.8621232012175, solver=saga, train_score=0.5, test_score=0.5\n",
      "CV iteration : C=716.8621232012175, solver=saga, train_score=0.5, test_score=0.5\n",
      "C=716.8621232012175, penalty=l2, solver=\"saga\", train_score=0.5, test_score=0.5\n",
      "CV iteration : C=721.5796363799049, solver=saga, train_score=0.5, test_score=0.5\n",
      "CV iteration : C=721.5796363799049, solver=saga, train_score=0.5, test_score=0.5\n",
      "CV iteration : C=721.5796363799049, solver=saga, train_score=0.5, test_score=0.5\n",
      "C=721.5796363799049, penalty=l2, solver=\"saga\", train_score=0.5, test_score=0.5\n",
      "CV iteration : C=753.8054753639076, solver=saga, train_score=0.5, test_score=0.5\n",
      "CV iteration : C=753.8054753639076, solver=saga, train_score=0.5, test_score=0.5\n",
      "CV iteration : C=753.8054753639076, solver=saga, train_score=0.5, test_score=0.5\n",
      "C=753.8054753639076, penalty=l2, solver=\"saga\", train_score=0.5, test_score=0.5\n",
      "CV iteration : C=753.8263838799344, solver=saga, train_score=0.5, test_score=0.5\n",
      "CV iteration : C=753.8263838799344, solver=saga, train_score=0.5, test_score=0.5\n",
      "CV iteration : C=753.8263838799344, solver=saga, train_score=0.5, test_score=0.5\n",
      "C=753.8263838799344, penalty=l2, solver=\"saga\", train_score=0.5, test_score=0.5\n",
      "CV iteration : C=769.5456995158039, solver=saga, train_score=0.5, test_score=0.5\n",
      "CV iteration : C=769.5456995158039, solver=saga, train_score=0.5, test_score=0.5\n",
      "CV iteration : C=769.5456995158039, solver=saga, train_score=0.5, test_score=0.5\n",
      "C=769.5456995158039, penalty=l2, solver=\"saga\", train_score=0.5, test_score=0.5\n",
      "CV iteration : C=776.9378798931132, solver=saga, train_score=0.5, test_score=0.5\n",
      "CV iteration : C=776.9378798931132, solver=saga, train_score=0.5, test_score=0.5\n",
      "CV iteration : C=776.9378798931132, solver=saga, train_score=0.5, test_score=0.5\n",
      "C=776.9378798931132, penalty=l2, solver=\"saga\", train_score=0.5, test_score=0.5\n",
      "CV iteration : C=777.3297348710526, solver=saga, train_score=0.5, test_score=0.5\n",
      "CV iteration : C=777.3297348710526, solver=saga, train_score=0.5, test_score=0.5\n",
      "CV iteration : C=777.3297348710526, solver=saga, train_score=0.5, test_score=0.5\n",
      "C=777.3297348710526, penalty=l2, solver=\"saga\", train_score=0.5, test_score=0.5\n",
      "CV iteration : C=779.0108638082243, solver=saga, train_score=0.5, test_score=0.5\n",
      "CV iteration : C=779.0108638082243, solver=saga, train_score=0.5, test_score=0.5\n",
      "CV iteration : C=779.0108638082243, solver=saga, train_score=0.5, test_score=0.5\n",
      "C=779.0108638082243, penalty=l2, solver=\"saga\", train_score=0.5, test_score=0.5\n",
      "CV iteration : C=785.9831768090866, solver=saga, train_score=0.5, test_score=0.5\n",
      "CV iteration : C=785.9831768090866, solver=saga, train_score=0.5, test_score=0.5\n",
      "CV iteration : C=785.9831768090866, solver=saga, train_score=0.5, test_score=0.5\n",
      "C=785.9831768090866, penalty=l2, solver=\"saga\", train_score=0.5, test_score=0.5\n",
      "CV iteration : C=795.3257890261121, solver=saga, train_score=0.5, test_score=0.5\n",
      "CV iteration : C=795.3257890261121, solver=saga, train_score=0.5, test_score=0.5\n",
      "CV iteration : C=795.3257890261121, solver=saga, train_score=0.5, test_score=0.5\n",
      "C=795.3257890261121, penalty=l2, solver=\"saga\", train_score=0.5, test_score=0.5\n",
      "CV iteration : C=802.1528646755795, solver=saga, train_score=0.5, test_score=0.5\n",
      "CV iteration : C=802.1528646755795, solver=saga, train_score=0.5, test_score=0.5\n",
      "CV iteration : C=802.1528646755795, solver=saga, train_score=0.5, test_score=0.5\n",
      "C=802.1528646755795, penalty=l2, solver=\"saga\", train_score=0.5, test_score=0.5\n",
      "CV iteration : C=821.3973434402486, solver=saga, train_score=0.5, test_score=0.5\n",
      "CV iteration : C=821.3973434402486, solver=saga, train_score=0.5, test_score=0.5\n",
      "CV iteration : C=821.3973434402486, solver=saga, train_score=0.5, test_score=0.5\n",
      "C=821.3973434402486, penalty=l2, solver=\"saga\", train_score=0.5, test_score=0.5\n",
      "CV iteration : C=830.0877599271282, solver=saga, train_score=0.5, test_score=0.5\n",
      "CV iteration : C=830.0877599271282, solver=saga, train_score=0.5, test_score=0.5\n",
      "CV iteration : C=830.0877599271282, solver=saga, train_score=0.5, test_score=0.5\n",
      "C=830.0877599271282, penalty=l2, solver=\"saga\", train_score=0.5, test_score=0.5\n",
      "CV iteration : C=849.0792182080304, solver=saga, train_score=0.5, test_score=0.5\n",
      "CV iteration : C=849.0792182080304, solver=saga, train_score=0.5, test_score=0.5\n",
      "CV iteration : C=849.0792182080304, solver=saga, train_score=0.5, test_score=0.5\n",
      "C=849.0792182080304, penalty=l2, solver=\"saga\", train_score=0.5, test_score=0.5\n",
      "CV iteration : C=852.7673388558294, solver=saga, train_score=0.5, test_score=0.5\n",
      "CV iteration : C=852.7673388558294, solver=saga, train_score=0.5, test_score=0.5\n",
      "CV iteration : C=852.7673388558294, solver=saga, train_score=0.5, test_score=0.5\n",
      "C=852.7673388558294, penalty=l2, solver=\"saga\", train_score=0.5, test_score=0.5\n",
      "CV iteration : C=891.8746917469477, solver=saga, train_score=0.5, test_score=0.5\n",
      "CV iteration : C=891.8746917469477, solver=saga, train_score=0.5, test_score=0.5\n",
      "CV iteration : C=891.8746917469477, solver=saga, train_score=0.5, test_score=0.5\n",
      "C=891.8746917469477, penalty=l2, solver=\"saga\", train_score=0.5, test_score=0.5\n",
      "CV iteration : C=896.5242998574433, solver=saga, train_score=0.5, test_score=0.5\n",
      "CV iteration : C=896.5242998574433, solver=saga, train_score=0.5, test_score=0.5\n",
      "CV iteration : C=896.5242998574433, solver=saga, train_score=0.5, test_score=0.5\n",
      "C=896.5242998574433, penalty=l2, solver=\"saga\", train_score=0.5, test_score=0.5\n",
      "CV iteration : C=896.6694894476927, solver=saga, train_score=0.5, test_score=0.5\n",
      "CV iteration : C=896.6694894476927, solver=saga, train_score=0.5, test_score=0.5\n",
      "CV iteration : C=896.6694894476927, solver=saga, train_score=0.5, test_score=0.5\n",
      "C=896.6694894476927, penalty=l2, solver=\"saga\", train_score=0.5, test_score=0.5\n",
      "CV iteration : C=903.2013477555438, solver=saga, train_score=0.5, test_score=0.5\n",
      "CV iteration : C=903.2013477555438, solver=saga, train_score=0.5, test_score=0.5\n",
      "CV iteration : C=903.2013477555438, solver=saga, train_score=0.5, test_score=0.5\n",
      "C=903.2013477555438, penalty=l2, solver=\"saga\", train_score=0.5, test_score=0.5\n",
      "CV iteration : C=908.9788982580793, solver=saga, train_score=0.5, test_score=0.5\n",
      "CV iteration : C=908.9788982580793, solver=saga, train_score=0.5, test_score=0.5\n",
      "CV iteration : C=908.9788982580793, solver=saga, train_score=0.5, test_score=0.5\n",
      "C=908.9788982580793, penalty=l2, solver=\"saga\", train_score=0.5, test_score=0.5\n",
      "CV iteration : C=922.5941327427944, solver=saga, train_score=0.5, test_score=0.5\n",
      "CV iteration : C=922.5941327427944, solver=saga, train_score=0.5, test_score=0.5\n",
      "CV iteration : C=922.5941327427944, solver=saga, train_score=0.5, test_score=0.5\n",
      "C=922.5941327427944, penalty=l2, solver=\"saga\", train_score=0.5, test_score=0.5\n",
      "CV iteration : C=928.980285408755, solver=saga, train_score=0.5, test_score=0.5\n",
      "CV iteration : C=928.980285408755, solver=saga, train_score=0.5, test_score=0.5\n",
      "CV iteration : C=928.980285408755, solver=saga, train_score=0.5, test_score=0.5\n",
      "C=928.980285408755, penalty=l2, solver=\"saga\", train_score=0.5, test_score=0.5\n",
      "CV iteration : C=938.7561749777908, solver=saga, train_score=0.5, test_score=0.5\n",
      "CV iteration : C=938.7561749777908, solver=saga, train_score=0.5, test_score=0.5\n",
      "CV iteration : C=938.7561749777908, solver=saga, train_score=0.5, test_score=0.5\n",
      "C=938.7561749777908, penalty=l2, solver=\"saga\", train_score=0.5, test_score=0.5\n",
      "CV iteration : C=945.4179515483432, solver=saga, train_score=0.5, test_score=0.5\n",
      "CV iteration : C=945.4179515483432, solver=saga, train_score=0.5, test_score=0.5\n",
      "CV iteration : C=945.4179515483432, solver=saga, train_score=0.5, test_score=0.5\n",
      "C=945.4179515483432, penalty=l2, solver=\"saga\", train_score=0.5, test_score=0.5\n",
      "CV iteration : C=960.5850955584975, solver=saga, train_score=0.5, test_score=0.5\n",
      "CV iteration : C=960.5850955584975, solver=saga, train_score=0.5, test_score=0.5\n",
      "CV iteration : C=960.5850955584975, solver=saga, train_score=0.5, test_score=0.5\n",
      "C=960.5850955584975, penalty=l2, solver=\"saga\", train_score=0.5, test_score=0.5\n",
      "CV iteration : C=964.0008249872385, solver=saga, train_score=0.5, test_score=0.5\n",
      "CV iteration : C=964.0008249872385, solver=saga, train_score=0.5, test_score=0.5\n",
      "CV iteration : C=964.0008249872385, solver=saga, train_score=0.5, test_score=0.5\n",
      "C=964.0008249872385, penalty=l2, solver=\"saga\", train_score=0.5, test_score=0.5\n",
      "CV iteration : C=969.3646555664419, solver=saga, train_score=0.5, test_score=0.5\n",
      "CV iteration : C=969.3646555664419, solver=saga, train_score=0.5, test_score=0.5\n",
      "CV iteration : C=969.3646555664419, solver=saga, train_score=0.5, test_score=0.5\n",
      "C=969.3646555664419, penalty=l2, solver=\"saga\", train_score=0.5, test_score=0.5\n",
      "CV iteration : C=970.1303883186836, solver=saga, train_score=0.5, test_score=0.5\n",
      "CV iteration : C=970.1303883186836, solver=saga, train_score=0.5, test_score=0.5\n",
      "CV iteration : C=970.1303883186836, solver=saga, train_score=0.5, test_score=0.5\n",
      "C=970.1303883186836, penalty=l2, solver=\"saga\", train_score=0.5, test_score=0.5\n",
      "CV iteration : C=979.4028197804171, solver=saga, train_score=0.5, test_score=0.5\n",
      "CV iteration : C=979.4028197804171, solver=saga, train_score=0.5, test_score=0.5\n",
      "CV iteration : C=979.4028197804171, solver=saga, train_score=0.5, test_score=0.5\n",
      "C=979.4028197804171, penalty=l2, solver=\"saga\", train_score=0.5, test_score=0.5\n",
      "CV iteration : C=989.4443212706437, solver=saga, train_score=0.5, test_score=0.5\n",
      "CV iteration : C=989.4443212706437, solver=saga, train_score=0.5, test_score=0.5\n",
      "CV iteration : C=989.4443212706437, solver=saga, train_score=0.5, test_score=0.5\n",
      "C=989.4443212706437, penalty=l2, solver=\"saga\", train_score=0.5, test_score=0.5\n",
      "CV iteration : C=990.8681687824524, solver=saga, train_score=0.5, test_score=0.5\n",
      "CV iteration : C=990.8681687824524, solver=saga, train_score=0.5, test_score=0.5\n",
      "CV iteration : C=990.8681687824524, solver=saga, train_score=0.5, test_score=0.5\n",
      "C=990.8681687824524, penalty=l2, solver=\"saga\", train_score=0.5, test_score=0.5\n"
     ]
    }
   ],
   "source": [
    "# Please write all the code with proper documentation\n",
    "csv_path = 'saved_models/TFIDF-W2Vec_log_reg_results_l2.csv'\n",
    "cv_results = perform_hyperparameter_tuning(X=Dx_train, Y=Dy_train, vectorizer='TFIDF-W2Vec', vec_name='TFIDF-W2Vec', \n",
    "                                           penalty=['l2'], results_path=csv_path, retrain=True, W2V_model=w2v_model)"
   ]
  },
  {
   "cell_type": "markdown",
   "metadata": {
    "colab_type": "text",
    "id": "nOvsBNf2LPpv"
   },
   "source": [
    "# [6] Conclusions"
   ]
  },
  {
   "cell_type": "code",
   "execution_count": null,
   "metadata": {
    "colab": {},
    "colab_type": "code",
    "id": "T7VxD0q2LPpw"
   },
   "outputs": [],
   "source": [
    "# Please compare all your models using Prettytable library"
   ]
  }
 ],
 "metadata": {
  "colab": {
   "name": "05 Amazon Fine Food Reviews Analysis_Logistic Regression.ipynb",
   "provenance": [],
   "version": "0.3.2"
  },
  "kernelspec": {
   "display_name": "Python 3",
   "language": "python",
   "name": "python3"
  },
  "language_info": {
   "codemirror_mode": {
    "name": "ipython",
    "version": 3
   },
   "file_extension": ".py",
   "mimetype": "text/x-python",
   "name": "python",
   "nbconvert_exporter": "python",
   "pygments_lexer": "ipython3",
   "version": "3.7.0"
  }
 },
 "nbformat": 4,
 "nbformat_minor": 2
}
