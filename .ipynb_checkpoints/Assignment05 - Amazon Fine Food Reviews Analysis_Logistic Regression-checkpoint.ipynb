{
 "cells": [
  {
   "cell_type": "markdown",
   "metadata": {
    "colab_type": "text",
    "id": "AM7jsfwALPlp"
   },
   "source": [
    "# Amazon Fine Food Reviews Analysis\n",
    "\n",
    "\n",
    "Data Source: https://www.kaggle.com/snap/amazon-fine-food-reviews <br>\n",
    "\n",
    "EDA: https://nycdatascience.com/blog/student-works/amazon-fine-foods-visualization/\n",
    "\n",
    "\n",
    "The Amazon Fine Food Reviews dataset consists of reviews of fine foods from Amazon.<br>\n",
    "\n",
    "Number of reviews: 568,454<br>\n",
    "Number of users: 256,059<br>\n",
    "Number of products: 74,258<br>\n",
    "Timespan: Oct 1999 - Oct 2012<br>\n",
    "Number of Attributes/Columns in data: 10 \n",
    "\n",
    "Attribute Information:\n",
    "\n",
    "1. Id\n",
    "2. ProductId - unique identifier for the product\n",
    "3. UserId - unqiue identifier for the user\n",
    "4. ProfileName\n",
    "5. HelpfulnessNumerator - number of users who found the review helpful\n",
    "6. HelpfulnessDenominator - number of users who indicated whether they found the review helpful or not\n",
    "7. Score - rating between 1 and 5\n",
    "8. Time - timestamp for the review\n",
    "9. Summary - brief summary of the review\n",
    "10. Text - text of the review\n",
    "\n",
    "\n",
    "#### Objective:\n",
    "Given a review, determine whether the review is positive (rating of 4 or 5) or negative (rating of 1 or 2).\n",
    "\n",
    "<br>\n",
    "[Q] How to determine if a review is positive or negative?<br>\n",
    "<br> \n",
    "[Ans] We could use Score/Rating. A rating of 4 or 5 can be cosnidered as a positive review. A rating of 1 or 2 can be considered as negative one. A review of rating 3 is considered nuetral and such reviews are ignored from our analysis. This is an approximate and proxy way of determining the polarity (positivity/negativity) of a review.\n",
    "\n",
    "\n"
   ]
  },
  {
   "cell_type": "markdown",
   "metadata": {
    "colab_type": "text",
    "id": "CaQ7XJ4OLPls"
   },
   "source": [
    "# [1]. Reading Data"
   ]
  },
  {
   "cell_type": "markdown",
   "metadata": {
    "colab_type": "text",
    "id": "5VnEBjKRLPlu"
   },
   "source": [
    "## [1.1] Loading the data\n",
    "\n",
    "The dataset is available in two forms\n",
    "1. .csv file\n",
    "2. SQLite Database\n",
    "\n",
    "In order to load the data, We have used the SQLITE dataset as it is easier to query the data and visualise the data efficiently.\n",
    "<br> \n",
    "\n",
    "Here as we only want to get the global sentiment of the recommendations (positive or negative), we will purposefully ignore all Scores equal to 3. If the score is above 3, then the recommendation wil be set to \"positive\". Otherwise, it will be set to \"negative\"."
   ]
  },
  {
   "cell_type": "code",
   "execution_count": 1,
   "metadata": {
    "colab": {},
    "colab_type": "code",
    "id": "x6YclOzXLPlv"
   },
   "outputs": [],
   "source": [
    "%matplotlib inline\n",
    "import warnings\n",
    "warnings.filterwarnings(\"ignore\")\n",
    "\n",
    "\n",
    "import sqlite3\n",
    "import pandas as pd\n",
    "import numpy as np\n",
    "import nltk\n",
    "import string\n",
    "import matplotlib.pyplot as plt\n",
    "import seaborn as sns\n",
    "from sklearn.feature_extraction.text import TfidfTransformer\n",
    "from sklearn.feature_extraction.text import TfidfVectorizer\n",
    "\n",
    "from sklearn.feature_extraction.text import CountVectorizer\n",
    "from sklearn.metrics import confusion_matrix\n",
    "from sklearn import metrics\n",
    "from sklearn.metrics import roc_curve, auc\n",
    "from nltk.stem.porter import PorterStemmer\n",
    "\n",
    "import re\n",
    "# Tutorial about Python regular expressions: https://pymotw.com/2/re/\n",
    "import string\n",
    "from nltk.corpus import stopwords\n",
    "from nltk.stem import PorterStemmer\n",
    "from nltk.stem.wordnet import WordNetLemmatizer\n",
    "\n",
    "from gensim.models import Word2Vec\n",
    "from gensim.models import KeyedVectors\n",
    "import pickle\n",
    "\n",
    "from tqdm import tqdm\n",
    "import os"
   ]
  },
  {
   "cell_type": "code",
   "execution_count": 2,
   "metadata": {
    "colab": {},
    "colab_type": "code",
    "id": "NZ4OSpSiLPl0",
    "outputId": "241c4c64-6186-4351-e38f-fcd06c6896dd"
   },
   "outputs": [
    {
     "name": "stdout",
     "output_type": "stream",
     "text": [
      "Number of data points in our data (500000, 10)\n"
     ]
    },
    {
     "data": {
      "text/html": [
       "<div>\n",
       "<style scoped>\n",
       "    .dataframe tbody tr th:only-of-type {\n",
       "        vertical-align: middle;\n",
       "    }\n",
       "\n",
       "    .dataframe tbody tr th {\n",
       "        vertical-align: top;\n",
       "    }\n",
       "\n",
       "    .dataframe thead th {\n",
       "        text-align: right;\n",
       "    }\n",
       "</style>\n",
       "<table border=\"1\" class=\"dataframe\">\n",
       "  <thead>\n",
       "    <tr style=\"text-align: right;\">\n",
       "      <th></th>\n",
       "      <th>Id</th>\n",
       "      <th>ProductId</th>\n",
       "      <th>UserId</th>\n",
       "      <th>ProfileName</th>\n",
       "      <th>HelpfulnessNumerator</th>\n",
       "      <th>HelpfulnessDenominator</th>\n",
       "      <th>Score</th>\n",
       "      <th>Time</th>\n",
       "      <th>Summary</th>\n",
       "      <th>Text</th>\n",
       "    </tr>\n",
       "  </thead>\n",
       "  <tbody>\n",
       "    <tr>\n",
       "      <th>0</th>\n",
       "      <td>1</td>\n",
       "      <td>B001E4KFG0</td>\n",
       "      <td>A3SGXH7AUHU8GW</td>\n",
       "      <td>delmartian</td>\n",
       "      <td>1</td>\n",
       "      <td>1</td>\n",
       "      <td>1</td>\n",
       "      <td>1303862400</td>\n",
       "      <td>Good Quality Dog Food</td>\n",
       "      <td>I have bought several of the Vitality canned d...</td>\n",
       "    </tr>\n",
       "    <tr>\n",
       "      <th>1</th>\n",
       "      <td>2</td>\n",
       "      <td>B00813GRG4</td>\n",
       "      <td>A1D87F6ZCVE5NK</td>\n",
       "      <td>dll pa</td>\n",
       "      <td>0</td>\n",
       "      <td>0</td>\n",
       "      <td>0</td>\n",
       "      <td>1346976000</td>\n",
       "      <td>Not as Advertised</td>\n",
       "      <td>Product arrived labeled as Jumbo Salted Peanut...</td>\n",
       "    </tr>\n",
       "    <tr>\n",
       "      <th>2</th>\n",
       "      <td>3</td>\n",
       "      <td>B000LQOCH0</td>\n",
       "      <td>ABXLMWJIXXAIN</td>\n",
       "      <td>Natalia Corres \"Natalia Corres\"</td>\n",
       "      <td>1</td>\n",
       "      <td>1</td>\n",
       "      <td>1</td>\n",
       "      <td>1219017600</td>\n",
       "      <td>\"Delight\" says it all</td>\n",
       "      <td>This is a confection that has been around a fe...</td>\n",
       "    </tr>\n",
       "  </tbody>\n",
       "</table>\n",
       "</div>"
      ],
      "text/plain": [
       "   Id   ProductId          UserId                      ProfileName  \\\n",
       "0   1  B001E4KFG0  A3SGXH7AUHU8GW                       delmartian   \n",
       "1   2  B00813GRG4  A1D87F6ZCVE5NK                           dll pa   \n",
       "2   3  B000LQOCH0   ABXLMWJIXXAIN  Natalia Corres \"Natalia Corres\"   \n",
       "\n",
       "   HelpfulnessNumerator  HelpfulnessDenominator  Score        Time  \\\n",
       "0                     1                       1      1  1303862400   \n",
       "1                     0                       0      0  1346976000   \n",
       "2                     1                       1      1  1219017600   \n",
       "\n",
       "                 Summary                                               Text  \n",
       "0  Good Quality Dog Food  I have bought several of the Vitality canned d...  \n",
       "1      Not as Advertised  Product arrived labeled as Jumbo Salted Peanut...  \n",
       "2  \"Delight\" says it all  This is a confection that has been around a fe...  "
      ]
     },
     "execution_count": 2,
     "metadata": {},
     "output_type": "execute_result"
    }
   ],
   "source": [
    "# using SQLite Table to read data.\n",
    "db_path = '/home/monodeepdas112/Datasets/amazon-fine-food-reviews/database.sqlite'\n",
    "# db_path = '/home/monodeepdas112/Datasets/AmazonFineFoodReviews/database.sqlite'\n",
    "con = sqlite3.connect(db_path) \n",
    "\n",
    "# filtering only positive and negative reviews i.e. \n",
    "# not taking into consideration those reviews with Score=3\n",
    "# SELECT * FROM Reviews WHERE Score != 3 LIMIT 500000, will give top 500000 data points\n",
    "# you can change the number to any other number based on your computing power\n",
    "\n",
    "# filtered_data = pd.read_sql_query(\"\"\" SELECT * FROM Reviews WHERE Score != 3 LIMIT 500000\"\"\", con) \n",
    "# for tsne assignment you can take 5k data points\n",
    "\n",
    "filtered_data = pd.read_sql_query(\"\"\" SELECT * FROM Reviews WHERE Score != 3 LIMIT 500000\"\"\", con) \n",
    "\n",
    "# Give reviews with Score>3 a positive rating(1), and reviews with a score<3 a negative rating(0).\n",
    "def partition(x):\n",
    "    if x < 3:\n",
    "        return 0\n",
    "    return 1\n",
    "\n",
    "#changing reviews with score less than 3 to be positive and vice-versa\n",
    "actualScore = filtered_data['Score']\n",
    "positiveNegative = actualScore.map(partition) \n",
    "filtered_data['Score'] = positiveNegative\n",
    "print(\"Number of data points in our data\", filtered_data.shape)\n",
    "filtered_data.head(3)"
   ]
  },
  {
   "cell_type": "code",
   "execution_count": 3,
   "metadata": {
    "colab": {},
    "colab_type": "code",
    "id": "r44Y4VDjLPl7"
   },
   "outputs": [],
   "source": [
    "display = pd.read_sql_query(\"\"\"\n",
    "SELECT UserId, ProductId, ProfileName, Time, Score, Text, COUNT(*)\n",
    "FROM Reviews\n",
    "GROUP BY UserId\n",
    "HAVING COUNT(*)>1\n",
    "\"\"\", con)"
   ]
  },
  {
   "cell_type": "code",
   "execution_count": 4,
   "metadata": {
    "colab": {},
    "colab_type": "code",
    "id": "tTwINQv1LPl_",
    "outputId": "0385b9ca-0a35-4c2b-b656-8e8494414e6f",
    "scrolled": true
   },
   "outputs": [
    {
     "name": "stdout",
     "output_type": "stream",
     "text": [
      "(80668, 7)\n"
     ]
    },
    {
     "data": {
      "text/html": [
       "<div>\n",
       "<style scoped>\n",
       "    .dataframe tbody tr th:only-of-type {\n",
       "        vertical-align: middle;\n",
       "    }\n",
       "\n",
       "    .dataframe tbody tr th {\n",
       "        vertical-align: top;\n",
       "    }\n",
       "\n",
       "    .dataframe thead th {\n",
       "        text-align: right;\n",
       "    }\n",
       "</style>\n",
       "<table border=\"1\" class=\"dataframe\">\n",
       "  <thead>\n",
       "    <tr style=\"text-align: right;\">\n",
       "      <th></th>\n",
       "      <th>UserId</th>\n",
       "      <th>ProductId</th>\n",
       "      <th>ProfileName</th>\n",
       "      <th>Time</th>\n",
       "      <th>Score</th>\n",
       "      <th>Text</th>\n",
       "      <th>COUNT(*)</th>\n",
       "    </tr>\n",
       "  </thead>\n",
       "  <tbody>\n",
       "    <tr>\n",
       "      <th>0</th>\n",
       "      <td>#oc-R115TNMSPFT9I7</td>\n",
       "      <td>B007Y59HVM</td>\n",
       "      <td>Breyton</td>\n",
       "      <td>1331510400</td>\n",
       "      <td>2</td>\n",
       "      <td>Overall its just OK when considering the price...</td>\n",
       "      <td>2</td>\n",
       "    </tr>\n",
       "    <tr>\n",
       "      <th>1</th>\n",
       "      <td>#oc-R11D9D7SHXIJB9</td>\n",
       "      <td>B005HG9ET0</td>\n",
       "      <td>Louis E. Emory \"hoppy\"</td>\n",
       "      <td>1342396800</td>\n",
       "      <td>5</td>\n",
       "      <td>My wife has recurring extreme muscle spasms, u...</td>\n",
       "      <td>3</td>\n",
       "    </tr>\n",
       "    <tr>\n",
       "      <th>2</th>\n",
       "      <td>#oc-R11DNU2NBKQ23Z</td>\n",
       "      <td>B007Y59HVM</td>\n",
       "      <td>Kim Cieszykowski</td>\n",
       "      <td>1348531200</td>\n",
       "      <td>1</td>\n",
       "      <td>This coffee is horrible and unfortunately not ...</td>\n",
       "      <td>2</td>\n",
       "    </tr>\n",
       "    <tr>\n",
       "      <th>3</th>\n",
       "      <td>#oc-R11O5J5ZVQE25C</td>\n",
       "      <td>B005HG9ET0</td>\n",
       "      <td>Penguin Chick</td>\n",
       "      <td>1346889600</td>\n",
       "      <td>5</td>\n",
       "      <td>This will be the bottle that you grab from the...</td>\n",
       "      <td>3</td>\n",
       "    </tr>\n",
       "    <tr>\n",
       "      <th>4</th>\n",
       "      <td>#oc-R12KPBODL2B5ZD</td>\n",
       "      <td>B007OSBE1U</td>\n",
       "      <td>Christopher P. Presta</td>\n",
       "      <td>1348617600</td>\n",
       "      <td>1</td>\n",
       "      <td>I didnt like this coffee. Instead of telling y...</td>\n",
       "      <td>2</td>\n",
       "    </tr>\n",
       "  </tbody>\n",
       "</table>\n",
       "</div>"
      ],
      "text/plain": [
       "               UserId   ProductId             ProfileName        Time  Score  \\\n",
       "0  #oc-R115TNMSPFT9I7  B007Y59HVM                 Breyton  1331510400      2   \n",
       "1  #oc-R11D9D7SHXIJB9  B005HG9ET0  Louis E. Emory \"hoppy\"  1342396800      5   \n",
       "2  #oc-R11DNU2NBKQ23Z  B007Y59HVM        Kim Cieszykowski  1348531200      1   \n",
       "3  #oc-R11O5J5ZVQE25C  B005HG9ET0           Penguin Chick  1346889600      5   \n",
       "4  #oc-R12KPBODL2B5ZD  B007OSBE1U   Christopher P. Presta  1348617600      1   \n",
       "\n",
       "                                                Text  COUNT(*)  \n",
       "0  Overall its just OK when considering the price...         2  \n",
       "1  My wife has recurring extreme muscle spasms, u...         3  \n",
       "2  This coffee is horrible and unfortunately not ...         2  \n",
       "3  This will be the bottle that you grab from the...         3  \n",
       "4  I didnt like this coffee. Instead of telling y...         2  "
      ]
     },
     "execution_count": 4,
     "metadata": {},
     "output_type": "execute_result"
    }
   ],
   "source": [
    "print(display.shape)\n",
    "display.head()"
   ]
  },
  {
   "cell_type": "code",
   "execution_count": 5,
   "metadata": {
    "colab": {},
    "colab_type": "code",
    "id": "EOslHQgnLPmF",
    "outputId": "cb28598d-470a-42bb-e742-4763f953c8cb"
   },
   "outputs": [
    {
     "data": {
      "text/html": [
       "<div>\n",
       "<style scoped>\n",
       "    .dataframe tbody tr th:only-of-type {\n",
       "        vertical-align: middle;\n",
       "    }\n",
       "\n",
       "    .dataframe tbody tr th {\n",
       "        vertical-align: top;\n",
       "    }\n",
       "\n",
       "    .dataframe thead th {\n",
       "        text-align: right;\n",
       "    }\n",
       "</style>\n",
       "<table border=\"1\" class=\"dataframe\">\n",
       "  <thead>\n",
       "    <tr style=\"text-align: right;\">\n",
       "      <th></th>\n",
       "      <th>UserId</th>\n",
       "      <th>ProductId</th>\n",
       "      <th>ProfileName</th>\n",
       "      <th>Time</th>\n",
       "      <th>Score</th>\n",
       "      <th>Text</th>\n",
       "      <th>COUNT(*)</th>\n",
       "    </tr>\n",
       "  </thead>\n",
       "  <tbody>\n",
       "    <tr>\n",
       "      <th>80638</th>\n",
       "      <td>AZY10LLTJ71NX</td>\n",
       "      <td>B006P7E5ZI</td>\n",
       "      <td>undertheshrine \"undertheshrine\"</td>\n",
       "      <td>1334707200</td>\n",
       "      <td>5</td>\n",
       "      <td>I was recommended to try green tea extract to ...</td>\n",
       "      <td>5</td>\n",
       "    </tr>\n",
       "  </tbody>\n",
       "</table>\n",
       "</div>"
      ],
      "text/plain": [
       "              UserId   ProductId                      ProfileName        Time  \\\n",
       "80638  AZY10LLTJ71NX  B006P7E5ZI  undertheshrine \"undertheshrine\"  1334707200   \n",
       "\n",
       "       Score                                               Text  COUNT(*)  \n",
       "80638      5  I was recommended to try green tea extract to ...         5  "
      ]
     },
     "execution_count": 5,
     "metadata": {},
     "output_type": "execute_result"
    }
   ],
   "source": [
    "display[display['UserId']=='AZY10LLTJ71NX']"
   ]
  },
  {
   "cell_type": "code",
   "execution_count": 6,
   "metadata": {
    "colab": {},
    "colab_type": "code",
    "id": "pSwF4sdoLPmM",
    "outputId": "2f3bd7f2-0eea-45f7-eab6-bf08c630d9a3"
   },
   "outputs": [
    {
     "data": {
      "text/plain": [
       "393063"
      ]
     },
     "execution_count": 6,
     "metadata": {},
     "output_type": "execute_result"
    }
   ],
   "source": [
    "display['COUNT(*)'].sum()"
   ]
  },
  {
   "cell_type": "markdown",
   "metadata": {
    "colab_type": "text",
    "id": "PuNkhjz0LPmQ"
   },
   "source": [
    "#  [2] Exploratory Data Analysis"
   ]
  },
  {
   "cell_type": "markdown",
   "metadata": {
    "colab_type": "text",
    "id": "oCJaTWrTLPmS"
   },
   "source": [
    "## [2.1] Data Cleaning: Deduplication\n",
    "\n",
    "It is observed (as shown in the table below) that the reviews data had many duplicate entries. Hence it was necessary to remove duplicates in order to get unbiased results for the analysis of the data.  Following is an example:"
   ]
  },
  {
   "cell_type": "code",
   "execution_count": 7,
   "metadata": {
    "colab": {},
    "colab_type": "code",
    "id": "3lvzRwWVLPmT",
    "outputId": "96ba6f90-6c40-4972-ecd2-d2d208e48877",
    "scrolled": false
   },
   "outputs": [
    {
     "data": {
      "text/html": [
       "<div>\n",
       "<style scoped>\n",
       "    .dataframe tbody tr th:only-of-type {\n",
       "        vertical-align: middle;\n",
       "    }\n",
       "\n",
       "    .dataframe tbody tr th {\n",
       "        vertical-align: top;\n",
       "    }\n",
       "\n",
       "    .dataframe thead th {\n",
       "        text-align: right;\n",
       "    }\n",
       "</style>\n",
       "<table border=\"1\" class=\"dataframe\">\n",
       "  <thead>\n",
       "    <tr style=\"text-align: right;\">\n",
       "      <th></th>\n",
       "      <th>Id</th>\n",
       "      <th>ProductId</th>\n",
       "      <th>UserId</th>\n",
       "      <th>ProfileName</th>\n",
       "      <th>HelpfulnessNumerator</th>\n",
       "      <th>HelpfulnessDenominator</th>\n",
       "      <th>Score</th>\n",
       "      <th>Time</th>\n",
       "      <th>Summary</th>\n",
       "      <th>Text</th>\n",
       "    </tr>\n",
       "  </thead>\n",
       "  <tbody>\n",
       "    <tr>\n",
       "      <th>0</th>\n",
       "      <td>78445</td>\n",
       "      <td>B000HDL1RQ</td>\n",
       "      <td>AR5J8UI46CURR</td>\n",
       "      <td>Geetha Krishnan</td>\n",
       "      <td>2</td>\n",
       "      <td>2</td>\n",
       "      <td>5</td>\n",
       "      <td>1199577600</td>\n",
       "      <td>LOACKER QUADRATINI VANILLA WAFERS</td>\n",
       "      <td>DELICIOUS WAFERS. I FIND THAT EUROPEAN WAFERS ...</td>\n",
       "    </tr>\n",
       "    <tr>\n",
       "      <th>1</th>\n",
       "      <td>138317</td>\n",
       "      <td>B000HDOPYC</td>\n",
       "      <td>AR5J8UI46CURR</td>\n",
       "      <td>Geetha Krishnan</td>\n",
       "      <td>2</td>\n",
       "      <td>2</td>\n",
       "      <td>5</td>\n",
       "      <td>1199577600</td>\n",
       "      <td>LOACKER QUADRATINI VANILLA WAFERS</td>\n",
       "      <td>DELICIOUS WAFERS. I FIND THAT EUROPEAN WAFERS ...</td>\n",
       "    </tr>\n",
       "    <tr>\n",
       "      <th>2</th>\n",
       "      <td>138277</td>\n",
       "      <td>B000HDOPYM</td>\n",
       "      <td>AR5J8UI46CURR</td>\n",
       "      <td>Geetha Krishnan</td>\n",
       "      <td>2</td>\n",
       "      <td>2</td>\n",
       "      <td>5</td>\n",
       "      <td>1199577600</td>\n",
       "      <td>LOACKER QUADRATINI VANILLA WAFERS</td>\n",
       "      <td>DELICIOUS WAFERS. I FIND THAT EUROPEAN WAFERS ...</td>\n",
       "    </tr>\n",
       "    <tr>\n",
       "      <th>3</th>\n",
       "      <td>73791</td>\n",
       "      <td>B000HDOPZG</td>\n",
       "      <td>AR5J8UI46CURR</td>\n",
       "      <td>Geetha Krishnan</td>\n",
       "      <td>2</td>\n",
       "      <td>2</td>\n",
       "      <td>5</td>\n",
       "      <td>1199577600</td>\n",
       "      <td>LOACKER QUADRATINI VANILLA WAFERS</td>\n",
       "      <td>DELICIOUS WAFERS. I FIND THAT EUROPEAN WAFERS ...</td>\n",
       "    </tr>\n",
       "    <tr>\n",
       "      <th>4</th>\n",
       "      <td>155049</td>\n",
       "      <td>B000PAQ75C</td>\n",
       "      <td>AR5J8UI46CURR</td>\n",
       "      <td>Geetha Krishnan</td>\n",
       "      <td>2</td>\n",
       "      <td>2</td>\n",
       "      <td>5</td>\n",
       "      <td>1199577600</td>\n",
       "      <td>LOACKER QUADRATINI VANILLA WAFERS</td>\n",
       "      <td>DELICIOUS WAFERS. I FIND THAT EUROPEAN WAFERS ...</td>\n",
       "    </tr>\n",
       "  </tbody>\n",
       "</table>\n",
       "</div>"
      ],
      "text/plain": [
       "       Id   ProductId         UserId      ProfileName  HelpfulnessNumerator  \\\n",
       "0   78445  B000HDL1RQ  AR5J8UI46CURR  Geetha Krishnan                     2   \n",
       "1  138317  B000HDOPYC  AR5J8UI46CURR  Geetha Krishnan                     2   \n",
       "2  138277  B000HDOPYM  AR5J8UI46CURR  Geetha Krishnan                     2   \n",
       "3   73791  B000HDOPZG  AR5J8UI46CURR  Geetha Krishnan                     2   \n",
       "4  155049  B000PAQ75C  AR5J8UI46CURR  Geetha Krishnan                     2   \n",
       "\n",
       "   HelpfulnessDenominator  Score        Time  \\\n",
       "0                       2      5  1199577600   \n",
       "1                       2      5  1199577600   \n",
       "2                       2      5  1199577600   \n",
       "3                       2      5  1199577600   \n",
       "4                       2      5  1199577600   \n",
       "\n",
       "                             Summary  \\\n",
       "0  LOACKER QUADRATINI VANILLA WAFERS   \n",
       "1  LOACKER QUADRATINI VANILLA WAFERS   \n",
       "2  LOACKER QUADRATINI VANILLA WAFERS   \n",
       "3  LOACKER QUADRATINI VANILLA WAFERS   \n",
       "4  LOACKER QUADRATINI VANILLA WAFERS   \n",
       "\n",
       "                                                Text  \n",
       "0  DELICIOUS WAFERS. I FIND THAT EUROPEAN WAFERS ...  \n",
       "1  DELICIOUS WAFERS. I FIND THAT EUROPEAN WAFERS ...  \n",
       "2  DELICIOUS WAFERS. I FIND THAT EUROPEAN WAFERS ...  \n",
       "3  DELICIOUS WAFERS. I FIND THAT EUROPEAN WAFERS ...  \n",
       "4  DELICIOUS WAFERS. I FIND THAT EUROPEAN WAFERS ...  "
      ]
     },
     "execution_count": 7,
     "metadata": {},
     "output_type": "execute_result"
    }
   ],
   "source": [
    "display= pd.read_sql_query(\"\"\"\n",
    "SELECT *\n",
    "FROM Reviews\n",
    "WHERE Score != 3 AND UserId=\"AR5J8UI46CURR\"\n",
    "ORDER BY ProductID\n",
    "\"\"\", con)\n",
    "display.head()"
   ]
  },
  {
   "cell_type": "markdown",
   "metadata": {
    "colab_type": "text",
    "id": "uT7p9_deLPmb"
   },
   "source": [
    "As it can be seen above that same user has multiple reviews with same values for HelpfulnessNumerator, HelpfulnessDenominator, Score, Time, Summary and Text and on doing analysis it was found that <br>\n",
    "<br> \n",
    "ProductId=B000HDOPZG was Loacker Quadratini Vanilla Wafer Cookies, 8.82-Ounce Packages (Pack of 8)<br>\n",
    "<br> \n",
    "ProductId=B000HDL1RQ was Loacker Quadratini Lemon Wafer Cookies, 8.82-Ounce Packages (Pack of 8) and so on<br>\n",
    "\n",
    "It was inferred after analysis that reviews with same parameters other than ProductId belonged to the same product just having different flavour or quantity. Hence in order to reduce redundancy it was decided to eliminate the rows having same parameters.<br>\n",
    "\n",
    "The method used for the same was that we first sort the data according to ProductId and then just keep the first similar product review and delelte the others. for eg. in the above just the review for ProductId=B000HDL1RQ remains. This method ensures that there is only one representative for each product and deduplication without sorting would lead to possibility of different representatives still existing for the same product."
   ]
  },
  {
   "cell_type": "code",
   "execution_count": 8,
   "metadata": {
    "colab": {},
    "colab_type": "code",
    "id": "mdsKFc50LPme"
   },
   "outputs": [],
   "source": [
    "#Sorting data according to ProductId in ascending order\n",
    "sorted_data=filtered_data.sort_values('ProductId', axis=0, ascending=True, inplace=False, kind='quicksort', na_position='last')"
   ]
  },
  {
   "cell_type": "code",
   "execution_count": 9,
   "metadata": {
    "colab": {},
    "colab_type": "code",
    "id": "2itLgX-NLPmk",
    "outputId": "ac765625-dfdc-4e4e-f886-bd3b7ca3635a"
   },
   "outputs": [
    {
     "data": {
      "text/plain": [
       "(348262, 10)"
      ]
     },
     "execution_count": 9,
     "metadata": {},
     "output_type": "execute_result"
    }
   ],
   "source": [
    "#Deduplication of entries\n",
    "final=sorted_data.drop_duplicates(subset={\"UserId\",\"ProfileName\",\"Time\",\"Text\"}, keep='first', inplace=False)\n",
    "final.shape"
   ]
  },
  {
   "cell_type": "code",
   "execution_count": 10,
   "metadata": {
    "colab": {},
    "colab_type": "code",
    "id": "IBU4iZk4LPmt",
    "outputId": "ceeba223-fe3f-407a-b4e5-0d46c08f69dd"
   },
   "outputs": [
    {
     "data": {
      "text/plain": [
       "69.6524"
      ]
     },
     "execution_count": 10,
     "metadata": {},
     "output_type": "execute_result"
    }
   ],
   "source": [
    "#Checking to see how much % of data still remains\n",
    "(final['Id'].size*1.0)/(filtered_data['Id'].size*1.0)*100"
   ]
  },
  {
   "cell_type": "markdown",
   "metadata": {
    "colab_type": "text",
    "id": "gFBOfSe4LPmy"
   },
   "source": [
    "<b>Observation:-</b> It was also seen that in two rows given below the value of HelpfulnessNumerator is greater than HelpfulnessDenominator which is not practically possible hence these two rows too are removed from calcualtions"
   ]
  },
  {
   "cell_type": "code",
   "execution_count": 11,
   "metadata": {
    "colab": {},
    "colab_type": "code",
    "id": "50flE40lLPmz",
    "outputId": "b6c7e38e-25c1-4a48-be1f-70fdf31aba13"
   },
   "outputs": [
    {
     "data": {
      "text/html": [
       "<div>\n",
       "<style scoped>\n",
       "    .dataframe tbody tr th:only-of-type {\n",
       "        vertical-align: middle;\n",
       "    }\n",
       "\n",
       "    .dataframe tbody tr th {\n",
       "        vertical-align: top;\n",
       "    }\n",
       "\n",
       "    .dataframe thead th {\n",
       "        text-align: right;\n",
       "    }\n",
       "</style>\n",
       "<table border=\"1\" class=\"dataframe\">\n",
       "  <thead>\n",
       "    <tr style=\"text-align: right;\">\n",
       "      <th></th>\n",
       "      <th>Id</th>\n",
       "      <th>ProductId</th>\n",
       "      <th>UserId</th>\n",
       "      <th>ProfileName</th>\n",
       "      <th>HelpfulnessNumerator</th>\n",
       "      <th>HelpfulnessDenominator</th>\n",
       "      <th>Score</th>\n",
       "      <th>Time</th>\n",
       "      <th>Summary</th>\n",
       "      <th>Text</th>\n",
       "    </tr>\n",
       "  </thead>\n",
       "  <tbody>\n",
       "    <tr>\n",
       "      <th>0</th>\n",
       "      <td>64422</td>\n",
       "      <td>B000MIDROQ</td>\n",
       "      <td>A161DK06JJMCYF</td>\n",
       "      <td>J. E. Stephens \"Jeanne\"</td>\n",
       "      <td>3</td>\n",
       "      <td>1</td>\n",
       "      <td>5</td>\n",
       "      <td>1224892800</td>\n",
       "      <td>Bought This for My Son at College</td>\n",
       "      <td>My son loves spaghetti so I didn't hesitate or...</td>\n",
       "    </tr>\n",
       "    <tr>\n",
       "      <th>1</th>\n",
       "      <td>44737</td>\n",
       "      <td>B001EQ55RW</td>\n",
       "      <td>A2V0I904FH7ABY</td>\n",
       "      <td>Ram</td>\n",
       "      <td>3</td>\n",
       "      <td>2</td>\n",
       "      <td>4</td>\n",
       "      <td>1212883200</td>\n",
       "      <td>Pure cocoa taste with crunchy almonds inside</td>\n",
       "      <td>It was almost a 'love at first bite' - the per...</td>\n",
       "    </tr>\n",
       "  </tbody>\n",
       "</table>\n",
       "</div>"
      ],
      "text/plain": [
       "      Id   ProductId          UserId              ProfileName  \\\n",
       "0  64422  B000MIDROQ  A161DK06JJMCYF  J. E. Stephens \"Jeanne\"   \n",
       "1  44737  B001EQ55RW  A2V0I904FH7ABY                      Ram   \n",
       "\n",
       "   HelpfulnessNumerator  HelpfulnessDenominator  Score        Time  \\\n",
       "0                     3                       1      5  1224892800   \n",
       "1                     3                       2      4  1212883200   \n",
       "\n",
       "                                        Summary  \\\n",
       "0             Bought This for My Son at College   \n",
       "1  Pure cocoa taste with crunchy almonds inside   \n",
       "\n",
       "                                                Text  \n",
       "0  My son loves spaghetti so I didn't hesitate or...  \n",
       "1  It was almost a 'love at first bite' - the per...  "
      ]
     },
     "execution_count": 11,
     "metadata": {},
     "output_type": "execute_result"
    }
   ],
   "source": [
    "display= pd.read_sql_query(\"\"\"\n",
    "SELECT *\n",
    "FROM Reviews\n",
    "WHERE Score != 3 AND Id=44737 OR Id=64422\n",
    "ORDER BY ProductID\n",
    "\"\"\", con)\n",
    "\n",
    "display.head()"
   ]
  },
  {
   "cell_type": "code",
   "execution_count": 12,
   "metadata": {
    "colab": {},
    "colab_type": "code",
    "id": "0YTPJMLTLPm7"
   },
   "outputs": [],
   "source": [
    "final=final[final.HelpfulnessNumerator<=final.HelpfulnessDenominator]"
   ]
  },
  {
   "cell_type": "code",
   "execution_count": 13,
   "metadata": {
    "colab": {},
    "colab_type": "code",
    "id": "LVJ_l-x2LPnC",
    "outputId": "d4a19c7a-16fe-4b5b-c3d1-aa1ef0f948a0"
   },
   "outputs": [
    {
     "name": "stdout",
     "output_type": "stream",
     "text": [
      "(348260, 10)\n"
     ]
    },
    {
     "data": {
      "text/plain": [
       "1    293516\n",
       "0     54744\n",
       "Name: Score, dtype: int64"
      ]
     },
     "execution_count": 13,
     "metadata": {},
     "output_type": "execute_result"
    }
   ],
   "source": [
    "#Before starting the next phase of preprocessing lets see the number of entries left\n",
    "print(final.shape)\n",
    "\n",
    "#How many positive and negative reviews are present in our dataset?\n",
    "final['Score'].value_counts()"
   ]
  },
  {
   "cell_type": "markdown",
   "metadata": {
    "colab_type": "text",
    "id": "GrTYWzYrLPnH"
   },
   "source": [
    "#  [3] Preprocessing"
   ]
  },
  {
   "cell_type": "markdown",
   "metadata": {
    "colab_type": "text",
    "id": "zbvLitZeLPnI"
   },
   "source": [
    "## [3.1].  Preprocessing Review Text\n",
    "\n",
    "Now that we have finished deduplication our data requires some preprocessing before we go on further with analysis and making the prediction model.\n",
    "\n",
    "Hence in the Preprocessing phase we do the following in the order below:-\n",
    "\n",
    "1. Begin by removing the html tags\n",
    "2. Remove any punctuations or limited set of special characters like , or . or # etc.\n",
    "3. Check if the word is made up of english letters and is not alpha-numeric\n",
    "4. Check to see if the length of the word is greater than 2 (as it was researched that there is no adjective in 2-letters)\n",
    "5. Convert the word to lowercase\n",
    "6. Remove Stopwords\n",
    "7. Finally Snowball Stemming the word (it was obsereved to be better than Porter Stemming)<br>\n",
    "\n",
    "After which we collect the words used to describe positive and negative reviews"
   ]
  },
  {
   "cell_type": "code",
   "execution_count": 14,
   "metadata": {
    "colab": {},
    "colab_type": "code",
    "id": "yYDc0ZXALPnK",
    "outputId": "5403fab9-796a-493d-f9d3-2a410d004f64"
   },
   "outputs": [
    {
     "name": "stdout",
     "output_type": "stream",
     "text": [
      "This book was purchased as a birthday gift for a 4 year old boy. He squealed with delight and hugged it when told it was his to keep and he did not have to return it to the library.\n",
      "==================================================\n",
      "I've purchased both the Espressione Espresso (classic) and the 100% Arabica.  My vote is definitely with the 100% Arabica.  The flavor has more bite and flavor (much more like European coffee than American).\n",
      "==================================================\n",
      "This is a great product. It is very healthy for all of our dogs, and it is the first food that they all love to eat. It helped my older dog lose weight and my 10 year old lab gain the weight he needed to be healthy.\n",
      "==================================================\n",
      "I find everything I need at Amazon so I always look there first. Chocolate tennis balls for a tennis party, perfect! They were the size of malted milk balls. Unfortunately, they arrived 3 days after the party. The caveat here is, not everything from Amazon may arrive at an impressive 2 or 3 days. This shipment took 8 days from the Candy/Cosmetic Depot back east to southern California.\n",
      "==================================================\n"
     ]
    }
   ],
   "source": [
    "# printing some random reviews\n",
    "sent_0 = final['Text'].values[0]\n",
    "print(sent_0)\n",
    "print(\"=\"*50)\n",
    "\n",
    "sent_1000 = final['Text'].values[1000]\n",
    "print(sent_1000)\n",
    "print(\"=\"*50)\n",
    "\n",
    "sent_1500 = final['Text'].values[1500]\n",
    "print(sent_1500)\n",
    "print(\"=\"*50)\n",
    "\n",
    "sent_4900 = final['Text'].values[4900]\n",
    "print(sent_4900)\n",
    "print(\"=\"*50)"
   ]
  },
  {
   "cell_type": "code",
   "execution_count": 15,
   "metadata": {
    "colab": {},
    "colab_type": "code",
    "id": "AxYh-wPiLPnS",
    "outputId": "31bddcb2-6c52-4b16-f9fb-c03d5b3bb7c8"
   },
   "outputs": [
    {
     "name": "stdout",
     "output_type": "stream",
     "text": [
      "This book was purchased as a birthday gift for a 4 year old boy. He squealed with delight and hugged it when told it was his to keep and he did not have to return it to the library.\n"
     ]
    }
   ],
   "source": [
    "# remove urls from text python: https://stackoverflow.com/a/40823105/4084039\n",
    "sent_0 = re.sub(r\"http\\S+\", \"\", sent_0)\n",
    "sent_1000 = re.sub(r\"http\\S+\", \"\", sent_1000)\n",
    "sent_150 = re.sub(r\"http\\S+\", \"\", sent_1500)\n",
    "sent_4900 = re.sub(r\"http\\S+\", \"\", sent_4900)\n",
    "\n",
    "print(sent_0)"
   ]
  },
  {
   "cell_type": "code",
   "execution_count": 16,
   "metadata": {
    "colab": {},
    "colab_type": "code",
    "id": "JMSSWjZqLPne",
    "outputId": "eb1bae4e-6f37-45ee-84a3-ef3bebf4e30a"
   },
   "outputs": [
    {
     "name": "stdout",
     "output_type": "stream",
     "text": [
      "This book was purchased as a birthday gift for a 4 year old boy. He squealed with delight and hugged it when told it was his to keep and he did not have to return it to the library.\n",
      "==================================================\n",
      "I've purchased both the Espressione Espresso (classic) and the 100% Arabica.  My vote is definitely with the 100% Arabica.  The flavor has more bite and flavor (much more like European coffee than American).\n",
      "==================================================\n",
      "This is a great product. It is very healthy for all of our dogs, and it is the first food that they all love to eat. It helped my older dog lose weight and my 10 year old lab gain the weight he needed to be healthy.\n",
      "==================================================\n",
      "I find everything I need at Amazon so I always look there first. Chocolate tennis balls for a tennis party, perfect! They were the size of malted milk balls. Unfortunately, they arrived 3 days after the party. The caveat here is, not everything from Amazon may arrive at an impressive 2 or 3 days. This shipment took 8 days from the Candy/Cosmetic Depot back east to southern California.\n"
     ]
    }
   ],
   "source": [
    "# https://stackoverflow.com/questions/16206380/python-beautifulsoup-how-to-remove-all-tags-from-an-element\n",
    "from bs4 import BeautifulSoup\n",
    "\n",
    "soup = BeautifulSoup(sent_0, 'lxml')\n",
    "text = soup.get_text()\n",
    "print(text)\n",
    "print(\"=\"*50)\n",
    "\n",
    "soup = BeautifulSoup(sent_1000, 'lxml')\n",
    "text = soup.get_text()\n",
    "print(text)\n",
    "print(\"=\"*50)\n",
    "\n",
    "soup = BeautifulSoup(sent_1500, 'lxml')\n",
    "text = soup.get_text()\n",
    "print(text)\n",
    "print(\"=\"*50)\n",
    "\n",
    "soup = BeautifulSoup(sent_4900, 'lxml')\n",
    "text = soup.get_text()\n",
    "print(text)"
   ]
  },
  {
   "cell_type": "code",
   "execution_count": 17,
   "metadata": {
    "colab": {},
    "colab_type": "code",
    "id": "BEtpMkhULPnt"
   },
   "outputs": [],
   "source": [
    "# https://stackoverflow.com/a/47091490/4084039\n",
    "import re\n",
    "\n",
    "def decontracted(phrase):\n",
    "    # specific\n",
    "    phrase = re.sub(r\"won't\", \"will not\", phrase)\n",
    "    phrase = re.sub(r\"can\\'t\", \"can not\", phrase)\n",
    "\n",
    "    # general\n",
    "    phrase = re.sub(r\"n\\'t\", \" not\", phrase)\n",
    "    phrase = re.sub(r\"\\'re\", \" are\", phrase)\n",
    "    phrase = re.sub(r\"\\'s\", \" is\", phrase)\n",
    "    phrase = re.sub(r\"\\'d\", \" would\", phrase)\n",
    "    phrase = re.sub(r\"\\'ll\", \" will\", phrase)\n",
    "    phrase = re.sub(r\"\\'t\", \" not\", phrase)\n",
    "    phrase = re.sub(r\"\\'ve\", \" have\", phrase)\n",
    "    phrase = re.sub(r\"\\'m\", \" am\", phrase)\n",
    "    return phrase"
   ]
  },
  {
   "cell_type": "code",
   "execution_count": 18,
   "metadata": {
    "colab": {},
    "colab_type": "code",
    "id": "GavAnzNjLPnx",
    "outputId": "517fca9a-b1b6-4c6c-ab33-4c5ac4a5bd62"
   },
   "outputs": [
    {
     "name": "stdout",
     "output_type": "stream",
     "text": [
      "This is a great product. It is very healthy for all of our dogs, and it is the first food that they all love to eat. It helped my older dog lose weight and my 10 year old lab gain the weight he needed to be healthy.\n",
      "==================================================\n"
     ]
    }
   ],
   "source": [
    "sent_1500 = decontracted(sent_1500)\n",
    "print(sent_1500)\n",
    "print(\"=\"*50)"
   ]
  },
  {
   "cell_type": "code",
   "execution_count": 19,
   "metadata": {
    "colab": {},
    "colab_type": "code",
    "id": "Kl8nOoL-LPn3",
    "outputId": "16742d57-2529-4fc0-9d28-e9332dbbca97"
   },
   "outputs": [
    {
     "name": "stdout",
     "output_type": "stream",
     "text": [
      "This book was purchased as a birthday gift for a  year old boy. He squealed with delight and hugged it when told it was his to keep and he did not have to return it to the library.\n"
     ]
    }
   ],
   "source": [
    "#remove words with numbers python: https://stackoverflow.com/a/18082370/4084039\n",
    "sent_0 = re.sub(\"\\S*\\d\\S*\", \"\", sent_0).strip()\n",
    "print(sent_0)"
   ]
  },
  {
   "cell_type": "code",
   "execution_count": 20,
   "metadata": {
    "colab": {},
    "colab_type": "code",
    "id": "EGB6X2uxLPn7",
    "outputId": "dbd754e5-eb73-4b3a-f3c3-7b1b40952851"
   },
   "outputs": [
    {
     "name": "stdout",
     "output_type": "stream",
     "text": [
      "This is a great product It is very healthy for all of our dogs and it is the first food that they all love to eat It helped my older dog lose weight and my 10 year old lab gain the weight he needed to be healthy \n"
     ]
    }
   ],
   "source": [
    "#remove spacial character: https://stackoverflow.com/a/5843547/4084039\n",
    "sent_1500 = re.sub('[^A-Za-z0-9]+', ' ', sent_1500)\n",
    "print(sent_1500)"
   ]
  },
  {
   "cell_type": "code",
   "execution_count": 21,
   "metadata": {
    "colab": {},
    "colab_type": "code",
    "id": "CCurSJJ2LPn_"
   },
   "outputs": [],
   "source": [
    "# https://gist.github.com/sebleier/554280\n",
    "# we are removing the words from the stop words list: 'no', 'nor', 'not'\n",
    "# <br /><br /> ==> after the above steps, we are getting \"br br\"\n",
    "# we are including them into stop words list\n",
    "# instead of <br /> if we have <br/> these tags would have revmoved in the 1st step\n",
    "\n",
    "stopwords= set(['br', 'the', 'i', 'me', 'my', 'myself', 'we', 'our', 'ours', 'ourselves', 'you', \"you're\", \"you've\",\\\n",
    "            \"you'll\", \"you'd\", 'your', 'yours', 'yourself', 'yourselves', 'he', 'him', 'his', 'himself', \\\n",
    "            'she', \"she's\", 'her', 'hers', 'herself', 'it', \"it's\", 'its', 'itself', 'they', 'them', 'their',\\\n",
    "            'theirs', 'themselves', 'what', 'which', 'who', 'whom', 'this', 'that', \"that'll\", 'these', 'those', \\\n",
    "            'am', 'is', 'are', 'was', 'were', 'be', 'been', 'being', 'have', 'has', 'had', 'having', 'do', 'does', \\\n",
    "            'did', 'doing', 'a', 'an', 'the', 'and', 'but', 'if', 'or', 'because', 'as', 'until', 'while', 'of', \\\n",
    "            'at', 'by', 'for', 'with', 'about', 'against', 'between', 'into', 'through', 'during', 'before', 'after',\\\n",
    "            'above', 'below', 'to', 'from', 'up', 'down', 'in', 'out', 'on', 'off', 'over', 'under', 'again', 'further',\\\n",
    "            'then', 'once', 'here', 'there', 'when', 'where', 'why', 'how', 'all', 'any', 'both', 'each', 'few', 'more',\\\n",
    "            'most', 'other', 'some', 'such', 'only', 'own', 'same', 'so', 'than', 'too', 'very', \\\n",
    "            's', 't', 'can', 'will', 'just', 'don', \"don't\", 'should', \"should've\", 'now', 'd', 'll', 'm', 'o', 're', \\\n",
    "            've', 'y', 'ain', 'aren', \"aren't\", 'couldn', \"couldn't\", 'didn', \"didn't\", 'doesn', \"doesn't\", 'hadn',\\\n",
    "            \"hadn't\", 'hasn', \"hasn't\", 'haven', \"haven't\", 'isn', \"isn't\", 'ma', 'mightn', \"mightn't\", 'mustn',\\\n",
    "            \"mustn't\", 'needn', \"needn't\", 'shan', \"shan't\", 'shouldn', \"shouldn't\", 'wasn', \"wasn't\", 'weren', \"weren't\", \\\n",
    "            'won', \"won't\", 'wouldn', \"wouldn't\"])"
   ]
  },
  {
   "cell_type": "code",
   "execution_count": 22,
   "metadata": {
    "colab": {},
    "colab_type": "code",
    "id": "mFHQEvfnLPoF",
    "outputId": "5cd6bcc3-54fe-4a8e-a39d-d6dabf3f37f9"
   },
   "outputs": [
    {
     "name": "stderr",
     "output_type": "stream",
     "text": [
      "100%|██████████| 348260/348260 [02:42<00:00, 2137.14it/s]\n"
     ]
    }
   ],
   "source": [
    "# Combining all the above stundents \n",
    "from tqdm import tqdm\n",
    "preprocessed_reviews = []\n",
    "# tqdm is for printing the status bar\n",
    "for sentance in tqdm(final['Text'].values):\n",
    "    sentance = re.sub(r\"http\\S+\", \"\", sentance)\n",
    "    sentance = BeautifulSoup(sentance, 'lxml').get_text()\n",
    "    sentance = decontracted(sentance)\n",
    "    sentance = re.sub(\"\\S*\\d\\S*\", \"\", sentance).strip()\n",
    "    sentance = re.sub('[^A-Za-z]+', ' ', sentance)\n",
    "    # https://gist.github.com/sebleier/554280\n",
    "    sentance = ' '.join(e.lower() for e in sentance.split() if e.lower() not in stopwords)\n",
    "    preprocessed_reviews.append(sentance.strip())"
   ]
  },
  {
   "cell_type": "code",
   "execution_count": 23,
   "metadata": {
    "colab": {},
    "colab_type": "code",
    "id": "Tqx8QUeRLPoH",
    "outputId": "0182081c-6282-4113-b186-5b5bac596388"
   },
   "outputs": [
    {
     "data": {
      "text/plain": [
       "'great product healthy dogs first food love eat helped older dog lose weight year old lab gain weight needed healthy'"
      ]
     },
     "execution_count": 23,
     "metadata": {},
     "output_type": "execute_result"
    }
   ],
   "source": [
    "preprocessed_reviews[1500]"
   ]
  },
  {
   "cell_type": "markdown",
   "metadata": {
    "colab_type": "text",
    "id": "9IuKp2HULPoL"
   },
   "source": [
    "<h2><font color='red'>[3.2] Preprocessing Review Summary</font></h2>"
   ]
  },
  {
   "cell_type": "code",
   "execution_count": 24,
   "metadata": {
    "colab": {},
    "colab_type": "code",
    "id": "Qk7gYOmKLPoM"
   },
   "outputs": [],
   "source": [
    "# ## Similartly you can do preprocessing for review summary also.\n",
    "# # Combining all the above stundents \n",
    "# from tqdm import tqdm\n",
    "# preprocessed_summary = []\n",
    "# # tqdm is for printing the status bar\n",
    "# for sentance in tqdm(final['Summary'].values):\n",
    "#     sentance = re.sub(r\"http\\S+\", \"\", sentance)\n",
    "#     sentance = BeautifulSoup(sentance, 'lxml').get_text()\n",
    "#     sentance = decontracted(sentance)\n",
    "#     sentance = re.sub(\"\\S*\\d\\S*\", \"\", sentance).strip()\n",
    "#     sentance = re.sub('[^A-Za-z]+', ' ', sentance)\n",
    "#     # https://gist.github.com/sebleier/554280\n",
    "#     sentance = ' '.join(e.lower() for e in sentance.split() if e.lower() not in stopwords)\n",
    "#     preprocessed_summary.append(sentance.strip())"
   ]
  },
  {
   "cell_type": "markdown",
   "metadata": {
    "colab_type": "text",
    "id": "B93jqKuhLPoQ"
   },
   "source": [
    "# [4] Featurization"
   ]
  },
  {
   "cell_type": "markdown",
   "metadata": {
    "colab_type": "text",
    "id": "Mr4j2QhgLPoQ"
   },
   "source": [
    "## [4.1] BAG OF WORDS"
   ]
  },
  {
   "cell_type": "code",
   "execution_count": 25,
   "metadata": {
    "colab": {},
    "colab_type": "code",
    "id": "dZVHt3mtLPoR",
    "outputId": "ea1629cd-7c92-400e-9acd-f7caeef0f389"
   },
   "outputs": [],
   "source": [
    "# #BoW\n",
    "# count_vect = CountVectorizer() #in scikit-learn\n",
    "# count_vect.fit(preprocessed_reviews)\n",
    "# print(\"some feature names \", count_vect.get_feature_names()[:10])\n",
    "# print('='*50)\n",
    "\n",
    "# final_counts = count_vect.transform(preprocessed_reviews)\n",
    "# print(\"the type of count vectorizer \",type(final_counts))\n",
    "# print(\"the shape of out text BOW vectorizer \",final_counts.get_shape())\n",
    "# print(\"the number of unique words \", final_counts.get_shape()[1])"
   ]
  },
  {
   "cell_type": "markdown",
   "metadata": {
    "colab_type": "text",
    "id": "tSf5kRdLLPoV"
   },
   "source": [
    "## [4.2] Bi-Grams and n-Grams."
   ]
  },
  {
   "cell_type": "code",
   "execution_count": 26,
   "metadata": {
    "colab": {},
    "colab_type": "code",
    "id": "Yfk2d7bLLPoW",
    "outputId": "33472132-5eb3-493f-b08c-081749f99239"
   },
   "outputs": [],
   "source": [
    "# #bi-gram, tri-gram and n-gram\n",
    "\n",
    "# #removing stop words like \"not\" should be avoided before building n-grams\n",
    "# # count_vect = CountVectorizer(ngram_range=(1,2))\n",
    "# # please do read the CountVectorizer documentation http://scikit-learn.org/stable/modules/generated/sklearn.feature_extraction.text.CountVectorizer.html\n",
    "\n",
    "# # you can choose these numebrs min_df=10, max_features=5000, of your choice\n",
    "# count_vect = CountVectorizer(ngram_range=(1,2), min_df=10, max_features=5000)\n",
    "# final_bigram_counts = count_vect.fit_transform(preprocessed_reviews)\n",
    "# print(\"the type of count vectorizer \",type(final_bigram_counts))\n",
    "# print(\"the shape of out text BOW vectorizer \",final_bigram_counts.get_shape())\n",
    "# print(\"the number of unique words including both unigrams and bigrams \", final_bigram_counts.get_shape()[1])"
   ]
  },
  {
   "cell_type": "markdown",
   "metadata": {
    "colab_type": "text",
    "id": "-cEEpDx0LPoZ"
   },
   "source": [
    "## [4.3] TF-IDF"
   ]
  },
  {
   "cell_type": "code",
   "execution_count": 27,
   "metadata": {
    "colab": {},
    "colab_type": "code",
    "id": "TgP61HqBLPoa",
    "outputId": "15f1c123-d93b-414d-914b-d4e3f32a6ac1"
   },
   "outputs": [],
   "source": [
    "# tf_idf_vect = TfidfVectorizer(ngram_range=(1,2), min_df=10)\n",
    "# tf_idf_vect.fit(preprocessed_reviews)\n",
    "# print(\"some sample features(unique words in the corpus)\",tf_idf_vect.get_feature_names()[0:10])\n",
    "# print('='*50)\n",
    "\n",
    "# final_tf_idf = tf_idf_vect.transform(preprocessed_reviews)\n",
    "# print(\"the type of count vectorizer \",type(final_tf_idf))\n",
    "# print(\"the shape of out text TFIDF vectorizer \",final_tf_idf.get_shape())\n",
    "# print(\"the number of unique words including both unigrams and bigrams \", final_tf_idf.get_shape()[1])"
   ]
  },
  {
   "cell_type": "markdown",
   "metadata": {
    "colab_type": "text",
    "id": "m3YEHTLPLPod"
   },
   "source": [
    "## [4.4] Word2Vec"
   ]
  },
  {
   "cell_type": "code",
   "execution_count": 28,
   "metadata": {
    "colab": {},
    "colab_type": "code",
    "id": "8ddGZNUfLPog",
    "outputId": "390d4ccb-cda2-4391-83e9-0e502b578171",
    "scrolled": true
   },
   "outputs": [],
   "source": [
    "# # Using Google News Word2Vectors\n",
    "\n",
    "# # in this project we are using a pretrained model by google\n",
    "# # its 3.3G file, once you load this into your memory \n",
    "# # it occupies ~9Gb, so please do this step only if you have >12G of ram\n",
    "# # we will provide a pickle file wich contains a dict , \n",
    "# # and it contains all our courpus words as keys and  model[word] as values\n",
    "# # To use this code-snippet, download \"GoogleNews-vectors-negative300.bin\" \n",
    "# # from https://drive.google.com/file/d/0B7XkCwpI5KDYNlNUTTlSS21pQmM/edit\n",
    "# # it's 1.9GB in size.\n",
    "\n",
    "\n",
    "# # http://kavita-ganesan.com/gensim-word2vec-tutorial-starter-code/#.W17SRFAzZPY\n",
    "# # you can comment this whole cell\n",
    "# # or change these varible according to your need\n",
    "\n",
    "# is_your_ram_gt_16g=True\n",
    "# want_to_use_google_w2v = False\n",
    "# want_to_train_w2v = True\n",
    "\n",
    "# path_to_word2vec = '/home/monodeepdas112/Datasets/GoogleNews-vectors-negative300.bin.gz'\n",
    "\n",
    "# if want_to_train_w2v:\n",
    "    \n",
    "#     # Train your own Word2Vec model using your own text corpus\n",
    "#     i=0\n",
    "#     list_of_sentences=[]\n",
    "#     for sentance in preprocessed_reviews:\n",
    "#         list_of_sentences.append(sentance.split())\n",
    "    \n",
    "#     # min_count = 5 considers only words that occured atleast 5 times\n",
    "#     w2v_model=Word2Vec(list_of_sentences,min_count=5,size=100, workers=4)\n",
    "#     print(w2v_model.wv.most_similar('great'))\n",
    "#     print('='*50)\n",
    "#     print(w2v_model.wv.most_similar('worst'))\n",
    "    \n",
    "# elif want_to_use_google_w2v and is_your_ram_gt_16g:\n",
    "#     if os.path.isfile(path_to_word2vec):\n",
    "#         print('Preparing to load pre-trained Word2Vec model !')\n",
    "#         w2v_model=KeyedVectors.load_word2vec_format(path_to_word2vec, binary=True)\n",
    "#         print('Successfully loaded model into memory !!')\n",
    "#         print('Words similar to \"similar\" : ', w2v_model.wv.most_similar('great'))\n",
    "#         print('Words similar to \"worst\" : ',w2v_model.wv.most_similar('worst'))\n",
    "#     else:\n",
    "#         print(\"you don't have google's word2vec file, keep want_to_train_w2v = True, to train your own w2v \")"
   ]
  },
  {
   "cell_type": "code",
   "execution_count": 29,
   "metadata": {
    "colab": {},
    "colab_type": "code",
    "id": "bRWXmmnWLPoo",
    "outputId": "1cc345e7-d991-49b8-f1b7-a0d81f0b97e6"
   },
   "outputs": [],
   "source": [
    "# w2v_words = list(w2v_model.wv.vocab)\n",
    "# print(\"number of words that occured minimum 5 times \",len(w2v_words))\n",
    "# print(\"sample words \", w2v_words[0:50])"
   ]
  },
  {
   "cell_type": "markdown",
   "metadata": {
    "colab_type": "text",
    "id": "TtWqibqfLPos"
   },
   "source": [
    "## [4.4.1] Converting text into vectors using Avg W2V, TFIDF-W2V"
   ]
  },
  {
   "cell_type": "markdown",
   "metadata": {
    "colab_type": "text",
    "id": "JriP5nZCLPot"
   },
   "source": [
    "#### [4.4.1.1] Avg W2v"
   ]
  },
  {
   "cell_type": "code",
   "execution_count": 30,
   "metadata": {
    "colab": {},
    "colab_type": "code",
    "id": "UnXI9NHTLPot",
    "outputId": "ecbe8256-9718-4bad-de33-e5ce1ee69038"
   },
   "outputs": [],
   "source": [
    "# # average Word2Vec\n",
    "# # compute average word2vec for each review.\n",
    "# sent_vectors = []; # the avg-w2v for each sentence/review is stored in this list\n",
    "# for sent in tqdm(list_of_sentences): # for each review/sentence\n",
    "#     sent_vec = np.zeros(50) # as word vectors are of zero length 50, you might need to change this to 300 if you use google's w2v\n",
    "#     cnt_words =0; # num of words with a valid vector in the sentence/review\n",
    "#     for word in sent: # for each word in a review/sentence\n",
    "#         if word in w2v_words:\n",
    "#             vec = w2v_model.wv[word]\n",
    "#             sent_vec += vec\n",
    "#             cnt_words += 1\n",
    "#     if cnt_words != 0:\n",
    "#         sent_vec /= cnt_words\n",
    "#     sent_vectors.append(sent_vec)\n",
    "# print(len(sent_vectors))\n",
    "# print(len(sent_vectors[0]))"
   ]
  },
  {
   "cell_type": "markdown",
   "metadata": {
    "colab_type": "text",
    "id": "2sHfb529LPow"
   },
   "source": [
    "#### [4.4.1.2] TFIDF weighted W2v"
   ]
  },
  {
   "cell_type": "code",
   "execution_count": 31,
   "metadata": {
    "colab": {},
    "colab_type": "code",
    "id": "sb_wDjAqLPow"
   },
   "outputs": [],
   "source": [
    "# # S = [\"abc def pqr\", \"def def def abc\", \"pqr pqr def\"]\n",
    "# model = TfidfVectorizer()\n",
    "# tf_idf_matrix = model.fit_transform(preprocessed_reviews)\n",
    "# # we are converting a dictionary with word as a key, and the idf as a value\n",
    "# dictionary = dict(zip(model.get_feature_names(), list(model.idf_)))"
   ]
  },
  {
   "cell_type": "code",
   "execution_count": 32,
   "metadata": {
    "colab": {},
    "colab_type": "code",
    "id": "3VrUzqx7LPoy",
    "outputId": "8480d5da-7b1d-4bbe-a4c9-fe0a5800b5d0",
    "scrolled": true
   },
   "outputs": [],
   "source": [
    "# # TF-IDF weighted Word2Vec\n",
    "# tfidf_feat = model.get_feature_names() # tfidf words/col-names\n",
    "# # final_tf_idf is the sparse matrix with row= sentence, col=word and cell_val = tfidf\n",
    "\n",
    "# tfidf_sent_vectors = []; # the tfidf-w2v for each sentence/review is stored in this list\n",
    "# row=0;\n",
    "# for sent in tqdm(list_of_sentance): # for each review/sentence \n",
    "#     sent_vec = np.zeros(50) # as word vectors are of zero length\n",
    "#     weight_sum =0; # num of words with a valid vector in the sentence/review\n",
    "#     for word in sent: # for each word in a review/sentence\n",
    "#         if word in w2v_words and word in tfidf_feat:\n",
    "#             vec = w2v_model.wv[word]\n",
    "# #             tf_idf = tf_idf_matrix[row, tfidf_feat.index(word)]\n",
    "#             # to reduce the computation we are \n",
    "#             # dictionary[word] = idf value of word in whole courpus\n",
    "#             # sent.count(word) = tf valeus of word in this review\n",
    "#             tf_idf = dictionary[word]*(sent.count(word)/len(sent))\n",
    "#             sent_vec += (vec * tf_idf)\n",
    "#             weight_sum += tf_idf\n",
    "#     if weight_sum != 0:\n",
    "#         sent_vec /= weight_sum\n",
    "#     tfidf_sent_vectors.append(sent_vec)\n",
    "#     row += 1"
   ]
  },
  {
   "cell_type": "markdown",
   "metadata": {
    "colab_type": "text",
    "id": "Kxx72u1hLPo1"
   },
   "source": [
    "# [5] Assignment 5: Apply Logistic Regression"
   ]
  },
  {
   "cell_type": "markdown",
   "metadata": {
    "colab_type": "text",
    "id": "KDR9We0oLPo2"
   },
   "source": [
    "<ol>\n",
    "    <li><strong>Apply Logistic Regression on these feature sets</strong>\n",
    "        <ul>\n",
    "            <li><font color='red'>SET 1:</font>Review text, preprocessed one converted into vectors using (BOW)</li>\n",
    "            <li><font color='red'>SET 2:</font>Review text, preprocessed one converted into vectors using (TFIDF)</li>\n",
    "            <li><font color='red'>SET 3:</font>Review text, preprocessed one converted into vectors using (AVG W2v)</li>\n",
    "            <li><font color='red'>SET 4:</font>Review text, preprocessed one converted into vectors using (TFIDF W2v)</li>\n",
    "        </ul>\n",
    "    </li>\n",
    "    <br>\n",
    "    <li><strong>Hyper paramter tuning (find best hyper parameters corresponding the algorithm that you choose)</strong>\n",
    "        <ul>\n",
    "    <li>Find the best hyper parameter which will give the maximum <a href='https://www.appliedaicourse.com/course/applied-ai-course-online/lessons/receiver-operating-characteristic-curve-roc-curve-and-auc-1/'>AUC</a> value</li>\n",
    "    <li>Find the best hyper paramter using k-fold cross validation or simple cross validation data</li>\n",
    "    <li>Use gridsearch cv or randomsearch cv or you can also write your own for loops to do this task of hyperparameter tuning</li>          \n",
    "        </ul>\n",
    "    </li>\n",
    "    <br>\n",
    "    <li><strong>Pertubation Test</strong>\n",
    "        <ul>\n",
    "    <li>Get the weights W after fit your model with the data X i.e Train data.</li>\n",
    "    <li>Add a noise to the X (X' = X + e) and get the new data set X' (if X is a sparse\n",
    "matrix, X.data+=e)</li>\n",
    "    <li>Fit the model again on data X' and get the weights W'</li>\n",
    "    <li>Add a small eps value(to eliminate the divisible by zero error) to W and W’ i.e\n",
    "W=W+10^-6 and W’ = W’+10^-6</li>\n",
    "    <li>Now find the % change between W and W' (| (W-W') / (W) |)*100)</li>\n",
    "    <li>Calculate the 0th, 10th, 20th, 30th, ...100th percentiles, and observe any sudden rise in the values of percentage_change_vector</li>\n",
    "    <li> Ex: consider your 99th percentile is 1.3 and your 100th percentiles are 34.6, there is sudden rise from 1.3 to 34.6, now calculate the 99.1, 99.2, 99.3,..., 100th percentile values and get the proper value after which there is sudden rise the values, assume it is 2.5</li>\n",
    "            <li> Print the feature names whose % change is more than a threshold x(in our example it's 2.5)</li>\n",
    "        </ul>\n",
    "    </li>\n",
    "    <br>\n",
    "    <li><strong>Sparsity</strong>\n",
    "        <ul>\n",
    "    <li>Calculate sparsity on weight vector obtained after using L1 regularization</li>\n",
    "        </ul>\n",
    "    </li>\n",
    "    <br><font color='red'>NOTE: Do sparsity and multicollinearity for any one of the vectorizers. Bow or tf-idf is recommended.</font>\n",
    "    <br>\n",
    "    <br>\n",
    "    <li><strong>Feature importance</strong>\n",
    "        <ul>\n",
    "    <li>Get top 10 important features for both positive and negative classes separately.</li>\n",
    "        </ul>\n",
    "    </li>\n",
    "    <br>\n",
    "    <li><strong>Feature engineering</strong>\n",
    "        <ul>\n",
    "    <li>To increase the performance of your model, you can also experiment with with feature engineering like :</li>\n",
    "            <ul>\n",
    "            <li>Taking length of reviews as another feature.</li>\n",
    "            <li>Considering some features from review summary as well.</li>\n",
    "        </ul>\n",
    "        </ul>\n",
    "    </li>\n",
    "    <br>\n",
    "    <li><strong>Representation of results</strong>\n",
    "        <ul>\n",
    "    <li>You need to plot the performance of model both on train data and cross validation data for each hyper parameter, like shown in the figure.\n",
    "    <img src='train_cv_auc.JPG' width=300px></li>\n",
    "    <li>Once after you found the best hyper parameter, you need to train your model with it, and find the AUC on test data and plot the ROC curve on both train and test.\n",
    "    <img src='train_test_auc.JPG' width=300px></li>\n",
    "    <li>Along with plotting ROC curve, you need to print the <a href='https://www.appliedaicourse.com/course/applied-ai-course-online/lessons/confusion-matrix-tpr-fpr-fnr-tnr-1/'>confusion matrix</a> with predicted and original labels of test data points. Please visualize your confusion matrices using <a href='https://seaborn.pydata.org/generated/seaborn.heatmap.html'>seaborn heatmaps.\n",
    "    <img src='confusion_matrix.png' width=300px></li>\n",
    "        </ul>\n",
    "    </li>\n",
    "    <br>\n",
    "    <li><strong>Conclusion</strong>\n",
    "        <ul>\n",
    "    <li>You need to summarize the results at the end of the notebook, summarize it in the table format. To print out a table please refer to this prettytable library<a href='http://zetcode.com/python/prettytable/'>  link</a> \n",
    "        <img src='summary.JPG' width=400px>\n",
    "    </li>\n",
    "        </ul>\n",
    "</ol>"
   ]
  },
  {
   "cell_type": "markdown",
   "metadata": {
    "colab_type": "text",
    "id": "gilb-DOVLPo2"
   },
   "source": [
    "<h4><font color='red'>Note: Data Leakage</font></h4>\n",
    "\n",
    "1. There will be an issue of data-leakage if you vectorize the entire data and then split it into train/cv/test.\n",
    "2. To avoid the issue of data-leakag, make sure to split your data first and then vectorize it. \n",
    "3. While vectorizing your data, apply the method fit_transform() on you train data, and apply the method transform() on cv/test data.\n",
    "4. For more details please go through this <a href='https://soundcloud.com/applied-ai-course/leakage-bow-and-tfidf'>link.</a>"
   ]
  },
  {
   "cell_type": "markdown",
   "metadata": {
    "colab_type": "text",
    "id": "jiYocvSHLPo4"
   },
   "source": [
    "# Applying Logistic Regression"
   ]
  },
  {
   "cell_type": "code",
   "execution_count": 33,
   "metadata": {},
   "outputs": [],
   "source": [
    "#Getting the necessary imports and function definations\n",
    "from sklearn.linear_model import LogisticRegression\n",
    "from sklearn.metrics import confusion_matrix\n",
    "from sklearn.metrics import roc_curve, auc\n",
    "from sklearn.metrics import roc_auc_score\n",
    "from scipy.stats import uniform\n",
    "from sklearn.model_selection import train_test_split\n",
    "from sklearn.model_selection import StratifiedKFold\n",
    "from sklearn.pipeline import Pipeline\n",
    "import os.path\n",
    "import pickle\n",
    "import pprint\n",
    "import math\n",
    "\n",
    "import warnings\n",
    "warnings.filterwarnings('ignore')"
   ]
  },
  {
   "cell_type": "markdown",
   "metadata": {},
   "source": [
    "### [5.0.0] Splitting up the Dataset into D_train and D_test"
   ]
  },
  {
   "cell_type": "code",
   "execution_count": 34,
   "metadata": {},
   "outputs": [],
   "source": [
    "num_data_points = 50000"
   ]
  },
  {
   "cell_type": "code",
   "execution_count": 35,
   "metadata": {},
   "outputs": [],
   "source": [
    "Dx_train, Dx_test, Dy_train, Dy_test = train_test_split(preprocessed_reviews[:num_data_points], final['Score'].tolist()[:num_data_points], test_size=0.30, random_state=42)"
   ]
  },
  {
   "cell_type": "code",
   "execution_count": 36,
   "metadata": {},
   "outputs": [],
   "source": [
    "prettytable_data = []"
   ]
  },
  {
   "cell_type": "markdown",
   "metadata": {},
   "source": [
    "### [5.0.1] Defining some functions to increase code reusability and readability"
   ]
  },
  {
   "cell_type": "code",
   "execution_count": 37,
   "metadata": {},
   "outputs": [],
   "source": [
    "'''Creating Custom Vectorizers for TFIDF - W2Vec and Avg - W2Vec'''\n",
    "class Tfidf_W2Vec_Vectorizer(object):\n",
    "    def __init__(self, w2vec_model):\n",
    "        if(w2v_model is None):\n",
    "            raise Exception('Word 2 Vector model passed to Tfidf_W2Vec Vectorizer is None !')\n",
    "        self.tfidf = TfidfVectorizer(max_features=300)\n",
    "        self.dictionary = None\n",
    "        self.tfidf_feat = None\n",
    "        \n",
    "        self.word2vec = w2vec_model\n",
    "        \n",
    "    def fit(self, X):\n",
    "        '''X : list'''\n",
    "        #Initializing the TFIDF Vectorizer\n",
    "        self.tfidf.fit_transform(X)\n",
    "        # we are converting a dictionary with word as a key, and the idf as a value\n",
    "        self.dictionary = dict(zip(self.tfidf.get_feature_names(), list(self.tfidf.idf_)))\n",
    "        self.tfidf_feat = self.tfidf.get_feature_names()\n",
    "        \n",
    "        return self\n",
    "\n",
    "    def transform(self, X):\n",
    "        '''X : list'''\n",
    "        return np.array([\n",
    "                np.mean([self.word2vec[w] * self.dictionary[word]*(X.cout(word)/len(X))\n",
    "                         for w in words if w in self.word2vec and w in self.tfidf_feat] or\n",
    "                        [np.zeros(300)], axis=0)\n",
    "                for words in X\n",
    "            ])\n",
    "\n",
    "class Avg_W2Vec_Vectorizer(object):\n",
    "    def __init__(self, w2vec_model):\n",
    "        if(w2v_model is None):\n",
    "            raise Exception('Word 2 Vector model passed to Avg_W2Vec Vectorizer is None !')\n",
    "        self.word2vec = w2vec_model\n",
    "\n",
    "    def fit(self, X):\n",
    "        return self\n",
    "\n",
    "    def transform(self, X):\n",
    "        '''X : list'''\n",
    "        return np.array([\n",
    "            np.mean([self.word2vec[w] for w in words if w in self.word2vec]\n",
    "                    or [np.zeros(300)], axis=0)\n",
    "            for words in X\n",
    "        ])"
   ]
  },
  {
   "cell_type": "code",
   "execution_count": 38,
   "metadata": {},
   "outputs": [],
   "source": [
    "def get_vectorizer(vectorizer, train, W2V_model=None):\n",
    "    if(vectorizer=='BOW'):\n",
    "        vectorizer = CountVectorizer(ngram_range=(1,2), min_df=10, max_features=1000)\n",
    "    if(vectorizer=='TFIDF'):\n",
    "        vectorizer = TfidfVectorizer(ngram_range=(1,2), min_df=10, max_features=1000)\n",
    "    if(vectorizer=='TFIDF-W2Vec'):\n",
    "        vectorizer = Tfidf_W2Vec_Vectorizer(W2V_model)\n",
    "    if(vectorizer=='Avg-W2Vec'):\n",
    "        vectorizer = Avg_W2Vec_Vectorizer(W2V_model)\n",
    "    \n",
    "    vectorizer.fit(train)\n",
    "    return vectorizer"
   ]
  },
  {
   "cell_type": "code",
   "execution_count": 39,
   "metadata": {},
   "outputs": [],
   "source": [
    "'''Perform Simple Cross Validation'''\n",
    "def perform_hyperparameter_tuning(X, Y, vectorizer, vec_name, penalty, results_path, retrain=False, W2V_model=None):\n",
    "    #If the pandas dataframe with the hyperparameter info exists then return it\n",
    "\n",
    "    if(retrain==False):\n",
    "        # If Cross Validation results exists then return them\n",
    "        if(os.path.exists(results_path)):\n",
    "            return pd.read_csv(results_path)\n",
    "        else:\n",
    "            # If no data exists but retrain=False then mention accordingly\n",
    "            print('Retrain is set to be False but no Cross Validation Results DataFrame was found !\\nPlease set retrain to True.')\n",
    "    else:\n",
    "        # else perform hyperparameter tuning\n",
    "        print('Performing Hyperparameter Tuning...\\n')\n",
    "        # regularization parameter\n",
    "        c = [0.0001, 0.001, 0.01, 0.05, 0.1, 0.5, 1, 5, 10, 50, 100, 500, 1000, 5000, 10000]\n",
    "        c.sort()\n",
    "        hyperparameters = {\n",
    "            'logistic__penalty' : penalty,\n",
    "            'logistic__C' : c\n",
    "        }\n",
    "\n",
    "        penalties = []\n",
    "        C_values = []\n",
    "\n",
    "        train_scores = []\n",
    "        test_scores = []\n",
    "\n",
    "        train_mean_score = []\n",
    "        test_mean_score = []\n",
    "\n",
    "        # Initializing KFold\n",
    "        skf = StratifiedKFold(n_splits=3)\n",
    "        X = np.array(X)\n",
    "        Y = np.array(Y)\n",
    "\n",
    "        saver = 0 # This is a counter variable that saves \n",
    "        for penalty in hyperparameters['logistic__penalty']:\n",
    "            for reg_param in hyperparameters['logistic__C']:\n",
    "                \n",
    "                #Performing Cross Validation\n",
    "                for train_index, test_index in skf.split(X, Y):\n",
    "                    Dx_train, Dx_cv = X[train_index], X[test_index]\n",
    "                    Dy_train, Dy_cv = Y[train_index], Y[test_index]\n",
    "\n",
    "                    #Initializing the Vectorizer\n",
    "                    vectorizer = get_vectorizer(vectorizer, Dx_train.tolist(), W2V_model)\n",
    "\n",
    "                    #Transforming the data to features\n",
    "                    x_train = vectorizer.transform(Dx_train.tolist())\n",
    "                    x_cv = vectorizer.transform(Dx_cv.tolist())\n",
    "\n",
    "                    #Initializing the LR model\n",
    "                    log_reg_model = LogisticRegression(penalty=penalty, C=reg_param, max_iter=1000, solver='saga')\n",
    "\n",
    "                    # Fit the model\n",
    "                    log_reg_model.fit(x_train, Dy_train)\n",
    "\n",
    "                    #Prediction\n",
    "                    train_results = log_reg_model.predict_proba(x_train)\n",
    "                    cv_results = log_reg_model.predict_proba(x_cv)\n",
    "\n",
    "                    try:\n",
    "                        train_score = roc_auc_score(Dy_train, train_results[:, 1])\n",
    "                        test_score = roc_auc_score(Dy_cv, cv_results[:, 1])\n",
    "\n",
    "                        #storing the results to form a dataframe\n",
    "                        train_scores.append(train_score)\n",
    "                        test_scores.append(test_score)\n",
    "\n",
    "                    except Exception as e:\n",
    "                        print('Error Case : ', e)\n",
    "                        print(('Actual, Predicted'))\n",
    "                        [print((Dy_cv[i], cv_results[i, 1])) for i in range(len(Dy_cv))]\n",
    "\n",
    "                    print('CV iteration : C={0}, solver={1}, train_score={2}, test_score={3}'\n",
    "                      .format(reg_param, 'saga', train_score, test_score))\n",
    "\n",
    "                train_mean_score.append(sum(train_scores)/len(train_scores))\n",
    "                test_mean_score.append(sum(test_scores)/len(test_scores))\n",
    "\n",
    "                penalties.append(penalty)\n",
    "                C_values.append(reg_param)\n",
    "\n",
    "                print('C={0}, penalty={1}, solver=\"saga\", train_score={2}, test_score={3}'\n",
    "                      .format(reg_param, penalty, sum(train_scores)/len(train_scores), sum(test_scores)/len(test_scores)))\n",
    "\n",
    "                saver += 1\n",
    "\n",
    "                if(saver==5):\n",
    "                    # after every period of 100 iterations keep saving the parameters and results \n",
    "                    # so as to avoid data loss in case of system crash\n",
    "                    with open('saved_temp_data/{0}_penalties.pkl'.format(vec_name), 'wb') as file:\n",
    "                        pickle.dump(penalties, file)\n",
    "                    with open('saved_temp_data/{0}_reg_params.pkl'.format(vec_name), 'wb') as file:\n",
    "                        pickle.dump(C_values, file)\n",
    "                    with open('saved_temp_data/{0}_train_mean_score.pkl'.format(vec_name), 'wb') as file:\n",
    "                        pickle.dump(train_mean_score, file)\n",
    "                    with open('saved_temp_data/{0}_test_mean_score.pkl'.format(vec_name), 'wb') as file:\n",
    "                        pickle.dump(test_mean_score, file)\n",
    "                    saver = 0\n",
    "\n",
    "                train_scores = []\n",
    "                test_scores = []\n",
    "        try:\n",
    "            # Attempting to load saved data\n",
    "            # Load data from the saved files\n",
    "            with open('saved_temp_data/{0}_penalties.pkl'.format(vec_name), 'rb') as file:\n",
    "                penalties = pickle.load(file)\n",
    "            with open('saved_temp_data/{0}_reg_params.pkl'.format(vec_name), 'rb') as file:\n",
    "                C_values = pickle.load(file)\n",
    "            with open('saved_temp_data/{0}_train_mean_score.pkl'.format(vec_name), 'rb') as file:\n",
    "                train_mean_score = pickle.load(file)\n",
    "            with open('saved_temp_data/{0}_test_mean_score.pkl'.format(vec_name), 'rb') as file:\n",
    "                test_mean_score = pickle.load(file)\n",
    "        except Exception as ex:\n",
    "            print('Failed to load saved data from temp files')\n",
    "        # Creating a DataFrame from the saved data for visualization\n",
    "        results_df = pd.DataFrame({'C' : C_values, 'penalty' : penalties, \n",
    "                                   'solver' : ['saga' for i in C_values], 'train_score' : train_mean_score, \n",
    "                                   'test_score': test_mean_score})\n",
    "        \n",
    "        try:\n",
    "            # Attempting to remove the temporary files\n",
    "            os.remove('saved_temp_data/{0}_penalties.pkl'.format(vec_name))\n",
    "            os.remove('saved_temp_data/{0}_reg_params.pkl'.format(vec_name))\n",
    "            os.remove('saved_temp_data/{0}_train_mean_score.pkl'.format(vec_name))\n",
    "            os.remove('saved_temp_data/{0}_test_mean_score.pkl'.format(vec_name))\n",
    "        except Exception as e:\n",
    "            print('Error occurred while attempting to remove the temporary files')\n",
    "\n",
    "        #writing the results to csv after performing hyperparameter tuning\n",
    "        try:\n",
    "            results_df.to_csv(results_path)\n",
    "        except Exception as ex:\n",
    "            print(str(ex), \"\\nError occured while converting DataFrame to CSV after cross validation.\")\n",
    "        return results_df"
   ]
  },
  {
   "cell_type": "code",
   "execution_count": 40,
   "metadata": {},
   "outputs": [],
   "source": [
    "def analyse_results(df):\n",
    "    # plotting error curves\n",
    "    fig = plt.figure()\n",
    "    ax = fig.gca()\n",
    "\n",
    "    plt.plot([math.log10(i) for i in df.C.tolist()], df.test_score.tolist(), '-o', c='b', label='Validation AUC')\n",
    "    plt.plot([math.log10(i) for i in df.C.tolist()], df.train_score.tolist(), '-o', c='r', label='Train AUC')\n",
    "    plt.grid(True)\n",
    "    plt.xlabel('log10 of Hyperparameter C = 1/alpha')\n",
    "    plt.ylabel('Area Under ROC Curve')\n",
    "    plt.title('AUC ROC Curve for Logistic Regression')\n",
    "    plt.legend(loc='best')\n",
    "    plt.show()\n",
    "    \n",
    "    # return the best parameters\n",
    "    mmax = 0\n",
    "    ind_max = 0\n",
    "    for index, row in df.iterrows():\n",
    "        if(row['test_score']>mmax):\n",
    "            mmax=row['test_score']\n",
    "            ind_max = index\n",
    "        \n",
    "        \n",
    "    best_params = {\n",
    "        'logistic__C':df.loc[ind_max, 'C'], \n",
    "        'logistic__penalty':df.loc[ind_max, 'penalty'], \n",
    "        'logistic__solver':df.loc[ind_max, 'solver']\n",
    "    }\n",
    "    \n",
    "    return best_params"
   ]
  },
  {
   "cell_type": "code",
   "execution_count": 41,
   "metadata": {},
   "outputs": [],
   "source": [
    "def retrain_with_best_params(data, labels, best_params, vec_name, model_path, word2vec):\n",
    "    if(os.path.exists(model_path)):\n",
    "        print('Loading Model....')\n",
    "        with open(model_path, 'rb') as input_file:\n",
    "            clf = pickle.load(input_file)\n",
    "    else:\n",
    "        clf = LogisticRegression(penalty=best_params['logistic__penalty'], \n",
    "                                 C = best_params['logistic__C'], \n",
    "                                 solver=best_params['logistic__solver'], max_iter=1000)\n",
    "        print('Initializing Vectorizer')\n",
    "        vectorizer = get_vectorizer(vectorizer=vec_name, train=data, W2V_model=word2vec)\n",
    "        print('Training Model....')\n",
    "        clf.fit(vectorizer.transform(data), np.array(labels))\n",
    "    \n",
    "        print('Saving Trained Model....')\n",
    "        with open(model_path,'wb') as file:\n",
    "            pickle.dump(clf,file)\n",
    "    return clf"
   ]
  },
  {
   "cell_type": "code",
   "execution_count": 42,
   "metadata": {},
   "outputs": [],
   "source": [
    "def plot_confusion_matrix(model, data, labels, dataset_label):\n",
    "    pred = model.predict(data)\n",
    "    conf_mat = confusion_matrix(labels, pred)\n",
    "    \n",
    "    strings = strings = np.asarray([['TN = ', 'FP = '],\n",
    "                                    ['FN = ', 'TP = ']])\n",
    "\n",
    "    labels = (np.asarray([\"{0}{1}\".format(string, value)\n",
    "                          for string, value in zip(strings.flatten(),\n",
    "                                                   conf_mat.flatten())])\n",
    "             ).reshape(2, 2)\n",
    "\n",
    "    fig, ax = plt.subplots()\n",
    "    ax.set(xlabel='Predicted', ylabel='Actual', title='Confusion Matrix : {0}'.format(dataset_label))\n",
    "    sns.heatmap(conf_mat, annot=labels, fmt=\"\", cmap='YlGnBu', ax=ax)\n",
    "    ax.set_xlabel('Predicted')\n",
    "    ax.set_ylabel('Actual')\n",
    "    ax.set_xticklabels(['False', 'True'])\n",
    "    ax.set_yticklabels(['False', 'True'])\n",
    "    plt.show()"
   ]
  },
  {
   "cell_type": "code",
   "execution_count": 43,
   "metadata": {},
   "outputs": [],
   "source": [
    "def plot_AUC_ROC(model, vectorizer, Dx_train, Dx_test, Dy_train, Dy_test):\n",
    "    \n",
    "    #predicting probability of Dx_test, Dx_train\n",
    "    test_score = model.predict_proba(vectorizer.transform(Dx_test))\n",
    "    train_score = model.predict_proba(vectorizer.transform(Dx_train))\n",
    "\n",
    "    #Finding out the ROC_AUC_SCORE\n",
    "    train_roc_auc_score = roc_auc_score(np.array(Dy_train), train_score[:, 1])\n",
    "    print('Area Under the Curve for Train : ', train_roc_auc_score)\n",
    "    test_roc_auc_score = roc_auc_score(np.array(Dy_test), test_score[:, 1])\n",
    "    print('Area Under the Curve for Test : ', test_roc_auc_score)\n",
    "\n",
    "    #Plotting with matplotlib.pyplot\n",
    "    #ROC Curve for D-train\n",
    "    train_fpr, train_tpr, thresholds = roc_curve(np.array(Dy_train), train_score[:, 1])\n",
    "    plt.plot(train_fpr, train_tpr, label=\"train AUC =\"+str(auc(train_fpr, train_tpr)))\n",
    "\n",
    "    # #ROC Curve for D-test\n",
    "    test_fpr, test_tpr, thresholds = roc_curve(np.array(Dy_test), test_score[:, 1])\n",
    "    plt.plot(test_fpr, test_tpr, label=\"train AUC =\"+str(auc(test_fpr, test_tpr)))\n",
    "    \n",
    "    plt.legend()\n",
    "    plt.xlabel(\"FPR : False Positive Ratio\")\n",
    "    plt.ylabel(\"TPF : True Positive Ratio\")\n",
    "    plt.title(\"Area Under ROC Curve\")\n",
    "    plt.show()\n",
    "    \n",
    "    plot_confusion_matrix(model, vectorizer.transform(Dx_train), np.array(Dy_train), 'Training')\n",
    "    plot_confusion_matrix(model, vectorizer.transform(Dx_test), np.array(Dy_test), 'Testing')\n",
    "    return train_roc_auc_score, test_roc_auc_score"
   ]
  },
  {
   "cell_type": "markdown",
   "metadata": {
    "colab_type": "text",
    "id": "LE_XPVZJLPo4"
   },
   "source": [
    "## [5.1.0] Logistic Regression on BOW,<font color='red'> SET 1</font>"
   ]
  },
  {
   "cell_type": "markdown",
   "metadata": {
    "colab_type": "text",
    "id": "_iciJvj2LPo4"
   },
   "source": [
    "### [5.1.0] Applying Logistic Regression with L1 regularization on BOW,<font color='red'> SET 1</font>"
   ]
  },
  {
   "cell_type": "code",
   "execution_count": 44,
   "metadata": {
    "colab": {},
    "colab_type": "code",
    "id": "MyOVi-xYLPo5",
    "scrolled": false
   },
   "outputs": [
    {
     "name": "stdout",
     "output_type": "stream",
     "text": [
      "Performing Hyperparameter Tuning...\n",
      "\n",
      "CV iteration : C=0.0001, solver=saga, train_score=0.5, test_score=0.5\n",
      "CV iteration : C=0.0001, solver=saga, train_score=0.5, test_score=0.5\n",
      "CV iteration : C=0.0001, solver=saga, train_score=0.5, test_score=0.5\n",
      "C=0.0001, penalty=l1, solver=\"saga\", train_score=0.5, test_score=0.5\n",
      "CV iteration : C=0.001, solver=saga, train_score=0.5, test_score=0.5\n",
      "CV iteration : C=0.001, solver=saga, train_score=0.5, test_score=0.5\n",
      "CV iteration : C=0.001, solver=saga, train_score=0.5, test_score=0.5\n",
      "C=0.001, penalty=l1, solver=\"saga\", train_score=0.5, test_score=0.5\n",
      "CV iteration : C=0.01, solver=saga, train_score=0.8244418426264546, test_score=0.8206521350463867\n",
      "CV iteration : C=0.01, solver=saga, train_score=0.8247320630638473, test_score=0.8115282727301397\n",
      "CV iteration : C=0.01, solver=saga, train_score=0.8239450915217509, test_score=0.8342770795735517\n",
      "C=0.01, penalty=l1, solver=\"saga\", train_score=0.8243729990706843, test_score=0.8221524957833592\n",
      "CV iteration : C=0.05, solver=saga, train_score=0.9019193121821065, test_score=0.8900017362818784\n",
      "CV iteration : C=0.05, solver=saga, train_score=0.9036854023941612, test_score=0.8929765991173686\n",
      "CV iteration : C=0.05, solver=saga, train_score=0.9015880912165825, test_score=0.8944236887819996\n",
      "C=0.05, penalty=l1, solver=\"saga\", train_score=0.9023976019309501, test_score=0.8924673413937488\n",
      "CV iteration : C=0.1, solver=saga, train_score=0.9216839057870274, test_score=0.904673406082098\n",
      "CV iteration : C=0.1, solver=saga, train_score=0.9250289150594848, test_score=0.9067020480505752\n",
      "CV iteration : C=0.1, solver=saga, train_score=0.9226615530566592, test_score=0.9074329242440728\n",
      "C=0.1, penalty=l1, solver=\"saga\", train_score=0.9231247913010572, test_score=0.9062694594589153\n",
      "CV iteration : C=0.5, solver=saga, train_score=0.9386440024187235, test_score=0.9132814250313697\n",
      "CV iteration : C=0.5, solver=saga, train_score=0.9453715094188645, test_score=0.9136703005877918\n",
      "CV iteration : C=0.5, solver=saga, train_score=0.9414061945871383, test_score=0.9120772707830727\n",
      "C=0.5, penalty=l1, solver=\"saga\", train_score=0.9418072354749087, test_score=0.9130096654674112\n",
      "CV iteration : C=1, solver=saga, train_score=0.9399987308443226, test_score=0.912962159020207\n",
      "CV iteration : C=1, solver=saga, train_score=0.9469477978390353, test_score=0.9117054942359779\n",
      "CV iteration : C=1, solver=saga, train_score=0.9427849911503553, test_score=0.9107327775422377\n",
      "C=1, penalty=l1, solver=\"saga\", train_score=0.9432438399445711, test_score=0.9118001435994741\n",
      "CV iteration : C=5, solver=saga, train_score=0.9406982466599663, test_score=0.9121590846875297\n",
      "CV iteration : C=5, solver=saga, train_score=0.9476213150152841, test_score=0.9093168463540602\n",
      "CV iteration : C=5, solver=saga, train_score=0.9434832554898338, test_score=0.9093009338641114\n",
      "C=5, penalty=l1, solver=\"saga\", train_score=0.9439342723883614, test_score=0.9102589549685671\n",
      "CV iteration : C=10, solver=saga, train_score=0.9407587294022335, test_score=0.9120484128378876\n",
      "CV iteration : C=10, solver=saga, train_score=0.9476632440498435, test_score=0.908975100123439\n",
      "CV iteration : C=10, solver=saga, train_score=0.9435407456468976, test_score=0.9091136287317984\n",
      "C=10, penalty=l1, solver=\"saga\", train_score=0.9439875730329915, test_score=0.9100457138977083\n",
      "CV iteration : C=50, solver=saga, train_score=0.9407979911581177, test_score=0.9119495819382603\n",
      "CV iteration : C=50, solver=saga, train_score=0.9476800684230258, test_score=0.9086925000243267\n",
      "CV iteration : C=50, solver=saga, train_score=0.9435776899971288, test_score=0.9089456110450347\n",
      "C=50, penalty=l1, solver=\"saga\", train_score=0.9440185831927574, test_score=0.9098625643358739\n",
      "CV iteration : C=100, solver=saga, train_score=0.9408030619186761, test_score=0.911937506513988\n",
      "CV iteration : C=100, solver=saga, train_score=0.9476835270920771, test_score=0.9086536945346747\n",
      "CV iteration : C=100, solver=saga, train_score=0.943581661404869, test_score=0.9089247993636667\n",
      "C=100, penalty=l1, solver=\"saga\", train_score=0.9440227501385409, test_score=0.9098386668041097\n",
      "CV iteration : C=500, solver=saga, train_score=0.9408071507689529, test_score=0.9119302378119988\n",
      "CV iteration : C=500, solver=saga, train_score=0.947682427938777, test_score=0.908625850716571\n",
      "CV iteration : C=500, solver=saga, train_score=0.9435838742556762, test_score=0.9089081500185722\n",
      "C=500, penalty=l1, solver=\"saga\", train_score=0.9440244843211354, test_score=0.9098214128490473\n",
      "CV iteration : C=1000, solver=saga, train_score=0.9408063007570675, test_score=0.911929710244919\n",
      "CV iteration : C=1000, solver=saga, train_score=0.9476834831259451, test_score=0.9086211612314166\n",
      "CV iteration : C=1000, solver=saga, train_score=0.943584929389836, test_score=0.9089057464159354\n",
      "C=1000, penalty=l1, solver=\"saga\", train_score=0.9440249044242828, test_score=0.9098188726307569\n",
      "CV iteration : C=5000, solver=saga, train_score=0.9408073412888583, test_score=0.9119239656256048\n",
      "CV iteration : C=5000, solver=saga, train_score=0.9476831167415117, test_score=0.9086197543858704\n",
      "CV iteration : C=5000, solver=saga, train_score=0.9435839035649584, test_score=0.9089054532936626\n",
      "C=5000, penalty=l1, solver=\"saga\", train_score=0.9440247871984427, test_score=0.9098163911017125\n",
      "CV iteration : C=10000, solver=saga, train_score=0.9408075611195184, test_score=0.9119204485117391\n",
      "CV iteration : C=10000, solver=saga, train_score=0.9476830141538704, test_score=0.9086182889217596\n",
      "CV iteration : C=10000, solver=saga, train_score=0.9435859991786366, test_score=0.908904046306753\n",
      "C=10000, penalty=l1, solver=\"saga\", train_score=0.9440255248173418, test_score=0.9098142612467507\n"
     ]
    },
    {
     "data": {
      "image/png": "[encoded data removed]",
      "text/plain": [
       "<Figure size 432x288 with 1 Axes>"
      ]
     },
     "metadata": {
      "needs_background": "light"
     },
     "output_type": "display_data"
    },
    {
     "name": "stdout",
     "output_type": "stream",
     "text": [
      "{'logistic__C': 0.5, 'logistic__penalty': 'l1', 'logistic__solver': 'saga'}\n",
      "Initializing Vectorizer\n",
      "Training Model....\n",
      "Saving Trained Model....\n",
      "Retraining Vectorizer with Dx_train\n",
      "Area Under the Curve for Train :  0.9373688316842859\n",
      "Area Under the Curve for Test :  0.9122061345473661\n"
     ]
    },
    {
     "data": {
      "image/png": "[encoded data removed]",
      "text/plain": [
       "<Figure size 432x288 with 1 Axes>"
      ]
     },
     "metadata": {
      "needs_background": "light"
     },
     "output_type": "display_data"
    },
    {
     "data": {
      "image/png": "[encoded data removed]",
      "text/plain": [
       "<Figure size 432x288 with 2 Axes>"
      ]
     },
     "metadata": {
      "needs_background": "light"
     },
     "output_type": "display_data"
    },
    {
     "data": {
      "image/png": "[encoded data removed]",
      "text/plain": [
       "<Figure size 432x288 with 2 Axes>"
      ]
     },
     "metadata": {
      "needs_background": "light"
     },
     "output_type": "display_data"
    }
   ],
   "source": [
    "# Please write all the code with proper documentation\n",
    "csv_path = 'saved_models/Assignment5/BOW_log_reg_results_l1.csv'\n",
    "cv_results = perform_hyperparameter_tuning(X=Dx_train, Y=Dy_train, vectorizer='BOW', vec_name='BOW', \n",
    "                                           penalty=['l1'], results_path=csv_path, retrain=True, W2V_model=None)\n",
    "# Analysing best parameters\n",
    "best_parameters = analyse_results(cv_results)\n",
    "pprint.pprint(best_parameters)\n",
    "# retraining the model with best parameters\n",
    "model_path = 'saved_models/Assignment5/{0}_log_reg_l1.pkl'.format('BOW')\n",
    "log_reg = retrain_with_best_params(Dx_train, Dy_train, best_parameters, 'BOW', model_path, None)\n",
    "\n",
    "print('Retraining Vectorizer with Dx_train')\n",
    "vectorizer_obj = get_vectorizer(W2V_model = None, train=Dx_train, vectorizer='BOW')\n",
    "\n",
    "# plotting AUC ROC \n",
    "train_score, test_score = plot_AUC_ROC(log_reg, vectorizer_obj, Dx_train, Dx_test, Dy_train, Dy_test)\n",
    "\n",
    "# appending the data results\n",
    "# prettytable_data.append(['BOW', 'LogisticRegression', 'L1', best_parameters['logistic__C'], train_score, test_score])"
   ]
  },
  {
   "cell_type": "markdown",
   "metadata": {
    "colab_type": "text",
    "id": "5h4NhywcLPo7"
   },
   "source": [
    "#### [5.1.0.1] Calculating sparsity on weight vector obtained using L1 regularization on BOW,<font color='red'> SET 1</font>"
   ]
  },
  {
   "cell_type": "code",
   "execution_count": 45,
   "metadata": {
    "colab": {},
    "colab_type": "code",
    "id": "-mmdLzUALPo-"
   },
   "outputs": [
    {
     "name": "stdout",
     "output_type": "stream",
     "text": [
      "Sparsity of the weight vector by L1 reguralization is :  0.137\n"
     ]
    }
   ],
   "source": [
    "# # Please write all the code with proper documentation\n",
    "# # fetching the coeff and calculating sparsity\n",
    "weights = log_reg.coef_\n",
    "elements = (weights.shape[0]*weights.shape[1])\n",
    "zeroes = elements - np.count_nonzero(weights)\n",
    "sparsity = zeroes/elements\n",
    "print('Sparsity of the weight vector by L1 reguralization is : ', sparsity)"
   ]
  },
  {
   "cell_type": "markdown",
   "metadata": {
    "colab_type": "text",
    "id": "eB1rF0BQLPpG"
   },
   "source": [
    "### [5.1.0.2] Feature Importance on BOW,<font color='red'> SET 1</font>"
   ]
  },
  {
   "cell_type": "code",
   "execution_count": 46,
   "metadata": {
    "colab": {},
    "colab_type": "code",
    "id": "oGRpCVJgLPpI"
   },
   "outputs": [],
   "source": [
    "# Please write all the code with proper documentation\n",
    "feature_names = vectorizer_obj.get_feature_names()\n",
    "weights = np.reshape(log_reg.coef_,(log_reg.coef_.shape[1], log_reg.coef_.shape[0]))\n",
    "\n",
    "# making a list of feature names along with their feature weights\n",
    "features_with_weights = [(feature_names[i],weights[i]) for i in range(len(feature_names))]\n",
    "features_with_weights.sort(key=lambda x : abs(x[1][0]), reverse=True)"
   ]
  },
  {
   "cell_type": "markdown",
   "metadata": {
    "colab_type": "text",
    "id": "JZTP19dqLPpI"
   },
   "source": [
    "#### [5.1.0.2.1] Top 10 important features of positive class from<font color='red'> SET 1</font>"
   ]
  },
  {
   "cell_type": "code",
   "execution_count": 47,
   "metadata": {},
   "outputs": [
    {
     "name": "stdout",
     "output_type": "stream",
     "text": [
      "Top 10 features of positive class with the feature names : \n",
      "excellent  :  1.9753053108460117\n",
      "delicious  :  1.8589530909799676\n",
      "pleased  :  1.8324072393701578\n",
      "loves  :  1.6731939586153268\n",
      "perfect  :  1.5793338333615692\n",
      "awesome  :  1.5033011438383237\n",
      "keeps  :  1.4020567949287117\n",
      "best  :  1.4003388186598489\n",
      "wonderful  :  1.3736884238797988\n",
      "amazing  :  1.3533707686471173\n"
     ]
    }
   ],
   "source": [
    "positive_weights = [i for i in features_with_weights if i[1][0]>=0]\n",
    "print('Top 10 features of positive class with the feature names : ')\n",
    "for i in positive_weights[:10]:\n",
    "    print(i[0],' : ',i[1][0])"
   ]
  },
  {
   "cell_type": "markdown",
   "metadata": {
    "colab_type": "text",
    "id": "UJLYBE1gLPpJ"
   },
   "source": [
    "#### [5.1.0.2.2] Top 10 important features of negative class from<font color='red'> SET 1</font>"
   ]
  },
  {
   "cell_type": "code",
   "execution_count": 48,
   "metadata": {},
   "outputs": [
    {
     "name": "stdout",
     "output_type": "stream",
     "text": [
      "Top 10 features of negative class with the feature names : \n",
      "terrible  :  -1.906277472024034\n",
      "awful  :  -1.7446309138069729\n",
      "not buy  :  -1.5747627365624441\n",
      "unfortunately  :  -1.511689812131779\n",
      "not good  :  -1.4807794459805517\n",
      "disappointed  :  -1.4336116407383688\n",
      "horrible  :  -1.3764205956238866\n",
      "money  :  -1.225686396423233\n",
      "bland  :  -1.0690434464749512\n",
      "ended  :  -0.929604547728539\n"
     ]
    }
   ],
   "source": [
    "negative_weights = [i for i in features_with_weights if i[1][0]<0]\n",
    "print('Top 10 features of negative class with the feature names : ')\n",
    "for i in negative_weights[:10]:\n",
    "    print(i[0],' : ',i[1][0])"
   ]
  },
  {
   "cell_type": "markdown",
   "metadata": {
    "colab_type": "text",
    "id": "UaJkugTKLPpE"
   },
   "source": [
    "#### [5.1.0.2.3] Performing pertubation test (multicollinearity check) on BOW,<font color='red'> SET 1</font>"
   ]
  },
  {
   "cell_type": "code",
   "execution_count": 49,
   "metadata": {},
   "outputs": [],
   "source": [
    "# Get the weights W after fit your model with the data X i.e Train data.\n",
    "# Add a noise to the X (X' = X + e) and get the new data set X' (if X is a sparse matrix, X.data+=e)\n",
    "# Fit the model again on data X' and get the weights W'\n",
    "# Add a small eps value(to eliminate the divisible by zero error) to W and W’ i.e W=W+10^-6 and W’ = W’+10^-6\n",
    "# Now find the % change between W and W' (| (W-W') / (W) |)*100)\n",
    "# Calculate the 0th, 10th, 20th, 30th, ...100th percentiles, and observe any sudden rise in the values of percentage_change_vector\n",
    "# Ex: consider your 99th percentile is 1.3 and your 100th percentiles are 34.6, there is sudden rise from 1.3 to 34.6, now calculate the 99.1, 99.2, 99.3,..., 100th percentile values and get the proper value after which there is sudden rise the values, assume it is 2.5\n",
    "# Print the feature names whose % change is more than a threshold x(in our example it's 2.5)"
   ]
  },
  {
   "cell_type": "code",
   "execution_count": 50,
   "metadata": {},
   "outputs": [],
   "source": [
    "def pertubation_test(model, features, labels, features_with_weights):\n",
    "    \n",
    "    # saving initial model weights\n",
    "    W = model.coef_\n",
    "    \n",
    "    # change the data slightly\n",
    "    print('Adding noise to features...')\n",
    "    noise = np.random.normal(0,0.1,features.shape[0]*features.shape[1])\n",
    "    noise = np.reshape(noise, features.shape)\n",
    "    features = features + noise\n",
    "    \n",
    "    # retraining the model with the new features formed by adding errors \n",
    "    print('Retraining model...')\n",
    "    model.fit(features, labels)\n",
    "    \n",
    "    # getting the model weights after retraining\n",
    "    print('Calculating model weights percentage change...')\n",
    "    _W = model.coef_\n",
    "    epsilon_val = np.random.normal(0, 0.000005, model.coef_.shape[0]*model.coef_.shape[1])\n",
    "    epsilon_val = np.reshape(epsilon_val, _W.shape)\n",
    "    _W = _W + epsilon_val\n",
    "    W = W + epsilon_val\n",
    "    \n",
    "    percent_change = abs((W-_W)/W)*100\n",
    "#     0 : feature name\n",
    "#     1 : percent change\n",
    "    feature_percent_change = [(features_with_weights[i][0], percent_change[0][i])for i in range(percent_change.shape[1])]\n",
    "    \n",
    "    # sorting the data according to the weight values\n",
    "    feature_percent_change.sort(key=lambda x: x[1])\n",
    "    \n",
    "    # calculating percentile values and displaying\n",
    "    print('Percentile values of some intervals')\n",
    "    for i in range(0, 100, 10):\n",
    "        index = int((i/100)*(percent_change.shape[1]+1))\n",
    "        print('{0} th percentile : '.format(i),feature_percent_change[index])\n",
    "        \n",
    "    # printing those feature names with percent change difference above threshold\n",
    "    print('Percent Change above threshold = 2.5')\n",
    "    for i in range(1, 100):\n",
    "        indexi = int((i/100)*(percent_change.shape[1]+1))\n",
    "        indexi_ = int(((i-1)/100)*(percent_change.shape[1]+1))\n",
    "        difference = abs(feature_percent_change[indexi][1]-feature_percent_change[indexi_][1])\n",
    "        if(difference > 2.5):   # taking threshold of 2.5\n",
    "            print('\\n{0} th percentile : '.format(i-1),feature_percent_change[indexi_])\n",
    "            print('{0} th percentile : '.format(i),feature_percent_change[indexi])"
   ]
  },
  {
   "cell_type": "code",
   "execution_count": 51,
   "metadata": {
    "scrolled": false
   },
   "outputs": [
    {
     "name": "stdout",
     "output_type": "stream",
     "text": [
      "Adding noise to features...\n",
      "Retraining model...\n",
      "Calculating model weights percentage change...\n",
      "Percentile values of some intervals\n",
      "0 th percentile :  ('keeps', 0.0)\n",
      "10 th percentile :  ('spice', 7.426537586476137)\n",
      "20 th percentile :  ('not eat', 21.118749524096533)\n",
      "30 th percentile :  ('tea bags', 31.57523264918191)\n",
      "40 th percentile :  ('bite', 41.16511261235236)\n",
      "50 th percentile :  ('yes', 52.37539559627573)\n",
      "60 th percentile :  ('least', 66.50152315798424)\n",
      "70 th percentile :  ('apple', 91.66743791896737)\n",
      "80 th percentile :  ('house', 113.70426985541637)\n",
      "90 th percentile :  ('food', 299628.3570150673)\n",
      "Percent Change above threshold = 2.5\n",
      "\n",
      "63 th percentile :  ('worked', 72.13567526873742)\n",
      "64 th percentile :  ('milk', 75.26485866456457)\n",
      "\n",
      "65 th percentile :  ('fun', 76.49652010742746)\n",
      "66 th percentile :  ('touch', 79.67994081218664)\n",
      "\n",
      "66 th percentile :  ('touch', 79.67994081218664)\n",
      "67 th percentile :  ('opened', 83.96846207049516)\n",
      "\n",
      "67 th percentile :  ('opened', 83.96846207049516)\n",
      "68 th percentile :  ('cheaper', 86.85848087514947)\n",
      "\n",
      "68 th percentile :  ('cheaper', 86.85848087514947)\n",
      "69 th percentile :  ('serving', 90.12445915407207)\n",
      "\n",
      "70 th percentile :  ('apple', 91.66743791896737)\n",
      "71 th percentile :  ('varieties', 95.16785731890529)\n",
      "\n",
      "71 th percentile :  ('varieties', 95.16785731890529)\n",
      "72 th percentile :  ('hooked', 98.91544871834057)\n",
      "\n",
      "79 th percentile :  ('easy make', 102.28756771874497)\n",
      "80 th percentile :  ('house', 113.70426985541637)\n",
      "\n",
      "80 th percentile :  ('house', 113.70426985541637)\n",
      "81 th percentile :  ('mean', 124.1882682730498)\n",
      "\n",
      "81 th percentile :  ('mean', 124.1882682730498)\n",
      "82 th percentile :  ('room', 142.97938447766813)\n",
      "\n",
      "82 th percentile :  ('room', 142.97938447766813)\n",
      "83 th percentile :  ('soft', 165.07956862597618)\n",
      "\n",
      "83 th percentile :  ('soft', 165.07956862597618)\n",
      "84 th percentile :  ('cocoa', 217.64991389179227)\n",
      "\n",
      "84 th percentile :  ('cocoa', 217.64991389179227)\n",
      "85 th percentile :  ('dogs love', 306.09064033396805)\n",
      "\n",
      "85 th percentile :  ('dogs love', 306.09064033396805)\n",
      "86 th percentile :  ('ok', 368.8947319406195)\n",
      "\n",
      "86 th percentile :  ('ok', 368.8947319406195)\n",
      "87 th percentile :  ('children', 425.15531719705876)\n",
      "\n",
      "87 th percentile :  ('children', 425.15531719705876)\n",
      "88 th percentile :  ('excellent', 985.4557058363861)\n",
      "\n",
      "88 th percentile :  ('excellent', 985.4557058363861)\n",
      "89 th percentile :  ('due', 35268.29847831288)\n",
      "\n",
      "89 th percentile :  ('due', 35268.29847831288)\n",
      "90 th percentile :  ('food', 299628.3570150673)\n",
      "\n",
      "90 th percentile :  ('food', 299628.3570150673)\n",
      "91 th percentile :  ('best', 511176.085627835)\n",
      "\n",
      "91 th percentile :  ('best', 511176.085627835)\n",
      "92 th percentile :  ('daughter', 746075.4445921665)\n",
      "\n",
      "92 th percentile :  ('daughter', 746075.4445921665)\n",
      "93 th percentile :  ('always', 987063.9099715654)\n",
      "\n",
      "93 th percentile :  ('always', 987063.9099715654)\n",
      "94 th percentile :  ('though', 1521587.0195252018)\n",
      "\n",
      "94 th percentile :  ('though', 1521587.0195252018)\n",
      "95 th percentile :  ('crazy', 2276999.184031091)\n",
      "\n",
      "95 th percentile :  ('crazy', 2276999.184031091)\n",
      "96 th percentile :  ('flavors', 2903741.576993312)\n",
      "\n",
      "96 th percentile :  ('flavors', 2903741.576993312)\n",
      "97 th percentile :  ('thin', 4680354.412447514)\n",
      "\n",
      "97 th percentile :  ('thin', 4680354.412447514)\n",
      "98 th percentile :  ('bags', 7390505.314619637)\n",
      "\n",
      "98 th percentile :  ('bags', 7390505.314619637)\n",
      "99 th percentile :  ('eggs', 23824140.225007847)\n"
     ]
    }
   ],
   "source": [
    "pertubation_test(log_reg, vectorizer_obj.transform(Dx_train), Dy_train, features_with_weights)"
   ]
  },
  {
   "cell_type": "markdown",
   "metadata": {},
   "source": [
    "These are some of the features showing multicolinearity and hence we cant give feature importance or interpretability."
   ]
  },
  {
   "cell_type": "markdown",
   "metadata": {
    "colab_type": "text",
    "id": "aRHMa52qLPpA"
   },
   "source": [
    "### [5.1.2] Applying Logistic Regression with L2 regularization on BOW,<font color='red'> SET 1</font>"
   ]
  },
  {
   "cell_type": "code",
   "execution_count": 52,
   "metadata": {
    "colab": {},
    "colab_type": "code",
    "id": "GBbb9lxlLPpB",
    "scrolled": false
   },
   "outputs": [
    {
     "name": "stdout",
     "output_type": "stream",
     "text": [
      "Performing Hyperparameter Tuning...\n",
      "\n",
      "CV iteration : C=0.0001, solver=saga, train_score=0.8159612740447112, test_score=0.8106169005996797\n",
      "CV iteration : C=0.0001, solver=saga, train_score=0.7929317408214105, test_score=0.7831302454089647\n",
      "CV iteration : C=0.0001, solver=saga, train_score=0.8173374823748631, test_score=0.8193021954623735\n",
      "C=0.0001, penalty=l2, solver=\"saga\", train_score=0.8087434990803283, test_score=0.8043497804903392\n",
      "CV iteration : C=0.001, solver=saga, train_score=0.8712384409375105, test_score=0.860243025533895\n",
      "CV iteration : C=0.001, solver=saga, train_score=0.8698574061095923, test_score=0.8588909297267753\n",
      "CV iteration : C=0.001, solver=saga, train_score=0.8717808662792136, test_score=0.8685041173126925\n",
      "C=0.001, penalty=l2, solver=\"saga\", train_score=0.8709589044421054, test_score=0.862546024191121\n",
      "CV iteration : C=0.01, solver=saga, train_score=0.9184452432602117, test_score=0.9019696541070921\n",
      "CV iteration : C=0.01, solver=saga, train_score=0.9219529198934143, test_score=0.9044865594079807\n",
      "CV iteration : C=0.01, solver=saga, train_score=0.9194468596921284, test_score=0.9049199283749864\n",
      "C=0.01, penalty=l2, solver=\"saga\", train_score=0.9199483409485848, test_score=0.9037920472966864\n",
      "CV iteration : C=0.05, solver=saga, train_score=0.9332984388798955, test_score=0.9113376041256214\n",
      "CV iteration : C=0.05, solver=saga, train_score=0.9385647314827107, test_score=0.9128870686391735\n",
      "CV iteration : C=0.05, solver=saga, train_score=0.935156004809536, test_score=0.9102003502459413\n",
      "C=0.05, penalty=l2, solver=\"saga\", train_score=0.935673058390714, test_score=0.9114750076702455\n",
      "CV iteration : C=0.1, solver=saga, train_score=0.9370112468296754, test_score=0.912798730462579\n",
      "CV iteration : C=0.1, solver=saga, train_score=0.9420622519394194, test_score=0.9127207677718884\n",
      "CV iteration : C=0.1, solver=saga, train_score=0.9402620774466128, test_score=0.9115327082246827\n",
      "C=0.1, penalty=l2, solver=\"saga\", train_score=0.9397785254052359, test_score=0.9123507354863833\n",
      "CV iteration : C=0.5, solver=saga, train_score=0.9402942272175564, test_score=0.9125901069917761\n",
      "CV iteration : C=0.5, solver=saga, train_score=0.9468901142738392, test_score=0.9112198394296835\n",
      "CV iteration : C=0.5, solver=saga, train_score=0.9430591941401132, test_score=0.9098142495882218\n",
      "C=0.5, penalty=l2, solver=\"saga\", train_score=0.9434145118771696, test_score=0.9112080653365604\n",
      "CV iteration : C=1, solver=saga, train_score=0.9405709940185543, test_score=0.9123163582958926\n",
      "CV iteration : C=1, solver=saga, train_score=0.9473473620467349, test_score=0.9101417854112697\n",
      "CV iteration : C=1, solver=saga, train_score=0.9433365918416323, test_score=0.9094168344107726\n",
      "C=1, penalty=l2, solver=\"saga\", train_score=0.9437516493023071, test_score=0.9106249927059783\n",
      "CV iteration : C=5, solver=saga, train_score=0.9407608544319473, test_score=0.9120502886319494\n",
      "CV iteration : C=5, solver=saga, train_score=0.947633200526304, test_score=0.9089810205984463\n",
      "CV iteration : C=5, solver=saga, train_score=0.943541214595413, test_score=0.9090575251287862\n",
      "C=5, penalty=l2, solver=\"saga\", train_score=0.9439784231845548, test_score=0.9100296114530607\n",
      "CV iteration : C=10, solver=saga, train_score=0.9407854901212498, test_score=0.9120164657202738\n",
      "CV iteration : C=10, solver=saga, train_score=0.947660518149659, test_score=0.908812785318535\n",
      "CV iteration : C=10, solver=saga, train_score=0.943565292170752, test_score=0.9090156086437771\n",
      "C=10, penalty=l2, solver=\"saga\", train_score=0.944003766813887, test_score=0.909948286560862\n",
      "CV iteration : C=50, solver=saga, train_score=0.9408044688349003, test_score=0.9119851047883043\n",
      "CV iteration : C=50, solver=saga, train_score=0.9476796287617055, test_score=0.9086742110322248\n",
      "CV iteration : C=50, solver=saga, train_score=0.943583024286492, test_score=0.9089759198880412\n",
      "C=50, penalty=l2, solver=\"saga\", train_score=0.9440223739610326, test_score=0.9098784119028567\n",
      "CV iteration : C=100, solver=saga, train_score=0.9408070921474436, test_score=0.9119817635301319\n",
      "CV iteration : C=100, solver=saga, train_score=0.9476793796202909, test_score=0.9086556289473009\n",
      "CV iteration : C=100, solver=saga, train_score=0.943586585364281, test_score=0.9089693539491308\n",
      "C=100, penalty=l2, solver=\"saga\", train_score=0.9440243523773385, test_score=0.9098689154755212\n",
      "CV iteration : C=500, solver=saga, train_score=0.9408093930416855, test_score=0.9119824669529051\n",
      "CV iteration : C=500, solver=saga, train_score=0.9476820029328341, test_score=0.9086399777905982\n",
      "CV iteration : C=500, solver=saga, train_score=0.9435885637408306, test_score=0.9089626121368568\n",
      "C=500, penalty=l2, solver=\"saga\", train_score=0.94402665323845, test_score=0.9098616856267867\n",
      "CV iteration : C=1000, solver=saga, train_score=0.9408086749281961, test_score=0.9119828186642917\n",
      "CV iteration : C=1000, solver=saga, train_score=0.947682296040381, test_score=0.9086409156876292\n",
      "CV iteration : C=1000, solver=saga, train_score=0.9435890619986281, test_score=0.908964663992766\n",
      "C=1000, penalty=l2, solver=\"saga\", train_score=0.9440266776557351, test_score=0.9098627994482289\n",
      "CV iteration : C=5000, solver=saga, train_score=0.9408084404421586, test_score=0.9119796532618124\n",
      "CV iteration : C=5000, solver=saga, train_score=0.9476819296559474, test_score=0.9086355813982662\n",
      "CV iteration : C=5000, solver=saga, train_score=0.9435888421790115, test_score=0.9089603257831289\n",
      "C=5000, penalty=l2, solver=\"saga\", train_score=0.9440264040923725, test_score=0.9098585201477358\n",
      "CV iteration : C=10000, solver=saga, train_score=0.9408089094142333, test_score=0.9119798877360701\n",
      "CV iteration : C=10000, solver=saga, train_score=0.9476817098252874, test_score=0.9086390398935674\n",
      "CV iteration : C=10000, solver=saga, train_score=0.9435891352718337, test_score=0.9089623190145839\n",
      "C=10000, penalty=l2, solver=\"saga\", train_score=0.9440265848371182, test_score=0.9098604155480738\n"
     ]
    },
    {
     "data": {
      "image/png": "[encoded data removed]",
      "text/plain": [
       "<Figure size 432x288 with 1 Axes>"
      ]
     },
     "metadata": {
      "needs_background": "light"
     },
     "output_type": "display_data"
    },
    {
     "name": "stdout",
     "output_type": "stream",
     "text": [
      "Initializing Vectorizer\n",
      "Training Model....\n",
      "Saving Trained Model....\n",
      "Retraining Vectorizer with Dx_train\n",
      "Area Under the Curve for Train :  0.9362955972935451\n",
      "Area Under the Curve for Test :  0.9125718703293875\n"
     ]
    },
    {
     "data": {
      "image/png": "[encoded data removed]",
      "text/plain": [
       "<Figure size 432x288 with 1 Axes>"
      ]
     },
     "metadata": {
      "needs_background": "light"
     },
     "output_type": "display_data"
    },
    {
     "data": {
      "image/png": "[encoded data removed]",
      "text/plain": [
       "<Figure size 432x288 with 2 Axes>"
      ]
     },
     "metadata": {
      "needs_background": "light"
     },
     "output_type": "display_data"
    },
    {
     "data": {
      "image/png": "[encoded data removed]",
      "text/plain": [
       "<Figure size 432x288 with 2 Axes>"
      ]
     },
     "metadata": {
      "needs_background": "light"
     },
     "output_type": "display_data"
    }
   ],
   "source": [
    "# Please write all the code with proper documentation\n",
    "csv_path = 'saved_models/Assignment5/BOW_log_reg_results_l2.csv'\n",
    "cv_results = perform_hyperparameter_tuning(X=Dx_train, Y=Dy_train, vectorizer='BOW', vec_name='BOW', \n",
    "                                           penalty=['l2'], results_path=csv_path, retrain=True, W2V_model=None)\n",
    "# Analysing best parameters\n",
    "best_parameters = analyse_results(cv_results)\n",
    "\n",
    "# retraining the model with best parameters\n",
    "model_path = 'saved_models/Assignment5/{0}_log_reg_l2.pkl'.format('BOW')\n",
    "log_reg = retrain_with_best_params(Dx_train, Dy_train, best_parameters, 'BOW', model_path, None)\n",
    "\n",
    "print('Retraining Vectorizer with Dx_train')\n",
    "vectorizer_obj = get_vectorizer(W2V_model=None, train=Dx_train, vectorizer='BOW')\n",
    "\n",
    "# plotting AUC ROC \n",
    "train_score, test_score = plot_AUC_ROC(log_reg, vectorizer_obj, Dx_train, Dx_test, Dy_train, Dy_test)\n",
    "\n",
    "# appending the data results\n",
    "prettytable_data.append(['BOW', 'LogisticRegression', 'L2', best_parameters['logistic__C'], train_score, test_score])"
   ]
  },
  {
   "cell_type": "markdown",
   "metadata": {
    "colab_type": "text",
    "id": "nKn3VXcZLPpN"
   },
   "source": [
    "## [5.2] Logistic Regression on TFIDF,<font color='red'> SET 2</font>"
   ]
  },
  {
   "cell_type": "markdown",
   "metadata": {
    "colab_type": "text",
    "id": "naTBSzm6LPpN"
   },
   "source": [
    "### [5.2.1] Applying Logistic Regression with L1 regularization on TFIDF,<font color='red'> SET 2</font>"
   ]
  },
  {
   "cell_type": "code",
   "execution_count": 53,
   "metadata": {
    "colab": {},
    "colab_type": "code",
    "id": "PEhaagXXLPpS",
    "scrolled": false
   },
   "outputs": [
    {
     "name": "stdout",
     "output_type": "stream",
     "text": [
      "Performing Hyperparameter Tuning...\n",
      "\n",
      "CV iteration : C=0.0001, solver=saga, train_score=0.5, test_score=0.5\n",
      "CV iteration : C=0.0001, solver=saga, train_score=0.5, test_score=0.5\n",
      "CV iteration : C=0.0001, solver=saga, train_score=0.5, test_score=0.5\n",
      "C=0.0001, penalty=l1, solver=\"saga\", train_score=0.5, test_score=0.5\n",
      "CV iteration : C=0.001, solver=saga, train_score=0.5, test_score=0.5\n",
      "CV iteration : C=0.001, solver=saga, train_score=0.5, test_score=0.5\n",
      "CV iteration : C=0.001, solver=saga, train_score=0.5, test_score=0.5\n",
      "C=0.001, penalty=l1, solver=\"saga\", train_score=0.5, test_score=0.5\n",
      "CV iteration : C=0.01, solver=saga, train_score=0.6665617195095608, test_score=0.6681858644614518\n",
      "CV iteration : C=0.01, solver=saga, train_score=0.6685603685768778, test_score=0.6626467618342968\n",
      "CV iteration : C=0.01, solver=saga, train_score=0.6652055427721493, test_score=0.6706821095986524\n",
      "C=0.01, penalty=l1, solver=\"saga\", train_score=0.6667758769528627, test_score=0.6671715786314669\n",
      "CV iteration : C=0.05, solver=saga, train_score=0.8041778010895981, test_score=0.8017712419902128\n",
      "CV iteration : C=0.05, solver=saga, train_score=0.8037825822012787, test_score=0.7927278922722092\n",
      "CV iteration : C=0.05, solver=saga, train_score=0.8036081719437248, test_score=0.811903965170508\n",
      "C=0.05, penalty=l1, solver=\"saga\", train_score=0.8038561850782006, test_score=0.8021343664776434\n",
      "CV iteration : C=0.1, solver=saga, train_score=0.8679350602643772, test_score=0.8642287948222457\n",
      "CV iteration : C=0.1, solver=saga, train_score=0.869509099084127, test_score=0.86148573909979\n",
      "CV iteration : C=0.1, solver=saga, train_score=0.873027924946197, test_score=0.8696334588052992\n",
      "C=0.1, penalty=l1, solver=\"saga\", train_score=0.8701573614315671, test_score=0.8651159975757783\n",
      "CV iteration : C=0.5, solver=saga, train_score=0.93207651015603, test_score=0.9207017732467453\n",
      "CV iteration : C=0.5, solver=saga, train_score=0.9340002555897808, test_score=0.9200461539128888\n",
      "CV iteration : C=0.5, solver=saga, train_score=0.9337349955526095, test_score=0.9185998569094314\n",
      "C=0.5, penalty=l1, solver=\"saga\", train_score=0.9332705870994734, test_score=0.9197825946896886\n",
      "CV iteration : C=1, solver=saga, train_score=0.9422949280377007, test_score=0.9272606630392717\n",
      "CV iteration : C=1, solver=saga, train_score=0.9450826812423188, test_score=0.9251741352384211\n",
      "CV iteration : C=1, solver=saga, train_score=0.9442919059134525, test_score=0.9246334271480938\n",
      "C=1, penalty=l1, solver=\"saga\", train_score=0.9438898383978239, test_score=0.9256894084752622\n",
      "CV iteration : C=5, solver=saga, train_score=0.948529721251792, test_score=0.926619053542314\n",
      "CV iteration : C=5, solver=saga, train_score=0.9518872608718718, test_score=0.9226894701479684\n",
      "CV iteration : C=5, solver=saga, train_score=0.9507355003170677, test_score=0.9230398679120688\n",
      "C=5, penalty=l1, solver=\"saga\", train_score=0.9503841608135772, test_score=0.9241161305341171\n",
      "CV iteration : C=10, solver=saga, train_score=0.9488839417220125, test_score=0.925450961408937\n",
      "CV iteration : C=10, solver=saga, train_score=0.9522993554271939, test_score=0.9211303335712856\n",
      "CV iteration : C=10, solver=saga, train_score=0.9510467648941859, test_score=0.9216273703039466\n",
      "C=10, penalty=l1, solver=\"saga\", train_score=0.9507433540144641, test_score=0.9227362217613897\n",
      "CV iteration : C=50, solver=saga, train_score=0.9489942527472237, test_score=0.9242263609794505\n",
      "CV iteration : C=50, solver=saga, train_score=0.9524707060990112, test_score=0.9189472316855382\n",
      "CV iteration : C=50, solver=saga, train_score=0.9511242146724377, test_score=0.9201934161454564\n",
      "C=50, penalty=l1, solver=\"saga\", train_score=0.9508630578395575, test_score=0.9211223362701485\n",
      "CV iteration : C=100, solver=saga, train_score=0.9489952786236373, test_score=0.9240633427517735\n",
      "CV iteration : C=100, solver=saga, train_score=0.9524842037015381, test_score=0.9184874862847214\n",
      "CV iteration : C=100, solver=saga, train_score=0.9511243612188487, test_score=0.9200013624323239\n",
      "C=100, penalty=l1, solver=\"saga\", train_score=0.9508679478480081, test_score=0.9208507304896063\n",
      "CV iteration : C=500, solver=saga, train_score=0.9489961872570323, test_score=0.9239308647961639\n",
      "CV iteration : C=500, solver=saga, train_score=0.9524897580895484, test_score=0.918089817943635\n",
      "CV iteration : C=500, solver=saga, train_score=0.9511237896878456, test_score=0.9198552116671106\n",
      "C=500, penalty=l1, solver=\"saga\", train_score=0.9508699116781422, test_score=0.9206252981356364\n",
      "CV iteration : C=1000, solver=saga, train_score=0.9489954544881652, test_score=0.9239133964639641\n",
      "CV iteration : C=1000, solver=saga, train_score=0.9524900218863405, test_score=0.9180397576896125\n",
      "CV iteration : C=1000, solver=saga, train_score=0.9511221776773238, test_score=0.9198372725840158\n",
      "C=1000, penalty=l1, solver=\"saga\", train_score=0.9508692180172765, test_score=0.9205968089125308\n",
      "CV iteration : C=5000, solver=saga, train_score=0.9489940182611863, test_score=0.9238993280085012\n",
      "CV iteration : C=5000, solver=saga, train_score=0.9524907839659621, test_score=0.9179970833747082\n",
      "CV iteration : C=5000, solver=saga, train_score=0.9511221630226827, test_score=0.9198221474747399\n",
      "C=5000, penalty=l1, solver=\"saga\", train_score=0.9508689884166103, test_score=0.9205728529526498\n",
      "CV iteration : C=10000, solver=saga, train_score=0.9489939449842996, test_score=0.9238975694515682\n",
      "CV iteration : C=10000, solver=saga, train_score=0.952490476203038, test_score=0.9179908698068788\n",
      "CV iteration : C=10000, solver=saga, train_score=0.9511216501102439, test_score=0.9198202128677394\n",
      "C=10000, penalty=l1, solver=\"saga\", train_score=0.9508686904325271, test_score=0.9205695507087288\n"
     ]
    },
    {
     "data": {
      "image/png": "[encoded data removed]",
      "text/plain": [
       "<Figure size 432x288 with 1 Axes>"
      ]
     },
     "metadata": {
      "needs_background": "light"
     },
     "output_type": "display_data"
    },
    {
     "name": "stdout",
     "output_type": "stream",
     "text": [
      "Initializing Vectorizer\n",
      "Training Model....\n",
      "Saving Trained Model....\n",
      "Retraining Vectorizer with Dx_train\n",
      "Area Under the Curve for Train :  0.9424295841754171\n",
      "Area Under the Curve for Test :  0.9270139242219235\n"
     ]
    },
    {
     "data": {
      "image/png": "[encoded data removed]",
      "text/plain": [
       "<Figure size 432x288 with 1 Axes>"
      ]
     },
     "metadata": {
      "needs_background": "light"
     },
     "output_type": "display_data"
    },
    {
     "data": {
      "image/png": "[encoded data removed]",
      "text/plain": [
       "<Figure size 432x288 with 2 Axes>"
      ]
     },
     "metadata": {
      "needs_background": "light"
     },
     "output_type": "display_data"
    },
    {
     "data": {
      "image/png": "[encoded data removed]",
      "text/plain": [
       "<Figure size 432x288 with 2 Axes>"
      ]
     },
     "metadata": {
      "needs_background": "light"
     },
     "output_type": "display_data"
    }
   ],
   "source": [
    "# Please write all the code with proper documentation\n",
    "csv_path = 'saved_models/Assignment5/TFIDF_log_reg_results_l1.csv'\n",
    "cv_results = perform_hyperparameter_tuning(X=Dx_train, Y=Dy_train, vectorizer='TFIDF', vec_name='TFIDF', \n",
    "                                           penalty=['l1'], results_path=csv_path, retrain=True, W2V_model=None)\n",
    "# Analysing best parameters\n",
    "best_parameters = analyse_results(cv_results)\n",
    "\n",
    "# retraining the model with best parameters\n",
    "model_path = 'saved_models/Assignment5/{0}_log_reg_l1.pkl'.format('TFIDF')\n",
    "log_reg = retrain_with_best_params(Dx_train, Dy_train, best_parameters, 'TFIDF', model_path, None)\n",
    "\n",
    "print('Retraining Vectorizer with Dx_train')\n",
    "vectorizer_obj = get_vectorizer(W2V_model=None, train=Dx_train, vectorizer='TFIDF')\n",
    "\n",
    "# plotting AUC ROC \n",
    "train_score, test_score = plot_AUC_ROC(log_reg, vectorizer_obj, Dx_train, Dx_test, Dy_train, Dy_test)\n",
    "\n",
    "# appending the data results\n",
    "prettytable_data.append(['TFIDF', 'LogisticRegression', 'L1', best_parameters['logistic__C'], train_score, test_score])"
   ]
  },
  {
   "cell_type": "markdown",
   "metadata": {
    "colab_type": "text",
    "id": "NdFShHQJLPpV"
   },
   "source": [
    "### [5.2.2] Applying Logistic Regression with L2 regularization on TFIDF,<font color='red'> SET 2</font>"
   ]
  },
  {
   "cell_type": "code",
   "execution_count": 54,
   "metadata": {
    "colab": {},
    "colab_type": "code",
    "id": "Jyhq3JDzLPpW"
   },
   "outputs": [
    {
     "name": "stdout",
     "output_type": "stream",
     "text": [
      "Performing Hyperparameter Tuning...\n",
      "\n",
      "CV iteration : C=0.0001, solver=saga, train_score=0.8798079749873743, test_score=0.8728421480608803\n",
      "CV iteration : C=0.0001, solver=saga, train_score=0.8810617498461918, test_score=0.8717543633607711\n",
      "CV iteration : C=0.0001, solver=saga, train_score=0.8821356891391876, test_score=0.8782671994769762\n",
      "C=0.0001, penalty=l2, solver=\"saga\", train_score=0.8810018046575845, test_score=0.8742879036328759\n",
      "CV iteration : C=0.001, solver=saga, train_score=0.8806614308865595, test_score=0.8736419983725141\n",
      "CV iteration : C=0.001, solver=saga, train_score=0.8819202618505578, test_score=0.8725739681286175\n",
      "CV iteration : C=0.001, solver=saga, train_score=0.8830282300558249, test_score=0.8790603883471468\n",
      "C=0.001, penalty=l2, solver=\"saga\", train_score=0.8818699742643141, test_score=0.8750921182827595\n",
      "CV iteration : C=0.01, solver=saga, train_score=0.8885272796659278, test_score=0.8812111791229749\n",
      "CV iteration : C=0.01, solver=saga, train_score=0.8899809392162362, test_score=0.8802692960297294\n",
      "CV iteration : C=0.01, solver=saga, train_score=0.8910345001319504, test_score=0.8860688832651101\n",
      "C=0.01, penalty=l2, solver=\"saga\", train_score=0.8898475730047047, test_score=0.882516452805938\n",
      "CV iteration : C=0.05, solver=saga, train_score=0.9084322278195993, test_score=0.8999819572058687\n",
      "CV iteration : C=0.05, solver=saga, train_score=0.9101220148095519, test_score=0.8990108820675377\n",
      "CV iteration : C=0.05, solver=saga, train_score=0.9108941766676777, test_score=0.9026329297782214\n",
      "C=0.05, penalty=l2, solver=\"saga\", train_score=0.9098161397656096, test_score=0.9005419230172093\n",
      "CV iteration : C=0.1, solver=saga, train_score=0.9194533500287392, test_score=0.9100395546349054\n",
      "CV iteration : C=0.1, solver=saga, train_score=0.9213040237510908, test_score=0.908917302218912\n",
      "CV iteration : C=0.1, solver=saga, train_score=0.9217368964940353, test_score=0.9110767858415846\n",
      "C=0.1, penalty=l2, solver=\"saga\", train_score=0.9208314234246218, test_score=0.9100112142318006\n",
      "CV iteration : C=0.5, solver=saga, train_score=0.9381807972349406, test_score=0.9249090913993552\n",
      "CV iteration : C=0.5, solver=saga, train_score=0.9406171438017866, test_score=0.9229411489543445\n",
      "CV iteration : C=0.5, solver=saga, train_score=0.940288338563477, test_score=0.9233925526306903\n",
      "C=0.5, penalty=l2, solver=\"saga\", train_score=0.9396954265334014, test_score=0.9237475976614634\n",
      "CV iteration : C=1, solver=saga, train_score=0.9426562417105522, test_score=0.9271182492369914\n",
      "CV iteration : C=1, solver=saga, train_score=0.9453269424163844, test_score=0.9247991229724865\n",
      "CV iteration : C=1, solver=saga, train_score=0.944764261632942, test_score=0.9249878999125791\n",
      "C=1, penalty=l2, solver=\"saga\", train_score=0.9442491485866262, test_score=0.9256350907073522\n",
      "CV iteration : C=5, solver=saga, train_score=0.9476390846603046, test_score=0.9269605652986774\n",
      "CV iteration : C=5, solver=saga, train_score=0.950794072310218, test_score=0.9240444089554629\n",
      "CV iteration : C=5, solver=saga, train_score=0.9498137527007039, test_score=0.9241161542733007\n",
      "C=5, penalty=l2, solver=\"saga\", train_score=0.9494156365570755, test_score=0.9250403761758137\n",
      "CV iteration : C=10, solver=saga, train_score=0.9483883847927599, test_score=0.9260765973470879\n",
      "CV iteration : C=10, solver=saga, train_score=0.9516691448909742, test_score=0.9229222737765983\n",
      "CV iteration : C=10, solver=saga, train_score=0.9505813921111839, test_score=0.9229694013176899\n",
      "C=10, penalty=l2, solver=\"saga\", train_score=0.9502129739316393, test_score=0.9239894241471255\n",
      "CV iteration : C=50, solver=saga, train_score=0.9489332863775044, test_score=0.9245665831273966\n",
      "CV iteration : C=50, solver=saga, train_score=0.9523606588705922, test_score=0.9206638177262773\n",
      "CV iteration : C=50, solver=saga, train_score=0.9510810714090181, test_score=0.9208960888577893\n",
      "C=50, penalty=l2, solver=\"saga\", train_score=0.9507916722190383, test_score=0.9220421632371544\n",
      "CV iteration : C=100, solver=saga, train_score=0.9489697489563174, test_score=0.9242502187351731\n",
      "CV iteration : C=100, solver=saga, train_score=0.9524236623377612, test_score=0.92005013997527\n",
      "CV iteration : C=100, solver=saga, train_score=0.9511069661598545, test_score=0.9204292623261434\n",
      "C=100, penalty=l2, solver=\"saga\", train_score=0.950833459151311, test_score=0.9215765403455288\n",
      "CV iteration : C=500, solver=saga, train_score=0.9489920251298686, test_score=0.9239715460798776\n",
      "CV iteration : C=500, solver=saga, train_score=0.9524771544650392, test_score=0.9190808233938719\n",
      "CV iteration : C=500, solver=saga, train_score=0.9511223535330171, test_score=0.919966187759589\n",
      "C=500, penalty=l2, solver=\"saga\", train_score=0.950863844375975, test_score=0.9210061857444461\n",
      "CV iteration : C=1000, solver=saga, train_score=0.9489951027591093, test_score=0.9239363749412204\n",
      "CV iteration : C=1000, solver=saga, train_score=0.952486387352761, test_score=0.91871656763451\n",
      "CV iteration : C=1000, solver=saga, train_score=0.9511232767754069, test_score=0.9198973626499378\n",
      "C=1000, penalty=l2, solver=\"saga\", train_score=0.9508682556290924, test_score=0.9208501017418894\n",
      "CV iteration : C=5000, solver=saga, train_score=0.9489947510300534, test_score=0.9239054243392018\n",
      "CV iteration : C=5000, solver=saga, train_score=0.9524904029261512, test_score=0.9181687771499208\n",
      "CV iteration : C=5000, solver=saga, train_score=0.9511224854247872, test_score=0.9198368035883794\n",
      "C=5000, penalty=l2, solver=\"saga\", train_score=0.9508692131269972, test_score=0.9206370016925006\n",
      "CV iteration : C=10000, solver=saga, train_score=0.9489939449842997, test_score=0.9238995624827588\n",
      "CV iteration : C=10000, solver=saga, train_score=0.9524901391293592, test_score=0.9180761011995585\n",
      "CV iteration : C=10000, solver=saga, train_score=0.9511222949144527, test_score=0.9198268374311045\n",
      "C=10000, penalty=l2, solver=\"saga\", train_score=0.9508687930093705, test_score=0.9206008337044739\n"
     ]
    },
    {
     "data": {
      "image/png": "[encoded data removed]",
      "text/plain": [
       "<Figure size 432x288 with 1 Axes>"
      ]
     },
     "metadata": {
      "needs_background": "light"
     },
     "output_type": "display_data"
    },
    {
     "name": "stdout",
     "output_type": "stream",
     "text": [
      "Initializing Vectorizer\n",
      "Training Model....\n",
      "Saving Trained Model....\n",
      "Retraining Vectorizer with Dx_train\n",
      "Area Under the Curve for Train :  0.9419734676196749\n",
      "Area Under the Curve for Test :  0.9271881359514265\n"
     ]
    },
    {
     "data": {
      "image/png": "[encoded data removed]",
      "text/plain": [
       "<Figure size 432x288 with 1 Axes>"
      ]
     },
     "metadata": {
      "needs_background": "light"
     },
     "output_type": "display_data"
    },
    {
     "data": {
      "image/png": "[encoded data removed]",
      "text/plain": [
       "<Figure size 432x288 with 2 Axes>"
      ]
     },
     "metadata": {
      "needs_background": "light"
     },
     "output_type": "display_data"
    },
    {
     "data": {
      "image/png": "[encoded data removed]",
      "text/plain": [
       "<Figure size 432x288 with 2 Axes>"
      ]
     },
     "metadata": {
      "needs_background": "light"
     },
     "output_type": "display_data"
    }
   ],
   "source": [
    "# Please write all the code with proper documentation\n",
    "csv_path = 'saved_models/Assignment5/TFIDF_log_reg_results_l2.csv'\n",
    "cv_results = perform_hyperparameter_tuning(X=Dx_train, Y=Dy_train, vectorizer='TFIDF', vec_name='TFIDF', \n",
    "                                           penalty=['l2'], results_path=csv_path, retrain=True, W2V_model=None)\n",
    "# Analysing best parameters\n",
    "best_parameters = analyse_results(cv_results)\n",
    "\n",
    "# retraining the model with best parameters\n",
    "model_path = 'saved_models/Assignment5/{0}_log_reg_l2.pkl'.format('TFIDF')\n",
    "log_reg = retrain_with_best_params(Dx_train, Dy_train, best_parameters, 'TFIDF', model_path, None)\n",
    "\n",
    "print('Retraining Vectorizer with Dx_train')\n",
    "vectorizer_obj = get_vectorizer(W2V_model=None, train=Dx_train, vectorizer='TFIDF')\n",
    "\n",
    "# plotting AUC ROC \n",
    "train_score, test_score = plot_AUC_ROC(log_reg, vectorizer_obj, Dx_train, Dx_test, Dy_train, Dy_test)\n",
    "\n",
    "# appending the data results\n",
    "prettytable_data.append(['TFIDF', 'LogisticRegression', 'L2', best_parameters['logistic__C'], train_score, test_score])"
   ]
  },
  {
   "cell_type": "markdown",
   "metadata": {
    "colab_type": "text",
    "id": "xeeJ8eVvLPpX"
   },
   "source": [
    "### [5.2.3] Feature Importance on TFIDF,<font color='red'> SET 2</font>"
   ]
  },
  {
   "cell_type": "code",
   "execution_count": 55,
   "metadata": {},
   "outputs": [],
   "source": [
    "# Please write all the code with proper documentation\n",
    "feature_names = vectorizer_obj.get_feature_names()\n",
    "weights = np.reshape(log_reg.coef_,(log_reg.coef_.shape[1], log_reg.coef_.shape[0]))\n",
    "\n",
    "# making a list of feature names along with their feature weights\n",
    "features_with_weights = [(feature_names[i],weights[i]) for i in range(len(feature_names))]\n",
    "features_with_weights.sort(key=lambda x : abs(x[1][0]), reverse=True)"
   ]
  },
  {
   "cell_type": "markdown",
   "metadata": {
    "colab_type": "text",
    "id": "Cj9XEmqQLPpY"
   },
   "source": [
    "#### [5.2.3.1] Top 10 important features of positive class from<font color='red'> SET 2</font>"
   ]
  },
  {
   "cell_type": "code",
   "execution_count": 56,
   "metadata": {},
   "outputs": [
    {
     "name": "stdout",
     "output_type": "stream",
     "text": [
      "Top 10 features of positive class with the feature names : \n",
      "great  :  8.250425983875289\n",
      "best  :  7.047466209780987\n",
      "delicious  :  6.5610791490084805\n",
      "excellent  :  5.676299237656143\n",
      "loves  :  5.533156858346458\n",
      "love  :  5.46371508484913\n",
      "perfect  :  5.178975977470662\n",
      "good  :  4.664923465749984\n",
      "wonderful  :  4.549403455960735\n",
      "pleased  :  4.0260402569712666\n"
     ]
    }
   ],
   "source": [
    "positive_weights = [i for i in features_with_weights if i[1][0]>=0]\n",
    "print('Top 10 features of positive class with the feature names : ')\n",
    "for i in positive_weights[:10]:\n",
    "    print(i[0],' : ',i[1][0])"
   ]
  },
  {
   "cell_type": "markdown",
   "metadata": {
    "colab_type": "text",
    "id": "PowEfns4LPpg"
   },
   "source": [
    "#### [5.2.3.2] Top 10 important features of negative class from<font color='red'> SET 2</font>"
   ]
  },
  {
   "cell_type": "code",
   "execution_count": 57,
   "metadata": {
    "colab": {},
    "colab_type": "code",
    "id": "G7jrma95LPpg"
   },
   "outputs": [
    {
     "name": "stdout",
     "output_type": "stream",
     "text": [
      "Top 10 features of negative class with the feature names : \n",
      "not  :  -5.3249053217795\n",
      "disappointed  :  -5.027833945426516\n",
      "awful  :  -4.979721775746406\n",
      "terrible  :  -4.863041733252396\n",
      "money  :  -4.474683323856104\n",
      "unfortunately  :  -4.223315676440612\n",
      "not buy  :  -4.206004932916333\n",
      "not good  :  -4.107539907827749\n",
      "horrible  :  -4.097944215892398\n",
      "bland  :  -3.255097383219475\n"
     ]
    }
   ],
   "source": [
    "# Please write all the code with proper documentation\n",
    "negative_weights = [i for i in features_with_weights if i[1][0]<0]\n",
    "print('Top 10 features of negative class with the feature names : ')\n",
    "for i in negative_weights[:10]:\n",
    "    print(i[0],' : ',i[1][0])"
   ]
  },
  {
   "cell_type": "markdown",
   "metadata": {},
   "source": [
    "## Preparing/Training Google Word2Vec"
   ]
  },
  {
   "cell_type": "code",
   "execution_count": 58,
   "metadata": {},
   "outputs": [
    {
     "name": "stdout",
     "output_type": "stream",
     "text": [
      "[('terrific', 0.78861403465271), ('fantastic', 0.7743387222290039), ('excellent', 0.7511157989501953), ('awesome', 0.7407886981964111), ('wonderful', 0.7074403166770935), ('good', 0.7018754482269287), ('fabulous', 0.637951672077179), ('incredible', 0.5896818041801453), ('amazing', 0.576284646987915), ('nice', 0.5758428573608398)]\n",
      "==================================================\n",
      "[('nastiest', 0.7911990284919739), ('greatest', 0.6833856105804443), ('disgusting', 0.6336464881896973), ('best', 0.6157045960426331), ('weakest', 0.6127810478210449), ('horrible', 0.5801495313644409), ('terrible', 0.5716212391853333), ('tastiest', 0.5705309510231018), ('sweetest', 0.5599795579910278), ('vile', 0.5578266978263855)]\n"
     ]
    }
   ],
   "source": [
    "is_your_ram_gt_16g=True\n",
    "want_to_use_google_w2v = False\n",
    "want_to_train_w2v = True\n",
    "\n",
    "path_to_word2vec = '/home/monodeepdas112/Datasets/GoogleNews-vectors-negative300.bin.gz'\n",
    "\n",
    "if want_to_train_w2v:\n",
    "    \n",
    "    # Train your own Word2Vec model using your own text corpus\n",
    "    i=0\n",
    "    list_of_sentences=[]\n",
    "    for sentance in preprocessed_reviews:\n",
    "        list_of_sentences.append(sentance.split())\n",
    "    \n",
    "    # min_count = 5 considers only words that occured atleast 5 times\n",
    "    w2v_model=Word2Vec(list_of_sentences,min_count=5,size=300, workers=4)\n",
    "    print(w2v_model.wv.most_similar('great'))\n",
    "    print('='*50)\n",
    "    print(w2v_model.wv.most_similar('worst'))\n",
    "    \n",
    "elif want_to_use_google_w2v and is_your_ram_gt_16g:\n",
    "    if os.path.isfile(path_to_word2vec):\n",
    "        print('Preparing to load pre-trained Word2Vec model !')\n",
    "        w2v_model=KeyedVectors.load_word2vec_format(path_to_word2vec, binary=True)\n",
    "        print('Successfully loaded model into memory !!')\n",
    "        print('Words similar to \"similar\" : ', w2v_model.wv.most_similar('great'))\n",
    "        print('Words similar to \"worst\" : ',w2v_model.wv.most_similar('worst'))\n",
    "    else:\n",
    "        print(\"you don't have google's word2vec file, keep want_to_train_w2v = True, to train your own w2v \")"
   ]
  },
  {
   "cell_type": "markdown",
   "metadata": {
    "colab_type": "text",
    "id": "sqYadGOgLPpi"
   },
   "source": [
    "## [5.3] Logistic Regression on AVG W2V,<font color='red'> SET 3</font>"
   ]
  },
  {
   "cell_type": "markdown",
   "metadata": {
    "colab_type": "text",
    "id": "kByBCEA1LPpj"
   },
   "source": [
    "### [5.3.1] Applying Logistic Regression with L1 regularization on AVG W2V<font color='red'> SET 3</font>"
   ]
  },
  {
   "cell_type": "code",
   "execution_count": 59,
   "metadata": {
    "scrolled": false
   },
   "outputs": [
    {
     "name": "stdout",
     "output_type": "stream",
     "text": [
      "Performing Hyperparameter Tuning...\n",
      "\n",
      "CV iteration : C=0.0001, solver=saga, train_score=0.5, test_score=0.5\n",
      "CV iteration : C=0.0001, solver=saga, train_score=0.5, test_score=0.5\n",
      "CV iteration : C=0.0001, solver=saga, train_score=0.5, test_score=0.5\n",
      "C=0.0001, penalty=l1, solver=\"saga\", train_score=0.5, test_score=0.5\n",
      "CV iteration : C=0.001, solver=saga, train_score=0.5, test_score=0.5\n",
      "CV iteration : C=0.001, solver=saga, train_score=0.5, test_score=0.5\n",
      "CV iteration : C=0.001, solver=saga, train_score=0.5, test_score=0.5\n",
      "C=0.001, penalty=l1, solver=\"saga\", train_score=0.5, test_score=0.5\n",
      "CV iteration : C=0.01, solver=saga, train_score=0.6014673916388728, test_score=0.6049558948059379\n",
      "CV iteration : C=0.01, solver=saga, train_score=0.6142678012273586, test_score=0.61075555695198\n",
      "CV iteration : C=0.01, solver=saga, train_score=0.616261173724205, test_score=0.6125077442904471\n",
      "C=0.01, penalty=l1, solver=\"saga\", train_score=0.6106654555301455, test_score=0.6094063986827883\n",
      "CV iteration : C=0.05, solver=saga, train_score=0.6390860232545665, test_score=0.6371251181603712\n",
      "CV iteration : C=0.05, solver=saga, train_score=0.6383272117822198, test_score=0.6327745069270143\n",
      "CV iteration : C=0.05, solver=saga, train_score=0.6381474845425776, test_score=0.6412530730939079\n",
      "C=0.05, penalty=l1, solver=\"saga\", train_score=0.638520239859788, test_score=0.6370508993937645\n",
      "CV iteration : C=0.1, solver=saga, train_score=0.6533847766388596, test_score=0.6497456950819376\n",
      "CV iteration : C=0.1, solver=saga, train_score=0.6500071225133854, test_score=0.6477035415343597\n",
      "CV iteration : C=0.1, solver=saga, train_score=0.6513110305718088, test_score=0.6511968358271395\n",
      "C=0.1, penalty=l1, solver=\"saga\", train_score=0.6515676432413513, test_score=0.6495486908144789\n",
      "CV iteration : C=0.5, solver=saga, train_score=0.6621460689734817, test_score=0.658382788839166\n",
      "CV iteration : C=0.5, solver=saga, train_score=0.6614628206266815, test_score=0.6588098250810313\n",
      "CV iteration : C=0.5, solver=saga, train_score=0.6599744001005425, test_score=0.6604277838173993\n",
      "C=0.5, penalty=l1, solver=\"saga\", train_score=0.6611944299002352, test_score=0.6592067992458656\n",
      "CV iteration : C=1, solver=saga, train_score=0.6633257535721749, test_score=0.659254798603612\n",
      "CV iteration : C=1, solver=saga, train_score=0.6628535573143962, test_score=0.659396479673837\n",
      "CV iteration : C=1, solver=saga, train_score=0.6606331555275957, test_score=0.6616021488911067\n",
      "C=1, penalty=l1, solver=\"saga\", train_score=0.6622708221380557, test_score=0.660084475722852\n",
      "CV iteration : C=5, solver=saga, train_score=0.663963995255175, test_score=0.6596195819300538\n",
      "CV iteration : C=5, solver=saga, train_score=0.6637815358073369, test_score=0.6594682874152624\n",
      "CV iteration : C=5, solver=saga, train_score=0.6613421763736469, test_score=0.6631163013034327\n",
      "C=5, penalty=l1, solver=\"saga\", train_score=0.663029235812053, test_score=0.660734723549583\n",
      "CV iteration : C=10, solver=saga, train_score=0.6639943905077706, test_score=0.6596101443411807\n",
      "CV iteration : C=10, solver=saga, train_score=0.6638383986714022, test_score=0.6594237373062964\n",
      "CV iteration : C=10, solver=saga, train_score=0.661417750357837, test_score=0.6632802152783771\n",
      "C=10, penalty=l1, solver=\"saga\", train_score=0.6630835131790033, test_score=0.6607713656419514\n",
      "CV iteration : C=50, solver=saga, train_score=0.6640088113990698, test_score=0.6595895106065017\n",
      "CV iteration : C=50, solver=saga, train_score=0.6638804596043576, test_score=0.659398414086463\n",
      "CV iteration : C=50, solver=saga, train_score=0.6614706536122342, test_score=0.6633522061085744\n",
      "C=50, penalty=l1, solver=\"saga\", train_score=0.6631199748718872, test_score=0.660780043600513\n",
      "CV iteration : C=100, solver=saga, train_score=0.6640104381459541, test_score=0.6595755593881676\n",
      "CV iteration : C=100, solver=saga, train_score=0.6638910554421718, test_score=0.659399351983494\n",
      "CV iteration : C=100, solver=saga, train_score=0.6614777904224534, test_score=0.663375069645852\n",
      "C=100, penalty=l1, solver=\"saga\", train_score=0.6631264280035264, test_score=0.6607833270058379\n",
      "CV iteration : C=500, solver=saga, train_score=0.6640097493432193, test_score=0.6595722181299951\n",
      "CV iteration : C=500, solver=saga, train_score=0.6638894433506648, test_score=0.6593977106636899\n",
      "CV iteration : C=500, solver=saga, train_score=0.6614800618918251, test_score=0.6633857392965816\n",
      "C=500, penalty=l1, solver=\"saga\", train_score=0.6631264181952364, test_score=0.6607852226967555\n",
      "CV iteration : C=1000, solver=saga, train_score=0.66401057004435, test_score=0.6595721595114306\n",
      "CV iteration : C=1000, solver=saga, train_score=0.663888710581798, test_score=0.6593950142097262\n",
      "CV iteration : C=1000, solver=saga, train_score=0.6614787576287666, test_score=0.6633857392965815\n",
      "C=1000, penalty=l1, solver=\"saga\", train_score=0.6631260127516382, test_score=0.6607843043392462\n",
      "CV iteration : C=5000, solver=saga, train_score=0.6640112002255756, test_score=0.6595725698413817\n",
      "CV iteration : C=5000, solver=saga, train_score=0.6638894726614195, test_score=0.6593946624983396\n",
      "CV iteration : C=5000, solver=saga, train_score=0.6614792119226409, test_score=0.6633884360214913\n",
      "C=5000, penalty=l1, solver=\"saga\", train_score=0.6631266282698787, test_score=0.6607852227870709\n",
      "CV iteration : C=10000, solver=saga, train_score=0.6640112002255756, test_score=0.659572745697075\n",
      "CV iteration : C=10000, solver=saga, train_score=0.6638902933625503, test_score=0.6593945452612108\n",
      "CV iteration : C=10000, solver=saga, train_score=0.6614793438144109, test_score=0.6633884360214912\n",
      "C=10000, penalty=l1, solver=\"saga\", train_score=0.6631269458008456, test_score=0.6607852423265923\n"
     ]
    },
    {
     "data": {
      "image/png": "[encoded data removed]",
      "text/plain": [
       "<Figure size 432x288 with 1 Axes>"
      ]
     },
     "metadata": {
      "needs_background": "light"
     },
     "output_type": "display_data"
    },
    {
     "name": "stdout",
     "output_type": "stream",
     "text": [
      "Initializing Vectorizer\n",
      "Training Model....\n",
      "Saving Trained Model....\n",
      "Retraining Vectorizer with Dx_train\n",
      "Area Under the Curve for Train :  0.6627319168112705\n",
      "Area Under the Curve for Test :  0.6506057032390009\n"
     ]
    },
    {
     "data": {
      "image/png": "[encoded data removed]",
      "text/plain": [
       "<Figure size 432x288 with 1 Axes>"
      ]
     },
     "metadata": {
      "needs_background": "light"
     },
     "output_type": "display_data"
    },
    {
     "data": {
      "image/png": "[encoded data removed]",
      "text/plain": [
       "<Figure size 432x288 with 2 Axes>"
      ]
     },
     "metadata": {
      "needs_background": "light"
     },
     "output_type": "display_data"
    },
    {
     "data": {
      "image/png": "[encoded data removed]",
      "text/plain": [
       "<Figure size 432x288 with 2 Axes>"
      ]
     },
     "metadata": {
      "needs_background": "light"
     },
     "output_type": "display_data"
    }
   ],
   "source": [
    "# Please write all the code with proper documentation\n",
    "csv_path = 'saved_models/Assignment5/Avg-W2Vec_log_reg_results_l1.csv'\n",
    "cv_results = perform_hyperparameter_tuning(X=Dx_train, Y=Dy_train, vectorizer='Avg-W2Vec', vec_name='Avg-W2Vec', \n",
    "                                           penalty=['l1'], results_path=csv_path, retrain=True, W2V_model=w2v_model)\n",
    "# Analysing best parameters\n",
    "best_parameters = analyse_results(cv_results)\n",
    "\n",
    "# retraining the model with best parameters\n",
    "model_path = 'saved_models/Assignment5/{0}_log_reg_l1.pkl'.format('Avg-W2Vec')\n",
    "log_reg = retrain_with_best_params(Dx_train, Dy_train, best_parameters, 'Avg-W2Vec', model_path, w2v_model)\n",
    "\n",
    "print('Retraining Vectorizer with Dx_train')\n",
    "vectorizer_obj = get_vectorizer(W2V_model=w2v_model, train=Dx_train, vectorizer='Avg-W2Vec')\n",
    "\n",
    "# plotting AUC ROC \n",
    "train_score, test_score = plot_AUC_ROC(log_reg, vectorizer_obj, Dx_train, Dx_test, Dy_train, Dy_test)\n",
    "\n",
    "# appending the data results\n",
    "prettytable_data.append(['Avg Word2Vec', 'LogisticRegression', 'L1', best_parameters['logistic__C'], train_score, test_score])"
   ]
  },
  {
   "cell_type": "markdown",
   "metadata": {
    "colab_type": "text",
    "id": "O_8Gu2SfLPpn"
   },
   "source": [
    "### [5.3.2] Applying Logistic Regression with L2 regularization on AVG W2V,<font color='red'> SET 3</font>"
   ]
  },
  {
   "cell_type": "code",
   "execution_count": 60,
   "metadata": {
    "colab": {},
    "colab_type": "code",
    "id": "Zy3s4jk1LPpn"
   },
   "outputs": [
    {
     "name": "stdout",
     "output_type": "stream",
     "text": [
      "Performing Hyperparameter Tuning...\n",
      "\n",
      "CV iteration : C=0.0001, solver=saga, train_score=0.6147310283942073, test_score=0.6165085001021722\n",
      "CV iteration : C=0.0001, solver=saga, train_score=0.616703715460573, test_score=0.6124426578548114\n",
      "CV iteration : C=0.0001, solver=saga, train_score=0.6162938535738742, test_score=0.6149842171243438\n",
      "C=0.0001, penalty=l2, solver=\"saga\", train_score=0.6159095324762182, test_score=0.6146451250271091\n",
      "CV iteration : C=0.001, solver=saga, train_score=0.6243115270111794, test_score=0.6247845621210824\n",
      "CV iteration : C=0.001, solver=saga, train_score=0.6253406422631185, test_score=0.6211915958329705\n",
      "CV iteration : C=0.001, solver=saga, train_score=0.6254126600389391, test_score=0.6235504810488244\n",
      "C=0.001, penalty=l2, solver=\"saga\", train_score=0.625021609771079, test_score=0.6231755463342924\n",
      "CV iteration : C=0.01, solver=saga, train_score=0.6490087835538528, test_score=0.6467836404027753\n",
      "CV iteration : C=0.01, solver=saga, train_score=0.6473274453889347, test_score=0.6450583788145005\n",
      "CV iteration : C=0.01, solver=saga, train_score=0.6479435699010554, test_score=0.6461223030405925\n",
      "C=0.01, penalty=l2, solver=\"saga\", train_score=0.6480932662812809, test_score=0.6459881074192894\n",
      "CV iteration : C=0.05, solver=saga, train_score=0.6593885717953746, test_score=0.6557646492775087\n",
      "CV iteration : C=0.05, solver=saga, train_score=0.6576928273945348, test_score=0.6562435043303292\n",
      "CV iteration : C=0.05, solver=saga, train_score=0.657269871429558, test_score=0.6567580688354275\n",
      "C=0.05, penalty=l2, solver=\"saga\", train_score=0.6581170902064891, test_score=0.6562554074810885\n",
      "CV iteration : C=0.1, solver=saga, train_score=0.661128560780393, test_score=0.657414586010492\n",
      "CV iteration : C=0.1, solver=saga, train_score=0.6599546943665022, test_score=0.6579490114623913\n",
      "CV iteration : C=0.1, solver=saga, train_score=0.6589422737273587, test_score=0.6590352185238268\n",
      "C=0.1, penalty=l2, solver=\"saga\", train_score=0.6600085096247513, test_score=0.65813293866557\n",
      "CV iteration : C=0.5, solver=saga, train_score=0.663154153758943, test_score=0.6591985834003247\n",
      "CV iteration : C=0.5, solver=saga, train_score=0.6627829623617668, test_score=0.6592481160872671\n",
      "CV iteration : C=0.5, solver=saga, train_score=0.660721332503138, test_score=0.661865958936618\n",
      "C=0.5, penalty=l2, solver=\"saga\", train_score=0.662219482874616, test_score=0.6601042194747365\n",
      "CV iteration : C=1, solver=saga, train_score=0.6636040591877931, test_score=0.6595050412551595\n",
      "CV iteration : C=1, solver=saga, train_score=0.6633454210885604, test_score=0.6593875110334793\n",
      "CV iteration : C=1, solver=saga, train_score=0.6610751981219549, test_score=0.6625516305571293\n",
      "C=1, penalty=l2, solver=\"saga\", train_score=0.6626748927994361, test_score=0.6604813942819227\n",
      "CV iteration : C=5, solver=saga, train_score=0.6639661642510208, test_score=0.659624681745159\n",
      "CV iteration : C=5, solver=saga, train_score=0.6638100405162561, test_score=0.6594032794273108\n",
      "CV iteration : C=5, solver=saga, train_score=0.6613922219730282, test_score=0.6632366573086403\n",
      "C=5, penalty=l2, solver=\"saga\", train_score=0.6630561422467683, test_score=0.6607548728270367\n",
      "CV iteration : C=10, solver=saga, train_score=0.664000633698516, test_score=0.6596116684238558\n",
      "CV iteration : C=10, solver=saga, train_score=0.6638514566126088, test_score=0.6594051552213724\n",
      "CV iteration : C=10, solver=saga, train_score=0.6614448321346031, test_score=0.6633105827458381\n",
      "C=10, penalty=l2, solver=\"saga\", train_score=0.663098974148576, test_score=0.6607758021303555\n",
      "CV iteration : C=50, solver=saga, train_score=0.6640082691501084, test_score=0.6595839418428809\n",
      "CV iteration : C=50, solver=saga, train_score=0.663887362287083, test_score=0.6593909109102162\n",
      "CV iteration : C=50, solver=saga, train_score=0.6614730716280169, test_score=0.6633708486851239\n",
      "C=50, penalty=l2, solver=\"saga\", train_score=0.663122901021736, test_score=0.660781900479407\n",
      "CV iteration : C=100, solver=saga, train_score=0.664009734687842, test_score=0.6595795454505489\n",
      "CV iteration : C=100, solver=saga, train_score=0.6638882709204779, test_score=0.6593931970342289\n",
      "CV iteration : C=100, solver=saga, train_score=0.6614753870613118, test_score=0.663372138423124\n",
      "C=100, penalty=l2, solver=\"saga\", train_score=0.6631244642232105, test_score=0.6607816269693005\n",
      "CV iteration : C=500, solver=saga, train_score=0.6640081812178442, test_score=0.6595814212446105\n",
      "CV iteration : C=500, solver=saga, train_score=0.6638886666156659, test_score=0.6593949555911618\n",
      "CV iteration : C=500, solver=saga, train_score=0.6614789041751776, test_score=0.663379056108762\n",
      "C=500, penalty=l2, solver=\"saga\", train_score=0.6631252506695625, test_score=0.6607851443148448\n",
      "CV iteration : C=1000, solver=saga, train_score=0.6640073605167134, test_score=0.659580131636193\n",
      "CV iteration : C=1000, solver=saga, train_score=0.6638887252371752, test_score=0.6593935487456155\n",
      "CV iteration : C=1000, solver=saga, train_score=0.6614791826133586, test_score=0.6633802872223077\n",
      "C=1000, penalty=l2, solver=\"saga\", train_score=0.6631250894557491, test_score=0.6607846558680387\n",
      "CV iteration : C=5000, solver=saga, train_score=0.6640075803473735, test_score=0.6595824177602058\n",
      "CV iteration : C=5000, solver=saga, train_score=0.6638895019721742, test_score=0.6593917315701181\n",
      "CV iteration : C=5000, solver=saga, train_score=0.6614785964277143, test_score=0.6633799941000349\n",
      "C=5000, penalty=l2, solver=\"saga\", train_score=0.6631252262490873, test_score=0.6607847144767863\n",
      "CV iteration : C=10000, solver=saga, train_score=0.6640077122457695, test_score=0.6595822419045125\n",
      "CV iteration : C=10000, solver=saga, train_score=0.6638896631813247, test_score=0.6593920246629403\n",
      "CV iteration : C=10000, solver=saga, train_score=0.6614784938452265, test_score=0.6633798768511259\n",
      "C=10000, penalty=l2, solver=\"saga\", train_score=0.6631252897574402, test_score=0.6607847144728596\n"
     ]
    },
    {
     "data": {
      "image/png": "[encoded data removed]",
      "text/plain": [
       "<Figure size 432x288 with 1 Axes>"
      ]
     },
     "metadata": {
      "needs_background": "light"
     },
     "output_type": "display_data"
    },
    {
     "name": "stdout",
     "output_type": "stream",
     "text": [
      "Initializing Vectorizer\n",
      "Training Model....\n",
      "Saving Trained Model....\n",
      "Retraining Vectorizer with Dx_train\n",
      "Area Under the Curve for Train :  0.6627308160480285\n",
      "Area Under the Curve for Test :  0.6506013837971308\n"
     ]
    },
    {
     "data": {
      "image/png": "[encoded data removed]",
      "text/plain": [
       "<Figure size 432x288 with 1 Axes>"
      ]
     },
     "metadata": {
      "needs_background": "light"
     },
     "output_type": "display_data"
    },
    {
     "data": {
      "image/png": "[encoded data removed]",
      "text/plain": [
       "<Figure size 432x288 with 2 Axes>"
      ]
     },
     "metadata": {
      "needs_background": "light"
     },
     "output_type": "display_data"
    },
    {
     "data": {
      "image/png": "[encoded data removed]",
      "text/plain": [
       "<Figure size 432x288 with 2 Axes>"
      ]
     },
     "metadata": {
      "needs_background": "light"
     },
     "output_type": "display_data"
    }
   ],
   "source": [
    "# Please write all the code with proper documentation\n",
    "csv_path = 'saved_models/Assignment5/Avg-W2Vec_log_reg_results_l2.csv'\n",
    "cv_results = perform_hyperparameter_tuning(X=Dx_train, Y=Dy_train, vectorizer='Avg-W2Vec', vec_name='Avg-W2Vec', \n",
    "                                           penalty=['l2'], results_path=csv_path, retrain=True, W2V_model=w2v_model)\n",
    "# Analysing best parameters\n",
    "best_parameters = analyse_results(cv_results)\n",
    "\n",
    "# retraining the model with best parameters\n",
    "model_path = 'saved_models/Assignment5/{0}_log_reg_l2.pkl'.format('Avg-W2Vec')\n",
    "log_reg = retrain_with_best_params(Dx_train, Dy_train, best_parameters, 'Avg-W2Vec', model_path, w2v_model)\n",
    "\n",
    "print('Retraining Vectorizer with Dx_train')\n",
    "vectorizer_obj = get_vectorizer(W2V_model=w2v_model, train=Dx_train, vectorizer='Avg-W2Vec')\n",
    "\n",
    "# plotting AUC ROC \n",
    "train_score, test_score = plot_AUC_ROC(log_reg, vectorizer_obj, Dx_train, Dx_test, Dy_train, Dy_test)\n",
    "\n",
    "# appending the data results\n",
    "prettytable_data.append(['Avg-Word2Vec', 'LogisticRegression', 'L2', best_parameters['logistic__C'], train_score, test_score])"
   ]
  },
  {
   "cell_type": "markdown",
   "metadata": {
    "colab_type": "text",
    "id": "pdXTwVIPLPpp"
   },
   "source": [
    "## [5.4] Logistic Regression on TFIDF W2V,<font color='red'> SET 4</font>"
   ]
  },
  {
   "cell_type": "markdown",
   "metadata": {
    "colab_type": "text",
    "id": "WP9NjwNSLPpp"
   },
   "source": [
    "### [5.4.1] Applying Logistic Regression with L1 regularization on TFIDF W2V,<font color='red'> SET 4</font>"
   ]
  },
  {
   "cell_type": "code",
   "execution_count": 61,
   "metadata": {
    "colab": {},
    "colab_type": "code",
    "id": "207gYymwLPpq"
   },
   "outputs": [
    {
     "name": "stdout",
     "output_type": "stream",
     "text": [
      "Performing Hyperparameter Tuning...\n",
      "\n",
      "CV iteration : C=0.0001, solver=saga, train_score=0.5, test_score=0.5\n",
      "CV iteration : C=0.0001, solver=saga, train_score=0.5, test_score=0.5\n",
      "CV iteration : C=0.0001, solver=saga, train_score=0.5, test_score=0.5\n",
      "C=0.0001, penalty=l1, solver=\"saga\", train_score=0.5, test_score=0.5\n",
      "CV iteration : C=0.001, solver=saga, train_score=0.5, test_score=0.5\n",
      "CV iteration : C=0.001, solver=saga, train_score=0.5, test_score=0.5\n",
      "CV iteration : C=0.001, solver=saga, train_score=0.5, test_score=0.5\n",
      "C=0.001, penalty=l1, solver=\"saga\", train_score=0.5, test_score=0.5\n",
      "CV iteration : C=0.01, solver=saga, train_score=0.5, test_score=0.5\n",
      "CV iteration : C=0.01, solver=saga, train_score=0.5, test_score=0.5\n",
      "CV iteration : C=0.01, solver=saga, train_score=0.5, test_score=0.5\n",
      "C=0.01, penalty=l1, solver=\"saga\", train_score=0.5, test_score=0.5\n",
      "CV iteration : C=0.05, solver=saga, train_score=0.5, test_score=0.5\n",
      "CV iteration : C=0.05, solver=saga, train_score=0.5, test_score=0.5\n",
      "CV iteration : C=0.05, solver=saga, train_score=0.5, test_score=0.5\n",
      "C=0.05, penalty=l1, solver=\"saga\", train_score=0.5, test_score=0.5\n",
      "CV iteration : C=0.1, solver=saga, train_score=0.5, test_score=0.5\n",
      "CV iteration : C=0.1, solver=saga, train_score=0.5, test_score=0.5\n",
      "CV iteration : C=0.1, solver=saga, train_score=0.5, test_score=0.5\n",
      "C=0.1, penalty=l1, solver=\"saga\", train_score=0.5, test_score=0.5\n",
      "CV iteration : C=0.5, solver=saga, train_score=0.5, test_score=0.5\n",
      "CV iteration : C=0.5, solver=saga, train_score=0.5, test_score=0.5\n",
      "CV iteration : C=0.5, solver=saga, train_score=0.5, test_score=0.5\n",
      "C=0.5, penalty=l1, solver=\"saga\", train_score=0.5, test_score=0.5\n",
      "CV iteration : C=1, solver=saga, train_score=0.5, test_score=0.5\n",
      "CV iteration : C=1, solver=saga, train_score=0.5, test_score=0.5\n",
      "CV iteration : C=1, solver=saga, train_score=0.5, test_score=0.5\n",
      "C=1, penalty=l1, solver=\"saga\", train_score=0.5, test_score=0.5\n",
      "CV iteration : C=5, solver=saga, train_score=0.5, test_score=0.5\n",
      "CV iteration : C=5, solver=saga, train_score=0.5, test_score=0.5\n",
      "CV iteration : C=5, solver=saga, train_score=0.5, test_score=0.5\n",
      "C=5, penalty=l1, solver=\"saga\", train_score=0.5, test_score=0.5\n",
      "CV iteration : C=10, solver=saga, train_score=0.5, test_score=0.5\n",
      "CV iteration : C=10, solver=saga, train_score=0.5, test_score=0.5\n",
      "CV iteration : C=10, solver=saga, train_score=0.5, test_score=0.5\n",
      "C=10, penalty=l1, solver=\"saga\", train_score=0.5, test_score=0.5\n",
      "CV iteration : C=50, solver=saga, train_score=0.5, test_score=0.5\n",
      "CV iteration : C=50, solver=saga, train_score=0.5, test_score=0.5\n",
      "CV iteration : C=50, solver=saga, train_score=0.5, test_score=0.5\n",
      "C=50, penalty=l1, solver=\"saga\", train_score=0.5, test_score=0.5\n",
      "CV iteration : C=100, solver=saga, train_score=0.5, test_score=0.5\n",
      "CV iteration : C=100, solver=saga, train_score=0.5, test_score=0.5\n",
      "CV iteration : C=100, solver=saga, train_score=0.5, test_score=0.5\n",
      "C=100, penalty=l1, solver=\"saga\", train_score=0.5, test_score=0.5\n",
      "CV iteration : C=500, solver=saga, train_score=0.5, test_score=0.5\n",
      "CV iteration : C=500, solver=saga, train_score=0.5, test_score=0.5\n",
      "CV iteration : C=500, solver=saga, train_score=0.5, test_score=0.5\n",
      "C=500, penalty=l1, solver=\"saga\", train_score=0.5, test_score=0.5\n",
      "CV iteration : C=1000, solver=saga, train_score=0.5, test_score=0.5\n",
      "CV iteration : C=1000, solver=saga, train_score=0.5, test_score=0.5\n",
      "CV iteration : C=1000, solver=saga, train_score=0.5, test_score=0.5\n",
      "C=1000, penalty=l1, solver=\"saga\", train_score=0.5, test_score=0.5\n",
      "CV iteration : C=5000, solver=saga, train_score=0.5, test_score=0.5\n",
      "CV iteration : C=5000, solver=saga, train_score=0.5, test_score=0.5\n",
      "CV iteration : C=5000, solver=saga, train_score=0.5, test_score=0.5\n",
      "C=5000, penalty=l1, solver=\"saga\", train_score=0.5, test_score=0.5\n",
      "CV iteration : C=10000, solver=saga, train_score=0.5, test_score=0.5\n",
      "CV iteration : C=10000, solver=saga, train_score=0.5, test_score=0.5\n",
      "CV iteration : C=10000, solver=saga, train_score=0.5, test_score=0.5\n",
      "C=10000, penalty=l1, solver=\"saga\", train_score=0.5, test_score=0.5\n"
     ]
    },
    {
     "data": {
      "image/png": "[encoded data removed]",
      "text/plain": [
       "<Figure size 432x288 with 1 Axes>"
      ]
     },
     "metadata": {
      "needs_background": "light"
     },
     "output_type": "display_data"
    },
    {
     "name": "stdout",
     "output_type": "stream",
     "text": [
      "Initializing Vectorizer\n",
      "Training Model....\n",
      "Saving Trained Model....\n",
      "Retraining Vectorizer with Dx_train\n",
      "Area Under the Curve for Train :  0.5\n",
      "Area Under the Curve for Test :  0.5\n"
     ]
    },
    {
     "data": {
      "image/png": "[encoded data removed]",
      "text/plain": [
       "<Figure size 432x288 with 1 Axes>"
      ]
     },
     "metadata": {
      "needs_background": "light"
     },
     "output_type": "display_data"
    },
    {
     "data": {
      "image/png": "[encoded data removed]",
      "text/plain": [
       "<Figure size 432x288 with 2 Axes>"
      ]
     },
     "metadata": {
      "needs_background": "light"
     },
     "output_type": "display_data"
    },
    {
     "data": {
      "image/png": "[encoded data removed]",
      "text/plain": [
       "<Figure size 432x288 with 2 Axes>"
      ]
     },
     "metadata": {
      "needs_background": "light"
     },
     "output_type": "display_data"
    }
   ],
   "source": [
    "# Please write all the code with proper documentation\n",
    "csv_path = 'saved_models/Assignment5/TFIDF-W2Vec_log_reg_results_l1.csv'\n",
    "cv_results = perform_hyperparameter_tuning(X=Dx_train, Y=Dy_train, vectorizer='TFIDF-W2Vec', vec_name='TFIDF-W2Vec', \n",
    "                                           penalty=['l1'], results_path=csv_path, retrain=True, W2V_model=w2v_model)\n",
    "# Analysing best parameters\n",
    "best_parameters = analyse_results(cv_results)\n",
    "\n",
    "# retraining the model with best parameters\n",
    "model_path = 'saved_models/Assignment5/{0}_log_reg_l1.pkl'.format('TFIDF-W2Vec')\n",
    "log_reg = retrain_with_best_params(Dx_train, Dy_train, best_parameters, 'TFIDF-W2Vec', model_path, w2v_model)\n",
    "\n",
    "print('Retraining Vectorizer with Dx_train')\n",
    "vectorizer_obj = get_vectorizer(W2V_model=w2v_model, train=Dx_train, vectorizer='TFIDF-W2Vec')\n",
    "\n",
    "# plotting AUC ROC \n",
    "train_score, test_score = plot_AUC_ROC(log_reg, vectorizer_obj, Dx_train, Dx_test, Dy_train, Dy_test)\n",
    "\n",
    "# appending the data results\n",
    "prettytable_data.append(['TFIDF-Word2Vec', 'LogisticRegression', 'L1', best_parameters['logistic__C'], train_score, test_score])"
   ]
  },
  {
   "cell_type": "markdown",
   "metadata": {
    "colab_type": "text",
    "id": "ynUK2tYDLPps"
   },
   "source": [
    "### [5.4.2] Applying Logistic Regression with L2 regularization on TFIDF W2V,<font color='red'> SET 4</font>"
   ]
  },
  {
   "cell_type": "code",
   "execution_count": 62,
   "metadata": {
    "colab": {},
    "colab_type": "code",
    "id": "hVYuiXl2LPpt"
   },
   "outputs": [
    {
     "name": "stdout",
     "output_type": "stream",
     "text": [
      "Performing Hyperparameter Tuning...\n",
      "\n",
      "CV iteration : C=0.0001, solver=saga, train_score=0.6147316439200554, test_score=0.6165104345147983\n",
      "CV iteration : C=0.0001, solver=saga, train_score=0.6167041551218931, test_score=0.6124417785763451\n",
      "CV iteration : C=0.0001, solver=saga, train_score=0.6162951285276506, test_score=0.6149852137400713\n",
      "C=0.0001, penalty=l2, solver=\"saga\", train_score=0.6159103091898663, test_score=0.6146458089437382\n",
      "CV iteration : C=0.001, solver=saga, train_score=0.624311336491274, test_score=0.6247843276468246\n",
      "CV iteration : C=0.001, solver=saga, train_score=0.6253401732910437, test_score=0.6211914199772771\n",
      "CV iteration : C=0.001, solver=saga, train_score=0.6254125721110925, test_score=0.623550656922188\n",
      "C=0.001, penalty=l2, solver=\"saga\", train_score=0.6250213606311368, test_score=0.6231754681820966\n",
      "CV iteration : C=0.01, solver=saga, train_score=0.6490099120179077, test_score=0.6467838162584685\n",
      "CV iteration : C=0.01, solver=saga, train_score=0.6473275186658213, test_score=0.6450580271031139\n",
      "CV iteration : C=0.01, solver=saga, train_score=0.647943379390721, test_score=0.6461223616650471\n",
      "C=0.01, penalty=l2, solver=\"saga\", train_score=0.64809360335815, test_score=0.6459880683422098\n",
      "CV iteration : C=0.05, solver=saga, train_score=0.6593886450722612, test_score=0.6557645320403798\n",
      "CV iteration : C=0.05, solver=saga, train_score=0.6576939558585897, test_score=0.6562437974231513\n",
      "CV iteration : C=0.05, solver=saga, train_score=0.6572695929913768, test_score=0.6567597689446096\n",
      "C=0.05, penalty=l2, solver=\"saga\", train_score=0.6581173979740759, test_score=0.6562560328027136\n",
      "CV iteration : C=0.1, solver=saga, train_score=0.6611285754357703, test_score=0.6574144687733632\n",
      "CV iteration : C=0.1, solver=saga, train_score=0.6599532727949007, test_score=0.6579528802876436\n",
      "CV iteration : C=0.1, solver=saga, train_score=0.6589434754079295, test_score=0.6590369772574636\n",
      "C=0.1, penalty=l2, solver=\"saga\", train_score=0.6600084412128668, test_score=0.6581347754394902\n",
      "CV iteration : C=0.5, solver=saga, train_score=0.6631543589342257, test_score=0.6591992282045332\n",
      "CV iteration : C=0.5, solver=saga, train_score=0.6627829623617668, test_score=0.6592479988501383\n",
      "CV iteration : C=0.5, solver=saga, train_score=0.6607212445752915, test_score=0.6618661348099818\n",
      "C=0.5, penalty=l2, solver=\"saga\", train_score=0.6622195219570947, test_score=0.6601044539548844\n",
      "CV iteration : C=1, solver=saga, train_score=0.6636037367694918, test_score=0.6595052757294172\n",
      "CV iteration : C=1, solver=saga, train_score=0.663345406433183, test_score=0.6593882730748168\n",
      "CV iteration : C=1, solver=saga, train_score=0.6610757696529581, test_score=0.6625511029370383\n",
      "C=1, penalty=l2, solver=\"saga\", train_score=0.6626749709518777, test_score=0.6604815505804241\n",
      "CV iteration : C=5, solver=saga, train_score=0.6639657978665874, test_score=0.6596247403637234\n",
      "CV iteration : C=5, solver=saga, train_score=0.6638098646517281, test_score=0.6594037483758262\n",
      "CV iteration : C=5, solver=saga, train_score=0.6613922512823104, test_score=0.663235250321731\n",
      "C=5, penalty=l2, solver=\"saga\", train_score=0.6630559712668753, test_score=0.6607545796870936\n",
      "CV iteration : C=10, solver=saga, train_score=0.6640005164554973, test_score=0.6596116684238558\n",
      "CV iteration : C=10, solver=saga, train_score=0.6638511341943074, test_score=0.6594043931800349\n",
      "CV iteration : C=10, solver=saga, train_score=0.6614454036656063, test_score=0.6633106413702926\n",
      "C=10, penalty=l2, solver=\"saga\", train_score=0.6630990181051369, test_score=0.6607755676580611\n",
      "CV iteration : C=50, solver=saga, train_score=0.6640082838054856, test_score=0.659583824605752\n",
      "CV iteration : C=50, solver=saga, train_score=0.6638883735081191, test_score=0.6593908522916517\n",
      "CV iteration : C=50, solver=saga, train_score=0.661472954390888, test_score=0.6633709073095784\n",
      "C=50, penalty=l2, solver=\"saga\", train_score=0.6631232039014976, test_score=0.6607818614023274\n",
      "CV iteration : C=100, solver=saga, train_score=0.6640098958969927, test_score=0.6595796040691132\n",
      "CV iteration : C=100, solver=saga, train_score=0.6638891795538727, test_score=0.6593924349928914\n",
      "CV iteration : C=100, solver=saga, train_score=0.6614752844788241, test_score=0.6633721384231241\n",
      "C=100, penalty=l2, solver=\"saga\", train_score=0.6631247866432298, test_score=0.6607813924950429\n",
      "CV iteration : C=500, solver=saga, train_score=0.6640079613871842, test_score=0.6595817143374325\n",
      "CV iteration : C=500, solver=saga, train_score=0.6638886519602887, test_score=0.6593944866426464\n",
      "CV iteration : C=500, solver=saga, train_score=0.661478962793742, test_score=0.663379056108762\n",
      "C=500, penalty=l2, solver=\"saga\", train_score=0.6631251920470715, test_score=0.6607850856962804\n",
      "CV iteration : C=1000, solver=saga, train_score=0.6640075510366188, test_score=0.6595804833475796\n",
      "CV iteration : C=1000, solver=saga, train_score=0.66388875454793, test_score=0.6593935487456155\n",
      "CV iteration : C=1000, solver=saga, train_score=0.6614794903608219, test_score=0.6633802285978532\n",
      "C=1000, penalty=l2, solver=\"saga\", train_score=0.6631252653151235, test_score=0.6607847535636827\n",
      "CV iteration : C=5000, solver=saga, train_score=0.6640076243135056, test_score=0.6595823591416413\n",
      "CV iteration : C=5000, solver=saga, train_score=0.6638895899044381, test_score=0.6593920832815048\n",
      "CV iteration : C=5000, solver=saga, train_score=0.6614784498813032, test_score=0.6633799354755803\n",
      "C=5000, penalty=l2, solver=\"saga\", train_score=0.6631252213664157, test_score=0.6607847926329088\n",
      "CV iteration : C=10000, solver=saga, train_score=0.6640076096581282, test_score=0.659582593615899\n",
      "CV iteration : C=10000, solver=saga, train_score=0.6638897804243435, test_score=0.6593919660443759\n",
      "CV iteration : C=10000, solver=saga, train_score=0.6614786110823554, test_score=0.6633797009777621\n",
      "C=10000, penalty=l2, solver=\"saga\", train_score=0.6631253337216091, test_score=0.6607847535460123\n"
     ]
    },
    {
     "data": {
      "image/png": "[encoded data removed]",
      "text/plain": [
       "<Figure size 432x288 with 1 Axes>"
      ]
     },
     "metadata": {
      "needs_background": "light"
     },
     "output_type": "display_data"
    },
    {
     "name": "stdout",
     "output_type": "stream",
     "text": [
      "Loading Model....\n",
      "Retraining Vectorizer with Dx_train\n",
      "Area Under the Curve for Train :  0.6627308160480285\n",
      "Area Under the Curve for Test :  0.6506013837971308\n"
     ]
    },
    {
     "data": {
      "image/png": "[encoded data removed]",
      "text/plain": [
       "<Figure size 432x288 with 1 Axes>"
      ]
     },
     "metadata": {
      "needs_background": "light"
     },
     "output_type": "display_data"
    },
    {
     "data": {
      "image/png": "[encoded data removed]",
      "text/plain": [
       "<Figure size 432x288 with 2 Axes>"
      ]
     },
     "metadata": {
      "needs_background": "light"
     },
     "output_type": "display_data"
    },
    {
     "data": {
      "image/png": "[encoded data removed]",
      "text/plain": [
       "<Figure size 432x288 with 2 Axes>"
      ]
     },
     "metadata": {
      "needs_background": "light"
     },
     "output_type": "display_data"
    }
   ],
   "source": [
    "# Please write all the code with proper documentation\n",
    "csv_path = 'saved_models/Assignment5/Avg-W2Vec_log_reg_results_l2.csv'\n",
    "cv_results = perform_hyperparameter_tuning(X=Dx_train, Y=Dy_train, vectorizer='Avg-W2Vec', vec_name='Avg-W2Vec', \n",
    "                                           penalty=['l2'], results_path=csv_path, retrain=True, W2V_model=w2v_model)\n",
    "# Analysing best parameters\n",
    "best_parameters = analyse_results(cv_results)\n",
    "\n",
    "# retraining the model with best parameters\n",
    "model_path = 'saved_models/Assignment5/{0}_log_reg_l2.pkl'.format('Avg-W2Vec')\n",
    "log_reg = retrain_with_best_params(Dx_train, Dy_train, best_parameters, 'Avg-W2Vec', model_path, w2v_model)\n",
    "\n",
    "print('Retraining Vectorizer with Dx_train')\n",
    "vectorizer_obj = get_vectorizer(W2V_model=w2v_model, train=Dx_train, vectorizer='Avg-W2Vec')\n",
    "\n",
    "# plotting AUC ROC \n",
    "train_score, test_score = plot_AUC_ROC(log_reg, vectorizer_obj, Dx_train, Dx_test, Dy_train, Dy_test)\n",
    "\n",
    "# appending the data results\n",
    "prettytable_data.append(['TFIDF-Word2Vec', 'LogisticRegression', 'L1', best_parameters['logistic__C'], train_score, test_score])"
   ]
  },
  {
   "cell_type": "markdown",
   "metadata": {
    "colab_type": "text",
    "id": "nOvsBNf2LPpv"
   },
   "source": [
    "# [6] Conclusions"
   ]
  },
  {
   "cell_type": "code",
   "execution_count": 63,
   "metadata": {},
   "outputs": [],
   "source": [
    "from prettytable import PrettyTable"
   ]
  },
  {
   "cell_type": "code",
   "execution_count": 64,
   "metadata": {
    "colab": {},
    "colab_type": "code",
    "id": "T7VxD0q2LPpw"
   },
   "outputs": [
    {
     "name": "stdout",
     "output_type": "stream",
     "text": [
      "+----------------+--------------------+---------+----------------------+--------------------+--------------------+\n",
      "|   Vectorizer   |       Model        | Penalty | Hyper parameter: 1/C |     Train AUC      |      Test AUC      |\n",
      "+----------------+--------------------+---------+----------------------+--------------------+--------------------+\n",
      "|      BOW       | LogisticRegression |    L2   |         0.1          | 0.9362955972935451 | 0.9125718703293875 |\n",
      "|     TFIDF      | LogisticRegression |    L1   |         1.0          | 0.9424295841754171 | 0.9270139242219235 |\n",
      "|     TFIDF      | LogisticRegression |    L2   |         1.0          | 0.9419734676196749 | 0.9271881359514265 |\n",
      "|  Avg Word2Vec  | LogisticRegression |    L1   |       10000.0        | 0.6627319168112705 | 0.6506057032390009 |\n",
      "|  Avg-Word2Vec  | LogisticRegression |    L2   |        500.0         | 0.6627308160480285 | 0.6506013837971308 |\n",
      "| TFIDF-Word2Vec | LogisticRegression |    L1   |        0.0001        |        0.5         |        0.5         |\n",
      "| TFIDF-Word2Vec | LogisticRegression |    L1   |        500.0         | 0.6627308160480285 | 0.6506013837971308 |\n",
      "+----------------+--------------------+---------+----------------------+--------------------+--------------------+\n"
     ]
    }
   ],
   "source": [
    "# Please compare all your models using Prettytable library\n",
    "x = PrettyTable()\n",
    "\n",
    "x.field_names = [\"Vectorizer\", \"Model\", \"Penalty\", \"Hyper parameter: 1/C\", \"Train AUC\", \"Test AUC\"]\n",
    "[x.add_row(i) for i in prettytable_data]\n",
    "print(x)"
   ]
  }
 ],
 "metadata": {
  "colab": {
   "name": "05 Amazon Fine Food Reviews Analysis_Logistic Regression.ipynb",
   "provenance": [],
   "version": "0.3.2"
  },
  "kernelspec": {
   "display_name": "Python 3",
   "language": "python",
   "name": "python3"
  },
  "language_info": {
   "codemirror_mode": {
    "name": "ipython",
    "version": 3
   },
   "file_extension": ".py",
   "mimetype": "text/x-python",
   "name": "python",
   "nbconvert_exporter": "python",
   "pygments_lexer": "ipython3",
   "version": "3.6.7"
  }
 },
 "nbformat": 4,
 "nbformat_minor": 2
}
