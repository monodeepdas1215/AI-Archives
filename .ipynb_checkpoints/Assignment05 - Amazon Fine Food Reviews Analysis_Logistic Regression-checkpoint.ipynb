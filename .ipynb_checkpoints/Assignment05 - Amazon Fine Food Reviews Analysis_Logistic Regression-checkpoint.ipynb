{
 "cells": [
  {
   "cell_type": "markdown",
   "metadata": {
    "colab_type": "text",
    "id": "AM7jsfwALPlp"
   },
   "source": [
    "# Amazon Fine Food Reviews Analysis\n",
    "\n",
    "\n",
    "Data Source: https://www.kaggle.com/snap/amazon-fine-food-reviews <br>\n",
    "\n",
    "EDA: https://nycdatascience.com/blog/student-works/amazon-fine-foods-visualization/\n",
    "\n",
    "\n",
    "The Amazon Fine Food Reviews dataset consists of reviews of fine foods from Amazon.<br>\n",
    "\n",
    "Number of reviews: 568,454<br>\n",
    "Number of users: 256,059<br>\n",
    "Number of products: 74,258<br>\n",
    "Timespan: Oct 1999 - Oct 2012<br>\n",
    "Number of Attributes/Columns in data: 10 \n",
    "\n",
    "Attribute Information:\n",
    "\n",
    "1. Id\n",
    "2. ProductId - unique identifier for the product\n",
    "3. UserId - unqiue identifier for the user\n",
    "4. ProfileName\n",
    "5. HelpfulnessNumerator - number of users who found the review helpful\n",
    "6. HelpfulnessDenominator - number of users who indicated whether they found the review helpful or not\n",
    "7. Score - rating between 1 and 5\n",
    "8. Time - timestamp for the review\n",
    "9. Summary - brief summary of the review\n",
    "10. Text - text of the review\n",
    "\n",
    "\n",
    "#### Objective:\n",
    "Given a review, determine whether the review is positive (rating of 4 or 5) or negative (rating of 1 or 2).\n",
    "\n",
    "<br>\n",
    "[Q] How to determine if a review is positive or negative?<br>\n",
    "<br> \n",
    "[Ans] We could use Score/Rating. A rating of 4 or 5 can be cosnidered as a positive review. A rating of 1 or 2 can be considered as negative one. A review of rating 3 is considered nuetral and such reviews are ignored from our analysis. This is an approximate and proxy way of determining the polarity (positivity/negativity) of a review.\n",
    "\n",
    "\n"
   ]
  },
  {
   "cell_type": "markdown",
   "metadata": {
    "colab_type": "text",
    "id": "CaQ7XJ4OLPls"
   },
   "source": [
    "# [1]. Reading Data"
   ]
  },
  {
   "cell_type": "markdown",
   "metadata": {
    "colab_type": "text",
    "id": "5VnEBjKRLPlu"
   },
   "source": [
    "## [1.1] Loading the data\n",
    "\n",
    "The dataset is available in two forms\n",
    "1. .csv file\n",
    "2. SQLite Database\n",
    "\n",
    "In order to load the data, We have used the SQLITE dataset as it is easier to query the data and visualise the data efficiently.\n",
    "<br> \n",
    "\n",
    "Here as we only want to get the global sentiment of the recommendations (positive or negative), we will purposefully ignore all Scores equal to 3. If the score is above 3, then the recommendation wil be set to \"positive\". Otherwise, it will be set to \"negative\"."
   ]
  },
  {
   "cell_type": "code",
   "execution_count": 1,
   "metadata": {
    "colab": {},
    "colab_type": "code",
    "id": "x6YclOzXLPlv"
   },
   "outputs": [],
   "source": [
    "%matplotlib inline\n",
    "import warnings\n",
    "warnings.filterwarnings(\"ignore\")\n",
    "\n",
    "\n",
    "import sqlite3\n",
    "import pandas as pd\n",
    "import numpy as np\n",
    "import nltk\n",
    "import string\n",
    "import matplotlib.pyplot as plt\n",
    "import seaborn as sns\n",
    "from sklearn.feature_extraction.text import TfidfTransformer\n",
    "from sklearn.feature_extraction.text import TfidfVectorizer\n",
    "\n",
    "from sklearn.feature_extraction.text import CountVectorizer\n",
    "from sklearn.metrics import confusion_matrix\n",
    "from sklearn import metrics\n",
    "from sklearn.metrics import roc_curve, auc\n",
    "from nltk.stem.porter import PorterStemmer\n",
    "\n",
    "import re\n",
    "# Tutorial about Python regular expressions: https://pymotw.com/2/re/\n",
    "import string\n",
    "from nltk.corpus import stopwords\n",
    "from nltk.stem import PorterStemmer\n",
    "from nltk.stem.wordnet import WordNetLemmatizer\n",
    "\n",
    "from gensim.models import Word2Vec\n",
    "from gensim.models import KeyedVectors\n",
    "import pickle\n",
    "\n",
    "from tqdm import tqdm\n",
    "import os"
   ]
  },
  {
   "cell_type": "code",
   "execution_count": 2,
   "metadata": {
    "colab": {},
    "colab_type": "code",
    "id": "NZ4OSpSiLPl0",
    "outputId": "241c4c64-6186-4351-e38f-fcd06c6896dd"
   },
   "outputs": [
    {
     "name": "stdout",
     "output_type": "stream",
     "text": [
      "Number of data points in our data (500000, 10)\n"
     ]
    },
    {
     "data": {
      "text/html": [
       "<div>\n",
       "<style scoped>\n",
       "    .dataframe tbody tr th:only-of-type {\n",
       "        vertical-align: middle;\n",
       "    }\n",
       "\n",
       "    .dataframe tbody tr th {\n",
       "        vertical-align: top;\n",
       "    }\n",
       "\n",
       "    .dataframe thead th {\n",
       "        text-align: right;\n",
       "    }\n",
       "</style>\n",
       "<table border=\"1\" class=\"dataframe\">\n",
       "  <thead>\n",
       "    <tr style=\"text-align: right;\">\n",
       "      <th></th>\n",
       "      <th>Id</th>\n",
       "      <th>ProductId</th>\n",
       "      <th>UserId</th>\n",
       "      <th>ProfileName</th>\n",
       "      <th>HelpfulnessNumerator</th>\n",
       "      <th>HelpfulnessDenominator</th>\n",
       "      <th>Score</th>\n",
       "      <th>Time</th>\n",
       "      <th>Summary</th>\n",
       "      <th>Text</th>\n",
       "    </tr>\n",
       "  </thead>\n",
       "  <tbody>\n",
       "    <tr>\n",
       "      <th>0</th>\n",
       "      <td>1</td>\n",
       "      <td>B001E4KFG0</td>\n",
       "      <td>A3SGXH7AUHU8GW</td>\n",
       "      <td>delmartian</td>\n",
       "      <td>1</td>\n",
       "      <td>1</td>\n",
       "      <td>1</td>\n",
       "      <td>1303862400</td>\n",
       "      <td>Good Quality Dog Food</td>\n",
       "      <td>I have bought several of the Vitality canned d...</td>\n",
       "    </tr>\n",
       "    <tr>\n",
       "      <th>1</th>\n",
       "      <td>2</td>\n",
       "      <td>B00813GRG4</td>\n",
       "      <td>A1D87F6ZCVE5NK</td>\n",
       "      <td>dll pa</td>\n",
       "      <td>0</td>\n",
       "      <td>0</td>\n",
       "      <td>0</td>\n",
       "      <td>1346976000</td>\n",
       "      <td>Not as Advertised</td>\n",
       "      <td>Product arrived labeled as Jumbo Salted Peanut...</td>\n",
       "    </tr>\n",
       "    <tr>\n",
       "      <th>2</th>\n",
       "      <td>3</td>\n",
       "      <td>B000LQOCH0</td>\n",
       "      <td>ABXLMWJIXXAIN</td>\n",
       "      <td>Natalia Corres \"Natalia Corres\"</td>\n",
       "      <td>1</td>\n",
       "      <td>1</td>\n",
       "      <td>1</td>\n",
       "      <td>1219017600</td>\n",
       "      <td>\"Delight\" says it all</td>\n",
       "      <td>This is a confection that has been around a fe...</td>\n",
       "    </tr>\n",
       "  </tbody>\n",
       "</table>\n",
       "</div>"
      ],
      "text/plain": [
       "   Id   ProductId          UserId                      ProfileName  \\\n",
       "0   1  B001E4KFG0  A3SGXH7AUHU8GW                       delmartian   \n",
       "1   2  B00813GRG4  A1D87F6ZCVE5NK                           dll pa   \n",
       "2   3  B000LQOCH0   ABXLMWJIXXAIN  Natalia Corres \"Natalia Corres\"   \n",
       "\n",
       "   HelpfulnessNumerator  HelpfulnessDenominator  Score        Time  \\\n",
       "0                     1                       1      1  1303862400   \n",
       "1                     0                       0      0  1346976000   \n",
       "2                     1                       1      1  1219017600   \n",
       "\n",
       "                 Summary                                               Text  \n",
       "0  Good Quality Dog Food  I have bought several of the Vitality canned d...  \n",
       "1      Not as Advertised  Product arrived labeled as Jumbo Salted Peanut...  \n",
       "2  \"Delight\" says it all  This is a confection that has been around a fe...  "
      ]
     },
     "execution_count": 2,
     "metadata": {},
     "output_type": "execute_result"
    }
   ],
   "source": [
    "# using SQLite Table to read data.\n",
    "# db_path = '/home/monodeepdas112/Datasets/amazon-fine-food-reviews/database.sqlite'\n",
    "db_path = '/home/monodeepdas112/Datasets/AmazonFineFoodReviews/database.sqlite'\n",
    "con = sqlite3.connect(db_path) \n",
    "\n",
    "# filtering only positive and negative reviews i.e. \n",
    "# not taking into consideration those reviews with Score=3\n",
    "# SELECT * FROM Reviews WHERE Score != 3 LIMIT 500000, will give top 500000 data points\n",
    "# you can change the number to any other number based on your computing power\n",
    "\n",
    "# filtered_data = pd.read_sql_query(\"\"\" SELECT * FROM Reviews WHERE Score != 3 LIMIT 500000\"\"\", con) \n",
    "# for tsne assignment you can take 5k data points\n",
    "\n",
    "filtered_data = pd.read_sql_query(\"\"\" SELECT * FROM Reviews WHERE Score != 3 LIMIT 500000\"\"\", con) \n",
    "\n",
    "# Give reviews with Score>3 a positive rating(1), and reviews with a score<3 a negative rating(0).\n",
    "def partition(x):\n",
    "    if x < 3:\n",
    "        return 0\n",
    "    return 1\n",
    "\n",
    "#changing reviews with score less than 3 to be positive and vice-versa\n",
    "actualScore = filtered_data['Score']\n",
    "positiveNegative = actualScore.map(partition) \n",
    "filtered_data['Score'] = positiveNegative\n",
    "print(\"Number of data points in our data\", filtered_data.shape)\n",
    "filtered_data.head(3)"
   ]
  },
  {
   "cell_type": "code",
   "execution_count": 3,
   "metadata": {
    "colab": {},
    "colab_type": "code",
    "id": "r44Y4VDjLPl7"
   },
   "outputs": [],
   "source": [
    "display = pd.read_sql_query(\"\"\"\n",
    "SELECT UserId, ProductId, ProfileName, Time, Score, Text, COUNT(*)\n",
    "FROM Reviews\n",
    "GROUP BY UserId\n",
    "HAVING COUNT(*)>1\n",
    "\"\"\", con)"
   ]
  },
  {
   "cell_type": "code",
   "execution_count": 4,
   "metadata": {
    "colab": {},
    "colab_type": "code",
    "id": "tTwINQv1LPl_",
    "outputId": "0385b9ca-0a35-4c2b-b656-8e8494414e6f",
    "scrolled": true
   },
   "outputs": [
    {
     "name": "stdout",
     "output_type": "stream",
     "text": [
      "(80668, 7)\n"
     ]
    },
    {
     "data": {
      "text/html": [
       "<div>\n",
       "<style scoped>\n",
       "    .dataframe tbody tr th:only-of-type {\n",
       "        vertical-align: middle;\n",
       "    }\n",
       "\n",
       "    .dataframe tbody tr th {\n",
       "        vertical-align: top;\n",
       "    }\n",
       "\n",
       "    .dataframe thead th {\n",
       "        text-align: right;\n",
       "    }\n",
       "</style>\n",
       "<table border=\"1\" class=\"dataframe\">\n",
       "  <thead>\n",
       "    <tr style=\"text-align: right;\">\n",
       "      <th></th>\n",
       "      <th>UserId</th>\n",
       "      <th>ProductId</th>\n",
       "      <th>ProfileName</th>\n",
       "      <th>Time</th>\n",
       "      <th>Score</th>\n",
       "      <th>Text</th>\n",
       "      <th>COUNT(*)</th>\n",
       "    </tr>\n",
       "  </thead>\n",
       "  <tbody>\n",
       "    <tr>\n",
       "      <th>0</th>\n",
       "      <td>#oc-R115TNMSPFT9I7</td>\n",
       "      <td>B005ZBZLT4</td>\n",
       "      <td>Breyton</td>\n",
       "      <td>1331510400</td>\n",
       "      <td>2</td>\n",
       "      <td>Overall its just OK when considering the price...</td>\n",
       "      <td>2</td>\n",
       "    </tr>\n",
       "    <tr>\n",
       "      <th>1</th>\n",
       "      <td>#oc-R11D9D7SHXIJB9</td>\n",
       "      <td>B005HG9ESG</td>\n",
       "      <td>Louis E. Emory \"hoppy\"</td>\n",
       "      <td>1342396800</td>\n",
       "      <td>5</td>\n",
       "      <td>My wife has recurring extreme muscle spasms, u...</td>\n",
       "      <td>3</td>\n",
       "    </tr>\n",
       "    <tr>\n",
       "      <th>2</th>\n",
       "      <td>#oc-R11DNU2NBKQ23Z</td>\n",
       "      <td>B005ZBZLT4</td>\n",
       "      <td>Kim Cieszykowski</td>\n",
       "      <td>1348531200</td>\n",
       "      <td>1</td>\n",
       "      <td>This coffee is horrible and unfortunately not ...</td>\n",
       "      <td>2</td>\n",
       "    </tr>\n",
       "    <tr>\n",
       "      <th>3</th>\n",
       "      <td>#oc-R11O5J5ZVQE25C</td>\n",
       "      <td>B005HG9ESG</td>\n",
       "      <td>Penguin Chick</td>\n",
       "      <td>1346889600</td>\n",
       "      <td>5</td>\n",
       "      <td>This will be the bottle that you grab from the...</td>\n",
       "      <td>3</td>\n",
       "    </tr>\n",
       "    <tr>\n",
       "      <th>4</th>\n",
       "      <td>#oc-R12KPBODL2B5ZD</td>\n",
       "      <td>B007OSBEV0</td>\n",
       "      <td>Christopher P. Presta</td>\n",
       "      <td>1348617600</td>\n",
       "      <td>1</td>\n",
       "      <td>I didnt like this coffee. Instead of telling y...</td>\n",
       "      <td>2</td>\n",
       "    </tr>\n",
       "  </tbody>\n",
       "</table>\n",
       "</div>"
      ],
      "text/plain": [
       "               UserId   ProductId             ProfileName        Time  Score  \\\n",
       "0  #oc-R115TNMSPFT9I7  B005ZBZLT4                 Breyton  1331510400      2   \n",
       "1  #oc-R11D9D7SHXIJB9  B005HG9ESG  Louis E. Emory \"hoppy\"  1342396800      5   \n",
       "2  #oc-R11DNU2NBKQ23Z  B005ZBZLT4        Kim Cieszykowski  1348531200      1   \n",
       "3  #oc-R11O5J5ZVQE25C  B005HG9ESG           Penguin Chick  1346889600      5   \n",
       "4  #oc-R12KPBODL2B5ZD  B007OSBEV0   Christopher P. Presta  1348617600      1   \n",
       "\n",
       "                                                Text  COUNT(*)  \n",
       "0  Overall its just OK when considering the price...         2  \n",
       "1  My wife has recurring extreme muscle spasms, u...         3  \n",
       "2  This coffee is horrible and unfortunately not ...         2  \n",
       "3  This will be the bottle that you grab from the...         3  \n",
       "4  I didnt like this coffee. Instead of telling y...         2  "
      ]
     },
     "execution_count": 4,
     "metadata": {},
     "output_type": "execute_result"
    }
   ],
   "source": [
    "print(display.shape)\n",
    "display.head()"
   ]
  },
  {
   "cell_type": "code",
   "execution_count": 5,
   "metadata": {
    "colab": {},
    "colab_type": "code",
    "id": "EOslHQgnLPmF",
    "outputId": "cb28598d-470a-42bb-e742-4763f953c8cb"
   },
   "outputs": [
    {
     "data": {
      "text/html": [
       "<div>\n",
       "<style scoped>\n",
       "    .dataframe tbody tr th:only-of-type {\n",
       "        vertical-align: middle;\n",
       "    }\n",
       "\n",
       "    .dataframe tbody tr th {\n",
       "        vertical-align: top;\n",
       "    }\n",
       "\n",
       "    .dataframe thead th {\n",
       "        text-align: right;\n",
       "    }\n",
       "</style>\n",
       "<table border=\"1\" class=\"dataframe\">\n",
       "  <thead>\n",
       "    <tr style=\"text-align: right;\">\n",
       "      <th></th>\n",
       "      <th>UserId</th>\n",
       "      <th>ProductId</th>\n",
       "      <th>ProfileName</th>\n",
       "      <th>Time</th>\n",
       "      <th>Score</th>\n",
       "      <th>Text</th>\n",
       "      <th>COUNT(*)</th>\n",
       "    </tr>\n",
       "  </thead>\n",
       "  <tbody>\n",
       "    <tr>\n",
       "      <th>80638</th>\n",
       "      <td>AZY10LLTJ71NX</td>\n",
       "      <td>B001ATMQK2</td>\n",
       "      <td>undertheshrine \"undertheshrine\"</td>\n",
       "      <td>1296691200</td>\n",
       "      <td>5</td>\n",
       "      <td>I bought this 6 pack because for the price tha...</td>\n",
       "      <td>5</td>\n",
       "    </tr>\n",
       "  </tbody>\n",
       "</table>\n",
       "</div>"
      ],
      "text/plain": [
       "              UserId   ProductId                      ProfileName        Time  \\\n",
       "80638  AZY10LLTJ71NX  B001ATMQK2  undertheshrine \"undertheshrine\"  1296691200   \n",
       "\n",
       "       Score                                               Text  COUNT(*)  \n",
       "80638      5  I bought this 6 pack because for the price tha...         5  "
      ]
     },
     "execution_count": 5,
     "metadata": {},
     "output_type": "execute_result"
    }
   ],
   "source": [
    "display[display['UserId']=='AZY10LLTJ71NX']"
   ]
  },
  {
   "cell_type": "code",
   "execution_count": 6,
   "metadata": {
    "colab": {},
    "colab_type": "code",
    "id": "pSwF4sdoLPmM",
    "outputId": "2f3bd7f2-0eea-45f7-eab6-bf08c630d9a3"
   },
   "outputs": [
    {
     "data": {
      "text/plain": [
       "393063"
      ]
     },
     "execution_count": 6,
     "metadata": {},
     "output_type": "execute_result"
    }
   ],
   "source": [
    "display['COUNT(*)'].sum()"
   ]
  },
  {
   "cell_type": "markdown",
   "metadata": {
    "colab_type": "text",
    "id": "PuNkhjz0LPmQ"
   },
   "source": [
    "#  [2] Exploratory Data Analysis"
   ]
  },
  {
   "cell_type": "markdown",
   "metadata": {
    "colab_type": "text",
    "id": "oCJaTWrTLPmS"
   },
   "source": [
    "## [2.1] Data Cleaning: Deduplication\n",
    "\n",
    "It is observed (as shown in the table below) that the reviews data had many duplicate entries. Hence it was necessary to remove duplicates in order to get unbiased results for the analysis of the data.  Following is an example:"
   ]
  },
  {
   "cell_type": "code",
   "execution_count": 7,
   "metadata": {
    "colab": {},
    "colab_type": "code",
    "id": "3lvzRwWVLPmT",
    "outputId": "96ba6f90-6c40-4972-ecd2-d2d208e48877",
    "scrolled": false
   },
   "outputs": [
    {
     "data": {
      "text/html": [
       "<div>\n",
       "<style scoped>\n",
       "    .dataframe tbody tr th:only-of-type {\n",
       "        vertical-align: middle;\n",
       "    }\n",
       "\n",
       "    .dataframe tbody tr th {\n",
       "        vertical-align: top;\n",
       "    }\n",
       "\n",
       "    .dataframe thead th {\n",
       "        text-align: right;\n",
       "    }\n",
       "</style>\n",
       "<table border=\"1\" class=\"dataframe\">\n",
       "  <thead>\n",
       "    <tr style=\"text-align: right;\">\n",
       "      <th></th>\n",
       "      <th>Id</th>\n",
       "      <th>ProductId</th>\n",
       "      <th>UserId</th>\n",
       "      <th>ProfileName</th>\n",
       "      <th>HelpfulnessNumerator</th>\n",
       "      <th>HelpfulnessDenominator</th>\n",
       "      <th>Score</th>\n",
       "      <th>Time</th>\n",
       "      <th>Summary</th>\n",
       "      <th>Text</th>\n",
       "    </tr>\n",
       "  </thead>\n",
       "  <tbody>\n",
       "    <tr>\n",
       "      <th>0</th>\n",
       "      <td>78445</td>\n",
       "      <td>B000HDL1RQ</td>\n",
       "      <td>AR5J8UI46CURR</td>\n",
       "      <td>Geetha Krishnan</td>\n",
       "      <td>2</td>\n",
       "      <td>2</td>\n",
       "      <td>5</td>\n",
       "      <td>1199577600</td>\n",
       "      <td>LOACKER QUADRATINI VANILLA WAFERS</td>\n",
       "      <td>DELICIOUS WAFERS. I FIND THAT EUROPEAN WAFERS ...</td>\n",
       "    </tr>\n",
       "    <tr>\n",
       "      <th>1</th>\n",
       "      <td>138317</td>\n",
       "      <td>B000HDOPYC</td>\n",
       "      <td>AR5J8UI46CURR</td>\n",
       "      <td>Geetha Krishnan</td>\n",
       "      <td>2</td>\n",
       "      <td>2</td>\n",
       "      <td>5</td>\n",
       "      <td>1199577600</td>\n",
       "      <td>LOACKER QUADRATINI VANILLA WAFERS</td>\n",
       "      <td>DELICIOUS WAFERS. I FIND THAT EUROPEAN WAFERS ...</td>\n",
       "    </tr>\n",
       "    <tr>\n",
       "      <th>2</th>\n",
       "      <td>138277</td>\n",
       "      <td>B000HDOPYM</td>\n",
       "      <td>AR5J8UI46CURR</td>\n",
       "      <td>Geetha Krishnan</td>\n",
       "      <td>2</td>\n",
       "      <td>2</td>\n",
       "      <td>5</td>\n",
       "      <td>1199577600</td>\n",
       "      <td>LOACKER QUADRATINI VANILLA WAFERS</td>\n",
       "      <td>DELICIOUS WAFERS. I FIND THAT EUROPEAN WAFERS ...</td>\n",
       "    </tr>\n",
       "    <tr>\n",
       "      <th>3</th>\n",
       "      <td>73791</td>\n",
       "      <td>B000HDOPZG</td>\n",
       "      <td>AR5J8UI46CURR</td>\n",
       "      <td>Geetha Krishnan</td>\n",
       "      <td>2</td>\n",
       "      <td>2</td>\n",
       "      <td>5</td>\n",
       "      <td>1199577600</td>\n",
       "      <td>LOACKER QUADRATINI VANILLA WAFERS</td>\n",
       "      <td>DELICIOUS WAFERS. I FIND THAT EUROPEAN WAFERS ...</td>\n",
       "    </tr>\n",
       "    <tr>\n",
       "      <th>4</th>\n",
       "      <td>155049</td>\n",
       "      <td>B000PAQ75C</td>\n",
       "      <td>AR5J8UI46CURR</td>\n",
       "      <td>Geetha Krishnan</td>\n",
       "      <td>2</td>\n",
       "      <td>2</td>\n",
       "      <td>5</td>\n",
       "      <td>1199577600</td>\n",
       "      <td>LOACKER QUADRATINI VANILLA WAFERS</td>\n",
       "      <td>DELICIOUS WAFERS. I FIND THAT EUROPEAN WAFERS ...</td>\n",
       "    </tr>\n",
       "  </tbody>\n",
       "</table>\n",
       "</div>"
      ],
      "text/plain": [
       "       Id   ProductId         UserId      ProfileName  HelpfulnessNumerator  \\\n",
       "0   78445  B000HDL1RQ  AR5J8UI46CURR  Geetha Krishnan                     2   \n",
       "1  138317  B000HDOPYC  AR5J8UI46CURR  Geetha Krishnan                     2   \n",
       "2  138277  B000HDOPYM  AR5J8UI46CURR  Geetha Krishnan                     2   \n",
       "3   73791  B000HDOPZG  AR5J8UI46CURR  Geetha Krishnan                     2   \n",
       "4  155049  B000PAQ75C  AR5J8UI46CURR  Geetha Krishnan                     2   \n",
       "\n",
       "   HelpfulnessDenominator  Score        Time  \\\n",
       "0                       2      5  1199577600   \n",
       "1                       2      5  1199577600   \n",
       "2                       2      5  1199577600   \n",
       "3                       2      5  1199577600   \n",
       "4                       2      5  1199577600   \n",
       "\n",
       "                             Summary  \\\n",
       "0  LOACKER QUADRATINI VANILLA WAFERS   \n",
       "1  LOACKER QUADRATINI VANILLA WAFERS   \n",
       "2  LOACKER QUADRATINI VANILLA WAFERS   \n",
       "3  LOACKER QUADRATINI VANILLA WAFERS   \n",
       "4  LOACKER QUADRATINI VANILLA WAFERS   \n",
       "\n",
       "                                                Text  \n",
       "0  DELICIOUS WAFERS. I FIND THAT EUROPEAN WAFERS ...  \n",
       "1  DELICIOUS WAFERS. I FIND THAT EUROPEAN WAFERS ...  \n",
       "2  DELICIOUS WAFERS. I FIND THAT EUROPEAN WAFERS ...  \n",
       "3  DELICIOUS WAFERS. I FIND THAT EUROPEAN WAFERS ...  \n",
       "4  DELICIOUS WAFERS. I FIND THAT EUROPEAN WAFERS ...  "
      ]
     },
     "execution_count": 7,
     "metadata": {},
     "output_type": "execute_result"
    }
   ],
   "source": [
    "display= pd.read_sql_query(\"\"\"\n",
    "SELECT *\n",
    "FROM Reviews\n",
    "WHERE Score != 3 AND UserId=\"AR5J8UI46CURR\"\n",
    "ORDER BY ProductID\n",
    "\"\"\", con)\n",
    "display.head()"
   ]
  },
  {
   "cell_type": "markdown",
   "metadata": {
    "colab_type": "text",
    "id": "uT7p9_deLPmb"
   },
   "source": [
    "As it can be seen above that same user has multiple reviews with same values for HelpfulnessNumerator, HelpfulnessDenominator, Score, Time, Summary and Text and on doing analysis it was found that <br>\n",
    "<br> \n",
    "ProductId=B000HDOPZG was Loacker Quadratini Vanilla Wafer Cookies, 8.82-Ounce Packages (Pack of 8)<br>\n",
    "<br> \n",
    "ProductId=B000HDL1RQ was Loacker Quadratini Lemon Wafer Cookies, 8.82-Ounce Packages (Pack of 8) and so on<br>\n",
    "\n",
    "It was inferred after analysis that reviews with same parameters other than ProductId belonged to the same product just having different flavour or quantity. Hence in order to reduce redundancy it was decided to eliminate the rows having same parameters.<br>\n",
    "\n",
    "The method used for the same was that we first sort the data according to ProductId and then just keep the first similar product review and delelte the others. for eg. in the above just the review for ProductId=B000HDL1RQ remains. This method ensures that there is only one representative for each product and deduplication without sorting would lead to possibility of different representatives still existing for the same product."
   ]
  },
  {
   "cell_type": "code",
   "execution_count": 8,
   "metadata": {
    "colab": {},
    "colab_type": "code",
    "id": "mdsKFc50LPme"
   },
   "outputs": [],
   "source": [
    "#Sorting data according to ProductId in ascending order\n",
    "sorted_data=filtered_data.sort_values('ProductId', axis=0, ascending=True, inplace=False, kind='quicksort', na_position='last')"
   ]
  },
  {
   "cell_type": "code",
   "execution_count": 9,
   "metadata": {
    "colab": {},
    "colab_type": "code",
    "id": "2itLgX-NLPmk",
    "outputId": "ac765625-dfdc-4e4e-f886-bd3b7ca3635a"
   },
   "outputs": [
    {
     "data": {
      "text/plain": [
       "(348262, 10)"
      ]
     },
     "execution_count": 9,
     "metadata": {},
     "output_type": "execute_result"
    }
   ],
   "source": [
    "#Deduplication of entries\n",
    "final=sorted_data.drop_duplicates(subset={\"UserId\",\"ProfileName\",\"Time\",\"Text\"}, keep='first', inplace=False)\n",
    "final.shape"
   ]
  },
  {
   "cell_type": "code",
   "execution_count": 10,
   "metadata": {
    "colab": {},
    "colab_type": "code",
    "id": "IBU4iZk4LPmt",
    "outputId": "ceeba223-fe3f-407a-b4e5-0d46c08f69dd"
   },
   "outputs": [
    {
     "data": {
      "text/plain": [
       "69.6524"
      ]
     },
     "execution_count": 10,
     "metadata": {},
     "output_type": "execute_result"
    }
   ],
   "source": [
    "#Checking to see how much % of data still remains\n",
    "(final['Id'].size*1.0)/(filtered_data['Id'].size*1.0)*100"
   ]
  },
  {
   "cell_type": "markdown",
   "metadata": {
    "colab_type": "text",
    "id": "gFBOfSe4LPmy"
   },
   "source": [
    "<b>Observation:-</b> It was also seen that in two rows given below the value of HelpfulnessNumerator is greater than HelpfulnessDenominator which is not practically possible hence these two rows too are removed from calcualtions"
   ]
  },
  {
   "cell_type": "code",
   "execution_count": 11,
   "metadata": {
    "colab": {},
    "colab_type": "code",
    "id": "50flE40lLPmz",
    "outputId": "b6c7e38e-25c1-4a48-be1f-70fdf31aba13"
   },
   "outputs": [
    {
     "data": {
      "text/html": [
       "<div>\n",
       "<style scoped>\n",
       "    .dataframe tbody tr th:only-of-type {\n",
       "        vertical-align: middle;\n",
       "    }\n",
       "\n",
       "    .dataframe tbody tr th {\n",
       "        vertical-align: top;\n",
       "    }\n",
       "\n",
       "    .dataframe thead th {\n",
       "        text-align: right;\n",
       "    }\n",
       "</style>\n",
       "<table border=\"1\" class=\"dataframe\">\n",
       "  <thead>\n",
       "    <tr style=\"text-align: right;\">\n",
       "      <th></th>\n",
       "      <th>Id</th>\n",
       "      <th>ProductId</th>\n",
       "      <th>UserId</th>\n",
       "      <th>ProfileName</th>\n",
       "      <th>HelpfulnessNumerator</th>\n",
       "      <th>HelpfulnessDenominator</th>\n",
       "      <th>Score</th>\n",
       "      <th>Time</th>\n",
       "      <th>Summary</th>\n",
       "      <th>Text</th>\n",
       "    </tr>\n",
       "  </thead>\n",
       "  <tbody>\n",
       "    <tr>\n",
       "      <th>0</th>\n",
       "      <td>64422</td>\n",
       "      <td>B000MIDROQ</td>\n",
       "      <td>A161DK06JJMCYF</td>\n",
       "      <td>J. E. Stephens \"Jeanne\"</td>\n",
       "      <td>3</td>\n",
       "      <td>1</td>\n",
       "      <td>5</td>\n",
       "      <td>1224892800</td>\n",
       "      <td>Bought This for My Son at College</td>\n",
       "      <td>My son loves spaghetti so I didn't hesitate or...</td>\n",
       "    </tr>\n",
       "    <tr>\n",
       "      <th>1</th>\n",
       "      <td>44737</td>\n",
       "      <td>B001EQ55RW</td>\n",
       "      <td>A2V0I904FH7ABY</td>\n",
       "      <td>Ram</td>\n",
       "      <td>3</td>\n",
       "      <td>2</td>\n",
       "      <td>4</td>\n",
       "      <td>1212883200</td>\n",
       "      <td>Pure cocoa taste with crunchy almonds inside</td>\n",
       "      <td>It was almost a 'love at first bite' - the per...</td>\n",
       "    </tr>\n",
       "  </tbody>\n",
       "</table>\n",
       "</div>"
      ],
      "text/plain": [
       "      Id   ProductId          UserId              ProfileName  \\\n",
       "0  64422  B000MIDROQ  A161DK06JJMCYF  J. E. Stephens \"Jeanne\"   \n",
       "1  44737  B001EQ55RW  A2V0I904FH7ABY                      Ram   \n",
       "\n",
       "   HelpfulnessNumerator  HelpfulnessDenominator  Score        Time  \\\n",
       "0                     3                       1      5  1224892800   \n",
       "1                     3                       2      4  1212883200   \n",
       "\n",
       "                                        Summary  \\\n",
       "0             Bought This for My Son at College   \n",
       "1  Pure cocoa taste with crunchy almonds inside   \n",
       "\n",
       "                                                Text  \n",
       "0  My son loves spaghetti so I didn't hesitate or...  \n",
       "1  It was almost a 'love at first bite' - the per...  "
      ]
     },
     "execution_count": 11,
     "metadata": {},
     "output_type": "execute_result"
    }
   ],
   "source": [
    "display= pd.read_sql_query(\"\"\"\n",
    "SELECT *\n",
    "FROM Reviews\n",
    "WHERE Score != 3 AND Id=44737 OR Id=64422\n",
    "ORDER BY ProductID\n",
    "\"\"\", con)\n",
    "\n",
    "display.head()"
   ]
  },
  {
   "cell_type": "code",
   "execution_count": 12,
   "metadata": {
    "colab": {},
    "colab_type": "code",
    "id": "0YTPJMLTLPm7"
   },
   "outputs": [],
   "source": [
    "final=final[final.HelpfulnessNumerator<=final.HelpfulnessDenominator]"
   ]
  },
  {
   "cell_type": "code",
   "execution_count": 13,
   "metadata": {
    "colab": {},
    "colab_type": "code",
    "id": "LVJ_l-x2LPnC",
    "outputId": "d4a19c7a-16fe-4b5b-c3d1-aa1ef0f948a0"
   },
   "outputs": [
    {
     "name": "stdout",
     "output_type": "stream",
     "text": [
      "(348260, 10)\n"
     ]
    },
    {
     "data": {
      "text/plain": [
       "1    293516\n",
       "0     54744\n",
       "Name: Score, dtype: int64"
      ]
     },
     "execution_count": 13,
     "metadata": {},
     "output_type": "execute_result"
    }
   ],
   "source": [
    "#Before starting the next phase of preprocessing lets see the number of entries left\n",
    "print(final.shape)\n",
    "\n",
    "#How many positive and negative reviews are present in our dataset?\n",
    "final['Score'].value_counts()"
   ]
  },
  {
   "cell_type": "markdown",
   "metadata": {
    "colab_type": "text",
    "id": "GrTYWzYrLPnH"
   },
   "source": [
    "#  [3] Preprocessing"
   ]
  },
  {
   "cell_type": "markdown",
   "metadata": {
    "colab_type": "text",
    "id": "zbvLitZeLPnI"
   },
   "source": [
    "## [3.1].  Preprocessing Review Text\n",
    "\n",
    "Now that we have finished deduplication our data requires some preprocessing before we go on further with analysis and making the prediction model.\n",
    "\n",
    "Hence in the Preprocessing phase we do the following in the order below:-\n",
    "\n",
    "1. Begin by removing the html tags\n",
    "2. Remove any punctuations or limited set of special characters like , or . or # etc.\n",
    "3. Check if the word is made up of english letters and is not alpha-numeric\n",
    "4. Check to see if the length of the word is greater than 2 (as it was researched that there is no adjective in 2-letters)\n",
    "5. Convert the word to lowercase\n",
    "6. Remove Stopwords\n",
    "7. Finally Snowball Stemming the word (it was obsereved to be better than Porter Stemming)<br>\n",
    "\n",
    "After which we collect the words used to describe positive and negative reviews"
   ]
  },
  {
   "cell_type": "code",
   "execution_count": 14,
   "metadata": {
    "colab": {},
    "colab_type": "code",
    "id": "yYDc0ZXALPnK",
    "outputId": "5403fab9-796a-493d-f9d3-2a410d004f64"
   },
   "outputs": [
    {
     "name": "stdout",
     "output_type": "stream",
     "text": [
      "This book was purchased as a birthday gift for a 4 year old boy. He squealed with delight and hugged it when told it was his to keep and he did not have to return it to the library.\n",
      "==================================================\n",
      "I've purchased both the Espressione Espresso (classic) and the 100% Arabica.  My vote is definitely with the 100% Arabica.  The flavor has more bite and flavor (much more like European coffee than American).\n",
      "==================================================\n",
      "This is a great product. It is very healthy for all of our dogs, and it is the first food that they all love to eat. It helped my older dog lose weight and my 10 year old lab gain the weight he needed to be healthy.\n",
      "==================================================\n",
      "I find everything I need at Amazon so I always look there first. Chocolate tennis balls for a tennis party, perfect! They were the size of malted milk balls. Unfortunately, they arrived 3 days after the party. The caveat here is, not everything from Amazon may arrive at an impressive 2 or 3 days. This shipment took 8 days from the Candy/Cosmetic Depot back east to southern California.\n",
      "==================================================\n"
     ]
    }
   ],
   "source": [
    "# printing some random reviews\n",
    "sent_0 = final['Text'].values[0]\n",
    "print(sent_0)\n",
    "print(\"=\"*50)\n",
    "\n",
    "sent_1000 = final['Text'].values[1000]\n",
    "print(sent_1000)\n",
    "print(\"=\"*50)\n",
    "\n",
    "sent_1500 = final['Text'].values[1500]\n",
    "print(sent_1500)\n",
    "print(\"=\"*50)\n",
    "\n",
    "sent_4900 = final['Text'].values[4900]\n",
    "print(sent_4900)\n",
    "print(\"=\"*50)"
   ]
  },
  {
   "cell_type": "code",
   "execution_count": 15,
   "metadata": {
    "colab": {},
    "colab_type": "code",
    "id": "AxYh-wPiLPnS",
    "outputId": "31bddcb2-6c52-4b16-f9fb-c03d5b3bb7c8"
   },
   "outputs": [
    {
     "name": "stdout",
     "output_type": "stream",
     "text": [
      "This book was purchased as a birthday gift for a 4 year old boy. He squealed with delight and hugged it when told it was his to keep and he did not have to return it to the library.\n"
     ]
    }
   ],
   "source": [
    "# remove urls from text python: https://stackoverflow.com/a/40823105/4084039\n",
    "sent_0 = re.sub(r\"http\\S+\", \"\", sent_0)\n",
    "sent_1000 = re.sub(r\"http\\S+\", \"\", sent_1000)\n",
    "sent_150 = re.sub(r\"http\\S+\", \"\", sent_1500)\n",
    "sent_4900 = re.sub(r\"http\\S+\", \"\", sent_4900)\n",
    "\n",
    "print(sent_0)"
   ]
  },
  {
   "cell_type": "code",
   "execution_count": 16,
   "metadata": {
    "colab": {},
    "colab_type": "code",
    "id": "JMSSWjZqLPne",
    "outputId": "eb1bae4e-6f37-45ee-84a3-ef3bebf4e30a"
   },
   "outputs": [
    {
     "name": "stdout",
     "output_type": "stream",
     "text": [
      "This book was purchased as a birthday gift for a 4 year old boy. He squealed with delight and hugged it when told it was his to keep and he did not have to return it to the library.\n",
      "==================================================\n",
      "I've purchased both the Espressione Espresso (classic) and the 100% Arabica.  My vote is definitely with the 100% Arabica.  The flavor has more bite and flavor (much more like European coffee than American).\n",
      "==================================================\n",
      "This is a great product. It is very healthy for all of our dogs, and it is the first food that they all love to eat. It helped my older dog lose weight and my 10 year old lab gain the weight he needed to be healthy.\n",
      "==================================================\n",
      "I find everything I need at Amazon so I always look there first. Chocolate tennis balls for a tennis party, perfect! They were the size of malted milk balls. Unfortunately, they arrived 3 days after the party. The caveat here is, not everything from Amazon may arrive at an impressive 2 or 3 days. This shipment took 8 days from the Candy/Cosmetic Depot back east to southern California.\n"
     ]
    }
   ],
   "source": [
    "# https://stackoverflow.com/questions/16206380/python-beautifulsoup-how-to-remove-all-tags-from-an-element\n",
    "from bs4 import BeautifulSoup\n",
    "\n",
    "soup = BeautifulSoup(sent_0, 'lxml')\n",
    "text = soup.get_text()\n",
    "print(text)\n",
    "print(\"=\"*50)\n",
    "\n",
    "soup = BeautifulSoup(sent_1000, 'lxml')\n",
    "text = soup.get_text()\n",
    "print(text)\n",
    "print(\"=\"*50)\n",
    "\n",
    "soup = BeautifulSoup(sent_1500, 'lxml')\n",
    "text = soup.get_text()\n",
    "print(text)\n",
    "print(\"=\"*50)\n",
    "\n",
    "soup = BeautifulSoup(sent_4900, 'lxml')\n",
    "text = soup.get_text()\n",
    "print(text)"
   ]
  },
  {
   "cell_type": "code",
   "execution_count": 17,
   "metadata": {
    "colab": {},
    "colab_type": "code",
    "id": "BEtpMkhULPnt"
   },
   "outputs": [],
   "source": [
    "# https://stackoverflow.com/a/47091490/4084039\n",
    "import re\n",
    "\n",
    "def decontracted(phrase):\n",
    "    # specific\n",
    "    phrase = re.sub(r\"won't\", \"will not\", phrase)\n",
    "    phrase = re.sub(r\"can\\'t\", \"can not\", phrase)\n",
    "\n",
    "    # general\n",
    "    phrase = re.sub(r\"n\\'t\", \" not\", phrase)\n",
    "    phrase = re.sub(r\"\\'re\", \" are\", phrase)\n",
    "    phrase = re.sub(r\"\\'s\", \" is\", phrase)\n",
    "    phrase = re.sub(r\"\\'d\", \" would\", phrase)\n",
    "    phrase = re.sub(r\"\\'ll\", \" will\", phrase)\n",
    "    phrase = re.sub(r\"\\'t\", \" not\", phrase)\n",
    "    phrase = re.sub(r\"\\'ve\", \" have\", phrase)\n",
    "    phrase = re.sub(r\"\\'m\", \" am\", phrase)\n",
    "    return phrase"
   ]
  },
  {
   "cell_type": "code",
   "execution_count": 18,
   "metadata": {
    "colab": {},
    "colab_type": "code",
    "id": "GavAnzNjLPnx",
    "outputId": "517fca9a-b1b6-4c6c-ab33-4c5ac4a5bd62"
   },
   "outputs": [
    {
     "name": "stdout",
     "output_type": "stream",
     "text": [
      "This is a great product. It is very healthy for all of our dogs, and it is the first food that they all love to eat. It helped my older dog lose weight and my 10 year old lab gain the weight he needed to be healthy.\n",
      "==================================================\n"
     ]
    }
   ],
   "source": [
    "sent_1500 = decontracted(sent_1500)\n",
    "print(sent_1500)\n",
    "print(\"=\"*50)"
   ]
  },
  {
   "cell_type": "code",
   "execution_count": 19,
   "metadata": {
    "colab": {},
    "colab_type": "code",
    "id": "Kl8nOoL-LPn3",
    "outputId": "16742d57-2529-4fc0-9d28-e9332dbbca97"
   },
   "outputs": [
    {
     "name": "stdout",
     "output_type": "stream",
     "text": [
      "This book was purchased as a birthday gift for a  year old boy. He squealed with delight and hugged it when told it was his to keep and he did not have to return it to the library.\n"
     ]
    }
   ],
   "source": [
    "#remove words with numbers python: https://stackoverflow.com/a/18082370/4084039\n",
    "sent_0 = re.sub(\"\\S*\\d\\S*\", \"\", sent_0).strip()\n",
    "print(sent_0)"
   ]
  },
  {
   "cell_type": "code",
   "execution_count": 20,
   "metadata": {
    "colab": {},
    "colab_type": "code",
    "id": "EGB6X2uxLPn7",
    "outputId": "dbd754e5-eb73-4b3a-f3c3-7b1b40952851"
   },
   "outputs": [
    {
     "name": "stdout",
     "output_type": "stream",
     "text": [
      "This is a great product It is very healthy for all of our dogs and it is the first food that they all love to eat It helped my older dog lose weight and my 10 year old lab gain the weight he needed to be healthy \n"
     ]
    }
   ],
   "source": [
    "#remove spacial character: https://stackoverflow.com/a/5843547/4084039\n",
    "sent_1500 = re.sub('[^A-Za-z0-9]+', ' ', sent_1500)\n",
    "print(sent_1500)"
   ]
  },
  {
   "cell_type": "code",
   "execution_count": 21,
   "metadata": {
    "colab": {},
    "colab_type": "code",
    "id": "CCurSJJ2LPn_"
   },
   "outputs": [],
   "source": [
    "# https://gist.github.com/sebleier/554280\n",
    "# we are removing the words from the stop words list: 'no', 'nor', 'not'\n",
    "# <br /><br /> ==> after the above steps, we are getting \"br br\"\n",
    "# we are including them into stop words list\n",
    "# instead of <br /> if we have <br/> these tags would have revmoved in the 1st step\n",
    "\n",
    "stopwords= set(['br', 'the', 'i', 'me', 'my', 'myself', 'we', 'our', 'ours', 'ourselves', 'you', \"you're\", \"you've\",\\\n",
    "            \"you'll\", \"you'd\", 'your', 'yours', 'yourself', 'yourselves', 'he', 'him', 'his', 'himself', \\\n",
    "            'she', \"she's\", 'her', 'hers', 'herself', 'it', \"it's\", 'its', 'itself', 'they', 'them', 'their',\\\n",
    "            'theirs', 'themselves', 'what', 'which', 'who', 'whom', 'this', 'that', \"that'll\", 'these', 'those', \\\n",
    "            'am', 'is', 'are', 'was', 'were', 'be', 'been', 'being', 'have', 'has', 'had', 'having', 'do', 'does', \\\n",
    "            'did', 'doing', 'a', 'an', 'the', 'and', 'but', 'if', 'or', 'because', 'as', 'until', 'while', 'of', \\\n",
    "            'at', 'by', 'for', 'with', 'about', 'against', 'between', 'into', 'through', 'during', 'before', 'after',\\\n",
    "            'above', 'below', 'to', 'from', 'up', 'down', 'in', 'out', 'on', 'off', 'over', 'under', 'again', 'further',\\\n",
    "            'then', 'once', 'here', 'there', 'when', 'where', 'why', 'how', 'all', 'any', 'both', 'each', 'few', 'more',\\\n",
    "            'most', 'other', 'some', 'such', 'only', 'own', 'same', 'so', 'than', 'too', 'very', \\\n",
    "            's', 't', 'can', 'will', 'just', 'don', \"don't\", 'should', \"should've\", 'now', 'd', 'll', 'm', 'o', 're', \\\n",
    "            've', 'y', 'ain', 'aren', \"aren't\", 'couldn', \"couldn't\", 'didn', \"didn't\", 'doesn', \"doesn't\", 'hadn',\\\n",
    "            \"hadn't\", 'hasn', \"hasn't\", 'haven', \"haven't\", 'isn', \"isn't\", 'ma', 'mightn', \"mightn't\", 'mustn',\\\n",
    "            \"mustn't\", 'needn', \"needn't\", 'shan', \"shan't\", 'shouldn', \"shouldn't\", 'wasn', \"wasn't\", 'weren', \"weren't\", \\\n",
    "            'won', \"won't\", 'wouldn', \"wouldn't\"])"
   ]
  },
  {
   "cell_type": "code",
   "execution_count": 22,
   "metadata": {
    "colab": {},
    "colab_type": "code",
    "id": "mFHQEvfnLPoF",
    "outputId": "5cd6bcc3-54fe-4a8e-a39d-d6dabf3f37f9"
   },
   "outputs": [
    {
     "name": "stderr",
     "output_type": "stream",
     "text": [
      "100%|██████████| 348260/348260 [01:56<00:00, 2988.99it/s]\n"
     ]
    }
   ],
   "source": [
    "# Combining all the above stundents \n",
    "from tqdm import tqdm\n",
    "preprocessed_reviews = []\n",
    "# tqdm is for printing the status bar\n",
    "for sentance in tqdm(final['Text'].values):\n",
    "    sentance = re.sub(r\"http\\S+\", \"\", sentance)\n",
    "    sentance = BeautifulSoup(sentance, 'lxml').get_text()\n",
    "    sentance = decontracted(sentance)\n",
    "    sentance = re.sub(\"\\S*\\d\\S*\", \"\", sentance).strip()\n",
    "    sentance = re.sub('[^A-Za-z]+', ' ', sentance)\n",
    "    # https://gist.github.com/sebleier/554280\n",
    "    sentance = ' '.join(e.lower() for e in sentance.split() if e.lower() not in stopwords)\n",
    "    preprocessed_reviews.append(sentance.strip())"
   ]
  },
  {
   "cell_type": "code",
   "execution_count": 23,
   "metadata": {
    "colab": {},
    "colab_type": "code",
    "id": "Tqx8QUeRLPoH",
    "outputId": "0182081c-6282-4113-b186-5b5bac596388"
   },
   "outputs": [
    {
     "data": {
      "text/plain": [
       "'great product healthy dogs first food love eat helped older dog lose weight year old lab gain weight needed healthy'"
      ]
     },
     "execution_count": 23,
     "metadata": {},
     "output_type": "execute_result"
    }
   ],
   "source": [
    "preprocessed_reviews[1500]"
   ]
  },
  {
   "cell_type": "markdown",
   "metadata": {
    "colab_type": "text",
    "id": "9IuKp2HULPoL"
   },
   "source": [
    "<h2><font color='red'>[3.2] Preprocessing Review Summary</font></h2>"
   ]
  },
  {
   "cell_type": "code",
   "execution_count": 24,
   "metadata": {
    "colab": {},
    "colab_type": "code",
    "id": "Qk7gYOmKLPoM"
   },
   "outputs": [],
   "source": [
    "# ## Similartly you can do preprocessing for review summary also.\n",
    "# # Combining all the above stundents \n",
    "# from tqdm import tqdm\n",
    "# preprocessed_summary = []\n",
    "# # tqdm is for printing the status bar\n",
    "# for sentance in tqdm(final['Summary'].values):\n",
    "#     sentance = re.sub(r\"http\\S+\", \"\", sentance)\n",
    "#     sentance = BeautifulSoup(sentance, 'lxml').get_text()\n",
    "#     sentance = decontracted(sentance)\n",
    "#     sentance = re.sub(\"\\S*\\d\\S*\", \"\", sentance).strip()\n",
    "#     sentance = re.sub('[^A-Za-z]+', ' ', sentance)\n",
    "#     # https://gist.github.com/sebleier/554280\n",
    "#     sentance = ' '.join(e.lower() for e in sentance.split() if e.lower() not in stopwords)\n",
    "#     preprocessed_summary.append(sentance.strip())"
   ]
  },
  {
   "cell_type": "markdown",
   "metadata": {
    "colab_type": "text",
    "id": "B93jqKuhLPoQ"
   },
   "source": [
    "# [4] Featurization"
   ]
  },
  {
   "cell_type": "markdown",
   "metadata": {
    "colab_type": "text",
    "id": "Mr4j2QhgLPoQ"
   },
   "source": [
    "## [4.1] BAG OF WORDS"
   ]
  },
  {
   "cell_type": "code",
   "execution_count": 25,
   "metadata": {
    "colab": {},
    "colab_type": "code",
    "id": "dZVHt3mtLPoR",
    "outputId": "ea1629cd-7c92-400e-9acd-f7caeef0f389"
   },
   "outputs": [],
   "source": [
    "# #BoW\n",
    "# count_vect = CountVectorizer() #in scikit-learn\n",
    "# count_vect.fit(preprocessed_reviews)\n",
    "# print(\"some feature names \", count_vect.get_feature_names()[:10])\n",
    "# print('='*50)\n",
    "\n",
    "# final_counts = count_vect.transform(preprocessed_reviews)\n",
    "# print(\"the type of count vectorizer \",type(final_counts))\n",
    "# print(\"the shape of out text BOW vectorizer \",final_counts.get_shape())\n",
    "# print(\"the number of unique words \", final_counts.get_shape()[1])"
   ]
  },
  {
   "cell_type": "markdown",
   "metadata": {
    "colab_type": "text",
    "id": "tSf5kRdLLPoV"
   },
   "source": [
    "## [4.2] Bi-Grams and n-Grams."
   ]
  },
  {
   "cell_type": "code",
   "execution_count": 26,
   "metadata": {
    "colab": {},
    "colab_type": "code",
    "id": "Yfk2d7bLLPoW",
    "outputId": "33472132-5eb3-493f-b08c-081749f99239"
   },
   "outputs": [],
   "source": [
    "# #bi-gram, tri-gram and n-gram\n",
    "\n",
    "# #removing stop words like \"not\" should be avoided before building n-grams\n",
    "# # count_vect = CountVectorizer(ngram_range=(1,2))\n",
    "# # please do read the CountVectorizer documentation http://scikit-learn.org/stable/modules/generated/sklearn.feature_extraction.text.CountVectorizer.html\n",
    "\n",
    "# # you can choose these numebrs min_df=10, max_features=5000, of your choice\n",
    "# count_vect = CountVectorizer(ngram_range=(1,2), min_df=10, max_features=5000)\n",
    "# final_bigram_counts = count_vect.fit_transform(preprocessed_reviews)\n",
    "# print(\"the type of count vectorizer \",type(final_bigram_counts))\n",
    "# print(\"the shape of out text BOW vectorizer \",final_bigram_counts.get_shape())\n",
    "# print(\"the number of unique words including both unigrams and bigrams \", final_bigram_counts.get_shape()[1])"
   ]
  },
  {
   "cell_type": "markdown",
   "metadata": {
    "colab_type": "text",
    "id": "-cEEpDx0LPoZ"
   },
   "source": [
    "## [4.3] TF-IDF"
   ]
  },
  {
   "cell_type": "code",
   "execution_count": 27,
   "metadata": {
    "colab": {},
    "colab_type": "code",
    "id": "TgP61HqBLPoa",
    "outputId": "15f1c123-d93b-414d-914b-d4e3f32a6ac1"
   },
   "outputs": [],
   "source": [
    "# tf_idf_vect = TfidfVectorizer(ngram_range=(1,2), min_df=10)\n",
    "# tf_idf_vect.fit(preprocessed_reviews)\n",
    "# print(\"some sample features(unique words in the corpus)\",tf_idf_vect.get_feature_names()[0:10])\n",
    "# print('='*50)\n",
    "\n",
    "# final_tf_idf = tf_idf_vect.transform(preprocessed_reviews)\n",
    "# print(\"the type of count vectorizer \",type(final_tf_idf))\n",
    "# print(\"the shape of out text TFIDF vectorizer \",final_tf_idf.get_shape())\n",
    "# print(\"the number of unique words including both unigrams and bigrams \", final_tf_idf.get_shape()[1])"
   ]
  },
  {
   "cell_type": "markdown",
   "metadata": {
    "colab_type": "text",
    "id": "m3YEHTLPLPod"
   },
   "source": [
    "## [4.4] Word2Vec"
   ]
  },
  {
   "cell_type": "code",
   "execution_count": 28,
   "metadata": {
    "colab": {},
    "colab_type": "code",
    "id": "8ddGZNUfLPog",
    "outputId": "390d4ccb-cda2-4391-83e9-0e502b578171",
    "scrolled": true
   },
   "outputs": [],
   "source": [
    "# # Using Google News Word2Vectors\n",
    "\n",
    "# # in this project we are using a pretrained model by google\n",
    "# # its 3.3G file, once you load this into your memory \n",
    "# # it occupies ~9Gb, so please do this step only if you have >12G of ram\n",
    "# # we will provide a pickle file wich contains a dict , \n",
    "# # and it contains all our courpus words as keys and  model[word] as values\n",
    "# # To use this code-snippet, download \"GoogleNews-vectors-negative300.bin\" \n",
    "# # from https://drive.google.com/file/d/0B7XkCwpI5KDYNlNUTTlSS21pQmM/edit\n",
    "# # it's 1.9GB in size.\n",
    "\n",
    "\n",
    "# # http://kavita-ganesan.com/gensim-word2vec-tutorial-starter-code/#.W17SRFAzZPY\n",
    "# # you can comment this whole cell\n",
    "# # or change these varible according to your need\n",
    "\n",
    "# is_your_ram_gt_16g=True\n",
    "# want_to_use_google_w2v = False\n",
    "# want_to_train_w2v = True\n",
    "\n",
    "# path_to_word2vec = '/home/monodeepdas112/Datasets/GoogleNews-vectors-negative300.bin.gz'\n",
    "\n",
    "# if want_to_train_w2v:\n",
    "    \n",
    "#     # Train your own Word2Vec model using your own text corpus\n",
    "#     i=0\n",
    "#     list_of_sentences=[]\n",
    "#     for sentance in preprocessed_reviews:\n",
    "#         list_of_sentences.append(sentance.split())\n",
    "    \n",
    "#     # min_count = 5 considers only words that occured atleast 5 times\n",
    "#     w2v_model=Word2Vec(list_of_sentences,min_count=5,size=100, workers=4)\n",
    "#     print(w2v_model.wv.most_similar('great'))\n",
    "#     print('='*50)\n",
    "#     print(w2v_model.wv.most_similar('worst'))\n",
    "    \n",
    "# elif want_to_use_google_w2v and is_your_ram_gt_16g:\n",
    "#     if os.path.isfile(path_to_word2vec):\n",
    "#         print('Preparing to load pre-trained Word2Vec model !')\n",
    "#         w2v_model=KeyedVectors.load_word2vec_format(path_to_word2vec, binary=True)\n",
    "#         print('Successfully loaded model into memory !!')\n",
    "#         print('Words similar to \"similar\" : ', w2v_model.wv.most_similar('great'))\n",
    "#         print('Words similar to \"worst\" : ',w2v_model.wv.most_similar('worst'))\n",
    "#     else:\n",
    "#         print(\"you don't have google's word2vec file, keep want_to_train_w2v = True, to train your own w2v \")"
   ]
  },
  {
   "cell_type": "code",
   "execution_count": 29,
   "metadata": {
    "colab": {},
    "colab_type": "code",
    "id": "bRWXmmnWLPoo",
    "outputId": "1cc345e7-d991-49b8-f1b7-a0d81f0b97e6"
   },
   "outputs": [],
   "source": [
    "# w2v_words = list(w2v_model.wv.vocab)\n",
    "# print(\"number of words that occured minimum 5 times \",len(w2v_words))\n",
    "# print(\"sample words \", w2v_words[0:50])"
   ]
  },
  {
   "cell_type": "markdown",
   "metadata": {
    "colab_type": "text",
    "id": "TtWqibqfLPos"
   },
   "source": [
    "## [4.4.1] Converting text into vectors using Avg W2V, TFIDF-W2V"
   ]
  },
  {
   "cell_type": "markdown",
   "metadata": {
    "colab_type": "text",
    "id": "JriP5nZCLPot"
   },
   "source": [
    "#### [4.4.1.1] Avg W2v"
   ]
  },
  {
   "cell_type": "code",
   "execution_count": 30,
   "metadata": {
    "colab": {},
    "colab_type": "code",
    "id": "UnXI9NHTLPot",
    "outputId": "ecbe8256-9718-4bad-de33-e5ce1ee69038"
   },
   "outputs": [],
   "source": [
    "# # average Word2Vec\n",
    "# # compute average word2vec for each review.\n",
    "# sent_vectors = []; # the avg-w2v for each sentence/review is stored in this list\n",
    "# for sent in tqdm(list_of_sentences): # for each review/sentence\n",
    "#     sent_vec = np.zeros(50) # as word vectors are of zero length 50, you might need to change this to 300 if you use google's w2v\n",
    "#     cnt_words =0; # num of words with a valid vector in the sentence/review\n",
    "#     for word in sent: # for each word in a review/sentence\n",
    "#         if word in w2v_words:\n",
    "#             vec = w2v_model.wv[word]\n",
    "#             sent_vec += vec\n",
    "#             cnt_words += 1\n",
    "#     if cnt_words != 0:\n",
    "#         sent_vec /= cnt_words\n",
    "#     sent_vectors.append(sent_vec)\n",
    "# print(len(sent_vectors))\n",
    "# print(len(sent_vectors[0]))"
   ]
  },
  {
   "cell_type": "markdown",
   "metadata": {
    "colab_type": "text",
    "id": "2sHfb529LPow"
   },
   "source": [
    "#### [4.4.1.2] TFIDF weighted W2v"
   ]
  },
  {
   "cell_type": "code",
   "execution_count": 31,
   "metadata": {
    "colab": {},
    "colab_type": "code",
    "id": "sb_wDjAqLPow"
   },
   "outputs": [],
   "source": [
    "# # S = [\"abc def pqr\", \"def def def abc\", \"pqr pqr def\"]\n",
    "# model = TfidfVectorizer()\n",
    "# tf_idf_matrix = model.fit_transform(preprocessed_reviews)\n",
    "# # we are converting a dictionary with word as a key, and the idf as a value\n",
    "# dictionary = dict(zip(model.get_feature_names(), list(model.idf_)))"
   ]
  },
  {
   "cell_type": "code",
   "execution_count": 32,
   "metadata": {
    "colab": {},
    "colab_type": "code",
    "id": "3VrUzqx7LPoy",
    "outputId": "8480d5da-7b1d-4bbe-a4c9-fe0a5800b5d0",
    "scrolled": true
   },
   "outputs": [],
   "source": [
    "# # TF-IDF weighted Word2Vec\n",
    "# tfidf_feat = model.get_feature_names() # tfidf words/col-names\n",
    "# # final_tf_idf is the sparse matrix with row= sentence, col=word and cell_val = tfidf\n",
    "\n",
    "# tfidf_sent_vectors = []; # the tfidf-w2v for each sentence/review is stored in this list\n",
    "# row=0;\n",
    "# for sent in tqdm(list_of_sentance): # for each review/sentence \n",
    "#     sent_vec = np.zeros(50) # as word vectors are of zero length\n",
    "#     weight_sum =0; # num of words with a valid vector in the sentence/review\n",
    "#     for word in sent: # for each word in a review/sentence\n",
    "#         if word in w2v_words and word in tfidf_feat:\n",
    "#             vec = w2v_model.wv[word]\n",
    "# #             tf_idf = tf_idf_matrix[row, tfidf_feat.index(word)]\n",
    "#             # to reduce the computation we are \n",
    "#             # dictionary[word] = idf value of word in whole courpus\n",
    "#             # sent.count(word) = tf valeus of word in this review\n",
    "#             tf_idf = dictionary[word]*(sent.count(word)/len(sent))\n",
    "#             sent_vec += (vec * tf_idf)\n",
    "#             weight_sum += tf_idf\n",
    "#     if weight_sum != 0:\n",
    "#         sent_vec /= weight_sum\n",
    "#     tfidf_sent_vectors.append(sent_vec)\n",
    "#     row += 1"
   ]
  },
  {
   "cell_type": "markdown",
   "metadata": {
    "colab_type": "text",
    "id": "Kxx72u1hLPo1"
   },
   "source": [
    "# [5] Assignment 5: Apply Logistic Regression"
   ]
  },
  {
   "cell_type": "markdown",
   "metadata": {
    "colab_type": "text",
    "id": "KDR9We0oLPo2"
   },
   "source": [
    "<ol>\n",
    "    <li><strong>Apply Logistic Regression on these feature sets</strong>\n",
    "        <ul>\n",
    "            <li><font color='red'>SET 1:</font>Review text, preprocessed one converted into vectors using (BOW)</li>\n",
    "            <li><font color='red'>SET 2:</font>Review text, preprocessed one converted into vectors using (TFIDF)</li>\n",
    "            <li><font color='red'>SET 3:</font>Review text, preprocessed one converted into vectors using (AVG W2v)</li>\n",
    "            <li><font color='red'>SET 4:</font>Review text, preprocessed one converted into vectors using (TFIDF W2v)</li>\n",
    "        </ul>\n",
    "    </li>\n",
    "    <br>\n",
    "    <li><strong>Hyper paramter tuning (find best hyper parameters corresponding the algorithm that you choose)</strong>\n",
    "        <ul>\n",
    "    <li>Find the best hyper parameter which will give the maximum <a href='https://www.appliedaicourse.com/course/applied-ai-course-online/lessons/receiver-operating-characteristic-curve-roc-curve-and-auc-1/'>AUC</a> value</li>\n",
    "    <li>Find the best hyper paramter using k-fold cross validation or simple cross validation data</li>\n",
    "    <li>Use gridsearch cv or randomsearch cv or you can also write your own for loops to do this task of hyperparameter tuning</li>          \n",
    "        </ul>\n",
    "    </li>\n",
    "    <br>\n",
    "    <li><strong>Pertubation Test</strong>\n",
    "        <ul>\n",
    "    <li>Get the weights W after fit your model with the data X i.e Train data.</li>\n",
    "    <li>Add a noise to the X (X' = X + e) and get the new data set X' (if X is a sparse\n",
    "matrix, X.data+=e)</li>\n",
    "    <li>Fit the model again on data X' and get the weights W'</li>\n",
    "    <li>Add a small eps value(to eliminate the divisible by zero error) to W and W’ i.e\n",
    "W=W+10^-6 and W’ = W’+10^-6</li>\n",
    "    <li>Now find the % change between W and W' (| (W-W') / (W) |)*100)</li>\n",
    "    <li>Calculate the 0th, 10th, 20th, 30th, ...100th percentiles, and observe any sudden rise in the values of percentage_change_vector</li>\n",
    "    <li> Ex: consider your 99th percentile is 1.3 and your 100th percentiles are 34.6, there is sudden rise from 1.3 to 34.6, now calculate the 99.1, 99.2, 99.3,..., 100th percentile values and get the proper value after which there is sudden rise the values, assume it is 2.5</li>\n",
    "            <li> Print the feature names whose % change is more than a threshold x(in our example it's 2.5)</li>\n",
    "        </ul>\n",
    "    </li>\n",
    "    <br>\n",
    "    <li><strong>Sparsity</strong>\n",
    "        <ul>\n",
    "    <li>Calculate sparsity on weight vector obtained after using L1 regularization</li>\n",
    "        </ul>\n",
    "    </li>\n",
    "    <br><font color='red'>NOTE: Do sparsity and multicollinearity for any one of the vectorizers. Bow or tf-idf is recommended.</font>\n",
    "    <br>\n",
    "    <br>\n",
    "    <li><strong>Feature importance</strong>\n",
    "        <ul>\n",
    "    <li>Get top 10 important features for both positive and negative classes separately.</li>\n",
    "        </ul>\n",
    "    </li>\n",
    "    <br>\n",
    "    <li><strong>Feature engineering</strong>\n",
    "        <ul>\n",
    "    <li>To increase the performance of your model, you can also experiment with with feature engineering like :</li>\n",
    "            <ul>\n",
    "            <li>Taking length of reviews as another feature.</li>\n",
    "            <li>Considering some features from review summary as well.</li>\n",
    "        </ul>\n",
    "        </ul>\n",
    "    </li>\n",
    "    <br>\n",
    "    <li><strong>Representation of results</strong>\n",
    "        <ul>\n",
    "    <li>You need to plot the performance of model both on train data and cross validation data for each hyper parameter, like shown in the figure.\n",
    "    <img src='train_cv_auc.JPG' width=300px></li>\n",
    "    <li>Once after you found the best hyper parameter, you need to train your model with it, and find the AUC on test data and plot the ROC curve on both train and test.\n",
    "    <img src='train_test_auc.JPG' width=300px></li>\n",
    "    <li>Along with plotting ROC curve, you need to print the <a href='https://www.appliedaicourse.com/course/applied-ai-course-online/lessons/confusion-matrix-tpr-fpr-fnr-tnr-1/'>confusion matrix</a> with predicted and original labels of test data points. Please visualize your confusion matrices using <a href='https://seaborn.pydata.org/generated/seaborn.heatmap.html'>seaborn heatmaps.\n",
    "    <img src='confusion_matrix.png' width=300px></li>\n",
    "        </ul>\n",
    "    </li>\n",
    "    <br>\n",
    "    <li><strong>Conclusion</strong>\n",
    "        <ul>\n",
    "    <li>You need to summarize the results at the end of the notebook, summarize it in the table format. To print out a table please refer to this prettytable library<a href='http://zetcode.com/python/prettytable/'>  link</a> \n",
    "        <img src='summary.JPG' width=400px>\n",
    "    </li>\n",
    "        </ul>\n",
    "</ol>"
   ]
  },
  {
   "cell_type": "markdown",
   "metadata": {
    "colab_type": "text",
    "id": "gilb-DOVLPo2"
   },
   "source": [
    "<h4><font color='red'>Note: Data Leakage</font></h4>\n",
    "\n",
    "1. There will be an issue of data-leakage if you vectorize the entire data and then split it into train/cv/test.\n",
    "2. To avoid the issue of data-leakag, make sure to split your data first and then vectorize it. \n",
    "3. While vectorizing your data, apply the method fit_transform() on you train data, and apply the method transform() on cv/test data.\n",
    "4. For more details please go through this <a href='https://soundcloud.com/applied-ai-course/leakage-bow-and-tfidf'>link.</a>"
   ]
  },
  {
   "cell_type": "markdown",
   "metadata": {
    "colab_type": "text",
    "id": "jiYocvSHLPo4"
   },
   "source": [
    "# Applying Logistic Regression"
   ]
  },
  {
   "cell_type": "code",
   "execution_count": 33,
   "metadata": {},
   "outputs": [],
   "source": [
    "#Getting the necessary imports and function definations\n",
    "from sklearn.linear_model import LogisticRegression\n",
    "from sklearn.metrics import confusion_matrix\n",
    "from sklearn.metrics import roc_curve, auc\n",
    "from sklearn.metrics import roc_auc_score\n",
    "from scipy.stats import uniform\n",
    "from sklearn.model_selection import train_test_split\n",
    "from sklearn.model_selection import RandomizedSearchCV\n",
    "from sklearn.model_selection import StratifiedKFold\n",
    "import pprint\n",
    "from sklearn.pipeline import Pipeline\n",
    "import os.path\n",
    "import pickle\n",
    "import pprint\n",
    "from sklearn import preprocessing\n",
    "\n",
    "import warnings\n",
    "warnings.filterwarnings('ignore')"
   ]
  },
  {
   "cell_type": "markdown",
   "metadata": {},
   "source": [
    "### [5.0.0] Splitting up the Dataset into D_train and D_test"
   ]
  },
  {
   "cell_type": "code",
   "execution_count": 34,
   "metadata": {},
   "outputs": [],
   "source": [
    "num_data_points = 30000"
   ]
  },
  {
   "cell_type": "code",
   "execution_count": 35,
   "metadata": {},
   "outputs": [],
   "source": [
    "Dx_train, Dx_test, Dy_train, Dy_test = train_test_split(preprocessed_reviews[:num_data_points], final['Score'].tolist()[:num_data_points], test_size=0.30, random_state=42)"
   ]
  },
  {
   "cell_type": "code",
   "execution_count": 36,
   "metadata": {},
   "outputs": [],
   "source": [
    "prettytable_data = []"
   ]
  },
  {
   "cell_type": "markdown",
   "metadata": {},
   "source": [
    "### [5.0.1] Defining some functions to increase code reusability and readability"
   ]
  },
  {
   "cell_type": "code",
   "execution_count": 37,
   "metadata": {},
   "outputs": [],
   "source": [
    "'''Creating Custom Vectorizers for TFIDF - W2Vec and Avg - W2Vec'''\n",
    "class Tfidf_W2Vec_Vectorizer(object):\n",
    "    def __init__(self, w2vec_model):\n",
    "        if(w2v_model is None):\n",
    "            raise Exception('Word 2 Vector model passed to Tfidf_W2Vec Vectorizer is None !')\n",
    "        self.tfidf = TfidfVectorizer(max_features=100)\n",
    "        self.dictionary = None\n",
    "        self.tfidf_feat = None\n",
    "        \n",
    "        self.word2vec = w2vec_model\n",
    "        \n",
    "    def fit(self, X):\n",
    "        #Initializing the TFIDF Vectorizer\n",
    "        self.tfidf.fit_transform(X)\n",
    "        # we are converting a dictionary with word as a key, and the idf as a value\n",
    "        self.dictionary = dict(zip(self.tfidf.get_feature_names(), list(self.tfidf.idf_)))\n",
    "        self.tfidf_feat = self.tfidf.get_feature_names()\n",
    "        \n",
    "        return self\n",
    "\n",
    "    def transform(self, X):\n",
    "        return np.array([\n",
    "                np.mean([self.word2vec[w] * self.dictionary[word]*(X.cout(word)/len(X))\n",
    "                         for w in words if w in self.word2vec and w in self.tfidf_feat] or\n",
    "                        [np.zeros(100)], axis=0)\n",
    "                for words in X\n",
    "            ])\n",
    "\n",
    "class Avg_W2Vec_Vectorizer(object):\n",
    "    def __init__(self, w2vec_model):\n",
    "        if(w2v_model is None):\n",
    "            raise Exception('Word 2 Vector model passed to Avg_W2Vec Vectorizer is None !')\n",
    "        self.word2vec = w2vec_model\n",
    "\n",
    "    def fit(self, X):\n",
    "        return self\n",
    "\n",
    "    def transform(self, X):\n",
    "        return np.array([\n",
    "            np.mean([self.word2vec[w] for w in words if w in self.word2vec]\n",
    "                    or [np.zeros(100)], axis=0)\n",
    "            for words in X\n",
    "        ])"
   ]
  },
  {
   "cell_type": "code",
   "execution_count": 38,
   "metadata": {},
   "outputs": [],
   "source": [
    "# def get_vectorizer(vectorizer, w2vec_model=None):\n",
    "#     if(vectorizer=='BOW'):\n",
    "#         vectorizer = CountVectorizer(ngram_range=(1,2), min_df=10, max_features=300)\n",
    "#     if(vectorizer=='TFIDF'):\n",
    "#         vectorizer = TfidfVectorizer(ngram_range=(1,2), min_df=10, max_features=300)\n",
    "#     if(vectorizer=='TFIDF-W2Vec'):\n",
    "#         if(w2vec_model is None):\n",
    "#             raise Exception('TFIDF-W2Vec model is being used but W2Vec model is not passed as params')\n",
    "#         vectorizer = Tfidf_W2Vec_Vectorizer(w2vec_model)\n",
    "#     if(vectorizer=='Avg-W2Vec'):\n",
    "#         if(w2vec_model is None):\n",
    "#             raise Exception('Avg-W2Vec model is being used but W2Vec model is not passed as params')\n",
    "#         vectorizer = Avg_W2Vec_Vectorizer(w2vec_model)\n",
    "    \n",
    "#     return vectorizer\n",
    "\n",
    "def get_vectorizer(vectorizer, train, W2V_model=None):\n",
    "    if(vectorizer=='BOW'):\n",
    "        vectorizer = CountVectorizer(ngram_range=(1,2), min_df=10, max_features=1000)\n",
    "    if(vectorizer=='TFIDF'):\n",
    "        vectorizer = TfidfVectorizer(ngram_range=(1,2), min_df=10, max_features=1000)\n",
    "    if(vectorizer=='TFIDF-W2Vec'):\n",
    "        vectorizer = Tfidf_W2Vec_Vectorizer(W2V_model)\n",
    "    if(vectorizer=='Avg-W2Vec'):\n",
    "        vectorizer = Avg_W2Vec_Vectorizer(W2V_model)\n",
    "    \n",
    "    vectorizer.fit(train)\n",
    "    return vectorizer"
   ]
  },
  {
   "cell_type": "code",
   "execution_count": 39,
   "metadata": {},
   "outputs": [],
   "source": [
    "'''Creation of Pipeline'''    \n",
    "def create_CV_pipeline(vectorizer, w2vec_model=None):\n",
    "    steps = []\n",
    "    steps.append((vectorizer, get_vectorizer(vectorizer, w2vec_model)))\n",
    "    #Appending the KNN Classifier at the end of vectorization\n",
    "    steps.append(('logistic', LogisticRegression()))\n",
    "    return Pipeline(steps)"
   ]
  },
  {
   "cell_type": "code",
   "execution_count": 40,
   "metadata": {},
   "outputs": [],
   "source": [
    "# '''This function performs RandomizedSearchCV with the accepted parameters and fits the model \n",
    "# after performing cross validation to get the best parameters and retrains the model with it and finally returns it'''\n",
    "# def perform_randomized_search_cv(X, Y, vectorizer, w2vec_model, model_path, penalty):\n",
    "#     if(os.path.exists(model_path)):\n",
    "#         #if present simply load the model\n",
    "#         with open(model_path, 'rb') as input_file:\n",
    "#             clf = pickle.load(input_file)\n",
    "#     else:\n",
    "#         print('Model is not present in the location hence retraining the model.')\n",
    "#         #if model not present then initialize --> perform cross validation --> save it to the above file path\n",
    "#         hyperparameters = {\n",
    "#             'logistic__penalty' : penalty,\n",
    "#             'logistic__solver' : ['saga'],\n",
    "#             'logistic__max_iter' : [500],\n",
    "#             'logistic__C' : uniform(0.001, 1000)\n",
    "#         }\n",
    "#         #creating the pipeline\n",
    "#         pipe = create_CV_pipeline(vectorizer, w2vec_model)\n",
    "        \n",
    "#         #initializing the classifier\n",
    "#         clf = RandomizedSearchCV(estimator = pipe, \n",
    "#                              param_distributions = hyperparameters, \n",
    "#                              n_iter=100, \n",
    "#                              scoring = 'roc_auc', \n",
    "#                              n_jobs=1, verbose=20, cv=5, \n",
    "#                              iid=False, refit=True,\n",
    "#                              pre_dispatch='1', \n",
    "#                              error_score='raise')\n",
    "        \n",
    "#         # Attempting to train the classifier\n",
    "#         try:\n",
    "#             #Start to fit the model to get the best hyperparameters\n",
    "#             clf.fit(X, Y)\n",
    "#         except Exception as e:\n",
    "#             print('Error occured during performing Cross Validation : ', str(e))\n",
    "        \n",
    "#         # Attempting to save the RandomSearchCV model\n",
    "#         try:\n",
    "#             #Save the model to the supplied model path \n",
    "#             with open(model_path, 'wb') as output_file:\n",
    "#                 pickle.dump(clf, output_file)\n",
    "#         except Exception as e:\n",
    "#             print('Error occured during attempting to save the model !\\n', str(e))\n",
    "#             print('Attempting to save the CV results as a dataframe !')\n",
    "#             try:\n",
    "#                 # TODO save the dataFrame as csv file\n",
    "#                 cv_results = pd.DataFrame(clf.cv_results_)\n",
    "#                 cv_results.to_csv('tmp.csv')\n",
    "                \n",
    "#             except Exception as ex:\n",
    "#                 print(str(ex), ' : Error attempting to write the DataFrame to csv. Aborting...')\n",
    "#     try:\n",
    "#         #Displaying the best parameters and best score acheived\n",
    "#         print('\\nMaximum Area under ROC curve : ', clf.best_score_)\n",
    "#         print('\\nBest Parameters that led to the score above : ')\n",
    "#         pprint.pprint(clf.best_params_)\n",
    "#     except Exception as e:\n",
    "#         print('Error Occurred...')\n",
    "    \n",
    "#     # return the training randomized search classifier\n",
    "#     return clf"
   ]
  },
  {
   "cell_type": "code",
   "execution_count": 41,
   "metadata": {},
   "outputs": [],
   "source": [
    "# s = np.random.uniform(0.0001, 1000,1000).tolist()\n",
    "# s.sort()\n",
    "# s"
   ]
  },
  {
   "cell_type": "code",
   "execution_count": 42,
   "metadata": {},
   "outputs": [],
   "source": [
    "'''Perform Cross Validation without using RandomizedSearchCV'''\n",
    "def perform_hyperparameter_tuning(X, Y, vectorizer, vec_name, penalty, retrain=False, W2V_model=None):\n",
    "    #If the pandas dataframe with the hyperparameter info exists then return it\n",
    "    results_name = 'saved_models/{0}_log_reg_results.csv'.format(vec_name)\n",
    "\n",
    "    if(retrain==False):\n",
    "        # If Cross Validation results exists then return them\n",
    "        if(os.path.exists(results_name)):\n",
    "            return pd.read_csv(results_name)\n",
    "        else:\n",
    "            # If no data exists but retrain=False then mention accordingly\n",
    "            print('Retrain is set to be False but no Cross Validation Results DataFrame was found !\\nPlease set retrain to True.')\n",
    "    else:\n",
    "        # else perform hyperparameter tuning\n",
    "#         # Checking if any previous temporary files\n",
    "#         # If any previous temporary files exists that indicate the last cross validation ended abruptly\n",
    "#         if(os.path.exists('saved_temp_data/{0}_penalties.pkl'.format(vec_name))):\n",
    "#             print('Since previous temporary data files exists hence attempting to proceed with it')\n",
    "#             with open('saved_temp_data/{0}_penalties.pkl'.format(vec_name), 'rb') as file:\n",
    "#                 penalties = pickle.load(file)\n",
    "#             with open('saved_temp_data/{0}_reg_params.pkl'.format(vec_name), 'rb') as file:\n",
    "#                 C_values = pickle.load(file)\n",
    "#             with open('saved_temp_data/{0}_train_mean_score.pkl'.format(vec_name), 'rb') as file:\n",
    "#                 train_mean_score = pickle.load(file)\n",
    "#             with open('saved_temp_data/{0}_test_mean_score.pkl'.format(vec_name), 'rb') as file:\n",
    "#                 test_mean_score = pickle.load(file)\n",
    "        print('Performing Hyperparameter Tuning...\\n')\n",
    "        # regularization parameter\n",
    "        c = np.random.uniform(0.001, 1000,100).tolist()\n",
    "        c.sort()\n",
    "        hyperparameters = {\n",
    "            'logistic__penalty' : penalty,\n",
    "            'logistic__C' : c\n",
    "        }\n",
    "\n",
    "        penalties = []\n",
    "        C_values = []\n",
    "\n",
    "        train_scores = []\n",
    "        test_scores = []\n",
    "\n",
    "        train_mean_score = []\n",
    "        test_mean_score = []\n",
    "\n",
    "        # Initializing KFold\n",
    "        skf = StratifiedKFold(n_splits=3)\n",
    "        X = np.array(X)\n",
    "        Y = np.array(Y)\n",
    "\n",
    "        saver = 0 # This is a counter variable that saves \n",
    "        for penalty in hyperparameters['logistic__penalty']:\n",
    "            for reg_param in hyperparameters['logistic__C']:\n",
    "                \n",
    "                #Performing Cross Validation\n",
    "                for train_index, test_index in skf.split(X, Y):\n",
    "                    Dx_train, Dx_cv = X[train_index], X[test_index]\n",
    "                    Dy_train, Dy_cv = Y[train_index], Y[test_index]\n",
    "\n",
    "                    #Initializing the Vectorizer\n",
    "                    vectorizer = get_vectorizer(vectorizer, Dx_train.tolist(), W2V_model)\n",
    "\n",
    "                    #Transforming the data to features\n",
    "                    x_train = vectorizer.transform(Dx_train.tolist())\n",
    "                    x_cv = vectorizer.transform(Dx_cv.tolist())\n",
    "\n",
    "                    #Initializing the LR model\n",
    "                    log_reg_model = LogisticRegression(penalty=penalty, C=reg_param, max_iter=100, solver='saga')\n",
    "\n",
    "                    # Fit the model\n",
    "                    log_reg_model.fit(x_train, Dy_train)\n",
    "\n",
    "                    #Prediction\n",
    "                    train_results = log_reg_model.predict_proba(x_train)\n",
    "                    cv_results = log_reg_model.predict_proba(x_cv)\n",
    "\n",
    "                    try:\n",
    "                        train_score = roc_auc_score(Dy_train, train_results[:, 1])\n",
    "                        test_score = roc_auc_score(Dy_cv, cv_results[:, 1])\n",
    "\n",
    "                        #storing the results to form a dataframe\n",
    "                        train_scores.append(train_score)\n",
    "                        test_scores.append(test_score)\n",
    "\n",
    "                    except Exception as e:\n",
    "                        print('Error Case : ', e)\n",
    "                        print(('Actual, Predicted'))\n",
    "                        [print((Dy_cv[i], cv_results[i, 1])) for i in range(len(Dy_cv))]\n",
    "\n",
    "                    print('CV iteration : C={0}, solver={1}, train_score={2}, test_score={3}'\n",
    "                      .format(reg_param, 'saga', train_score, test_score))\n",
    "\n",
    "                train_mean_score.append(sum(train_scores)/len(train_scores))\n",
    "                test_mean_score.append(sum(test_scores)/len(test_scores))\n",
    "\n",
    "                penalties.append(penalty)\n",
    "                C_values.append(reg_param)\n",
    "\n",
    "                print('C={0}, penalty={1}, solver=\"saga\", train_score={2}, test_score={3}'\n",
    "                      .format(reg_param, penalty, sum(train_scores)/len(train_scores), sum(test_scores)/len(test_scores)))\n",
    "\n",
    "                saver += 1\n",
    "\n",
    "                if(saver==10):\n",
    "                    # after every period of 100 iterations keep saving the parameters and results \n",
    "                    # so as to avoid data loss in case of system crash\n",
    "                    with open('saved_temp_data/{0}_penalties.pkl'.format(vec_name), 'wb') as file:\n",
    "                        pickle.dump(penalties, file)\n",
    "                    with open('saved_temp_data/{0}_reg_params.pkl'.format(vec_name), 'wb') as file:\n",
    "                        pickle.dump(C_values, file)\n",
    "                    with open('saved_temp_data/{0}_train_mean_score.pkl'.format(vec_name), 'wb') as file:\n",
    "                        pickle.dump(train_mean_score, file)\n",
    "                    with open('saved_temp_data/{0}_test_mean_score.pkl'.format(vec_name), 'wb') as file:\n",
    "                        pickle.dump(test_mean_score, file)\n",
    "                    saver = 0\n",
    "\n",
    "                train_scores = []\n",
    "                test_scores = []\n",
    "        try:\n",
    "            # Attempting to load saved data\n",
    "            # Load data from the saved files\n",
    "            with open('saved_temp_data/{0}_penalties.pkl'.format(vec_name), 'rb') as file:\n",
    "                penalties = pickle.load(file)\n",
    "            with open('saved_temp_data/{0}_reg_params.pkl'.format(vec_name), 'rb') as file:\n",
    "                C_values = pickle.load(file)\n",
    "            with open('saved_temp_data/{0}_train_mean_score.pkl'.format(vec_name), 'rb') as file:\n",
    "                train_mean_score = pickle.load(file)\n",
    "            with open('saved_temp_data/{0}_test_mean_score.pkl'.format(vec_name), 'rb') as file:\n",
    "                test_mean_score = pickle.load(file)\n",
    "        except Exception as ex:\n",
    "            print('Failed to load saved data from temp files')\n",
    "        # Creating a DataFrame from the saved data for visualization\n",
    "        results_df = pd.DataFrame({'C' : C_values, 'penalty' : penalties, \n",
    "                                   'solver' : ['saga' for i in C_values], 'train_score' : train_mean_score, \n",
    "                                   'test_score': test_mean_score})\n",
    "        \n",
    "        try:\n",
    "            # Attempting to remove the temporary files\n",
    "            os.remove('saved_temp_data/{0}_penalties.pkl'.format(vec_name))\n",
    "            os.remove('saved_temp_data/{0}_reg_params.pkl'.format(vec_name))\n",
    "            os.remove('saved_temp_data/{0}_train_mean_score.pkl'.format(vec_name))\n",
    "            os.remove('saved_temp_data/{0}_test_mean_score.pkl'.format(vec_name))\n",
    "        except Exception as e:\n",
    "            print('Error occurred while attempting to remove the temporary files')\n",
    "\n",
    "        #writing the results to csv after performing hyperparameter tuning\n",
    "        try:\n",
    "            results_df.to_csv(results_name)\n",
    "        except Exception as ex:\n",
    "            print(str(ex), \"\\nError occured while converting DataFrame to CSV after cross validation.\")\n",
    "        return results_df"
   ]
  },
  {
   "cell_type": "code",
   "execution_count": 43,
   "metadata": {},
   "outputs": [],
   "source": [
    "def analyse_results(df):\n",
    "    df = pd.DataFrame(trained_rand_searchcv_model.cv_results_)\n",
    "\n",
    "    c = [c['logistic__C'] for c in df.loc[:,'params'].tolist()]\n",
    "    pen = [pen['logistic__penalty'] for pen in df.loc[:,'params'].tolist()]\n",
    "    data = pd.DataFrame({'mean_test_score':df.mean_test_score, \n",
    "                         'std_test_score':df.std_test_score, \n",
    "                         'mean_train_score':df.mean_train_score, \n",
    "                         'std_train_score':df.std_train_score, \n",
    "                         'C':c, 'penalty':pen})\n",
    "    \n",
    "    \n",
    "\n",
    "    pass    \n",
    "    # Sorting the dataframe by the number of neighbours\n",
    "    df = data.sort_values(by=['C'], ascending=[False])\n",
    "    \n",
    "    \n",
    "    fig = plt.figure()\n",
    "    ax = fig.gca()\n",
    "    plt.plot(df.C, df.mean_test_score, '-o', c='b', label='Validation AUC')\n",
    "    plt.plot(df.C, df.mean_train_score, '-o', c='r', label='Train AUC')\n",
    "    plt.grid(True)\n",
    "    plt.xlabel('Hyperparameter : C')\n",
    "    plt.ylabel('Area Under ROC Curve')\n",
    "    plt.title('AUC ROC Curve for Logistic Regression')\n",
    "    plt.legend(loc='best')\n",
    "    plt.show()"
   ]
  },
  {
   "cell_type": "code",
   "execution_count": 44,
   "metadata": {},
   "outputs": [],
   "source": [
    "def retrain_with_best_params(data, labels, best_params, model_path):\n",
    "    if(os.path.exists(model_path)):\n",
    "        print('Loading Model....')\n",
    "        with open(model_path, 'rb') as input_file:\n",
    "            clf = pickle.load(input_file)\n",
    "    else:\n",
    "        clf = LogisticRegression(penalty=best_params['logistic__penalty'], \n",
    "                                 C = best_params['logistic__C'], \n",
    "                                 solver=best_params['logistic__solver'], max_iter=10000)\n",
    "        print('Training Model....')\n",
    "        clf.fit(data, labels)\n",
    "    \n",
    "        print('Saving Trained Model....')\n",
    "        with open(model_path,'wb') as file:\n",
    "            pickle.dump(clf,file)\n",
    "    return clf"
   ]
  },
  {
   "cell_type": "markdown",
   "metadata": {
    "colab_type": "text",
    "id": "LE_XPVZJLPo4"
   },
   "source": [
    "## [5.1] Logistic Regression on BOW,<font color='red'> SET 1</font>"
   ]
  },
  {
   "cell_type": "markdown",
   "metadata": {
    "colab_type": "text",
    "id": "_iciJvj2LPo4"
   },
   "source": [
    "### [5.1.1] Applying Logistic Regression with L1 regularization on BOW,<font color='red'> SET 1</font>"
   ]
  },
  {
   "cell_type": "code",
   "execution_count": 45,
   "metadata": {
    "colab": {},
    "colab_type": "code",
    "id": "MyOVi-xYLPo5",
    "scrolled": false
   },
   "outputs": [
    {
     "name": "stdout",
     "output_type": "stream",
     "text": [
      "Performing Hyperparameter Tuning...\n",
      "\n",
      "CV iteration : C=3.399542199373258, solver=saga, train_score=0.9042774625411746, test_score=0.8617336839607065\n",
      "CV iteration : C=3.399542199373258, solver=saga, train_score=0.9244214234767212, test_score=0.889553490929012\n",
      "CV iteration : C=3.399542199373258, solver=saga, train_score=0.898051477769669, test_score=0.8823742936603933\n",
      "C=3.399542199373258, penalty=l1, solver=\"saga\", train_score=0.9089167879291882, test_score=0.8778871561833705\n",
      "CV iteration : C=6.196604331621749, solver=saga, train_score=0.9045511780863404, test_score=0.8619092945734412\n",
      "CV iteration : C=6.196604331621749, solver=saga, train_score=0.9246427262529595, test_score=0.8894720483260046\n",
      "CV iteration : C=6.196604331621749, solver=saga, train_score=0.898313859749475, test_score=0.8824737109003926\n",
      "C=6.196604331621749, penalty=l1, solver=\"saga\", train_score=0.9091692546962583, test_score=0.8779516845999461\n",
      "CV iteration : C=17.832043118140778, solver=saga, train_score=0.9047342648755234, test_score=0.8620519781962881\n",
      "CV iteration : C=17.832043118140778, solver=saga, train_score=0.924829670431054, test_score=0.8894367353223569\n",
      "CV iteration : C=17.832043118140778, solver=saga, train_score=0.8985162732501135, test_score=0.8825499042731281\n",
      "C=17.832043118140778, penalty=l1, solver=\"saga\", train_score=0.9093600695188969, test_score=0.8780128725972577\n",
      "CV iteration : C=23.914529575177433, solver=saga, train_score=0.904738838068563, test_score=0.8620511828583681\n",
      "CV iteration : C=23.914529575177433, solver=saga, train_score=0.924842912807422, test_score=0.8893937870746772\n",
      "CV iteration : C=23.914529575177433, solver=saga, train_score=0.8984987360489776, test_score=0.882540519285672\n",
      "C=23.914529575177433, penalty=l1, solver=\"saga\", train_score=0.909360162308321, test_score=0.8779951630729057\n",
      "CV iteration : C=49.36249688803508, solver=saga, train_score=0.9047926029119548, test_score=0.8620521372638721\n",
      "CV iteration : C=49.36249688803508, solver=saga, train_score=0.9248929395625896, test_score=0.889404921805557\n",
      "CV iteration : C=49.36249688803508, solver=saga, train_score=0.898583916740209, test_score=0.8826044644544395\n",
      "C=49.36249688803508, penalty=l1, solver=\"saga\", train_score=0.9094231530715845, test_score=0.8780205078412896\n",
      "CV iteration : C=79.79988743548701, solver=saga, train_score=0.9048107366165307, test_score=0.8621133782837117\n",
      "CV iteration : C=79.79988743548701, solver=saga, train_score=0.9248848668827017, test_score=0.889406353413813\n",
      "CV iteration : C=79.79988743548701, solver=saga, train_score=0.8985364748332813, test_score=0.8826151219825674\n",
      "C=79.79988743548701, penalty=l1, solver=\"saga\", train_score=0.9094106927775045, test_score=0.8780449512266975\n",
      "CV iteration : C=85.48994060005873, solver=saga, train_score=0.9047900578306108, test_score=0.8620524553990401\n",
      "CV iteration : C=85.48994060005873, solver=saga, train_score=0.9248636313602379, test_score=0.8894157384012691\n",
      "CV iteration : C=85.48994060005873, solver=saga, train_score=0.8985816500271369, test_score=0.882552608422056\n",
      "C=85.48994060005873, penalty=l1, solver=\"saga\", train_score=0.9094117797393286, test_score=0.8780069340741217\n",
      "CV iteration : C=125.963463108063, solver=saga, train_score=0.9048156677116347, test_score=0.8620852233213439\n",
      "CV iteration : C=125.963463108063, solver=saga, train_score=0.9249037163914056, test_score=0.8894198741584529\n",
      "CV iteration : C=125.963463108063, solver=saga, train_score=0.8985921882545769, test_score=0.88256390222052\n",
      "C=125.963463108063, penalty=l1, solver=\"saga\", train_score=0.9094371907858724, test_score=0.8780229999001056\n",
      "CV iteration : C=132.07764026212615, solver=saga, train_score=0.9048223883170585, test_score=0.8621569628017274\n",
      "CV iteration : C=132.07764026212615, solver=saga, train_score=0.9249193845484294, test_score=0.8894593229192846\n",
      "CV iteration : C=132.07764026212615, solver=saga, train_score=0.8985480072331211, test_score=0.8825812405871758\n",
      "C=132.07764026212615, penalty=l1, solver=\"saga\", train_score=0.9094299266995364, test_score=0.8780658421027292\n",
      "CV iteration : C=134.541113362879, solver=saga, train_score=0.9048286317197305, test_score=0.8620928585653759\n",
      "CV iteration : C=134.541113362879, solver=saga, train_score=0.9248970753197736, test_score=0.8894359399844369\n",
      "CV iteration : C=134.541113362879, solver=saga, train_score=0.8985692029886889, test_score=0.8825656519639438\n",
      "C=134.541113362879, penalty=l1, solver=\"saga\", train_score=0.9094316366760644, test_score=0.8780314835045856\n",
      "CV iteration : C=162.8942404417923, solver=saga, train_score=0.9048196841681305, test_score=0.862076633671808\n",
      "CV iteration : C=162.8942404417923, solver=saga, train_score=0.9249070965775654, test_score=0.8894504151345806\n",
      "CV iteration : C=162.8942404417923, solver=saga, train_score=0.8985804967871529, test_score=0.8825664473018638\n",
      "C=162.8942404417923, penalty=l1, solver=\"saga\", train_score=0.9094357591776164, test_score=0.8780311653694174\n",
      "CV iteration : C=163.2743751150006, solver=saga, train_score=0.9047932391822909, test_score=0.8620958808494718\n",
      "CV iteration : C=163.2743751150006, solver=saga, train_score=0.9249154476257255, test_score=0.8893692906667413\n",
      "CV iteration : C=163.2743751150006, solver=saga, train_score=0.898575486158257, test_score=0.8826337328898954\n",
      "C=163.2743751150006, penalty=l1, solver=\"saga\", train_score=0.9094280576554244, test_score=0.8780329681353695\n",
      "CV iteration : C=166.42972593260936, solver=saga, train_score=0.9048228257529147, test_score=0.8621012891473278\n",
      "CV iteration : C=166.42972593260936, solver=saga, train_score=0.9249261051538533, test_score=0.8893939461422612\n",
      "CV iteration : C=166.42972593260936, solver=saga, train_score=0.898567572545953, test_score=0.8825707421266318\n",
      "C=166.42972593260936, penalty=l1, solver=\"saga\", train_score=0.9094388344842402, test_score=0.8780219924720735\n",
      "CV iteration : C=171.49640025766652, solver=saga, train_score=0.9048296656590267, test_score=0.8621009710121599\n",
      "CV iteration : C=171.49640025766652, solver=saga, train_score=0.9249282923331333, test_score=0.8893912419933332\n",
      "CV iteration : C=171.49640025766652, solver=saga, train_score=0.8986022095123689, test_score=0.8826303924706311\n",
      "C=171.49640025766652, penalty=l1, solver=\"saga\", train_score=0.9094533891681763, test_score=0.8780408684920413\n",
      "CV iteration : C=186.41604941149853, solver=saga, train_score=0.9048232234218746, test_score=0.8620901544164479\n",
      "CV iteration : C=186.41604941149853, solver=saga, train_score=0.9249171576022535, test_score=0.8893934689395092\n",
      "CV iteration : C=186.41604941149853, solver=saga, train_score=0.8985684474176651, test_score=0.8826125769012235\n",
      "C=186.41604941149853, penalty=l1, solver=\"saga\", train_score=0.9094362761472644, test_score=0.8780320667523935\n",
      "CV iteration : C=209.9649292153236, solver=saga, train_score=0.9048238994591067, test_score=0.8621199000546557\n",
      "CV iteration : C=209.9649292153236, solver=saga, train_score=0.9249104369968294, test_score=0.8894316451596689\n",
      "CV iteration : C=209.9649292153236, solver=saga, train_score=0.8985822067636808, test_score=0.8825779001679119\n",
      "C=209.9649292153236, penalty=l1, solver=\"saga\", train_score=0.9094388477398724, test_score=0.8780431484607455\n",
      "CV iteration : C=218.55028361174288, solver=saga, train_score=0.9048104980151548, test_score=0.8620996984714878\n",
      "CV iteration : C=218.55028361174288, solver=saga, train_score=0.9249247133124933, test_score=0.8894408710795407\n",
      "CV iteration : C=218.55028361174288, solver=saga, train_score=0.898569083688001, test_score=0.8825561079089039\n",
      "C=218.55028361174288, penalty=l1, solver=\"saga\", train_score=0.9094347650052165, test_score=0.8780322258199774\n",
      "CV iteration : C=255.91957678723693, solver=saga, train_score=0.9048046522814427, test_score=0.8620567502238081\n",
      "CV iteration : C=255.91957678723693, solver=saga, train_score=0.9249218500959814, test_score=0.889425282456309\n",
      "CV iteration : C=255.91957678723693, solver=saga, train_score=0.898570316461777, test_score=0.8825926934532237\n",
      "C=255.91957678723693, penalty=l1, solver=\"saga\", train_score=0.9094322729464004, test_score=0.8780249087111135\n",
      "CV iteration : C=264.11819367905804, solver=saga, train_score=0.9048364260313464, test_score=0.8621311938531195\n",
      "CV iteration : C=264.11819367905804, solver=saga, train_score=0.9248851452509738, test_score=0.8894123979820051\n"
     ]
    },
    {
     "name": "stdout",
     "output_type": "stream",
     "text": [
      "CV iteration : C=264.11819367905804, solver=saga, train_score=0.898564590028753, test_score=0.8826232344293514\n",
      "C=264.11819367905804, penalty=l1, solver=\"saga\", train_score=0.9094287204370244, test_score=0.8780556087548254\n",
      "CV iteration : C=280.98922406224625, solver=saga, train_score=0.9048022662676827, test_score=0.8621017663500796\n",
      "CV iteration : C=280.98922406224625, solver=saga, train_score=0.9249174359705253, test_score=0.8894644130819727\n",
      "CV iteration : C=280.98922406224625, solver=saga, train_score=0.898568805319729, test_score=0.8825860126146956\n",
      "C=280.98922406224625, penalty=l1, solver=\"saga\", train_score=0.9094295025193123, test_score=0.8780507306822493\n",
      "CV iteration : C=284.60719157894215, solver=saga, train_score=0.9048131226302907, test_score=0.8621179912436476\n",
      "CV iteration : C=284.60719157894215, solver=saga, train_score=0.9249199412849733, test_score=0.8894163746716051\n",
      "CV iteration : C=284.60719157894215, solver=saga, train_score=0.898576361029969, test_score=0.8825850582091919\n",
      "C=284.60719157894215, penalty=l1, solver=\"saga\", train_score=0.9094364749817444, test_score=0.8780398080414815\n",
      "CV iteration : C=286.51883894869104, solver=saga, train_score=0.9048402834202585, test_score=0.862064226400256\n",
      "CV iteration : C=286.51883894869104, solver=saga, train_score=0.9249071761113575, test_score=0.8894569369055247\n",
      "CV iteration : C=286.51883894869104, solver=saga, train_score=0.8986206613521126, test_score=0.8825968292104076\n",
      "C=286.51883894869104, penalty=l1, solver=\"saga\", train_score=0.9094560402945762, test_score=0.8780393308387294\n",
      "CV iteration : C=287.6073797584197, solver=saga, train_score=0.9048299440272984, test_score=0.8620939720384637\n",
      "CV iteration : C=287.6073797584197, solver=saga, train_score=0.9249123458078375, test_score=0.889421464834293\n",
      "CV iteration : C=287.6073797584197, solver=saga, train_score=0.8985576705888492, test_score=0.8825642203556879\n",
      "C=287.6073797584197, penalty=l1, solver=\"saga\", train_score=0.9094333201413284, test_score=0.8780265524094815\n",
      "CV iteration : C=307.8349185228773, solver=saga, train_score=0.9048255299018426, test_score=0.8621638027078393\n",
      "CV iteration : C=307.8349185228773, solver=saga, train_score=0.9249020859486695, test_score=0.8894508923373328\n",
      "CV iteration : C=307.8349185228773, solver=saga, train_score=0.8985854676491529, test_score=0.8825965110752395\n",
      "C=307.8349185228773, penalty=l1, solver=\"saga\", train_score=0.9094376944998883, test_score=0.8780704020401372\n",
      "CV iteration : C=316.2677051337046, solver=saga, train_score=0.9048078734000187, test_score=0.8620906316191999\n",
      "CV iteration : C=316.2677051337046, solver=saga, train_score=0.9249315134517093, test_score=0.8894314860920849\n",
      "CV iteration : C=316.2677051337046, solver=saga, train_score=0.8985992667620648, test_score=0.8825998514945035\n",
      "C=316.2677051337046, penalty=l1, solver=\"saga\", train_score=0.9094462178712642, test_score=0.8780406564019293\n",
      "CV iteration : C=343.4192726886202, solver=saga, train_score=0.9048223883170586, test_score=0.8620981077956479\n",
      "CV iteration : C=343.4192726886202, solver=saga, train_score=0.9249094825913255, test_score=0.8893691315991572\n",
      "CV iteration : C=343.4192726886202, solver=saga, train_score=0.8985903589773608, test_score=0.8826183033342474\n",
      "C=343.4192726886202, penalty=l1, solver=\"saga\", train_score=0.9094407432952484, test_score=0.8780285142430175\n",
      "CV iteration : C=358.1053573236157, solver=saga, train_score=0.9048279159156024, test_score=0.862068839360192\n",
      "CV iteration : C=358.1053573236157, solver=saga, train_score=0.9249144932202213, test_score=0.8894423026877969\n",
      "CV iteration : C=358.1053573236157, solver=saga, train_score=0.8985886887677288, test_score=0.8825670835721999\n",
      "C=358.1053573236157, penalty=l1, solver=\"saga\", train_score=0.9094436993011842, test_score=0.8780260752067296\n",
      "CV iteration : C=361.1113557848416, solver=saga, train_score=0.9048206783405308, test_score=0.8620926994977918\n",
      "CV iteration : C=361.1113557848416, solver=saga, train_score=0.9249011713100616, test_score=0.8894469156477327\n",
      "CV iteration : C=361.1113557848416, solver=saga, train_score=0.8985855471829448, test_score=0.8826109862253835\n",
      "C=361.1113557848416, penalty=l1, solver=\"saga\", train_score=0.9094357989445124, test_score=0.8780502004569692\n",
      "CV iteration : C=366.53624950250816, solver=saga, train_score=0.9048325288755386, test_score=0.8621109922699517\n",
      "CV iteration : C=366.53624950250816, solver=saga, train_score=0.9248805720579337, test_score=0.8894295772810769\n",
      "CV iteration : C=366.53624950250816, solver=saga, train_score=0.8985762814961771, test_score=0.8826270520513673\n",
      "C=366.53624950250816, penalty=l1, solver=\"saga\", train_score=0.9094297941432163, test_score=0.8780558738674653\n",
      "CV iteration : C=379.5925514610923, solver=saga, train_score=0.9048277966149145, test_score=0.8621095606616956\n",
      "CV iteration : C=379.5925514610923, solver=saga, train_score=0.9249107153651013, test_score=0.8894147839957649\n",
      "CV iteration : C=379.5925514610923, solver=saga, train_score=0.8985988690931048, test_score=0.8825848991416078\n",
      "C=379.5925514610923, penalty=l1, solver=\"saga\", train_score=0.9094457936910402, test_score=0.8780364145996895\n",
      "CV iteration : C=380.91338978043814, solver=saga, train_score=0.9048249731652986, test_score=0.8620857005240959\n",
      "CV iteration : C=380.91338978043814, solver=saga, train_score=0.9249098404933894, test_score=0.8894440524312208\n",
      "CV iteration : C=380.91338978043814, solver=saga, train_score=0.898589961308401, test_score=0.8825689923832079\n",
      "C=380.91338978043814, penalty=l1, solver=\"saga\", train_score=0.9094415916556965, test_score=0.8780329151128416\n",
      "CV iteration : C=395.6069025361517, solver=saga, train_score=0.9048110149848028, test_score=0.8620981077956478\n",
      "CV iteration : C=395.6069025361517, solver=saga, train_score=0.9249329450599653, test_score=0.8894567778379407\n",
      "CV iteration : C=395.6069025361517, solver=saga, train_score=0.8985950514710888, test_score=0.8825887167636237\n",
      "C=395.6069025361517, penalty=l1, solver=\"saga\", train_score=0.9094463371719522, test_score=0.8780478674657374\n",
      "CV iteration : C=395.94921827549274, solver=saga, train_score=0.9048369430009944, test_score=0.8620919041598718\n",
      "CV iteration : C=395.94921827549274, solver=saga, train_score=0.9249197026835975, test_score=0.8894513695400847\n",
      "CV iteration : C=395.94921827549274, solver=saga, train_score=0.8985986702586248, test_score=0.8826151219825674\n",
      "C=395.94921827549274, penalty=l1, solver=\"saga\", train_score=0.9094517719810722, test_score=0.8780527985608413\n",
      "CV iteration : C=402.7427724375169, solver=saga, train_score=0.9048213941446586, test_score=0.8620787015503999\n",
      "CV iteration : C=402.7427724375169, solver=saga, train_score=0.9249101188616614, test_score=0.8894664809605646\n",
      "CV iteration : C=402.7427724375169, solver=saga, train_score=0.898573060377601, test_score=0.8826127359688076\n",
      "C=402.7427724375169, penalty=l1, solver=\"saga\", train_score=0.9094348577946403, test_score=0.8780526394932574\n",
      "CV iteration : C=404.1122585099394, solver=saga, train_score=0.9048060838896987, test_score=0.8620985849983999\n",
      "CV iteration : C=404.1122585099394, solver=saga, train_score=0.9248988250631975, test_score=0.889400467913205\n",
      "CV iteration : C=404.1122585099394, solver=saga, train_score=0.8985934607952488, test_score=0.8826241888348554\n",
      "C=404.1122585099394, penalty=l1, solver=\"saga\", train_score=0.9094327899160484, test_score=0.8780410805821534\n",
      "CV iteration : C=423.16297639053545, solver=saga, train_score=0.9048401641195706, test_score=0.8621453508680954\n",
      "CV iteration : C=423.16297639053545, solver=saga, train_score=0.9249150101898694, test_score=0.8894577322434447\n",
      "CV iteration : C=423.16297639053545, solver=saga, train_score=0.8985878934298089, test_score=0.8825860126146957\n",
      "C=423.16297639053545, penalty=l1, solver=\"saga\", train_score=0.9094476892464164, test_score=0.8780630319087454\n",
      "CV iteration : C=433.543485569492, solver=saga, train_score=0.9048303814631546, test_score=0.8620938129708797\n",
      "CV iteration : C=433.543485569492, solver=saga, train_score=0.9249106755982055, test_score=0.8894901820305804\n",
      "CV iteration : C=433.543485569492, solver=saga, train_score=0.8986042376240647, test_score=0.8825710602617998\n",
      "C=433.543485569492, penalty=l1, solver=\"saga\", train_score=0.9094484315618083, test_score=0.8780516850877532\n"
     ]
    },
    {
     "name": "stdout",
     "output_type": "stream",
     "text": [
      "CV iteration : C=438.19927723617195, solver=saga, train_score=0.9048198830026106, test_score=0.8621558493286394\n",
      "CV iteration : C=438.19927723617195, solver=saga, train_score=0.9249130616119654, test_score=0.8894395985388688\n",
      "CV iteration : C=438.19927723617195, solver=saga, train_score=0.8985677713804331, test_score=0.8825914209125516\n",
      "C=438.19927723617195, penalty=l1, solver=\"saga\", train_score=0.9094335719983363, test_score=0.8780622895933533\n",
      "CV iteration : C=438.25788254128855, solver=saga, train_score=0.9048400845857786, test_score=0.8620662942788482\n",
      "CV iteration : C=438.25788254128855, solver=saga, train_score=0.9249254688835173, test_score=0.889412557049589\n",
      "CV iteration : C=438.25788254128855, solver=saga, train_score=0.898578468675457, test_score=0.8825731281403918\n",
      "C=438.25788254128855, penalty=l1, solver=\"saga\", train_score=0.9094480073815842, test_score=0.8780173264896097\n",
      "CV iteration : C=450.07952682478407, solver=saga, train_score=0.9048435840726264, test_score=0.8621241948794236\n",
      "CV iteration : C=450.07952682478407, solver=saga, train_score=0.9249144534533255, test_score=0.8893832886141333\n",
      "CV iteration : C=450.07952682478407, solver=saga, train_score=0.8985648286301291, test_score=0.8826155991853194\n",
      "C=450.07952682478407, penalty=l1, solver=\"saga\", train_score=0.9094409553853603, test_score=0.8780410275596254\n",
      "CV iteration : C=472.2553226840632, solver=saga, train_score=0.9048563492462424, test_score=0.8620904725516159\n",
      "CV iteration : C=472.2553226840632, solver=saga, train_score=0.9249317122861892, test_score=0.8894308498217489\n",
      "CV iteration : C=472.2553226840632, solver=saga, train_score=0.8985744124520649, test_score=0.8826020784406796\n",
      "C=472.2553226840632, penalty=l1, solver=\"saga\", train_score=0.9094541579948322, test_score=0.8780411336046815\n",
      "CV iteration : C=495.6160711310935, solver=saga, train_score=0.9048038171766268, test_score=0.8621275352986876\n",
      "CV iteration : C=495.6160711310935, solver=saga, train_score=0.9249187085111974, test_score=0.8894605954599567\n",
      "CV iteration : C=495.6160711310935, solver=saga, train_score=0.8985974772517449, test_score=0.8826049416571915\n",
      "C=495.6160711310935, penalty=l1, solver=\"saga\", train_score=0.9094400009798563, test_score=0.8780643574719452\n",
      "CV iteration : C=495.6449338504046, solver=saga, train_score=0.9048275580135385, test_score=0.8620753611311358\n",
      "CV iteration : C=495.6449338504046, solver=saga, train_score=0.9249139762505735, test_score=0.889400308845621\n",
      "CV iteration : C=495.6449338504046, solver=saga, train_score=0.8986024878806408, test_score=0.8826090774143756\n",
      "C=495.6449338504046, penalty=l1, solver=\"saga\", train_score=0.9094480073815842, test_score=0.8780282491303776\n",
      "CV iteration : C=497.0480937320321, solver=saga, train_score=0.9048278363818105, test_score=0.8621081290534397\n",
      "CV iteration : C=497.0480937320321, solver=saga, train_score=0.9249364843137092, test_score=0.8894585275813647\n",
      "CV iteration : C=497.0480937320321, solver=saga, train_score=0.898573855715521, test_score=0.8826375505119113\n",
      "C=497.0480937320321, penalty=l1, solver=\"saga\", train_score=0.9094460588036802, test_score=0.8780680690489051\n",
      "CV iteration : C=501.5236814461229, solver=saga, train_score=0.9048130828633947, test_score=0.8621478959494394\n",
      "CV iteration : C=501.5236814461229, solver=saga, train_score=0.9248983080935496, test_score=0.8894300544838288\n",
      "CV iteration : C=501.5236814461229, solver=saga, train_score=0.8986016130089289, test_score=0.8825877623581198\n",
      "C=501.5236814461229, penalty=l1, solver=\"saga\", train_score=0.9094376679886244, test_score=0.8780552375971293\n",
      "CV iteration : C=505.25543072818834, solver=saga, train_score=0.9048474812284344, test_score=0.8620996984714878\n",
      "CV iteration : C=505.25543072818834, solver=saga, train_score=0.9249422902805253, test_score=0.8894327586327568\n",
      "CV iteration : C=505.25543072818834, solver=saga, train_score=0.8985948526366088, test_score=0.8826272111189514\n",
      "C=505.25543072818834, penalty=l1, solver=\"saga\", train_score=0.9094615413818561, test_score=0.8780532227410655\n",
      "CV iteration : C=518.3116164685142, solver=saga, train_score=0.9048101798799867, test_score=0.8620930176329598\n",
      "CV iteration : C=518.3116164685142, solver=saga, train_score=0.9249128230105894, test_score=0.8894050808731411\n",
      "CV iteration : C=518.3116164685142, solver=saga, train_score=0.898570714130737, test_score=0.8825748778838158\n",
      "C=518.3116164685142, penalty=l1, solver=\"saga\", train_score=0.9094312390071044, test_score=0.8780243254633056\n",
      "CV iteration : C=527.2653208134208, solver=saga, train_score=0.9048070780620987, test_score=0.8620484787094401\n",
      "CV iteration : C=527.2653208134208, solver=saga, train_score=0.9249166803995013, test_score=0.889422260172213\n",
      "CV iteration : C=527.2653208134208, solver=saga, train_score=0.898590199909777, test_score=0.8825788545734157\n",
      "C=527.2653208134208, penalty=l1, solver=\"saga\", train_score=0.9094379861237923, test_score=0.8780165311516895\n",
      "CV iteration : C=539.1854639038812, solver=saga, train_score=0.9048205988067384, test_score=0.862071066306368\n",
      "CV iteration : C=539.1854639038812, solver=saga, train_score=0.9249103574630375, test_score=0.8894407120119568\n",
      "CV iteration : C=539.1854639038812, solver=saga, train_score=0.8985903987442567, test_score=0.8826001696296715\n",
      "C=539.1854639038812, penalty=l1, solver=\"saga\", train_score=0.9094404516713442, test_score=0.8780373159826654\n",
      "CV iteration : C=571.5032597970467, solver=saga, train_score=0.9048077938662267, test_score=0.8621035160935038\n",
      "CV iteration : C=571.5032597970467, solver=saga, train_score=0.9249037561583014, test_score=0.8893758124376852\n",
      "CV iteration : C=571.5032597970467, solver=saga, train_score=0.8985948526366089, test_score=0.8825990561565836\n",
      "C=571.5032597970467, penalty=l1, solver=\"saga\", train_score=0.9094354675537124, test_score=0.8780261282292575\n",
      "CV iteration : C=574.7425698857483, solver=saga, train_score=0.9048199625364027, test_score=0.8621028798231677\n",
      "CV iteration : C=574.7425698857483, solver=saga, train_score=0.9249191459470535, test_score=0.8893583150034454\n",
      "CV iteration : C=574.7425698857483, solver=saga, train_score=0.8985883308656648, test_score=0.8826197349425035\n",
      "C=574.7425698857483, penalty=l1, solver=\"saga\", train_score=0.9094424797830403, test_score=0.8780269765897054\n",
      "CV iteration : C=591.4444349647408, solver=saga, train_score=0.9048452542822584, test_score=0.8621230814063356\n",
      "CV iteration : C=591.4444349647408, solver=saga, train_score=0.9249079316823815, test_score=0.8894483472559888\n",
      "CV iteration : C=591.4444349647408, solver=saga, train_score=0.8985754463913609, test_score=0.8826257795106954\n",
      "C=591.4444349647408, penalty=l1, solver=\"saga\", train_score=0.9094428774520003, test_score=0.8780657360576734\n",
      "CV iteration : C=600.4558161214127, solver=saga, train_score=0.9048252913004665, test_score=0.8620950855115518\n",
      "CV iteration : C=600.4558161214127, solver=saga, train_score=0.9248953255763497, test_score=0.8894088984951571\n",
      "CV iteration : C=600.4558161214127, solver=saga, train_score=0.8986040785564808, test_score=0.8826023965758476\n",
      "C=600.4558161214127, penalty=l1, solver=\"saga\", train_score=0.9094415651444324, test_score=0.8780354601941855\n",
      "CV iteration : C=601.5192301080652, solver=saga, train_score=0.9048375792713305, test_score=0.8621170368381437\n",
      "CV iteration : C=601.5192301080652, solver=saga, train_score=0.9249090849223655, test_score=0.8894055580758932\n",
      "CV iteration : C=601.5192301080652, solver=saga, train_score=0.8985989486268968, test_score=0.8826074867385355\n",
      "C=601.5192301080652, penalty=l1, solver=\"saga\", train_score=0.9094485376068642, test_score=0.8780433605508574\n",
      "CV iteration : C=616.8520714444539, solver=saga, train_score=0.9048345967541304, test_score=0.8620887228081917\n",
      "CV iteration : C=616.8520714444539, solver=saga, train_score=0.9249108346657895, test_score=0.8893824932762133\n",
      "CV iteration : C=616.8520714444539, solver=saga, train_score=0.898583439537457, test_score=0.8825934887911436\n",
      "C=616.8520714444539, penalty=l1, solver=\"saga\", train_score=0.9094429569857923, test_score=0.8780215682918495\n",
      "CV iteration : C=618.1606202115468, solver=saga, train_score=0.9048584966586263, test_score=0.8621265808931837\n",
      "CV iteration : C=618.1606202115468, solver=saga, train_score=0.9249193050146374, test_score=0.8894462793773968\n"
     ]
    },
    {
     "name": "stdout",
     "output_type": "stream",
     "text": [
      "CV iteration : C=618.1606202115468, solver=saga, train_score=0.8985852290477769, test_score=0.8826159173204875\n",
      "C=618.1606202115468, penalty=l1, solver=\"saga\", train_score=0.9094543435736803, test_score=0.8780629258636893\n",
      "CV iteration : C=624.7443588742769, solver=saga, train_score=0.9048322505072663, test_score=0.8621087653237758\n",
      "CV iteration : C=624.7443588742769, solver=saga, train_score=0.9249288490696774, test_score=0.8894170109419408\n",
      "CV iteration : C=624.7443588742769, solver=saga, train_score=0.8986107991619048, test_score=0.8825868079526158\n",
      "C=624.7443588742769, penalty=l1, solver=\"saga\", train_score=0.9094572995796163, test_score=0.8780375280727775\n",
      "CV iteration : C=626.252646095396, solver=saga, train_score=0.9048169800192026, test_score=0.8621553721258874\n",
      "CV iteration : C=626.252646095396, solver=saga, train_score=0.9249235998394053, test_score=0.8894529602159248\n",
      "CV iteration : C=626.252646095396, solver=saga, train_score=0.898569123454897, test_score=0.8825755141541518\n",
      "C=626.252646095396, penalty=l1, solver=\"saga\", train_score=0.9094365677711683, test_score=0.8780612821653214\n",
      "CV iteration : C=636.6074780406634, solver=saga, train_score=0.9048356306934265, test_score=0.8621117876078717\n",
      "CV iteration : C=636.6074780406634, solver=saga, train_score=0.9249143739195335, test_score=0.8894500969994127\n",
      "CV iteration : C=636.6074780406634, solver=saga, train_score=0.8985964433124488, test_score=0.8826000105620876\n",
      "C=636.6074780406634, penalty=l1, solver=\"saga\", train_score=0.9094488159751363, test_score=0.8780539650564574\n",
      "CV iteration : C=655.9480545012993, solver=saga, train_score=0.9048142361033786, test_score=0.8621160824326397\n",
      "CV iteration : C=655.9480545012993, solver=saga, train_score=0.9249521127038371, test_score=0.8894421436202127\n",
      "CV iteration : C=655.9480545012993, solver=saga, train_score=0.898594335666961, test_score=0.8826194168073354\n",
      "C=655.9480545012993, penalty=l1, solver=\"saga\", train_score=0.9094535614913922, test_score=0.8780592142867292\n",
      "CV iteration : C=662.5126700702158, solver=saga, train_score=0.9048528497593944, test_score=0.8620850642537599\n",
      "CV iteration : C=662.5126700702158, solver=saga, train_score=0.9249315929855013, test_score=0.8894030129945492\n",
      "CV iteration : C=662.5126700702158, solver=saga, train_score=0.8986006188365289, test_score=0.8826106680902155\n",
      "C=662.5126700702158, penalty=l1, solver=\"saga\", train_score=0.9094616871938083, test_score=0.8780329151128415\n",
      "CV iteration : C=668.8197479889927, solver=saga, train_score=0.9048568264489943, test_score=0.8621210135277437\n",
      "CV iteration : C=668.8197479889927, solver=saga, train_score=0.9249050286989735, test_score=0.8894803198403725\n",
      "CV iteration : C=668.8197479889927, solver=saga, train_score=0.8985633572549772, test_score=0.8825400420829199\n",
      "C=668.8197479889927, penalty=l1, solver=\"saga\", train_score=0.9094417374676483, test_score=0.8780471251503453\n",
      "CV iteration : C=669.2819983557802, solver=saga, train_score=0.9048340797844825, test_score=0.8620907906867838\n",
      "CV iteration : C=669.2819983557802, solver=saga, train_score=0.9248991829652615, test_score=0.8894599591896206\n",
      "CV iteration : C=669.2819983557802, solver=saga, train_score=0.8985506318482572, test_score=0.8825456094483599\n",
      "C=669.2819983557802, penalty=l1, solver=\"saga\", train_score=0.9094279648660004, test_score=0.8780321197749213\n",
      "CV iteration : C=682.5218647690749, solver=saga, train_score=0.9048302621624664, test_score=0.8620903134840319\n",
      "CV iteration : C=682.5218647690749, solver=saga, train_score=0.9249131013788614, test_score=0.8894671172309006\n",
      "CV iteration : C=682.5218647690749, solver=saga, train_score=0.8985907566463209, test_score=0.8825836266009357\n",
      "C=682.5218647690749, penalty=l1, solver=\"saga\", train_score=0.9094447067292162, test_score=0.8780470191052894\n",
      "CV iteration : C=692.1651097260218, solver=saga, train_score=0.9048409594574903, test_score=0.8620774290097281\n",
      "CV iteration : C=692.1651097260218, solver=saga, train_score=0.9249309567151653, test_score=0.8893904466554131\n",
      "CV iteration : C=692.1651097260218, solver=saga, train_score=0.8985574717543692, test_score=0.8825809224520077\n",
      "C=692.1651097260218, penalty=l1, solver=\"saga\", train_score=0.9094431293090083, test_score=0.8780162660390496\n",
      "CV iteration : C=702.7661215039625, solver=saga, train_score=0.9048433057043545, test_score=0.8620985849983998\n",
      "CV iteration : C=702.7661215039625, solver=saga, train_score=0.9249241168090533, test_score=0.8894380078630288\n",
      "CV iteration : C=702.7661215039625, solver=saga, train_score=0.8985983521234566, test_score=0.8826224390914315\n",
      "C=702.7661215039625, penalty=l1, solver=\"saga\", train_score=0.909455258212288, test_score=0.8780530106509534\n",
      "CV iteration : C=704.3043684456246, solver=saga, train_score=0.9048265240742424, test_score=0.8621227632711675\n",
      "CV iteration : C=704.3043684456246, solver=saga, train_score=0.9249303602117254, test_score=0.8894978172746123\n",
      "CV iteration : C=704.3043684456246, solver=saga, train_score=0.8985756849927369, test_score=0.8826003286972556\n",
      "C=704.3043684456246, penalty=l1, solver=\"saga\", train_score=0.9094441897595682, test_score=0.8780736364143452\n",
      "CV iteration : C=715.3211166300546, solver=saga, train_score=0.9048425103664345, test_score=0.8621111513375357\n",
      "CV iteration : C=715.3211166300546, solver=saga, train_score=0.9249024836176296, test_score=0.8894593229192846\n",
      "CV iteration : C=715.3211166300546, solver=saga, train_score=0.898568566718353, test_score=0.8826225981590154\n",
      "C=715.3211166300546, penalty=l1, solver=\"saga\", train_score=0.9094378535674723, test_score=0.8780643574719452\n",
      "CV iteration : C=723.8287795362296, solver=saga, train_score=0.9048406810892183, test_score=0.8621337389344634\n",
      "CV iteration : C=723.8287795362296, solver=saga, train_score=0.9249008134079975, test_score=0.8893996725752851\n",
      "CV iteration : C=723.8287795362296, solver=saga, train_score=0.898572026438305, test_score=0.8825850582091916\n",
      "C=723.8287795362296, penalty=l1, solver=\"saga\", train_score=0.9094378403118403, test_score=0.8780394899063134\n",
      "CV iteration : C=747.1455982971598, solver=saga, train_score=0.9048059645890107, test_score=0.8620971533901438\n",
      "CV iteration : C=747.1455982971598, solver=saga, train_score=0.9249156464602055, test_score=0.889412397982005\n",
      "CV iteration : C=747.1455982971598, solver=saga, train_score=0.8986037604213128, test_score=0.8825841038036877\n",
      "C=747.1455982971598, penalty=l1, solver=\"saga\", train_score=0.9094417904901763, test_score=0.8780312183919454\n",
      "CV iteration : C=747.8942880371092, solver=saga, train_score=0.9048266831418266, test_score=0.8620586590348162\n",
      "CV iteration : C=747.8942880371092, solver=saga, train_score=0.9249160043622694, test_score=0.8894709348529166\n",
      "CV iteration : C=747.8942880371092, solver=saga, train_score=0.8985826839664328, test_score=0.8826017603055115\n",
      "C=747.8942880371092, penalty=l1, solver=\"saga\", train_score=0.9094417904901763, test_score=0.8780437847310815\n",
      "CV iteration : C=761.7895640796206, solver=saga, train_score=0.9048601271013622, test_score=0.8621038342286718\n",
      "CV iteration : C=761.7895640796206, solver=saga, train_score=0.9249079316823814, test_score=0.8894629814737166\n",
      "CV iteration : C=761.7895640796206, solver=saga, train_score=0.8985603349708811, test_score=0.8825678789101198\n",
      "C=761.7895640796206, penalty=l1, solver=\"saga\", train_score=0.9094427979182083, test_score=0.8780448982041693\n",
      "CV iteration : C=763.709166603543, solver=saga, train_score=0.9048505830463225, test_score=0.8621311938531195\n",
      "CV iteration : C=763.709166603543, solver=saga, train_score=0.9249352515399333, test_score=0.8893479756104854\n",
      "CV iteration : C=763.709166603543, solver=saga, train_score=0.8986191899769607, test_score=0.8825985789538315\n",
      "C=763.709166603543, penalty=l1, solver=\"saga\", train_score=0.9094683415210723, test_score=0.8780259161391455\n",
      "CV iteration : C=772.6710749805035, solver=saga, train_score=0.9048365453320344, test_score=0.8621278534338556\n",
      "CV iteration : C=772.6710749805035, solver=saga, train_score=0.9249198219842855, test_score=0.8894804789079565\n",
      "CV iteration : C=772.6710749805035, solver=saga, train_score=0.8985985509579368, test_score=0.8825944431966475\n",
      "C=772.6710749805035, penalty=l1, solver=\"saga\", train_score=0.9094516394247522, test_score=0.8780675918461531\n",
      "CV iteration : C=774.3380090593851, solver=saga, train_score=0.9047928017464347, test_score=0.862085541456512\n"
     ]
    },
    {
     "name": "stdout",
     "output_type": "stream",
     "text": [
      "CV iteration : C=774.3380090593851, solver=saga, train_score=0.9249291274379493, test_score=0.8894120798468369\n",
      "CV iteration : C=774.3380090593851, solver=saga, train_score=0.898564868397025, test_score=0.8825939659938956\n",
      "C=774.3380090593851, penalty=l1, solver=\"saga\", train_score=0.9094289325271364, test_score=0.8780305290990814\n",
      "CV iteration : C=785.2607628837345, solver=saga, train_score=0.9048158665461147, test_score=0.8620790196855678\n",
      "CV iteration : C=785.2607628837345, solver=saga, train_score=0.9249041140603655, test_score=0.8894306907541649\n",
      "CV iteration : C=785.2607628837345, solver=saga, train_score=0.898561965413617, test_score=0.8825599255309198\n",
      "C=785.2607628837345, penalty=l1, solver=\"saga\", train_score=0.9094273153400324, test_score=0.8780232119902175\n",
      "CV iteration : C=792.9472693266621, solver=saga, train_score=0.9047958240305307, test_score=0.8621307166503676\n",
      "CV iteration : C=792.9472693266621, solver=saga, train_score=0.9249382738240293, test_score=0.8894044446028051\n",
      "CV iteration : C=792.9472693266621, solver=saga, train_score=0.898579621915441, test_score=0.8826020784406795\n",
      "C=792.9472693266621, penalty=l1, solver=\"saga\", train_score=0.9094379065900003, test_score=0.8780457465646174\n",
      "CV iteration : C=796.5784847337536, solver=saga, train_score=0.9048320516727865, test_score=0.8620915860247038\n",
      "CV iteration : C=796.5784847337536, solver=saga, train_score=0.9249131809126534, test_score=0.8894572550406925\n",
      "CV iteration : C=796.5784847337536, solver=saga, train_score=0.8985830418684969, test_score=0.8826001696296716\n",
      "C=796.5784847337536, penalty=l1, solver=\"saga\", train_score=0.9094427581513123, test_score=0.8780496702316892\n",
      "CV iteration : C=796.6368981540875, solver=saga, train_score=0.9048193660329626, test_score=0.86207711087456\n",
      "CV iteration : C=796.6368981540875, solver=saga, train_score=0.9249200605856613, test_score=0.8894621861357965\n",
      "CV iteration : C=796.6368981540875, solver=saga, train_score=0.898552461125473, test_score=0.882560561801256\n",
      "C=796.6368981540875, penalty=l1, solver=\"saga\", train_score=0.9094306292480323, test_score=0.8780332862705374\n",
      "CV iteration : C=802.6335807296508, solver=saga, train_score=0.9048269217432025, test_score=0.8621135373512957\n",
      "CV iteration : C=802.6335807296508, solver=saga, train_score=0.9248939735018856, test_score=0.8894195560232849\n",
      "CV iteration : C=802.6335807296508, solver=saga, train_score=0.8985866606560329, test_score=0.882569151450792\n",
      "C=802.6335807296508, penalty=l1, solver=\"saga\", train_score=0.9094358519670402, test_score=0.8780340816084576\n",
      "CV iteration : C=802.7523387993385, solver=saga, train_score=0.9048398459844025, test_score=0.8620884046730238\n",
      "CV iteration : C=802.7523387993385, solver=saga, train_score=0.9249272583938375, test_score=0.8894831830568846\n",
      "CV iteration : C=802.7523387993385, solver=saga, train_score=0.8985851892808808, test_score=0.8826151219825674\n",
      "C=802.7523387993385, penalty=l1, solver=\"saga\", train_score=0.9094507645530402, test_score=0.8780622365708254\n",
      "CV iteration : C=816.2213222803355, solver=saga, train_score=0.9047970965712029, test_score=0.8620534098045441\n",
      "CV iteration : C=816.2213222803355, solver=saga, train_score=0.9249201798863493, test_score=0.8894445296339728\n",
      "CV iteration : C=816.2213222803355, solver=saga, train_score=0.8985882115649769, test_score=0.882555471638568\n",
      "C=816.2213222803355, penalty=l1, solver=\"saga\", train_score=0.9094351626741765, test_score=0.8780178036923617\n",
      "CV iteration : C=828.6986868883514, solver=saga, train_score=0.9048249333984025, test_score=0.8621164005678077\n",
      "CV iteration : C=828.6986868883514, solver=saga, train_score=0.9249103972299334, test_score=0.889397763764277\n",
      "CV iteration : C=828.6986868883514, solver=saga, train_score=0.8985931028931848, test_score=0.8825790136409997\n",
      "C=828.6986868883514, penalty=l1, solver=\"saga\", train_score=0.9094428111738403, test_score=0.8780310593243614\n",
      "CV iteration : C=845.4146243562709, solver=saga, train_score=0.9048069587614107, test_score=0.8621043114314236\n",
      "CV iteration : C=845.4146243562709, solver=saga, train_score=0.9249130616119656, test_score=0.8894149430633489\n",
      "CV iteration : C=845.4146243562709, solver=saga, train_score=0.8985975965524328, test_score=0.8825627887474319\n",
      "C=845.4146243562709, penalty=l1, solver=\"saga\", train_score=0.9094392056419364, test_score=0.8780273477474014\n",
      "CV iteration : C=847.6501378643343, solver=saga, train_score=0.9048004767573627, test_score=0.8620874502675199\n",
      "CV iteration : C=847.6501378643343, solver=saga, train_score=0.9249245542449094, test_score=0.8894399166740369\n",
      "CV iteration : C=847.6501378643343, solver=saga, train_score=0.898595767275217, test_score=0.8825961929400715\n",
      "C=847.6501378643343, penalty=l1, solver=\"saga\", train_score=0.9094402660924964, test_score=0.8780411866272094\n",
      "CV iteration : C=851.7701272544946, solver=saga, train_score=0.9048171390867866, test_score=0.8621195819194877\n",
      "CV iteration : C=851.7701272544946, solver=saga, train_score=0.9249051877665575, test_score=0.8894456431070608\n",
      "CV iteration : C=851.7701272544946, solver=saga, train_score=0.8985972784172648, test_score=0.8826057369951115\n",
      "C=851.7701272544946, penalty=l1, solver=\"saga\", train_score=0.9094398684235364, test_score=0.8780569873405533\n",
      "CV iteration : C=853.9283964250241, solver=saga, train_score=0.9048407208561144, test_score=0.8621262627580156\n",
      "CV iteration : C=853.9283964250241, solver=saga, train_score=0.9249083293513415, test_score=0.8894489835263248\n",
      "CV iteration : C=853.9283964250241, solver=saga, train_score=0.8986008176710087, test_score=0.8825961929400716\n",
      "C=853.9283964250241, penalty=l1, solver=\"saga\", train_score=0.9094499559594883, test_score=0.8780571464081373\n",
      "CV iteration : C=860.306308720929, solver=saga, train_score=0.9047957444967387, test_score=0.8620858595916799\n",
      "CV iteration : C=860.306308720929, solver=saga, train_score=0.9249216512615013, test_score=0.8894572550406926\n",
      "CV iteration : C=860.306308720929, solver=saga, train_score=0.8985797014492329, test_score=0.8826426406745993\n",
      "C=860.306308720929, penalty=l1, solver=\"saga\", train_score=0.9094323657358242, test_score=0.8780619184356574\n",
      "CV iteration : C=864.4054084554349, solver=saga, train_score=0.9048114921875545, test_score=0.8621548949231352\n",
      "CV iteration : C=864.4054084554349, solver=saga, train_score=0.9249185892105094, test_score=0.889407785022069\n",
      "CV iteration : C=864.4054084554349, solver=saga, train_score=0.8986032036847686, test_score=0.8825771048299917\n",
      "C=864.4054084554349, penalty=l1, solver=\"saga\", train_score=0.9094444283609442, test_score=0.8780465949250654\n",
      "CV iteration : C=866.9740500425592, solver=saga, train_score=0.9048370623016825, test_score=0.8621160824326397\n",
      "CV iteration : C=866.9740500425592, solver=saga, train_score=0.9249040345265735, test_score=0.889401581386293\n",
      "CV iteration : C=866.9740500425592, solver=saga, train_score=0.8986055896985289, test_score=0.8826084411440396\n",
      "C=866.9740500425592, penalty=l1, solver=\"saga\", train_score=0.9094488955089283, test_score=0.8780420349876574\n",
      "CV iteration : C=874.8673635374536, solver=saga, train_score=0.9047959035643228, test_score=0.8620543642100481\n",
      "CV iteration : C=874.8673635374536, solver=saga, train_score=0.9249246735455973, test_score=0.8894601182572046\n",
      "CV iteration : C=874.8673635374536, solver=saga, train_score=0.898587416227057, test_score=0.8825689923832079\n",
      "C=874.8673635374536, penalty=l1, solver=\"saga\", train_score=0.9094359977789924, test_score=0.8780278249501535\n",
      "CV iteration : C=923.5178084662953, solver=saga, train_score=0.9047914099050749, test_score=0.8621084471886077\n",
      "CV iteration : C=923.5178084662953, solver=saga, train_score=0.9249313146172293, test_score=0.8894704576501645\n",
      "CV iteration : C=923.5178084662953, solver=saga, train_score=0.8985820079292008, test_score=0.8825696286535438\n",
      "C=923.5178084662953, penalty=l1, solver=\"saga\", train_score=0.9094349108171684, test_score=0.8780495111641052\n",
      "CV iteration : C=931.3701110798506, solver=saga, train_score=0.9048426296671224, test_score=0.8620906316191999\n",
      "CV iteration : C=931.3701110798506, solver=saga, train_score=0.9249268209579813, test_score=0.8894116026440849\n",
      "CV iteration : C=931.3701110798506, solver=saga, train_score=0.8986073394419528, test_score=0.8826396183905034\n",
      "C=931.3701110798506, penalty=l1, solver=\"saga\", train_score=0.9094589300223522, test_score=0.8780472842179293\n"
     ]
    },
    {
     "name": "stdout",
     "output_type": "stream",
     "text": [
      "CV iteration : C=964.6197145611512, solver=saga, train_score=0.9048223485501626, test_score=0.862070589103616\n",
      "CV iteration : C=964.6197145611512, solver=saga, train_score=0.9249130218450694, test_score=0.8893991953725331\n",
      "CV iteration : C=964.6197145611512, solver=saga, train_score=0.8986199057810886, test_score=0.8826008059000074\n",
      "C=964.6197145611512, penalty=l1, solver=\"saga\", train_score=0.9094517587254402, test_score=0.8780235301253855\n",
      "CV iteration : C=979.1329093660383, solver=saga, train_score=0.9048064020248667, test_score=0.862065817076096\n",
      "CV iteration : C=979.1329093660383, solver=saga, train_score=0.9249371205840452, test_score=0.8894421436202129\n",
      "CV iteration : C=979.1329093660383, solver=saga, train_score=0.898581053523697, test_score=0.8825731281403917\n",
      "C=979.1329093660383, penalty=l1, solver=\"saga\", train_score=0.9094415253775363, test_score=0.8780270296122336\n",
      "CV iteration : C=984.5522714537949, solver=saga, train_score=0.9048396471499225, test_score=0.8621375565564795\n",
      "CV iteration : C=984.5522714537949, solver=saga, train_score=0.9249210149911653, test_score=0.8893883787768211\n",
      "CV iteration : C=984.5522714537949, solver=saga, train_score=0.898582564665745, test_score=0.8825710602617999\n",
      "C=984.5522714537949, penalty=l1, solver=\"saga\", train_score=0.9094477422689442, test_score=0.8780323318650335\n",
      "CV iteration : C=986.8645961372156, solver=saga, train_score=0.9048315347031386, test_score=0.8621369202861435\n",
      "CV iteration : C=986.8645961372156, solver=saga, train_score=0.9249077726147975, test_score=0.8894717301908366\n",
      "CV iteration : C=986.8645961372156, solver=saga, train_score=0.898594733335921, test_score=0.8825600845985039\n",
      "C=986.8645961372156, penalty=l1, solver=\"saga\", train_score=0.9094446802179523, test_score=0.8780562450251613\n",
      "CV iteration : C=992.0368001523016, solver=saga, train_score=0.9048381360078744, test_score=0.8621464643411836\n",
      "CV iteration : C=992.0368001523016, solver=saga, train_score=0.9249163622643335, test_score=0.8894502560669967\n",
      "CV iteration : C=992.0368001523016, solver=saga, train_score=0.8985657035018412, test_score=0.8826348463629833\n",
      "C=992.0368001523016, penalty=l1, solver=\"saga\", train_score=0.9094400672580164, test_score=0.8780771889237212\n",
      "CV iteration : C=993.8663773544474, solver=saga, train_score=0.9048448168464024, test_score=0.8621020844852478\n",
      "CV iteration : C=993.8663773544474, solver=saga, train_score=0.9249222875318375, test_score=0.8894858872058125\n",
      "CV iteration : C=993.8663773544474, solver=saga, train_score=0.8985851097470889, test_score=0.8825992152241677\n",
      "C=993.8663773544474, penalty=l1, solver=\"saga\", train_score=0.9094507380417762, test_score=0.8780623956384094\n",
      "CV iteration : C=995.9106993256368, solver=saga, train_score=0.9048309381996986, test_score=0.8621070155803517\n",
      "CV iteration : C=995.9106993256368, solver=saga, train_score=0.9249069772768775, test_score=0.8893616554227094\n",
      "CV iteration : C=995.9106993256368, solver=saga, train_score=0.898588927369105, test_score=0.8825821949926798\n",
      "C=995.9106993256368, penalty=l1, solver=\"saga\", train_score=0.9094422809485604, test_score=0.8780169553319137\n"
     ]
    }
   ],
   "source": [
    "# Please write all the code with proper documentation\n",
    "# trained_rand_searchcv_model = perform_randomized_search_cv(X=Dx_train, Y=Dy_train, \n",
    "#                                                              vectorizer='BOW', w2vec_model=None, \n",
    "#                                                              model_path='saved-models/BOW-rand-searchcv-l1.pkl', \n",
    "#                                                              penalty=['l1'])\n",
    "\n",
    "cv_results = perform_hyperparameter_tuning(X=Dx_train, Y=Dy_train, vectorizer='BOW', vec_name='BOW', \n",
    "                                           penalty=['l1'], retrain=True, W2V_model=None)\n",
    "\n",
    "# analysing results\n",
    "# analyse_results(trained_rand_searchcv_model.cv_results_)\n",
    "\n",
    "\n",
    "# # Retraining the model with the best parameters\n",
    "# vectorizer = get_vectorizer('BOW', w2v_model)\n",
    "# vectorizer.fit(Dx_train)\n",
    "# log_reg = retrain_with_best_params(vectorizer.transform(Dx_train), \n",
    "#                                    np.array(Dy_train), \n",
    "#                                    trained_rand_searchcv_model.best_params_, \n",
    "#                                    'saved-models/BOW-log-regclf-l1.pkl')"
   ]
  },
  {
   "cell_type": "markdown",
   "metadata": {
    "colab_type": "text",
    "id": "5h4NhywcLPo7"
   },
   "source": [
    "#### [5.1.1.1] Calculating sparsity on weight vector obtained using L1 regularization on BOW,<font color='red'> SET 1</font>"
   ]
  },
  {
   "cell_type": "code",
   "execution_count": 45,
   "metadata": {
    "colab": {},
    "colab_type": "code",
    "id": "-mmdLzUALPo-"
   },
   "outputs": [
    {
     "name": "stdout",
     "output_type": "stream",
     "text": [
      "Sparsity of the weight vector by L1 reguralization is :  0.03\n"
     ]
    }
   ],
   "source": [
    "# Please write all the code with proper documentation\n",
    "# fetching the coeff and calculating sparsity\n",
    "weights = log_reg.coef_\n",
    "elements = (weights.shape[0]*weights.shape[1])\n",
    "zeroes = elements - np.count_nonzero(weights)\n",
    "sparsity = zeroes/elements\n",
    "print('Sparsity of the weight vector by L1 reguralization is : ', sparsity)"
   ]
  },
  {
   "cell_type": "markdown",
   "metadata": {
    "colab_type": "text",
    "id": "aRHMa52qLPpA"
   },
   "source": [
    "### [5.1.2] Applying Logistic Regression with L2 regularization on BOW,<font color='red'> SET 1</font>"
   ]
  },
  {
   "cell_type": "code",
   "execution_count": 46,
   "metadata": {
    "colab": {},
    "colab_type": "code",
    "id": "GBbb9lxlLPpB"
   },
   "outputs": [
    {
     "name": "stdout",
     "output_type": "stream",
     "text": [
      "\n",
      "Maximum Area under ROC curve :  0.8749212696737277\n",
      "\n",
      "Best Parameters that led to the score above : \n",
      "{'logistic__C': 5.639059823039221,\n",
      " 'logistic__max_iter': 500,\n",
      " 'logistic__penalty': 'l2',\n",
      " 'logistic__solver': 'saga'}\n"
     ]
    },
    {
     "data": {
      "image/png": "[encoded data removed]",
      "text/plain": [
       "<Figure size 432x288 with 1 Axes>"
      ]
     },
     "metadata": {
      "needs_background": "light"
     },
     "output_type": "display_data"
    },
    {
     "name": "stdout",
     "output_type": "stream",
     "text": [
      "Loading Model....\n"
     ]
    }
   ],
   "source": [
    "# Please write all the code with proper documentation\n",
    "trained_rand_searchcv_model = perform_randomized_search_cv(X=Dx_train, Y=Dy_train, \n",
    "                                                             vectorizer='BOW', w2vec_model=None, \n",
    "                                                             model_path='saved-models/BOW-rand-searchcv-l2.pkl', \n",
    "                                                             penalty=['l2'])\n",
    "\n",
    "# analysing results\n",
    "analyse_results(trained_rand_searchcv_model.cv_results_)\n",
    "\n",
    "\n",
    "# Retraining the model with the best parameters\n",
    "vectorizer = get_vectorizer('BOW', w2v_model)\n",
    "vectorizer.fit(Dx_train)\n",
    "log_reg = retrain_with_best_params(vectorizer.transform(Dx_train), \n",
    "                                   np.array(Dy_train), \n",
    "                                   trained_rand_searchcv_model.best_params_, \n",
    "                                   'saved-models/BOW-log-regclf-l2.pkl')"
   ]
  },
  {
   "cell_type": "markdown",
   "metadata": {
    "colab_type": "text",
    "id": "UaJkugTKLPpE"
   },
   "source": [
    "#### [5.1.2.1] Performing pertubation test (multicollinearity check) on BOW,<font color='red'> SET 1</font>"
   ]
  },
  {
   "cell_type": "code",
   "execution_count": 47,
   "metadata": {
    "colab": {},
    "colab_type": "code",
    "id": "E1c5B1nELPpF"
   },
   "outputs": [],
   "source": [
    "# Please write all the code with proper documentation"
   ]
  },
  {
   "cell_type": "markdown",
   "metadata": {
    "colab_type": "text",
    "id": "eB1rF0BQLPpG"
   },
   "source": [
    "### [5.1.3] Feature Importance on BOW,<font color='red'> SET 1</font>"
   ]
  },
  {
   "cell_type": "markdown",
   "metadata": {
    "colab_type": "text",
    "id": "JZTP19dqLPpI"
   },
   "source": [
    "#### [5.1.3.1] Top 10 important features of positive class from<font color='red'> SET 1</font>"
   ]
  },
  {
   "cell_type": "code",
   "execution_count": 48,
   "metadata": {
    "colab": {},
    "colab_type": "code",
    "id": "oGRpCVJgLPpI"
   },
   "outputs": [],
   "source": [
    "# Please write all the code with proper documentation"
   ]
  },
  {
   "cell_type": "markdown",
   "metadata": {
    "colab_type": "text",
    "id": "UJLYBE1gLPpJ"
   },
   "source": [
    "#### [5.1.3.2] Top 10 important features of negative class from<font color='red'> SET 1</font>"
   ]
  },
  {
   "cell_type": "code",
   "execution_count": 49,
   "metadata": {
    "colab": {},
    "colab_type": "code",
    "id": "c9r7Zjx1LPpK"
   },
   "outputs": [],
   "source": [
    "# Please write all the code with proper documentation"
   ]
  },
  {
   "cell_type": "markdown",
   "metadata": {
    "colab_type": "text",
    "id": "nKn3VXcZLPpN"
   },
   "source": [
    "## [5.2] Logistic Regression on TFIDF,<font color='red'> SET 2</font>"
   ]
  },
  {
   "cell_type": "markdown",
   "metadata": {
    "colab_type": "text",
    "id": "naTBSzm6LPpN"
   },
   "source": [
    "### [5.2.1] Applying Logistic Regression with L1 regularization on TFIDF,<font color='red'> SET 2</font>"
   ]
  },
  {
   "cell_type": "code",
   "execution_count": 50,
   "metadata": {
    "colab": {},
    "colab_type": "code",
    "id": "PEhaagXXLPpS"
   },
   "outputs": [
    {
     "name": "stdout",
     "output_type": "stream",
     "text": [
      "\n",
      "Maximum Area under ROC curve :  0.8894891020128822\n",
      "\n",
      "Best Parameters that led to the score above : \n",
      "{'logistic__C': 0.6635880359503178,\n",
      " 'logistic__max_iter': 500,\n",
      " 'logistic__penalty': 'l1',\n",
      " 'logistic__solver': 'saga'}\n"
     ]
    },
    {
     "data": {
      "image/png": "[encoded data removed]",
      "text/plain": [
       "<Figure size 432x288 with 1 Axes>"
      ]
     },
     "metadata": {
      "needs_background": "light"
     },
     "output_type": "display_data"
    }
   ],
   "source": [
    "# Please write all the code with proper documentation\n",
    "# Please write all the code with proper documentation\n",
    "trained_rand_searchcv_model = perform_randomized_search_cv(X=Dx_train, Y=Dy_train, \n",
    "                                                             vectorizer='TFIDF', w2vec_model=None, \n",
    "                                                             model_path='saved-models/TFIDF-rand-searchcv-l1.pkl', \n",
    "                                                             penalty=['l1'])\n",
    "\n",
    "# analysing results\n",
    "analyse_results(trained_rand_searchcv_model.cv_results_)\n",
    "\n",
    "\n",
    "# # Retraining the model with the best parameters\n",
    "# vectorizer = get_vectorizer('TFIDF', w2v_model)\n",
    "# vectorizer.fit(Dx_train)\n",
    "# log_reg = retrain_with_best_params(vectorizer.transform(Dx_train), \n",
    "#                                    np.array(Dy_train), \n",
    "#                                    trained_rand_searchcv_model.best_params_, \n",
    "#                                    'saved-models/TFIDF-log-regclf-l1.pkl')"
   ]
  },
  {
   "cell_type": "markdown",
   "metadata": {
    "colab_type": "text",
    "id": "NdFShHQJLPpV"
   },
   "source": [
    "### [5.2.2] Applying Logistic Regression with L2 regularization on TFIDF,<font color='red'> SET 2</font>"
   ]
  },
  {
   "cell_type": "code",
   "execution_count": 51,
   "metadata": {
    "colab": {},
    "colab_type": "code",
    "id": "Jyhq3JDzLPpW"
   },
   "outputs": [
    {
     "name": "stdout",
     "output_type": "stream",
     "text": [
      "\n",
      "Maximum Area under ROC curve :  0.8887915750906685\n",
      "\n",
      "Best Parameters that led to the score above : \n",
      "{'logistic__C': 18.887552139865786,\n",
      " 'logistic__max_iter': 500,\n",
      " 'logistic__penalty': 'l2',\n",
      " 'logistic__solver': 'saga'}\n"
     ]
    },
    {
     "data": {
      "image/png": "[encoded data removed]",
      "text/plain": [
       "<Figure size 432x288 with 1 Axes>"
      ]
     },
     "metadata": {
      "needs_background": "light"
     },
     "output_type": "display_data"
    }
   ],
   "source": [
    "# Please write all the code with proper documentation\n",
    "# Please write all the code with proper documentation\n",
    "trained_rand_searchcv_model = perform_randomized_search_cv(X=Dx_train, Y=Dy_train, \n",
    "                                                             vectorizer='TFIDF', w2vec_model=None, \n",
    "                                                             model_path='saved-models/TFIDF-rand-searchcv-l2.pkl', \n",
    "                                                             penalty=['l2'])\n",
    "\n",
    "# analysing results\n",
    "analyse_results(trained_rand_searchcv_model.cv_results_)"
   ]
  },
  {
   "cell_type": "markdown",
   "metadata": {
    "colab_type": "text",
    "id": "xeeJ8eVvLPpX"
   },
   "source": [
    "### [5.2.3] Feature Importance on TFIDF,<font color='red'> SET 2</font>"
   ]
  },
  {
   "cell_type": "markdown",
   "metadata": {
    "colab_type": "text",
    "id": "Cj9XEmqQLPpY"
   },
   "source": [
    "#### [5.2.3.1] Top 10 important features of positive class from<font color='red'> SET 2</font>"
   ]
  },
  {
   "cell_type": "code",
   "execution_count": 52,
   "metadata": {
    "colab": {},
    "colab_type": "code",
    "id": "RG10txygLPpb"
   },
   "outputs": [],
   "source": [
    "# Please write all the code with proper documentation"
   ]
  },
  {
   "cell_type": "markdown",
   "metadata": {
    "colab_type": "text",
    "id": "PowEfns4LPpg"
   },
   "source": [
    "#### [5.2.3.2] Top 10 important features of negative class from<font color='red'> SET 2</font>"
   ]
  },
  {
   "cell_type": "code",
   "execution_count": 53,
   "metadata": {
    "colab": {},
    "colab_type": "code",
    "id": "G7jrma95LPpg"
   },
   "outputs": [],
   "source": [
    "# Please write all the code with proper documentation"
   ]
  },
  {
   "cell_type": "markdown",
   "metadata": {},
   "source": [
    "## Preparing/Training Google Word2Vec"
   ]
  },
  {
   "cell_type": "code",
   "execution_count": null,
   "metadata": {},
   "outputs": [],
   "source": [
    "is_your_ram_gt_16g=True\n",
    "want_to_use_google_w2v = False\n",
    "want_to_train_w2v = True\n",
    "\n",
    "path_to_word2vec = '/home/monodeepdas112/Datasets/GoogleNews-vectors-negative300.bin.gz'\n",
    "\n",
    "if want_to_train_w2v:\n",
    "    \n",
    "    # Train your own Word2Vec model using your own text corpus\n",
    "    i=0\n",
    "    list_of_sentences=[]\n",
    "    for sentance in preprocessed_reviews:\n",
    "        list_of_sentences.append(sentance.split())\n",
    "    \n",
    "    # min_count = 5 considers only words that occured atleast 5 times\n",
    "    w2v_model=Word2Vec(list_of_sentences,min_count=5,size=100, workers=4)\n",
    "    print(w2v_model.wv.most_similar('great'))\n",
    "    print('='*50)\n",
    "    print(w2v_model.wv.most_similar('worst'))\n",
    "    \n",
    "elif want_to_use_google_w2v and is_your_ram_gt_16g:\n",
    "    if os.path.isfile(path_to_word2vec):\n",
    "        print('Preparing to load pre-trained Word2Vec model !')\n",
    "        w2v_model=KeyedVectors.load_word2vec_format(path_to_word2vec, binary=True)\n",
    "        print('Successfully loaded model into memory !!')\n",
    "        print('Words similar to \"similar\" : ', w2v_model.wv.most_similar('great'))\n",
    "        print('Words similar to \"worst\" : ',w2v_model.wv.most_similar('worst'))\n",
    "    else:\n",
    "        print(\"you don't have google's word2vec file, keep want_to_train_w2v = True, to train your own w2v \")"
   ]
  },
  {
   "cell_type": "markdown",
   "metadata": {
    "colab_type": "text",
    "id": "sqYadGOgLPpi"
   },
   "source": [
    "## [5.3] Logistic Regression on AVG W2V,<font color='red'> SET 3</font>"
   ]
  },
  {
   "cell_type": "markdown",
   "metadata": {
    "colab_type": "text",
    "id": "kByBCEA1LPpj"
   },
   "source": [
    "### [5.3.1] Applying Logistic Regression with L1 regularization on AVG W2V<font color='red'> SET 3</font>"
   ]
  },
  {
   "cell_type": "code",
   "execution_count": 106,
   "metadata": {
    "scrolled": true
   },
   "outputs": [],
   "source": [
    "cv_results = perform_hyperparameter_tuning(X=Dx_train, Y=Dy_train, vectorizer='Avg-W2Vec', vec_name='Avg-W2Vec', \n",
    "                                           penalty=['l1'], retrain=False, W2V_model=w2v_model)"
   ]
  },
  {
   "cell_type": "code",
   "execution_count": 107,
   "metadata": {},
   "outputs": [
    {
     "data": {
      "text/html": [
       "<div>\n",
       "<style scoped>\n",
       "    .dataframe tbody tr th:only-of-type {\n",
       "        vertical-align: middle;\n",
       "    }\n",
       "\n",
       "    .dataframe tbody tr th {\n",
       "        vertical-align: top;\n",
       "    }\n",
       "\n",
       "    .dataframe thead th {\n",
       "        text-align: right;\n",
       "    }\n",
       "</style>\n",
       "<table border=\"1\" class=\"dataframe\">\n",
       "  <thead>\n",
       "    <tr style=\"text-align: right;\">\n",
       "      <th></th>\n",
       "      <th>Unnamed: 0</th>\n",
       "      <th>C</th>\n",
       "      <th>penalty</th>\n",
       "      <th>solver</th>\n",
       "      <th>train_score</th>\n",
       "      <th>test_score</th>\n",
       "    </tr>\n",
       "  </thead>\n",
       "  <tbody>\n",
       "    <tr>\n",
       "      <th>0</th>\n",
       "      <td>0</td>\n",
       "      <td>4.300849</td>\n",
       "      <td>l1</td>\n",
       "      <td>saga</td>\n",
       "      <td>0.649787</td>\n",
       "      <td>0.643459</td>\n",
       "    </tr>\n",
       "    <tr>\n",
       "      <th>1</th>\n",
       "      <td>1</td>\n",
       "      <td>5.413546</td>\n",
       "      <td>l1</td>\n",
       "      <td>saga</td>\n",
       "      <td>0.649838</td>\n",
       "      <td>0.643459</td>\n",
       "    </tr>\n",
       "    <tr>\n",
       "      <th>2</th>\n",
       "      <td>2</td>\n",
       "      <td>8.912109</td>\n",
       "      <td>l1</td>\n",
       "      <td>saga</td>\n",
       "      <td>0.649922</td>\n",
       "      <td>0.643438</td>\n",
       "    </tr>\n",
       "    <tr>\n",
       "      <th>3</th>\n",
       "      <td>3</td>\n",
       "      <td>10.983870</td>\n",
       "      <td>l1</td>\n",
       "      <td>saga</td>\n",
       "      <td>0.649956</td>\n",
       "      <td>0.643445</td>\n",
       "    </tr>\n",
       "    <tr>\n",
       "      <th>4</th>\n",
       "      <td>4</td>\n",
       "      <td>11.948184</td>\n",
       "      <td>l1</td>\n",
       "      <td>saga</td>\n",
       "      <td>0.649965</td>\n",
       "      <td>0.643431</td>\n",
       "    </tr>\n",
       "    <tr>\n",
       "      <th>5</th>\n",
       "      <td>5</td>\n",
       "      <td>22.061018</td>\n",
       "      <td>l1</td>\n",
       "      <td>saga</td>\n",
       "      <td>0.650026</td>\n",
       "      <td>0.643435</td>\n",
       "    </tr>\n",
       "    <tr>\n",
       "      <th>6</th>\n",
       "      <td>6</td>\n",
       "      <td>25.785094</td>\n",
       "      <td>l1</td>\n",
       "      <td>saga</td>\n",
       "      <td>0.650037</td>\n",
       "      <td>0.643436</td>\n",
       "    </tr>\n",
       "    <tr>\n",
       "      <th>7</th>\n",
       "      <td>7</td>\n",
       "      <td>26.693603</td>\n",
       "      <td>l1</td>\n",
       "      <td>saga</td>\n",
       "      <td>0.650038</td>\n",
       "      <td>0.643435</td>\n",
       "    </tr>\n",
       "    <tr>\n",
       "      <th>8</th>\n",
       "      <td>8</td>\n",
       "      <td>33.593645</td>\n",
       "      <td>l1</td>\n",
       "      <td>saga</td>\n",
       "      <td>0.650051</td>\n",
       "      <td>0.643438</td>\n",
       "    </tr>\n",
       "    <tr>\n",
       "      <th>9</th>\n",
       "      <td>9</td>\n",
       "      <td>38.860498</td>\n",
       "      <td>l1</td>\n",
       "      <td>saga</td>\n",
       "      <td>0.650056</td>\n",
       "      <td>0.643426</td>\n",
       "    </tr>\n",
       "    <tr>\n",
       "      <th>10</th>\n",
       "      <td>10</td>\n",
       "      <td>52.453330</td>\n",
       "      <td>l1</td>\n",
       "      <td>saga</td>\n",
       "      <td>0.650062</td>\n",
       "      <td>0.643436</td>\n",
       "    </tr>\n",
       "    <tr>\n",
       "      <th>11</th>\n",
       "      <td>11</td>\n",
       "      <td>61.735001</td>\n",
       "      <td>l1</td>\n",
       "      <td>saga</td>\n",
       "      <td>0.650065</td>\n",
       "      <td>0.643434</td>\n",
       "    </tr>\n",
       "    <tr>\n",
       "      <th>12</th>\n",
       "      <td>12</td>\n",
       "      <td>67.733433</td>\n",
       "      <td>l1</td>\n",
       "      <td>saga</td>\n",
       "      <td>0.650065</td>\n",
       "      <td>0.643428</td>\n",
       "    </tr>\n",
       "    <tr>\n",
       "      <th>13</th>\n",
       "      <td>13</td>\n",
       "      <td>101.736724</td>\n",
       "      <td>l1</td>\n",
       "      <td>saga</td>\n",
       "      <td>0.650071</td>\n",
       "      <td>0.643428</td>\n",
       "    </tr>\n",
       "    <tr>\n",
       "      <th>14</th>\n",
       "      <td>14</td>\n",
       "      <td>126.638468</td>\n",
       "      <td>l1</td>\n",
       "      <td>saga</td>\n",
       "      <td>0.650074</td>\n",
       "      <td>0.643424</td>\n",
       "    </tr>\n",
       "    <tr>\n",
       "      <th>15</th>\n",
       "      <td>15</td>\n",
       "      <td>131.484439</td>\n",
       "      <td>l1</td>\n",
       "      <td>saga</td>\n",
       "      <td>0.650074</td>\n",
       "      <td>0.643429</td>\n",
       "    </tr>\n",
       "    <tr>\n",
       "      <th>16</th>\n",
       "      <td>16</td>\n",
       "      <td>140.095838</td>\n",
       "      <td>l1</td>\n",
       "      <td>saga</td>\n",
       "      <td>0.650072</td>\n",
       "      <td>0.643422</td>\n",
       "    </tr>\n",
       "    <tr>\n",
       "      <th>17</th>\n",
       "      <td>17</td>\n",
       "      <td>157.221789</td>\n",
       "      <td>l1</td>\n",
       "      <td>saga</td>\n",
       "      <td>0.650076</td>\n",
       "      <td>0.643424</td>\n",
       "    </tr>\n",
       "    <tr>\n",
       "      <th>18</th>\n",
       "      <td>18</td>\n",
       "      <td>163.848277</td>\n",
       "      <td>l1</td>\n",
       "      <td>saga</td>\n",
       "      <td>0.650076</td>\n",
       "      <td>0.643429</td>\n",
       "    </tr>\n",
       "    <tr>\n",
       "      <th>19</th>\n",
       "      <td>19</td>\n",
       "      <td>164.815174</td>\n",
       "      <td>l1</td>\n",
       "      <td>saga</td>\n",
       "      <td>0.650075</td>\n",
       "      <td>0.643427</td>\n",
       "    </tr>\n",
       "    <tr>\n",
       "      <th>20</th>\n",
       "      <td>20</td>\n",
       "      <td>201.925656</td>\n",
       "      <td>l1</td>\n",
       "      <td>saga</td>\n",
       "      <td>0.650078</td>\n",
       "      <td>0.643426</td>\n",
       "    </tr>\n",
       "    <tr>\n",
       "      <th>21</th>\n",
       "      <td>21</td>\n",
       "      <td>203.684599</td>\n",
       "      <td>l1</td>\n",
       "      <td>saga</td>\n",
       "      <td>0.650076</td>\n",
       "      <td>0.643428</td>\n",
       "    </tr>\n",
       "    <tr>\n",
       "      <th>22</th>\n",
       "      <td>22</td>\n",
       "      <td>209.061366</td>\n",
       "      <td>l1</td>\n",
       "      <td>saga</td>\n",
       "      <td>0.650079</td>\n",
       "      <td>0.643427</td>\n",
       "    </tr>\n",
       "    <tr>\n",
       "      <th>23</th>\n",
       "      <td>23</td>\n",
       "      <td>212.268236</td>\n",
       "      <td>l1</td>\n",
       "      <td>saga</td>\n",
       "      <td>0.650079</td>\n",
       "      <td>0.643420</td>\n",
       "    </tr>\n",
       "    <tr>\n",
       "      <th>24</th>\n",
       "      <td>24</td>\n",
       "      <td>217.647338</td>\n",
       "      <td>l1</td>\n",
       "      <td>saga</td>\n",
       "      <td>0.650078</td>\n",
       "      <td>0.643427</td>\n",
       "    </tr>\n",
       "    <tr>\n",
       "      <th>25</th>\n",
       "      <td>25</td>\n",
       "      <td>221.161645</td>\n",
       "      <td>l1</td>\n",
       "      <td>saga</td>\n",
       "      <td>0.650078</td>\n",
       "      <td>0.643425</td>\n",
       "    </tr>\n",
       "    <tr>\n",
       "      <th>26</th>\n",
       "      <td>26</td>\n",
       "      <td>224.150358</td>\n",
       "      <td>l1</td>\n",
       "      <td>saga</td>\n",
       "      <td>0.650078</td>\n",
       "      <td>0.643424</td>\n",
       "    </tr>\n",
       "    <tr>\n",
       "      <th>27</th>\n",
       "      <td>27</td>\n",
       "      <td>236.983872</td>\n",
       "      <td>l1</td>\n",
       "      <td>saga</td>\n",
       "      <td>0.650079</td>\n",
       "      <td>0.643429</td>\n",
       "    </tr>\n",
       "    <tr>\n",
       "      <th>28</th>\n",
       "      <td>28</td>\n",
       "      <td>238.903057</td>\n",
       "      <td>l1</td>\n",
       "      <td>saga</td>\n",
       "      <td>0.650078</td>\n",
       "      <td>0.643420</td>\n",
       "    </tr>\n",
       "    <tr>\n",
       "      <th>29</th>\n",
       "      <td>29</td>\n",
       "      <td>247.527359</td>\n",
       "      <td>l1</td>\n",
       "      <td>saga</td>\n",
       "      <td>0.650079</td>\n",
       "      <td>0.643425</td>\n",
       "    </tr>\n",
       "    <tr>\n",
       "      <th>...</th>\n",
       "      <td>...</td>\n",
       "      <td>...</td>\n",
       "      <td>...</td>\n",
       "      <td>...</td>\n",
       "      <td>...</td>\n",
       "      <td>...</td>\n",
       "    </tr>\n",
       "    <tr>\n",
       "      <th>70</th>\n",
       "      <td>70</td>\n",
       "      <td>666.725982</td>\n",
       "      <td>l1</td>\n",
       "      <td>saga</td>\n",
       "      <td>0.650082</td>\n",
       "      <td>0.643435</td>\n",
       "    </tr>\n",
       "    <tr>\n",
       "      <th>71</th>\n",
       "      <td>71</td>\n",
       "      <td>675.594770</td>\n",
       "      <td>l1</td>\n",
       "      <td>saga</td>\n",
       "      <td>0.650080</td>\n",
       "      <td>0.643425</td>\n",
       "    </tr>\n",
       "    <tr>\n",
       "      <th>72</th>\n",
       "      <td>72</td>\n",
       "      <td>675.981900</td>\n",
       "      <td>l1</td>\n",
       "      <td>saga</td>\n",
       "      <td>0.650077</td>\n",
       "      <td>0.643426</td>\n",
       "    </tr>\n",
       "    <tr>\n",
       "      <th>73</th>\n",
       "      <td>73</td>\n",
       "      <td>682.296399</td>\n",
       "      <td>l1</td>\n",
       "      <td>saga</td>\n",
       "      <td>0.650080</td>\n",
       "      <td>0.643431</td>\n",
       "    </tr>\n",
       "    <tr>\n",
       "      <th>74</th>\n",
       "      <td>74</td>\n",
       "      <td>711.425362</td>\n",
       "      <td>l1</td>\n",
       "      <td>saga</td>\n",
       "      <td>0.650080</td>\n",
       "      <td>0.643436</td>\n",
       "    </tr>\n",
       "    <tr>\n",
       "      <th>75</th>\n",
       "      <td>75</td>\n",
       "      <td>721.349466</td>\n",
       "      <td>l1</td>\n",
       "      <td>saga</td>\n",
       "      <td>0.650078</td>\n",
       "      <td>0.643424</td>\n",
       "    </tr>\n",
       "    <tr>\n",
       "      <th>76</th>\n",
       "      <td>76</td>\n",
       "      <td>721.854215</td>\n",
       "      <td>l1</td>\n",
       "      <td>saga</td>\n",
       "      <td>0.650080</td>\n",
       "      <td>0.643429</td>\n",
       "    </tr>\n",
       "    <tr>\n",
       "      <th>77</th>\n",
       "      <td>77</td>\n",
       "      <td>757.484126</td>\n",
       "      <td>l1</td>\n",
       "      <td>saga</td>\n",
       "      <td>0.650081</td>\n",
       "      <td>0.643426</td>\n",
       "    </tr>\n",
       "    <tr>\n",
       "      <th>78</th>\n",
       "      <td>78</td>\n",
       "      <td>761.250317</td>\n",
       "      <td>l1</td>\n",
       "      <td>saga</td>\n",
       "      <td>0.650078</td>\n",
       "      <td>0.643426</td>\n",
       "    </tr>\n",
       "    <tr>\n",
       "      <th>79</th>\n",
       "      <td>79</td>\n",
       "      <td>764.458749</td>\n",
       "      <td>l1</td>\n",
       "      <td>saga</td>\n",
       "      <td>0.650079</td>\n",
       "      <td>0.643424</td>\n",
       "    </tr>\n",
       "    <tr>\n",
       "      <th>80</th>\n",
       "      <td>80</td>\n",
       "      <td>800.286255</td>\n",
       "      <td>l1</td>\n",
       "      <td>saga</td>\n",
       "      <td>0.650079</td>\n",
       "      <td>0.643429</td>\n",
       "    </tr>\n",
       "    <tr>\n",
       "      <th>81</th>\n",
       "      <td>81</td>\n",
       "      <td>805.753055</td>\n",
       "      <td>l1</td>\n",
       "      <td>saga</td>\n",
       "      <td>0.650080</td>\n",
       "      <td>0.643425</td>\n",
       "    </tr>\n",
       "    <tr>\n",
       "      <th>82</th>\n",
       "      <td>82</td>\n",
       "      <td>810.316347</td>\n",
       "      <td>l1</td>\n",
       "      <td>saga</td>\n",
       "      <td>0.650079</td>\n",
       "      <td>0.643424</td>\n",
       "    </tr>\n",
       "    <tr>\n",
       "      <th>83</th>\n",
       "      <td>83</td>\n",
       "      <td>815.097197</td>\n",
       "      <td>l1</td>\n",
       "      <td>saga</td>\n",
       "      <td>0.650081</td>\n",
       "      <td>0.643433</td>\n",
       "    </tr>\n",
       "    <tr>\n",
       "      <th>84</th>\n",
       "      <td>84</td>\n",
       "      <td>839.071787</td>\n",
       "      <td>l1</td>\n",
       "      <td>saga</td>\n",
       "      <td>0.650078</td>\n",
       "      <td>0.643427</td>\n",
       "    </tr>\n",
       "    <tr>\n",
       "      <th>85</th>\n",
       "      <td>85</td>\n",
       "      <td>840.314776</td>\n",
       "      <td>l1</td>\n",
       "      <td>saga</td>\n",
       "      <td>0.650080</td>\n",
       "      <td>0.643430</td>\n",
       "    </tr>\n",
       "    <tr>\n",
       "      <th>86</th>\n",
       "      <td>86</td>\n",
       "      <td>848.428127</td>\n",
       "      <td>l1</td>\n",
       "      <td>saga</td>\n",
       "      <td>0.650078</td>\n",
       "      <td>0.643421</td>\n",
       "    </tr>\n",
       "    <tr>\n",
       "      <th>87</th>\n",
       "      <td>87</td>\n",
       "      <td>850.502091</td>\n",
       "      <td>l1</td>\n",
       "      <td>saga</td>\n",
       "      <td>0.650080</td>\n",
       "      <td>0.643426</td>\n",
       "    </tr>\n",
       "    <tr>\n",
       "      <th>88</th>\n",
       "      <td>88</td>\n",
       "      <td>856.517105</td>\n",
       "      <td>l1</td>\n",
       "      <td>saga</td>\n",
       "      <td>0.650081</td>\n",
       "      <td>0.643426</td>\n",
       "    </tr>\n",
       "    <tr>\n",
       "      <th>89</th>\n",
       "      <td>89</td>\n",
       "      <td>885.134835</td>\n",
       "      <td>l1</td>\n",
       "      <td>saga</td>\n",
       "      <td>0.650078</td>\n",
       "      <td>0.643424</td>\n",
       "    </tr>\n",
       "    <tr>\n",
       "      <th>90</th>\n",
       "      <td>90</td>\n",
       "      <td>890.875160</td>\n",
       "      <td>l1</td>\n",
       "      <td>saga</td>\n",
       "      <td>0.650079</td>\n",
       "      <td>0.643420</td>\n",
       "    </tr>\n",
       "    <tr>\n",
       "      <th>91</th>\n",
       "      <td>91</td>\n",
       "      <td>924.419065</td>\n",
       "      <td>l1</td>\n",
       "      <td>saga</td>\n",
       "      <td>0.650080</td>\n",
       "      <td>0.643428</td>\n",
       "    </tr>\n",
       "    <tr>\n",
       "      <th>92</th>\n",
       "      <td>92</td>\n",
       "      <td>926.581193</td>\n",
       "      <td>l1</td>\n",
       "      <td>saga</td>\n",
       "      <td>0.650079</td>\n",
       "      <td>0.643422</td>\n",
       "    </tr>\n",
       "    <tr>\n",
       "      <th>93</th>\n",
       "      <td>93</td>\n",
       "      <td>928.285590</td>\n",
       "      <td>l1</td>\n",
       "      <td>saga</td>\n",
       "      <td>0.650078</td>\n",
       "      <td>0.643423</td>\n",
       "    </tr>\n",
       "    <tr>\n",
       "      <th>94</th>\n",
       "      <td>94</td>\n",
       "      <td>946.309075</td>\n",
       "      <td>l1</td>\n",
       "      <td>saga</td>\n",
       "      <td>0.650078</td>\n",
       "      <td>0.643425</td>\n",
       "    </tr>\n",
       "    <tr>\n",
       "      <th>95</th>\n",
       "      <td>95</td>\n",
       "      <td>950.309747</td>\n",
       "      <td>l1</td>\n",
       "      <td>saga</td>\n",
       "      <td>0.650080</td>\n",
       "      <td>0.643429</td>\n",
       "    </tr>\n",
       "    <tr>\n",
       "      <th>96</th>\n",
       "      <td>96</td>\n",
       "      <td>980.132778</td>\n",
       "      <td>l1</td>\n",
       "      <td>saga</td>\n",
       "      <td>0.650077</td>\n",
       "      <td>0.643421</td>\n",
       "    </tr>\n",
       "    <tr>\n",
       "      <th>97</th>\n",
       "      <td>97</td>\n",
       "      <td>987.622681</td>\n",
       "      <td>l1</td>\n",
       "      <td>saga</td>\n",
       "      <td>0.650079</td>\n",
       "      <td>0.643425</td>\n",
       "    </tr>\n",
       "    <tr>\n",
       "      <th>98</th>\n",
       "      <td>98</td>\n",
       "      <td>997.645975</td>\n",
       "      <td>l1</td>\n",
       "      <td>saga</td>\n",
       "      <td>0.650081</td>\n",
       "      <td>0.643430</td>\n",
       "    </tr>\n",
       "    <tr>\n",
       "      <th>99</th>\n",
       "      <td>99</td>\n",
       "      <td>998.458865</td>\n",
       "      <td>l1</td>\n",
       "      <td>saga</td>\n",
       "      <td>0.650078</td>\n",
       "      <td>0.643422</td>\n",
       "    </tr>\n",
       "  </tbody>\n",
       "</table>\n",
       "<p>100 rows × 6 columns</p>\n",
       "</div>"
      ],
      "text/plain": [
       "    Unnamed: 0           C penalty solver  train_score  test_score\n",
       "0            0    4.300849      l1   saga     0.649787    0.643459\n",
       "1            1    5.413546      l1   saga     0.649838    0.643459\n",
       "2            2    8.912109      l1   saga     0.649922    0.643438\n",
       "3            3   10.983870      l1   saga     0.649956    0.643445\n",
       "4            4   11.948184      l1   saga     0.649965    0.643431\n",
       "5            5   22.061018      l1   saga     0.650026    0.643435\n",
       "6            6   25.785094      l1   saga     0.650037    0.643436\n",
       "7            7   26.693603      l1   saga     0.650038    0.643435\n",
       "8            8   33.593645      l1   saga     0.650051    0.643438\n",
       "9            9   38.860498      l1   saga     0.650056    0.643426\n",
       "10          10   52.453330      l1   saga     0.650062    0.643436\n",
       "11          11   61.735001      l1   saga     0.650065    0.643434\n",
       "12          12   67.733433      l1   saga     0.650065    0.643428\n",
       "13          13  101.736724      l1   saga     0.650071    0.643428\n",
       "14          14  126.638468      l1   saga     0.650074    0.643424\n",
       "15          15  131.484439      l1   saga     0.650074    0.643429\n",
       "16          16  140.095838      l1   saga     0.650072    0.643422\n",
       "17          17  157.221789      l1   saga     0.650076    0.643424\n",
       "18          18  163.848277      l1   saga     0.650076    0.643429\n",
       "19          19  164.815174      l1   saga     0.650075    0.643427\n",
       "20          20  201.925656      l1   saga     0.650078    0.643426\n",
       "21          21  203.684599      l1   saga     0.650076    0.643428\n",
       "22          22  209.061366      l1   saga     0.650079    0.643427\n",
       "23          23  212.268236      l1   saga     0.650079    0.643420\n",
       "24          24  217.647338      l1   saga     0.650078    0.643427\n",
       "25          25  221.161645      l1   saga     0.650078    0.643425\n",
       "26          26  224.150358      l1   saga     0.650078    0.643424\n",
       "27          27  236.983872      l1   saga     0.650079    0.643429\n",
       "28          28  238.903057      l1   saga     0.650078    0.643420\n",
       "29          29  247.527359      l1   saga     0.650079    0.643425\n",
       "..         ...         ...     ...    ...          ...         ...\n",
       "70          70  666.725982      l1   saga     0.650082    0.643435\n",
       "71          71  675.594770      l1   saga     0.650080    0.643425\n",
       "72          72  675.981900      l1   saga     0.650077    0.643426\n",
       "73          73  682.296399      l1   saga     0.650080    0.643431\n",
       "74          74  711.425362      l1   saga     0.650080    0.643436\n",
       "75          75  721.349466      l1   saga     0.650078    0.643424\n",
       "76          76  721.854215      l1   saga     0.650080    0.643429\n",
       "77          77  757.484126      l1   saga     0.650081    0.643426\n",
       "78          78  761.250317      l1   saga     0.650078    0.643426\n",
       "79          79  764.458749      l1   saga     0.650079    0.643424\n",
       "80          80  800.286255      l1   saga     0.650079    0.643429\n",
       "81          81  805.753055      l1   saga     0.650080    0.643425\n",
       "82          82  810.316347      l1   saga     0.650079    0.643424\n",
       "83          83  815.097197      l1   saga     0.650081    0.643433\n",
       "84          84  839.071787      l1   saga     0.650078    0.643427\n",
       "85          85  840.314776      l1   saga     0.650080    0.643430\n",
       "86          86  848.428127      l1   saga     0.650078    0.643421\n",
       "87          87  850.502091      l1   saga     0.650080    0.643426\n",
       "88          88  856.517105      l1   saga     0.650081    0.643426\n",
       "89          89  885.134835      l1   saga     0.650078    0.643424\n",
       "90          90  890.875160      l1   saga     0.650079    0.643420\n",
       "91          91  924.419065      l1   saga     0.650080    0.643428\n",
       "92          92  926.581193      l1   saga     0.650079    0.643422\n",
       "93          93  928.285590      l1   saga     0.650078    0.643423\n",
       "94          94  946.309075      l1   saga     0.650078    0.643425\n",
       "95          95  950.309747      l1   saga     0.650080    0.643429\n",
       "96          96  980.132778      l1   saga     0.650077    0.643421\n",
       "97          97  987.622681      l1   saga     0.650079    0.643425\n",
       "98          98  997.645975      l1   saga     0.650081    0.643430\n",
       "99          99  998.458865      l1   saga     0.650078    0.643422\n",
       "\n",
       "[100 rows x 6 columns]"
      ]
     },
     "execution_count": 107,
     "metadata": {},
     "output_type": "execute_result"
    }
   ],
   "source": [
    "cv_results"
   ]
  },
  {
   "cell_type": "code",
   "execution_count": null,
   "metadata": {
    "colab": {},
    "colab_type": "code",
    "id": "yCQ_4iJkLPpj"
   },
   "outputs": [],
   "source": [
    "# Please write all the code with proper documentation\n",
    "trained_rand_searchcv_model = perform_randomized_search_cv(X=Dx_train, Y=Dy_train, \n",
    "                                                             vectorizer='Avg-W2Vec', w2vec_model=w2v_model, \n",
    "                                                             model_path='saved-models/Avg-W2Vec-rand-searchcv-l1.pkl', \n",
    "                                                             penalty=['l1'])\n",
    "\n",
    "# analysing results\n",
    "analyse_results(trained_rand_searchcv_model.cv_results_)"
   ]
  },
  {
   "cell_type": "markdown",
   "metadata": {
    "colab_type": "text",
    "id": "O_8Gu2SfLPpn"
   },
   "source": [
    "### [5.3.2] Applying Logistic Regression with L2 regularization on AVG W2V,<font color='red'> SET 3</font>"
   ]
  },
  {
   "cell_type": "code",
   "execution_count": null,
   "metadata": {
    "colab": {},
    "colab_type": "code",
    "id": "Zy3s4jk1LPpn"
   },
   "outputs": [],
   "source": [
    "# Please write all the code with proper documentation\n",
    "# Please write all the code with proper documentation\n",
    "trained_rand_searchcv_model = perform_randomized_search_cv(X=Dx_train, Y=Dy_train, \n",
    "                                                             vectorizer='Avg-W2Vec', w2vec_model=w2v_model, \n",
    "                                                             model_path='saved-models/Avg-W2Vec-rand-searchcv-l2.pkl', \n",
    "                                                             penalty=['l2'])\n",
    "\n",
    "# analysing results\n",
    "analyse_results(trained_rand_searchcv_model.cv_results_)"
   ]
  },
  {
   "cell_type": "markdown",
   "metadata": {
    "colab_type": "text",
    "id": "pdXTwVIPLPpp"
   },
   "source": [
    "## [5.4] Logistic Regression on TFIDF W2V,<font color='red'> SET 4</font>"
   ]
  },
  {
   "cell_type": "markdown",
   "metadata": {
    "colab_type": "text",
    "id": "WP9NjwNSLPpp"
   },
   "source": [
    "### [5.4.1] Applying Logistic Regression with L1 regularization on TFIDF W2V,<font color='red'> SET 4</font>"
   ]
  },
  {
   "cell_type": "code",
   "execution_count": null,
   "metadata": {
    "colab": {},
    "colab_type": "code",
    "id": "207gYymwLPpq"
   },
   "outputs": [],
   "source": [
    "# Please write all the code with proper documentation\n",
    "trained_rand_searchcv_model = perform_randomized_search_cv(X=Dx_train, Y=Dy_train, \n",
    "                                                             vectorizer='TFIDF-W2Vec', w2vec_model=w2v_model, \n",
    "                                                             model_path='saved-models/TFIDF-W2Vec-rand-searchcv-l1.pkl', \n",
    "                                                             penalty=['l1'])\n",
    "\n",
    "# analysing results\n",
    "analyse_results(trained_rand_searchcv_model.cv_results_)"
   ]
  },
  {
   "cell_type": "markdown",
   "metadata": {
    "colab_type": "text",
    "id": "ynUK2tYDLPps"
   },
   "source": [
    "### [5.4.2] Applying Logistic Regression with L2 regularization on TFIDF W2V,<font color='red'> SET 4</font>"
   ]
  },
  {
   "cell_type": "code",
   "execution_count": null,
   "metadata": {
    "colab": {},
    "colab_type": "code",
    "id": "hVYuiXl2LPpt"
   },
   "outputs": [],
   "source": [
    "# Please write all the code with proper documentation\n",
    "trained_rand_searchcv_model = perform_randomized_search_cv(X=Dx_train, Y=Dy_train, \n",
    "                                                             vectorizer='TFIDF-W2Vec', w2vec_model=w2v_model, \n",
    "                                                             model_path='saved-models/TFIDF-W2Vec-rand-searchcv-l2.pkl', \n",
    "                                                             penalty=['l2'])\n",
    "\n",
    "# analysing results\n",
    "analyse_results(trained_rand_searchcv_model.cv_results_)"
   ]
  },
  {
   "cell_type": "markdown",
   "metadata": {
    "colab_type": "text",
    "id": "nOvsBNf2LPpv"
   },
   "source": [
    "# [6] Conclusions"
   ]
  },
  {
   "cell_type": "code",
   "execution_count": null,
   "metadata": {
    "colab": {},
    "colab_type": "code",
    "id": "T7VxD0q2LPpw"
   },
   "outputs": [],
   "source": [
    "# Please compare all your models using Prettytable library"
   ]
  }
 ],
 "metadata": {
  "colab": {
   "name": "05 Amazon Fine Food Reviews Analysis_Logistic Regression.ipynb",
   "provenance": [],
   "version": "0.3.2"
  },
  "kernelspec": {
   "display_name": "Python 3",
   "language": "python",
   "name": "python3"
  },
  "language_info": {
   "codemirror_mode": {
    "name": "ipython",
    "version": 3
   },
   "file_extension": ".py",
   "mimetype": "text/x-python",
   "name": "python",
   "nbconvert_exporter": "python",
   "pygments_lexer": "ipython3",
   "version": "3.6.7"
  }
 },
 "nbformat": 4,
 "nbformat_minor": 2
}
