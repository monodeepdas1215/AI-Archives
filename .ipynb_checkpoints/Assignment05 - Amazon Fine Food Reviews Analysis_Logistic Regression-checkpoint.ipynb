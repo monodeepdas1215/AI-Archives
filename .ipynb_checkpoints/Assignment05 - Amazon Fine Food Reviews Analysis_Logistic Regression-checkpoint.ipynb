{
 "cells": [
  {
   "cell_type": "markdown",
   "metadata": {
    "colab_type": "text",
    "id": "AM7jsfwALPlp"
   },
   "source": [
    "# Amazon Fine Food Reviews Analysis\n",
    "\n",
    "\n",
    "Data Source: https://www.kaggle.com/snap/amazon-fine-food-reviews <br>\n",
    "\n",
    "EDA: https://nycdatascience.com/blog/student-works/amazon-fine-foods-visualization/\n",
    "\n",
    "\n",
    "The Amazon Fine Food Reviews dataset consists of reviews of fine foods from Amazon.<br>\n",
    "\n",
    "Number of reviews: 568,454<br>\n",
    "Number of users: 256,059<br>\n",
    "Number of products: 74,258<br>\n",
    "Timespan: Oct 1999 - Oct 2012<br>\n",
    "Number of Attributes/Columns in data: 10 \n",
    "\n",
    "Attribute Information:\n",
    "\n",
    "1. Id\n",
    "2. ProductId - unique identifier for the product\n",
    "3. UserId - unqiue identifier for the user\n",
    "4. ProfileName\n",
    "5. HelpfulnessNumerator - number of users who found the review helpful\n",
    "6. HelpfulnessDenominator - number of users who indicated whether they found the review helpful or not\n",
    "7. Score - rating between 1 and 5\n",
    "8. Time - timestamp for the review\n",
    "9. Summary - brief summary of the review\n",
    "10. Text - text of the review\n",
    "\n",
    "\n",
    "#### Objective:\n",
    "Given a review, determine whether the review is positive (rating of 4 or 5) or negative (rating of 1 or 2).\n",
    "\n",
    "<br>\n",
    "[Q] How to determine if a review is positive or negative?<br>\n",
    "<br> \n",
    "[Ans] We could use Score/Rating. A rating of 4 or 5 can be cosnidered as a positive review. A rating of 1 or 2 can be considered as negative one. A review of rating 3 is considered nuetral and such reviews are ignored from our analysis. This is an approximate and proxy way of determining the polarity (positivity/negativity) of a review.\n",
    "\n",
    "\n"
   ]
  },
  {
   "cell_type": "markdown",
   "metadata": {
    "colab_type": "text",
    "id": "CaQ7XJ4OLPls"
   },
   "source": [
    "# [1]. Reading Data"
   ]
  },
  {
   "cell_type": "markdown",
   "metadata": {
    "colab_type": "text",
    "id": "5VnEBjKRLPlu"
   },
   "source": [
    "## [1.1] Loading the data\n",
    "\n",
    "The dataset is available in two forms\n",
    "1. .csv file\n",
    "2. SQLite Database\n",
    "\n",
    "In order to load the data, We have used the SQLITE dataset as it is easier to query the data and visualise the data efficiently.\n",
    "<br> \n",
    "\n",
    "Here as we only want to get the global sentiment of the recommendations (positive or negative), we will purposefully ignore all Scores equal to 3. If the score is above 3, then the recommendation wil be set to \"positive\". Otherwise, it will be set to \"negative\"."
   ]
  },
  {
   "cell_type": "code",
   "execution_count": 1,
   "metadata": {
    "colab": {},
    "colab_type": "code",
    "id": "x6YclOzXLPlv"
   },
   "outputs": [],
   "source": [
    "%matplotlib inline\n",
    "import warnings\n",
    "warnings.filterwarnings(\"ignore\")\n",
    "\n",
    "\n",
    "import sqlite3\n",
    "import pandas as pd\n",
    "import numpy as np\n",
    "import nltk\n",
    "import string\n",
    "import matplotlib.pyplot as plt\n",
    "import seaborn as sns\n",
    "from sklearn.feature_extraction.text import TfidfTransformer\n",
    "from sklearn.feature_extraction.text import TfidfVectorizer\n",
    "\n",
    "from sklearn.feature_extraction.text import CountVectorizer\n",
    "from sklearn.metrics import confusion_matrix\n",
    "from sklearn import metrics\n",
    "from sklearn.metrics import roc_curve, auc\n",
    "from nltk.stem.porter import PorterStemmer\n",
    "\n",
    "import re\n",
    "# Tutorial about Python regular expressions: https://pymotw.com/2/re/\n",
    "import string\n",
    "from nltk.corpus import stopwords\n",
    "from nltk.stem import PorterStemmer\n",
    "from nltk.stem.wordnet import WordNetLemmatizer\n",
    "\n",
    "from gensim.models import Word2Vec\n",
    "from gensim.models import KeyedVectors\n",
    "import pickle\n",
    "\n",
    "from tqdm import tqdm\n",
    "import os"
   ]
  },
  {
   "cell_type": "code",
   "execution_count": 8,
   "metadata": {
    "colab": {},
    "colab_type": "code",
    "id": "NZ4OSpSiLPl0",
    "outputId": "241c4c64-6186-4351-e38f-fcd06c6896dd"
   },
   "outputs": [
    {
     "name": "stdout",
     "output_type": "stream",
     "text": [
      "Number of data points in our data (500000, 10)\n"
     ]
    },
    {
     "data": {
      "text/html": [
       "<div>\n",
       "<style scoped>\n",
       "    .dataframe tbody tr th:only-of-type {\n",
       "        vertical-align: middle;\n",
       "    }\n",
       "\n",
       "    .dataframe tbody tr th {\n",
       "        vertical-align: top;\n",
       "    }\n",
       "\n",
       "    .dataframe thead th {\n",
       "        text-align: right;\n",
       "    }\n",
       "</style>\n",
       "<table border=\"1\" class=\"dataframe\">\n",
       "  <thead>\n",
       "    <tr style=\"text-align: right;\">\n",
       "      <th></th>\n",
       "      <th>Id</th>\n",
       "      <th>ProductId</th>\n",
       "      <th>UserId</th>\n",
       "      <th>ProfileName</th>\n",
       "      <th>HelpfulnessNumerator</th>\n",
       "      <th>HelpfulnessDenominator</th>\n",
       "      <th>Score</th>\n",
       "      <th>Time</th>\n",
       "      <th>Summary</th>\n",
       "      <th>Text</th>\n",
       "    </tr>\n",
       "  </thead>\n",
       "  <tbody>\n",
       "    <tr>\n",
       "      <th>0</th>\n",
       "      <td>1</td>\n",
       "      <td>B001E4KFG0</td>\n",
       "      <td>A3SGXH7AUHU8GW</td>\n",
       "      <td>delmartian</td>\n",
       "      <td>1</td>\n",
       "      <td>1</td>\n",
       "      <td>1</td>\n",
       "      <td>1303862400</td>\n",
       "      <td>Good Quality Dog Food</td>\n",
       "      <td>I have bought several of the Vitality canned d...</td>\n",
       "    </tr>\n",
       "    <tr>\n",
       "      <th>1</th>\n",
       "      <td>2</td>\n",
       "      <td>B00813GRG4</td>\n",
       "      <td>A1D87F6ZCVE5NK</td>\n",
       "      <td>dll pa</td>\n",
       "      <td>0</td>\n",
       "      <td>0</td>\n",
       "      <td>0</td>\n",
       "      <td>1346976000</td>\n",
       "      <td>Not as Advertised</td>\n",
       "      <td>Product arrived labeled as Jumbo Salted Peanut...</td>\n",
       "    </tr>\n",
       "    <tr>\n",
       "      <th>2</th>\n",
       "      <td>3</td>\n",
       "      <td>B000LQOCH0</td>\n",
       "      <td>ABXLMWJIXXAIN</td>\n",
       "      <td>Natalia Corres \"Natalia Corres\"</td>\n",
       "      <td>1</td>\n",
       "      <td>1</td>\n",
       "      <td>1</td>\n",
       "      <td>1219017600</td>\n",
       "      <td>\"Delight\" says it all</td>\n",
       "      <td>This is a confection that has been around a fe...</td>\n",
       "    </tr>\n",
       "  </tbody>\n",
       "</table>\n",
       "</div>"
      ],
      "text/plain": [
       "   Id   ProductId          UserId                      ProfileName  \\\n",
       "0   1  B001E4KFG0  A3SGXH7AUHU8GW                       delmartian   \n",
       "1   2  B00813GRG4  A1D87F6ZCVE5NK                           dll pa   \n",
       "2   3  B000LQOCH0   ABXLMWJIXXAIN  Natalia Corres \"Natalia Corres\"   \n",
       "\n",
       "   HelpfulnessNumerator  HelpfulnessDenominator  Score        Time  \\\n",
       "0                     1                       1      1  1303862400   \n",
       "1                     0                       0      0  1346976000   \n",
       "2                     1                       1      1  1219017600   \n",
       "\n",
       "                 Summary                                               Text  \n",
       "0  Good Quality Dog Food  I have bought several of the Vitality canned d...  \n",
       "1      Not as Advertised  Product arrived labeled as Jumbo Salted Peanut...  \n",
       "2  \"Delight\" says it all  This is a confection that has been around a fe...  "
      ]
     },
     "execution_count": 8,
     "metadata": {},
     "output_type": "execute_result"
    }
   ],
   "source": [
    "# using SQLite Table to read data.\n",
    "# db_path = '/home/monodeepdas112/Datasets/amazon-fine-food-reviews/database.sqlite'\n",
    "db_path = '/home/monodeepdas112/Datasets/AmazonFineFoodReviews/database.sqlite'\n",
    "con = sqlite3.connect(db_path) \n",
    "\n",
    "# filtering only positive and negative reviews i.e. \n",
    "# not taking into consideration those reviews with Score=3\n",
    "# SELECT * FROM Reviews WHERE Score != 3 LIMIT 500000, will give top 500000 data points\n",
    "# you can change the number to any other number based on your computing power\n",
    "\n",
    "# filtered_data = pd.read_sql_query(\"\"\" SELECT * FROM Reviews WHERE Score != 3 LIMIT 500000\"\"\", con) \n",
    "# for tsne assignment you can take 5k data points\n",
    "\n",
    "filtered_data = pd.read_sql_query(\"\"\" SELECT * FROM Reviews WHERE Score != 3 LIMIT 500000\"\"\", con) \n",
    "\n",
    "# Give reviews with Score>3 a positive rating(1), and reviews with a score<3 a negative rating(0).\n",
    "def partition(x):\n",
    "    if x < 3:\n",
    "        return 0\n",
    "    return 1\n",
    "\n",
    "#changing reviews with score less than 3 to be positive and vice-versa\n",
    "actualScore = filtered_data['Score']\n",
    "positiveNegative = actualScore.map(partition) \n",
    "filtered_data['Score'] = positiveNegative\n",
    "print(\"Number of data points in our data\", filtered_data.shape)\n",
    "filtered_data.head(3)"
   ]
  },
  {
   "cell_type": "code",
   "execution_count": 9,
   "metadata": {
    "colab": {},
    "colab_type": "code",
    "id": "r44Y4VDjLPl7"
   },
   "outputs": [],
   "source": [
    "display = pd.read_sql_query(\"\"\"\n",
    "SELECT UserId, ProductId, ProfileName, Time, Score, Text, COUNT(*)\n",
    "FROM Reviews\n",
    "GROUP BY UserId\n",
    "HAVING COUNT(*)>1\n",
    "\"\"\", con)"
   ]
  },
  {
   "cell_type": "code",
   "execution_count": 10,
   "metadata": {
    "colab": {},
    "colab_type": "code",
    "id": "tTwINQv1LPl_",
    "outputId": "0385b9ca-0a35-4c2b-b656-8e8494414e6f",
    "scrolled": true
   },
   "outputs": [
    {
     "name": "stdout",
     "output_type": "stream",
     "text": [
      "(80668, 7)\n"
     ]
    },
    {
     "data": {
      "text/html": [
       "<div>\n",
       "<style scoped>\n",
       "    .dataframe tbody tr th:only-of-type {\n",
       "        vertical-align: middle;\n",
       "    }\n",
       "\n",
       "    .dataframe tbody tr th {\n",
       "        vertical-align: top;\n",
       "    }\n",
       "\n",
       "    .dataframe thead th {\n",
       "        text-align: right;\n",
       "    }\n",
       "</style>\n",
       "<table border=\"1\" class=\"dataframe\">\n",
       "  <thead>\n",
       "    <tr style=\"text-align: right;\">\n",
       "      <th></th>\n",
       "      <th>UserId</th>\n",
       "      <th>ProductId</th>\n",
       "      <th>ProfileName</th>\n",
       "      <th>Time</th>\n",
       "      <th>Score</th>\n",
       "      <th>Text</th>\n",
       "      <th>COUNT(*)</th>\n",
       "    </tr>\n",
       "  </thead>\n",
       "  <tbody>\n",
       "    <tr>\n",
       "      <th>0</th>\n",
       "      <td>#oc-R115TNMSPFT9I7</td>\n",
       "      <td>B005ZBZLT4</td>\n",
       "      <td>Breyton</td>\n",
       "      <td>1331510400</td>\n",
       "      <td>2</td>\n",
       "      <td>Overall its just OK when considering the price...</td>\n",
       "      <td>2</td>\n",
       "    </tr>\n",
       "    <tr>\n",
       "      <th>1</th>\n",
       "      <td>#oc-R11D9D7SHXIJB9</td>\n",
       "      <td>B005HG9ESG</td>\n",
       "      <td>Louis E. Emory \"hoppy\"</td>\n",
       "      <td>1342396800</td>\n",
       "      <td>5</td>\n",
       "      <td>My wife has recurring extreme muscle spasms, u...</td>\n",
       "      <td>3</td>\n",
       "    </tr>\n",
       "    <tr>\n",
       "      <th>2</th>\n",
       "      <td>#oc-R11DNU2NBKQ23Z</td>\n",
       "      <td>B005ZBZLT4</td>\n",
       "      <td>Kim Cieszykowski</td>\n",
       "      <td>1348531200</td>\n",
       "      <td>1</td>\n",
       "      <td>This coffee is horrible and unfortunately not ...</td>\n",
       "      <td>2</td>\n",
       "    </tr>\n",
       "    <tr>\n",
       "      <th>3</th>\n",
       "      <td>#oc-R11O5J5ZVQE25C</td>\n",
       "      <td>B005HG9ESG</td>\n",
       "      <td>Penguin Chick</td>\n",
       "      <td>1346889600</td>\n",
       "      <td>5</td>\n",
       "      <td>This will be the bottle that you grab from the...</td>\n",
       "      <td>3</td>\n",
       "    </tr>\n",
       "    <tr>\n",
       "      <th>4</th>\n",
       "      <td>#oc-R12KPBODL2B5ZD</td>\n",
       "      <td>B007OSBEV0</td>\n",
       "      <td>Christopher P. Presta</td>\n",
       "      <td>1348617600</td>\n",
       "      <td>1</td>\n",
       "      <td>I didnt like this coffee. Instead of telling y...</td>\n",
       "      <td>2</td>\n",
       "    </tr>\n",
       "  </tbody>\n",
       "</table>\n",
       "</div>"
      ],
      "text/plain": [
       "               UserId   ProductId             ProfileName        Time  Score  \\\n",
       "0  #oc-R115TNMSPFT9I7  B005ZBZLT4                 Breyton  1331510400      2   \n",
       "1  #oc-R11D9D7SHXIJB9  B005HG9ESG  Louis E. Emory \"hoppy\"  1342396800      5   \n",
       "2  #oc-R11DNU2NBKQ23Z  B005ZBZLT4        Kim Cieszykowski  1348531200      1   \n",
       "3  #oc-R11O5J5ZVQE25C  B005HG9ESG           Penguin Chick  1346889600      5   \n",
       "4  #oc-R12KPBODL2B5ZD  B007OSBEV0   Christopher P. Presta  1348617600      1   \n",
       "\n",
       "                                                Text  COUNT(*)  \n",
       "0  Overall its just OK when considering the price...         2  \n",
       "1  My wife has recurring extreme muscle spasms, u...         3  \n",
       "2  This coffee is horrible and unfortunately not ...         2  \n",
       "3  This will be the bottle that you grab from the...         3  \n",
       "4  I didnt like this coffee. Instead of telling y...         2  "
      ]
     },
     "execution_count": 10,
     "metadata": {},
     "output_type": "execute_result"
    }
   ],
   "source": [
    "print(display.shape)\n",
    "display.head()"
   ]
  },
  {
   "cell_type": "code",
   "execution_count": 11,
   "metadata": {
    "colab": {},
    "colab_type": "code",
    "id": "EOslHQgnLPmF",
    "outputId": "cb28598d-470a-42bb-e742-4763f953c8cb"
   },
   "outputs": [
    {
     "data": {
      "text/html": [
       "<div>\n",
       "<style scoped>\n",
       "    .dataframe tbody tr th:only-of-type {\n",
       "        vertical-align: middle;\n",
       "    }\n",
       "\n",
       "    .dataframe tbody tr th {\n",
       "        vertical-align: top;\n",
       "    }\n",
       "\n",
       "    .dataframe thead th {\n",
       "        text-align: right;\n",
       "    }\n",
       "</style>\n",
       "<table border=\"1\" class=\"dataframe\">\n",
       "  <thead>\n",
       "    <tr style=\"text-align: right;\">\n",
       "      <th></th>\n",
       "      <th>UserId</th>\n",
       "      <th>ProductId</th>\n",
       "      <th>ProfileName</th>\n",
       "      <th>Time</th>\n",
       "      <th>Score</th>\n",
       "      <th>Text</th>\n",
       "      <th>COUNT(*)</th>\n",
       "    </tr>\n",
       "  </thead>\n",
       "  <tbody>\n",
       "    <tr>\n",
       "      <th>80638</th>\n",
       "      <td>AZY10LLTJ71NX</td>\n",
       "      <td>B001ATMQK2</td>\n",
       "      <td>undertheshrine \"undertheshrine\"</td>\n",
       "      <td>1296691200</td>\n",
       "      <td>5</td>\n",
       "      <td>I bought this 6 pack because for the price tha...</td>\n",
       "      <td>5</td>\n",
       "    </tr>\n",
       "  </tbody>\n",
       "</table>\n",
       "</div>"
      ],
      "text/plain": [
       "              UserId   ProductId                      ProfileName        Time  \\\n",
       "80638  AZY10LLTJ71NX  B001ATMQK2  undertheshrine \"undertheshrine\"  1296691200   \n",
       "\n",
       "       Score                                               Text  COUNT(*)  \n",
       "80638      5  I bought this 6 pack because for the price tha...         5  "
      ]
     },
     "execution_count": 11,
     "metadata": {},
     "output_type": "execute_result"
    }
   ],
   "source": [
    "display[display['UserId']=='AZY10LLTJ71NX']"
   ]
  },
  {
   "cell_type": "code",
   "execution_count": 12,
   "metadata": {
    "colab": {},
    "colab_type": "code",
    "id": "pSwF4sdoLPmM",
    "outputId": "2f3bd7f2-0eea-45f7-eab6-bf08c630d9a3"
   },
   "outputs": [
    {
     "data": {
      "text/plain": [
       "393063"
      ]
     },
     "execution_count": 12,
     "metadata": {},
     "output_type": "execute_result"
    }
   ],
   "source": [
    "display['COUNT(*)'].sum()"
   ]
  },
  {
   "cell_type": "markdown",
   "metadata": {
    "colab_type": "text",
    "id": "PuNkhjz0LPmQ"
   },
   "source": [
    "#  [2] Exploratory Data Analysis"
   ]
  },
  {
   "cell_type": "markdown",
   "metadata": {
    "colab_type": "text",
    "id": "oCJaTWrTLPmS"
   },
   "source": [
    "## [2.1] Data Cleaning: Deduplication\n",
    "\n",
    "It is observed (as shown in the table below) that the reviews data had many duplicate entries. Hence it was necessary to remove duplicates in order to get unbiased results for the analysis of the data.  Following is an example:"
   ]
  },
  {
   "cell_type": "code",
   "execution_count": 13,
   "metadata": {
    "colab": {},
    "colab_type": "code",
    "id": "3lvzRwWVLPmT",
    "outputId": "96ba6f90-6c40-4972-ecd2-d2d208e48877",
    "scrolled": false
   },
   "outputs": [
    {
     "data": {
      "text/html": [
       "<div>\n",
       "<style scoped>\n",
       "    .dataframe tbody tr th:only-of-type {\n",
       "        vertical-align: middle;\n",
       "    }\n",
       "\n",
       "    .dataframe tbody tr th {\n",
       "        vertical-align: top;\n",
       "    }\n",
       "\n",
       "    .dataframe thead th {\n",
       "        text-align: right;\n",
       "    }\n",
       "</style>\n",
       "<table border=\"1\" class=\"dataframe\">\n",
       "  <thead>\n",
       "    <tr style=\"text-align: right;\">\n",
       "      <th></th>\n",
       "      <th>Id</th>\n",
       "      <th>ProductId</th>\n",
       "      <th>UserId</th>\n",
       "      <th>ProfileName</th>\n",
       "      <th>HelpfulnessNumerator</th>\n",
       "      <th>HelpfulnessDenominator</th>\n",
       "      <th>Score</th>\n",
       "      <th>Time</th>\n",
       "      <th>Summary</th>\n",
       "      <th>Text</th>\n",
       "    </tr>\n",
       "  </thead>\n",
       "  <tbody>\n",
       "    <tr>\n",
       "      <th>0</th>\n",
       "      <td>78445</td>\n",
       "      <td>B000HDL1RQ</td>\n",
       "      <td>AR5J8UI46CURR</td>\n",
       "      <td>Geetha Krishnan</td>\n",
       "      <td>2</td>\n",
       "      <td>2</td>\n",
       "      <td>5</td>\n",
       "      <td>1199577600</td>\n",
       "      <td>LOACKER QUADRATINI VANILLA WAFERS</td>\n",
       "      <td>DELICIOUS WAFERS. I FIND THAT EUROPEAN WAFERS ...</td>\n",
       "    </tr>\n",
       "    <tr>\n",
       "      <th>1</th>\n",
       "      <td>138317</td>\n",
       "      <td>B000HDOPYC</td>\n",
       "      <td>AR5J8UI46CURR</td>\n",
       "      <td>Geetha Krishnan</td>\n",
       "      <td>2</td>\n",
       "      <td>2</td>\n",
       "      <td>5</td>\n",
       "      <td>1199577600</td>\n",
       "      <td>LOACKER QUADRATINI VANILLA WAFERS</td>\n",
       "      <td>DELICIOUS WAFERS. I FIND THAT EUROPEAN WAFERS ...</td>\n",
       "    </tr>\n",
       "    <tr>\n",
       "      <th>2</th>\n",
       "      <td>138277</td>\n",
       "      <td>B000HDOPYM</td>\n",
       "      <td>AR5J8UI46CURR</td>\n",
       "      <td>Geetha Krishnan</td>\n",
       "      <td>2</td>\n",
       "      <td>2</td>\n",
       "      <td>5</td>\n",
       "      <td>1199577600</td>\n",
       "      <td>LOACKER QUADRATINI VANILLA WAFERS</td>\n",
       "      <td>DELICIOUS WAFERS. I FIND THAT EUROPEAN WAFERS ...</td>\n",
       "    </tr>\n",
       "    <tr>\n",
       "      <th>3</th>\n",
       "      <td>73791</td>\n",
       "      <td>B000HDOPZG</td>\n",
       "      <td>AR5J8UI46CURR</td>\n",
       "      <td>Geetha Krishnan</td>\n",
       "      <td>2</td>\n",
       "      <td>2</td>\n",
       "      <td>5</td>\n",
       "      <td>1199577600</td>\n",
       "      <td>LOACKER QUADRATINI VANILLA WAFERS</td>\n",
       "      <td>DELICIOUS WAFERS. I FIND THAT EUROPEAN WAFERS ...</td>\n",
       "    </tr>\n",
       "    <tr>\n",
       "      <th>4</th>\n",
       "      <td>155049</td>\n",
       "      <td>B000PAQ75C</td>\n",
       "      <td>AR5J8UI46CURR</td>\n",
       "      <td>Geetha Krishnan</td>\n",
       "      <td>2</td>\n",
       "      <td>2</td>\n",
       "      <td>5</td>\n",
       "      <td>1199577600</td>\n",
       "      <td>LOACKER QUADRATINI VANILLA WAFERS</td>\n",
       "      <td>DELICIOUS WAFERS. I FIND THAT EUROPEAN WAFERS ...</td>\n",
       "    </tr>\n",
       "  </tbody>\n",
       "</table>\n",
       "</div>"
      ],
      "text/plain": [
       "       Id   ProductId         UserId      ProfileName  HelpfulnessNumerator  \\\n",
       "0   78445  B000HDL1RQ  AR5J8UI46CURR  Geetha Krishnan                     2   \n",
       "1  138317  B000HDOPYC  AR5J8UI46CURR  Geetha Krishnan                     2   \n",
       "2  138277  B000HDOPYM  AR5J8UI46CURR  Geetha Krishnan                     2   \n",
       "3   73791  B000HDOPZG  AR5J8UI46CURR  Geetha Krishnan                     2   \n",
       "4  155049  B000PAQ75C  AR5J8UI46CURR  Geetha Krishnan                     2   \n",
       "\n",
       "   HelpfulnessDenominator  Score        Time  \\\n",
       "0                       2      5  1199577600   \n",
       "1                       2      5  1199577600   \n",
       "2                       2      5  1199577600   \n",
       "3                       2      5  1199577600   \n",
       "4                       2      5  1199577600   \n",
       "\n",
       "                             Summary  \\\n",
       "0  LOACKER QUADRATINI VANILLA WAFERS   \n",
       "1  LOACKER QUADRATINI VANILLA WAFERS   \n",
       "2  LOACKER QUADRATINI VANILLA WAFERS   \n",
       "3  LOACKER QUADRATINI VANILLA WAFERS   \n",
       "4  LOACKER QUADRATINI VANILLA WAFERS   \n",
       "\n",
       "                                                Text  \n",
       "0  DELICIOUS WAFERS. I FIND THAT EUROPEAN WAFERS ...  \n",
       "1  DELICIOUS WAFERS. I FIND THAT EUROPEAN WAFERS ...  \n",
       "2  DELICIOUS WAFERS. I FIND THAT EUROPEAN WAFERS ...  \n",
       "3  DELICIOUS WAFERS. I FIND THAT EUROPEAN WAFERS ...  \n",
       "4  DELICIOUS WAFERS. I FIND THAT EUROPEAN WAFERS ...  "
      ]
     },
     "execution_count": 13,
     "metadata": {},
     "output_type": "execute_result"
    }
   ],
   "source": [
    "display= pd.read_sql_query(\"\"\"\n",
    "SELECT *\n",
    "FROM Reviews\n",
    "WHERE Score != 3 AND UserId=\"AR5J8UI46CURR\"\n",
    "ORDER BY ProductID\n",
    "\"\"\", con)\n",
    "display.head()"
   ]
  },
  {
   "cell_type": "markdown",
   "metadata": {
    "colab_type": "text",
    "id": "uT7p9_deLPmb"
   },
   "source": [
    "As it can be seen above that same user has multiple reviews with same values for HelpfulnessNumerator, HelpfulnessDenominator, Score, Time, Summary and Text and on doing analysis it was found that <br>\n",
    "<br> \n",
    "ProductId=B000HDOPZG was Loacker Quadratini Vanilla Wafer Cookies, 8.82-Ounce Packages (Pack of 8)<br>\n",
    "<br> \n",
    "ProductId=B000HDL1RQ was Loacker Quadratini Lemon Wafer Cookies, 8.82-Ounce Packages (Pack of 8) and so on<br>\n",
    "\n",
    "It was inferred after analysis that reviews with same parameters other than ProductId belonged to the same product just having different flavour or quantity. Hence in order to reduce redundancy it was decided to eliminate the rows having same parameters.<br>\n",
    "\n",
    "The method used for the same was that we first sort the data according to ProductId and then just keep the first similar product review and delelte the others. for eg. in the above just the review for ProductId=B000HDL1RQ remains. This method ensures that there is only one representative for each product and deduplication without sorting would lead to possibility of different representatives still existing for the same product."
   ]
  },
  {
   "cell_type": "code",
   "execution_count": 14,
   "metadata": {
    "colab": {},
    "colab_type": "code",
    "id": "mdsKFc50LPme"
   },
   "outputs": [],
   "source": [
    "#Sorting data according to ProductId in ascending order\n",
    "sorted_data=filtered_data.sort_values('ProductId', axis=0, ascending=True, inplace=False, kind='quicksort', na_position='last')"
   ]
  },
  {
   "cell_type": "code",
   "execution_count": 15,
   "metadata": {
    "colab": {},
    "colab_type": "code",
    "id": "2itLgX-NLPmk",
    "outputId": "ac765625-dfdc-4e4e-f886-bd3b7ca3635a"
   },
   "outputs": [
    {
     "data": {
      "text/plain": [
       "(348262, 10)"
      ]
     },
     "execution_count": 15,
     "metadata": {},
     "output_type": "execute_result"
    }
   ],
   "source": [
    "#Deduplication of entries\n",
    "final=sorted_data.drop_duplicates(subset={\"UserId\",\"ProfileName\",\"Time\",\"Text\"}, keep='first', inplace=False)\n",
    "final.shape"
   ]
  },
  {
   "cell_type": "code",
   "execution_count": 16,
   "metadata": {
    "colab": {},
    "colab_type": "code",
    "id": "IBU4iZk4LPmt",
    "outputId": "ceeba223-fe3f-407a-b4e5-0d46c08f69dd"
   },
   "outputs": [
    {
     "data": {
      "text/plain": [
       "69.6524"
      ]
     },
     "execution_count": 16,
     "metadata": {},
     "output_type": "execute_result"
    }
   ],
   "source": [
    "#Checking to see how much % of data still remains\n",
    "(final['Id'].size*1.0)/(filtered_data['Id'].size*1.0)*100"
   ]
  },
  {
   "cell_type": "markdown",
   "metadata": {
    "colab_type": "text",
    "id": "gFBOfSe4LPmy"
   },
   "source": [
    "<b>Observation:-</b> It was also seen that in two rows given below the value of HelpfulnessNumerator is greater than HelpfulnessDenominator which is not practically possible hence these two rows too are removed from calcualtions"
   ]
  },
  {
   "cell_type": "code",
   "execution_count": 17,
   "metadata": {
    "colab": {},
    "colab_type": "code",
    "id": "50flE40lLPmz",
    "outputId": "b6c7e38e-25c1-4a48-be1f-70fdf31aba13"
   },
   "outputs": [
    {
     "data": {
      "text/html": [
       "<div>\n",
       "<style scoped>\n",
       "    .dataframe tbody tr th:only-of-type {\n",
       "        vertical-align: middle;\n",
       "    }\n",
       "\n",
       "    .dataframe tbody tr th {\n",
       "        vertical-align: top;\n",
       "    }\n",
       "\n",
       "    .dataframe thead th {\n",
       "        text-align: right;\n",
       "    }\n",
       "</style>\n",
       "<table border=\"1\" class=\"dataframe\">\n",
       "  <thead>\n",
       "    <tr style=\"text-align: right;\">\n",
       "      <th></th>\n",
       "      <th>Id</th>\n",
       "      <th>ProductId</th>\n",
       "      <th>UserId</th>\n",
       "      <th>ProfileName</th>\n",
       "      <th>HelpfulnessNumerator</th>\n",
       "      <th>HelpfulnessDenominator</th>\n",
       "      <th>Score</th>\n",
       "      <th>Time</th>\n",
       "      <th>Summary</th>\n",
       "      <th>Text</th>\n",
       "    </tr>\n",
       "  </thead>\n",
       "  <tbody>\n",
       "    <tr>\n",
       "      <th>0</th>\n",
       "      <td>64422</td>\n",
       "      <td>B000MIDROQ</td>\n",
       "      <td>A161DK06JJMCYF</td>\n",
       "      <td>J. E. Stephens \"Jeanne\"</td>\n",
       "      <td>3</td>\n",
       "      <td>1</td>\n",
       "      <td>5</td>\n",
       "      <td>1224892800</td>\n",
       "      <td>Bought This for My Son at College</td>\n",
       "      <td>My son loves spaghetti so I didn't hesitate or...</td>\n",
       "    </tr>\n",
       "    <tr>\n",
       "      <th>1</th>\n",
       "      <td>44737</td>\n",
       "      <td>B001EQ55RW</td>\n",
       "      <td>A2V0I904FH7ABY</td>\n",
       "      <td>Ram</td>\n",
       "      <td>3</td>\n",
       "      <td>2</td>\n",
       "      <td>4</td>\n",
       "      <td>1212883200</td>\n",
       "      <td>Pure cocoa taste with crunchy almonds inside</td>\n",
       "      <td>It was almost a 'love at first bite' - the per...</td>\n",
       "    </tr>\n",
       "  </tbody>\n",
       "</table>\n",
       "</div>"
      ],
      "text/plain": [
       "      Id   ProductId          UserId              ProfileName  \\\n",
       "0  64422  B000MIDROQ  A161DK06JJMCYF  J. E. Stephens \"Jeanne\"   \n",
       "1  44737  B001EQ55RW  A2V0I904FH7ABY                      Ram   \n",
       "\n",
       "   HelpfulnessNumerator  HelpfulnessDenominator  Score        Time  \\\n",
       "0                     3                       1      5  1224892800   \n",
       "1                     3                       2      4  1212883200   \n",
       "\n",
       "                                        Summary  \\\n",
       "0             Bought This for My Son at College   \n",
       "1  Pure cocoa taste with crunchy almonds inside   \n",
       "\n",
       "                                                Text  \n",
       "0  My son loves spaghetti so I didn't hesitate or...  \n",
       "1  It was almost a 'love at first bite' - the per...  "
      ]
     },
     "execution_count": 17,
     "metadata": {},
     "output_type": "execute_result"
    }
   ],
   "source": [
    "display= pd.read_sql_query(\"\"\"\n",
    "SELECT *\n",
    "FROM Reviews\n",
    "WHERE Score != 3 AND Id=44737 OR Id=64422\n",
    "ORDER BY ProductID\n",
    "\"\"\", con)\n",
    "\n",
    "display.head()"
   ]
  },
  {
   "cell_type": "code",
   "execution_count": 18,
   "metadata": {
    "colab": {},
    "colab_type": "code",
    "id": "0YTPJMLTLPm7"
   },
   "outputs": [],
   "source": [
    "final=final[final.HelpfulnessNumerator<=final.HelpfulnessDenominator]"
   ]
  },
  {
   "cell_type": "code",
   "execution_count": 19,
   "metadata": {
    "colab": {},
    "colab_type": "code",
    "id": "LVJ_l-x2LPnC",
    "outputId": "d4a19c7a-16fe-4b5b-c3d1-aa1ef0f948a0"
   },
   "outputs": [
    {
     "name": "stdout",
     "output_type": "stream",
     "text": [
      "(348260, 10)\n"
     ]
    },
    {
     "data": {
      "text/plain": [
       "1    293516\n",
       "0     54744\n",
       "Name: Score, dtype: int64"
      ]
     },
     "execution_count": 19,
     "metadata": {},
     "output_type": "execute_result"
    }
   ],
   "source": [
    "#Before starting the next phase of preprocessing lets see the number of entries left\n",
    "print(final.shape)\n",
    "\n",
    "#How many positive and negative reviews are present in our dataset?\n",
    "final['Score'].value_counts()"
   ]
  },
  {
   "cell_type": "markdown",
   "metadata": {
    "colab_type": "text",
    "id": "GrTYWzYrLPnH"
   },
   "source": [
    "#  [3] Preprocessing"
   ]
  },
  {
   "cell_type": "markdown",
   "metadata": {
    "colab_type": "text",
    "id": "zbvLitZeLPnI"
   },
   "source": [
    "## [3.1].  Preprocessing Review Text\n",
    "\n",
    "Now that we have finished deduplication our data requires some preprocessing before we go on further with analysis and making the prediction model.\n",
    "\n",
    "Hence in the Preprocessing phase we do the following in the order below:-\n",
    "\n",
    "1. Begin by removing the html tags\n",
    "2. Remove any punctuations or limited set of special characters like , or . or # etc.\n",
    "3. Check if the word is made up of english letters and is not alpha-numeric\n",
    "4. Check to see if the length of the word is greater than 2 (as it was researched that there is no adjective in 2-letters)\n",
    "5. Convert the word to lowercase\n",
    "6. Remove Stopwords\n",
    "7. Finally Snowball Stemming the word (it was obsereved to be better than Porter Stemming)<br>\n",
    "\n",
    "After which we collect the words used to describe positive and negative reviews"
   ]
  },
  {
   "cell_type": "code",
   "execution_count": 20,
   "metadata": {
    "colab": {},
    "colab_type": "code",
    "id": "yYDc0ZXALPnK",
    "outputId": "5403fab9-796a-493d-f9d3-2a410d004f64"
   },
   "outputs": [
    {
     "name": "stdout",
     "output_type": "stream",
     "text": [
      "This book was purchased as a birthday gift for a 4 year old boy. He squealed with delight and hugged it when told it was his to keep and he did not have to return it to the library.\n",
      "==================================================\n",
      "I've purchased both the Espressione Espresso (classic) and the 100% Arabica.  My vote is definitely with the 100% Arabica.  The flavor has more bite and flavor (much more like European coffee than American).\n",
      "==================================================\n",
      "This is a great product. It is very healthy for all of our dogs, and it is the first food that they all love to eat. It helped my older dog lose weight and my 10 year old lab gain the weight he needed to be healthy.\n",
      "==================================================\n",
      "I find everything I need at Amazon so I always look there first. Chocolate tennis balls for a tennis party, perfect! They were the size of malted milk balls. Unfortunately, they arrived 3 days after the party. The caveat here is, not everything from Amazon may arrive at an impressive 2 or 3 days. This shipment took 8 days from the Candy/Cosmetic Depot back east to southern California.\n",
      "==================================================\n"
     ]
    }
   ],
   "source": [
    "# printing some random reviews\n",
    "sent_0 = final['Text'].values[0]\n",
    "print(sent_0)\n",
    "print(\"=\"*50)\n",
    "\n",
    "sent_1000 = final['Text'].values[1000]\n",
    "print(sent_1000)\n",
    "print(\"=\"*50)\n",
    "\n",
    "sent_1500 = final['Text'].values[1500]\n",
    "print(sent_1500)\n",
    "print(\"=\"*50)\n",
    "\n",
    "sent_4900 = final['Text'].values[4900]\n",
    "print(sent_4900)\n",
    "print(\"=\"*50)"
   ]
  },
  {
   "cell_type": "code",
   "execution_count": 21,
   "metadata": {
    "colab": {},
    "colab_type": "code",
    "id": "AxYh-wPiLPnS",
    "outputId": "31bddcb2-6c52-4b16-f9fb-c03d5b3bb7c8"
   },
   "outputs": [
    {
     "name": "stdout",
     "output_type": "stream",
     "text": [
      "This book was purchased as a birthday gift for a 4 year old boy. He squealed with delight and hugged it when told it was his to keep and he did not have to return it to the library.\n"
     ]
    }
   ],
   "source": [
    "# remove urls from text python: https://stackoverflow.com/a/40823105/4084039\n",
    "sent_0 = re.sub(r\"http\\S+\", \"\", sent_0)\n",
    "sent_1000 = re.sub(r\"http\\S+\", \"\", sent_1000)\n",
    "sent_150 = re.sub(r\"http\\S+\", \"\", sent_1500)\n",
    "sent_4900 = re.sub(r\"http\\S+\", \"\", sent_4900)\n",
    "\n",
    "print(sent_0)"
   ]
  },
  {
   "cell_type": "code",
   "execution_count": 22,
   "metadata": {
    "colab": {},
    "colab_type": "code",
    "id": "JMSSWjZqLPne",
    "outputId": "eb1bae4e-6f37-45ee-84a3-ef3bebf4e30a"
   },
   "outputs": [
    {
     "name": "stdout",
     "output_type": "stream",
     "text": [
      "This book was purchased as a birthday gift for a 4 year old boy. He squealed with delight and hugged it when told it was his to keep and he did not have to return it to the library.\n",
      "==================================================\n",
      "I've purchased both the Espressione Espresso (classic) and the 100% Arabica.  My vote is definitely with the 100% Arabica.  The flavor has more bite and flavor (much more like European coffee than American).\n",
      "==================================================\n",
      "This is a great product. It is very healthy for all of our dogs, and it is the first food that they all love to eat. It helped my older dog lose weight and my 10 year old lab gain the weight he needed to be healthy.\n",
      "==================================================\n",
      "I find everything I need at Amazon so I always look there first. Chocolate tennis balls for a tennis party, perfect! They were the size of malted milk balls. Unfortunately, they arrived 3 days after the party. The caveat here is, not everything from Amazon may arrive at an impressive 2 or 3 days. This shipment took 8 days from the Candy/Cosmetic Depot back east to southern California.\n"
     ]
    }
   ],
   "source": [
    "# https://stackoverflow.com/questions/16206380/python-beautifulsoup-how-to-remove-all-tags-from-an-element\n",
    "from bs4 import BeautifulSoup\n",
    "\n",
    "soup = BeautifulSoup(sent_0, 'lxml')\n",
    "text = soup.get_text()\n",
    "print(text)\n",
    "print(\"=\"*50)\n",
    "\n",
    "soup = BeautifulSoup(sent_1000, 'lxml')\n",
    "text = soup.get_text()\n",
    "print(text)\n",
    "print(\"=\"*50)\n",
    "\n",
    "soup = BeautifulSoup(sent_1500, 'lxml')\n",
    "text = soup.get_text()\n",
    "print(text)\n",
    "print(\"=\"*50)\n",
    "\n",
    "soup = BeautifulSoup(sent_4900, 'lxml')\n",
    "text = soup.get_text()\n",
    "print(text)"
   ]
  },
  {
   "cell_type": "code",
   "execution_count": 23,
   "metadata": {
    "colab": {},
    "colab_type": "code",
    "id": "BEtpMkhULPnt"
   },
   "outputs": [],
   "source": [
    "# https://stackoverflow.com/a/47091490/4084039\n",
    "import re\n",
    "\n",
    "def decontracted(phrase):\n",
    "    # specific\n",
    "    phrase = re.sub(r\"won't\", \"will not\", phrase)\n",
    "    phrase = re.sub(r\"can\\'t\", \"can not\", phrase)\n",
    "\n",
    "    # general\n",
    "    phrase = re.sub(r\"n\\'t\", \" not\", phrase)\n",
    "    phrase = re.sub(r\"\\'re\", \" are\", phrase)\n",
    "    phrase = re.sub(r\"\\'s\", \" is\", phrase)\n",
    "    phrase = re.sub(r\"\\'d\", \" would\", phrase)\n",
    "    phrase = re.sub(r\"\\'ll\", \" will\", phrase)\n",
    "    phrase = re.sub(r\"\\'t\", \" not\", phrase)\n",
    "    phrase = re.sub(r\"\\'ve\", \" have\", phrase)\n",
    "    phrase = re.sub(r\"\\'m\", \" am\", phrase)\n",
    "    return phrase"
   ]
  },
  {
   "cell_type": "code",
   "execution_count": 24,
   "metadata": {
    "colab": {},
    "colab_type": "code",
    "id": "GavAnzNjLPnx",
    "outputId": "517fca9a-b1b6-4c6c-ab33-4c5ac4a5bd62"
   },
   "outputs": [
    {
     "name": "stdout",
     "output_type": "stream",
     "text": [
      "This is a great product. It is very healthy for all of our dogs, and it is the first food that they all love to eat. It helped my older dog lose weight and my 10 year old lab gain the weight he needed to be healthy.\n",
      "==================================================\n"
     ]
    }
   ],
   "source": [
    "sent_1500 = decontracted(sent_1500)\n",
    "print(sent_1500)\n",
    "print(\"=\"*50)"
   ]
  },
  {
   "cell_type": "code",
   "execution_count": 25,
   "metadata": {
    "colab": {},
    "colab_type": "code",
    "id": "Kl8nOoL-LPn3",
    "outputId": "16742d57-2529-4fc0-9d28-e9332dbbca97"
   },
   "outputs": [
    {
     "name": "stdout",
     "output_type": "stream",
     "text": [
      "This book was purchased as a birthday gift for a  year old boy. He squealed with delight and hugged it when told it was his to keep and he did not have to return it to the library.\n"
     ]
    }
   ],
   "source": [
    "#remove words with numbers python: https://stackoverflow.com/a/18082370/4084039\n",
    "sent_0 = re.sub(\"\\S*\\d\\S*\", \"\", sent_0).strip()\n",
    "print(sent_0)"
   ]
  },
  {
   "cell_type": "code",
   "execution_count": 26,
   "metadata": {
    "colab": {},
    "colab_type": "code",
    "id": "EGB6X2uxLPn7",
    "outputId": "dbd754e5-eb73-4b3a-f3c3-7b1b40952851"
   },
   "outputs": [
    {
     "name": "stdout",
     "output_type": "stream",
     "text": [
      "This is a great product It is very healthy for all of our dogs and it is the first food that they all love to eat It helped my older dog lose weight and my 10 year old lab gain the weight he needed to be healthy \n"
     ]
    }
   ],
   "source": [
    "#remove spacial character: https://stackoverflow.com/a/5843547/4084039\n",
    "sent_1500 = re.sub('[^A-Za-z0-9]+', ' ', sent_1500)\n",
    "print(sent_1500)"
   ]
  },
  {
   "cell_type": "code",
   "execution_count": 27,
   "metadata": {
    "colab": {},
    "colab_type": "code",
    "id": "CCurSJJ2LPn_"
   },
   "outputs": [],
   "source": [
    "# https://gist.github.com/sebleier/554280\n",
    "# we are removing the words from the stop words list: 'no', 'nor', 'not'\n",
    "# <br /><br /> ==> after the above steps, we are getting \"br br\"\n",
    "# we are including them into stop words list\n",
    "# instead of <br /> if we have <br/> these tags would have revmoved in the 1st step\n",
    "\n",
    "stopwords= set(['br', 'the', 'i', 'me', 'my', 'myself', 'we', 'our', 'ours', 'ourselves', 'you', \"you're\", \"you've\",\\\n",
    "            \"you'll\", \"you'd\", 'your', 'yours', 'yourself', 'yourselves', 'he', 'him', 'his', 'himself', \\\n",
    "            'she', \"she's\", 'her', 'hers', 'herself', 'it', \"it's\", 'its', 'itself', 'they', 'them', 'their',\\\n",
    "            'theirs', 'themselves', 'what', 'which', 'who', 'whom', 'this', 'that', \"that'll\", 'these', 'those', \\\n",
    "            'am', 'is', 'are', 'was', 'were', 'be', 'been', 'being', 'have', 'has', 'had', 'having', 'do', 'does', \\\n",
    "            'did', 'doing', 'a', 'an', 'the', 'and', 'but', 'if', 'or', 'because', 'as', 'until', 'while', 'of', \\\n",
    "            'at', 'by', 'for', 'with', 'about', 'against', 'between', 'into', 'through', 'during', 'before', 'after',\\\n",
    "            'above', 'below', 'to', 'from', 'up', 'down', 'in', 'out', 'on', 'off', 'over', 'under', 'again', 'further',\\\n",
    "            'then', 'once', 'here', 'there', 'when', 'where', 'why', 'how', 'all', 'any', 'both', 'each', 'few', 'more',\\\n",
    "            'most', 'other', 'some', 'such', 'only', 'own', 'same', 'so', 'than', 'too', 'very', \\\n",
    "            's', 't', 'can', 'will', 'just', 'don', \"don't\", 'should', \"should've\", 'now', 'd', 'll', 'm', 'o', 're', \\\n",
    "            've', 'y', 'ain', 'aren', \"aren't\", 'couldn', \"couldn't\", 'didn', \"didn't\", 'doesn', \"doesn't\", 'hadn',\\\n",
    "            \"hadn't\", 'hasn', \"hasn't\", 'haven', \"haven't\", 'isn', \"isn't\", 'ma', 'mightn', \"mightn't\", 'mustn',\\\n",
    "            \"mustn't\", 'needn', \"needn't\", 'shan', \"shan't\", 'shouldn', \"shouldn't\", 'wasn', \"wasn't\", 'weren', \"weren't\", \\\n",
    "            'won', \"won't\", 'wouldn', \"wouldn't\"])"
   ]
  },
  {
   "cell_type": "code",
   "execution_count": 28,
   "metadata": {
    "colab": {},
    "colab_type": "code",
    "id": "mFHQEvfnLPoF",
    "outputId": "5cd6bcc3-54fe-4a8e-a39d-d6dabf3f37f9"
   },
   "outputs": [
    {
     "name": "stderr",
     "output_type": "stream",
     "text": [
      "100%|██████████| 348260/348260 [01:48<00:00, 3215.63it/s]\n"
     ]
    }
   ],
   "source": [
    "# Combining all the above stundents \n",
    "from tqdm import tqdm\n",
    "preprocessed_reviews = []\n",
    "# tqdm is for printing the status bar\n",
    "for sentance in tqdm(final['Text'].values):\n",
    "    sentance = re.sub(r\"http\\S+\", \"\", sentance)\n",
    "    sentance = BeautifulSoup(sentance, 'lxml').get_text()\n",
    "    sentance = decontracted(sentance)\n",
    "    sentance = re.sub(\"\\S*\\d\\S*\", \"\", sentance).strip()\n",
    "    sentance = re.sub('[^A-Za-z]+', ' ', sentance)\n",
    "    # https://gist.github.com/sebleier/554280\n",
    "    sentance = ' '.join(e.lower() for e in sentance.split() if e.lower() not in stopwords)\n",
    "    preprocessed_reviews.append(sentance.strip())"
   ]
  },
  {
   "cell_type": "code",
   "execution_count": 29,
   "metadata": {
    "colab": {},
    "colab_type": "code",
    "id": "Tqx8QUeRLPoH",
    "outputId": "0182081c-6282-4113-b186-5b5bac596388"
   },
   "outputs": [
    {
     "data": {
      "text/plain": [
       "'great product healthy dogs first food love eat helped older dog lose weight year old lab gain weight needed healthy'"
      ]
     },
     "execution_count": 29,
     "metadata": {},
     "output_type": "execute_result"
    }
   ],
   "source": [
    "preprocessed_reviews[1500]"
   ]
  },
  {
   "cell_type": "markdown",
   "metadata": {
    "colab_type": "text",
    "id": "9IuKp2HULPoL"
   },
   "source": [
    "<h2><font color='red'>[3.2] Preprocessing Review Summary</font></h2>"
   ]
  },
  {
   "cell_type": "code",
   "execution_count": 30,
   "metadata": {
    "colab": {},
    "colab_type": "code",
    "id": "Qk7gYOmKLPoM"
   },
   "outputs": [],
   "source": [
    "# ## Similartly you can do preprocessing for review summary also.\n",
    "# # Combining all the above stundents \n",
    "# from tqdm import tqdm\n",
    "# preprocessed_summary = []\n",
    "# # tqdm is for printing the status bar\n",
    "# for sentance in tqdm(final['Summary'].values):\n",
    "#     sentance = re.sub(r\"http\\S+\", \"\", sentance)\n",
    "#     sentance = BeautifulSoup(sentance, 'lxml').get_text()\n",
    "#     sentance = decontracted(sentance)\n",
    "#     sentance = re.sub(\"\\S*\\d\\S*\", \"\", sentance).strip()\n",
    "#     sentance = re.sub('[^A-Za-z]+', ' ', sentance)\n",
    "#     # https://gist.github.com/sebleier/554280\n",
    "#     sentance = ' '.join(e.lower() for e in sentance.split() if e.lower() not in stopwords)\n",
    "#     preprocessed_summary.append(sentance.strip())"
   ]
  },
  {
   "cell_type": "markdown",
   "metadata": {
    "colab_type": "text",
    "id": "B93jqKuhLPoQ"
   },
   "source": [
    "# [4] Featurization"
   ]
  },
  {
   "cell_type": "markdown",
   "metadata": {
    "colab_type": "text",
    "id": "Mr4j2QhgLPoQ"
   },
   "source": [
    "## [4.1] BAG OF WORDS"
   ]
  },
  {
   "cell_type": "code",
   "execution_count": 31,
   "metadata": {
    "colab": {},
    "colab_type": "code",
    "id": "dZVHt3mtLPoR",
    "outputId": "ea1629cd-7c92-400e-9acd-f7caeef0f389"
   },
   "outputs": [],
   "source": [
    "# #BoW\n",
    "# count_vect = CountVectorizer() #in scikit-learn\n",
    "# count_vect.fit(preprocessed_reviews)\n",
    "# print(\"some feature names \", count_vect.get_feature_names()[:10])\n",
    "# print('='*50)\n",
    "\n",
    "# final_counts = count_vect.transform(preprocessed_reviews)\n",
    "# print(\"the type of count vectorizer \",type(final_counts))\n",
    "# print(\"the shape of out text BOW vectorizer \",final_counts.get_shape())\n",
    "# print(\"the number of unique words \", final_counts.get_shape()[1])"
   ]
  },
  {
   "cell_type": "markdown",
   "metadata": {
    "colab_type": "text",
    "id": "tSf5kRdLLPoV"
   },
   "source": [
    "## [4.2] Bi-Grams and n-Grams."
   ]
  },
  {
   "cell_type": "code",
   "execution_count": 32,
   "metadata": {
    "colab": {},
    "colab_type": "code",
    "id": "Yfk2d7bLLPoW",
    "outputId": "33472132-5eb3-493f-b08c-081749f99239"
   },
   "outputs": [],
   "source": [
    "# #bi-gram, tri-gram and n-gram\n",
    "\n",
    "# #removing stop words like \"not\" should be avoided before building n-grams\n",
    "# # count_vect = CountVectorizer(ngram_range=(1,2))\n",
    "# # please do read the CountVectorizer documentation http://scikit-learn.org/stable/modules/generated/sklearn.feature_extraction.text.CountVectorizer.html\n",
    "\n",
    "# # you can choose these numebrs min_df=10, max_features=5000, of your choice\n",
    "# count_vect = CountVectorizer(ngram_range=(1,2), min_df=10, max_features=5000)\n",
    "# final_bigram_counts = count_vect.fit_transform(preprocessed_reviews)\n",
    "# print(\"the type of count vectorizer \",type(final_bigram_counts))\n",
    "# print(\"the shape of out text BOW vectorizer \",final_bigram_counts.get_shape())\n",
    "# print(\"the number of unique words including both unigrams and bigrams \", final_bigram_counts.get_shape()[1])"
   ]
  },
  {
   "cell_type": "markdown",
   "metadata": {
    "colab_type": "text",
    "id": "-cEEpDx0LPoZ"
   },
   "source": [
    "## [4.3] TF-IDF"
   ]
  },
  {
   "cell_type": "code",
   "execution_count": 33,
   "metadata": {
    "colab": {},
    "colab_type": "code",
    "id": "TgP61HqBLPoa",
    "outputId": "15f1c123-d93b-414d-914b-d4e3f32a6ac1"
   },
   "outputs": [],
   "source": [
    "# tf_idf_vect = TfidfVectorizer(ngram_range=(1,2), min_df=10)\n",
    "# tf_idf_vect.fit(preprocessed_reviews)\n",
    "# print(\"some sample features(unique words in the corpus)\",tf_idf_vect.get_feature_names()[0:10])\n",
    "# print('='*50)\n",
    "\n",
    "# final_tf_idf = tf_idf_vect.transform(preprocessed_reviews)\n",
    "# print(\"the type of count vectorizer \",type(final_tf_idf))\n",
    "# print(\"the shape of out text TFIDF vectorizer \",final_tf_idf.get_shape())\n",
    "# print(\"the number of unique words including both unigrams and bigrams \", final_tf_idf.get_shape()[1])"
   ]
  },
  {
   "cell_type": "markdown",
   "metadata": {
    "colab_type": "text",
    "id": "m3YEHTLPLPod"
   },
   "source": [
    "## [4.4] Word2Vec"
   ]
  },
  {
   "cell_type": "code",
   "execution_count": 34,
   "metadata": {
    "colab": {},
    "colab_type": "code",
    "id": "8ddGZNUfLPog",
    "outputId": "390d4ccb-cda2-4391-83e9-0e502b578171",
    "scrolled": true
   },
   "outputs": [],
   "source": [
    "# # Using Google News Word2Vectors\n",
    "\n",
    "# # in this project we are using a pretrained model by google\n",
    "# # its 3.3G file, once you load this into your memory \n",
    "# # it occupies ~9Gb, so please do this step only if you have >12G of ram\n",
    "# # we will provide a pickle file wich contains a dict , \n",
    "# # and it contains all our courpus words as keys and  model[word] as values\n",
    "# # To use this code-snippet, download \"GoogleNews-vectors-negative300.bin\" \n",
    "# # from https://drive.google.com/file/d/0B7XkCwpI5KDYNlNUTTlSS21pQmM/edit\n",
    "# # it's 1.9GB in size.\n",
    "\n",
    "\n",
    "# # http://kavita-ganesan.com/gensim-word2vec-tutorial-starter-code/#.W17SRFAzZPY\n",
    "# # you can comment this whole cell\n",
    "# # or change these varible according to your need\n",
    "\n",
    "# is_your_ram_gt_16g=True\n",
    "# want_to_use_google_w2v = False\n",
    "# want_to_train_w2v = True\n",
    "\n",
    "# path_to_word2vec = '/home/monodeepdas112/Datasets/GoogleNews-vectors-negative300.bin.gz'\n",
    "\n",
    "# if want_to_train_w2v:\n",
    "    \n",
    "#     # Train your own Word2Vec model using your own text corpus\n",
    "#     i=0\n",
    "#     list_of_sentences=[]\n",
    "#     for sentance in preprocessed_reviews:\n",
    "#         list_of_sentences.append(sentance.split())\n",
    "    \n",
    "#     # min_count = 5 considers only words that occured atleast 5 times\n",
    "#     w2v_model=Word2Vec(list_of_sentences,min_count=5,size=100, workers=4)\n",
    "#     print(w2v_model.wv.most_similar('great'))\n",
    "#     print('='*50)\n",
    "#     print(w2v_model.wv.most_similar('worst'))\n",
    "    \n",
    "# elif want_to_use_google_w2v and is_your_ram_gt_16g:\n",
    "#     if os.path.isfile(path_to_word2vec):\n",
    "#         print('Preparing to load pre-trained Word2Vec model !')\n",
    "#         w2v_model=KeyedVectors.load_word2vec_format(path_to_word2vec, binary=True)\n",
    "#         print('Successfully loaded model into memory !!')\n",
    "#         print('Words similar to \"similar\" : ', w2v_model.wv.most_similar('great'))\n",
    "#         print('Words similar to \"worst\" : ',w2v_model.wv.most_similar('worst'))\n",
    "#     else:\n",
    "#         print(\"you don't have google's word2vec file, keep want_to_train_w2v = True, to train your own w2v \")"
   ]
  },
  {
   "cell_type": "code",
   "execution_count": 35,
   "metadata": {
    "colab": {},
    "colab_type": "code",
    "id": "bRWXmmnWLPoo",
    "outputId": "1cc345e7-d991-49b8-f1b7-a0d81f0b97e6"
   },
   "outputs": [],
   "source": [
    "# w2v_words = list(w2v_model.wv.vocab)\n",
    "# print(\"number of words that occured minimum 5 times \",len(w2v_words))\n",
    "# print(\"sample words \", w2v_words[0:50])"
   ]
  },
  {
   "cell_type": "markdown",
   "metadata": {
    "colab_type": "text",
    "id": "TtWqibqfLPos"
   },
   "source": [
    "## [4.4.1] Converting text into vectors using Avg W2V, TFIDF-W2V"
   ]
  },
  {
   "cell_type": "markdown",
   "metadata": {
    "colab_type": "text",
    "id": "JriP5nZCLPot"
   },
   "source": [
    "#### [4.4.1.1] Avg W2v"
   ]
  },
  {
   "cell_type": "code",
   "execution_count": 36,
   "metadata": {
    "colab": {},
    "colab_type": "code",
    "id": "UnXI9NHTLPot",
    "outputId": "ecbe8256-9718-4bad-de33-e5ce1ee69038"
   },
   "outputs": [],
   "source": [
    "# # average Word2Vec\n",
    "# # compute average word2vec for each review.\n",
    "# sent_vectors = []; # the avg-w2v for each sentence/review is stored in this list\n",
    "# for sent in tqdm(list_of_sentences): # for each review/sentence\n",
    "#     sent_vec = np.zeros(50) # as word vectors are of zero length 50, you might need to change this to 300 if you use google's w2v\n",
    "#     cnt_words =0; # num of words with a valid vector in the sentence/review\n",
    "#     for word in sent: # for each word in a review/sentence\n",
    "#         if word in w2v_words:\n",
    "#             vec = w2v_model.wv[word]\n",
    "#             sent_vec += vec\n",
    "#             cnt_words += 1\n",
    "#     if cnt_words != 0:\n",
    "#         sent_vec /= cnt_words\n",
    "#     sent_vectors.append(sent_vec)\n",
    "# print(len(sent_vectors))\n",
    "# print(len(sent_vectors[0]))"
   ]
  },
  {
   "cell_type": "markdown",
   "metadata": {
    "colab_type": "text",
    "id": "2sHfb529LPow"
   },
   "source": [
    "#### [4.4.1.2] TFIDF weighted W2v"
   ]
  },
  {
   "cell_type": "code",
   "execution_count": 37,
   "metadata": {
    "colab": {},
    "colab_type": "code",
    "id": "sb_wDjAqLPow"
   },
   "outputs": [],
   "source": [
    "# # S = [\"abc def pqr\", \"def def def abc\", \"pqr pqr def\"]\n",
    "# model = TfidfVectorizer()\n",
    "# tf_idf_matrix = model.fit_transform(preprocessed_reviews)\n",
    "# # we are converting a dictionary with word as a key, and the idf as a value\n",
    "# dictionary = dict(zip(model.get_feature_names(), list(model.idf_)))"
   ]
  },
  {
   "cell_type": "code",
   "execution_count": 38,
   "metadata": {
    "colab": {},
    "colab_type": "code",
    "id": "3VrUzqx7LPoy",
    "outputId": "8480d5da-7b1d-4bbe-a4c9-fe0a5800b5d0",
    "scrolled": true
   },
   "outputs": [],
   "source": [
    "# # TF-IDF weighted Word2Vec\n",
    "# tfidf_feat = model.get_feature_names() # tfidf words/col-names\n",
    "# # final_tf_idf is the sparse matrix with row= sentence, col=word and cell_val = tfidf\n",
    "\n",
    "# tfidf_sent_vectors = []; # the tfidf-w2v for each sentence/review is stored in this list\n",
    "# row=0;\n",
    "# for sent in tqdm(list_of_sentance): # for each review/sentence \n",
    "#     sent_vec = np.zeros(50) # as word vectors are of zero length\n",
    "#     weight_sum =0; # num of words with a valid vector in the sentence/review\n",
    "#     for word in sent: # for each word in a review/sentence\n",
    "#         if word in w2v_words and word in tfidf_feat:\n",
    "#             vec = w2v_model.wv[word]\n",
    "# #             tf_idf = tf_idf_matrix[row, tfidf_feat.index(word)]\n",
    "#             # to reduce the computation we are \n",
    "#             # dictionary[word] = idf value of word in whole courpus\n",
    "#             # sent.count(word) = tf valeus of word in this review\n",
    "#             tf_idf = dictionary[word]*(sent.count(word)/len(sent))\n",
    "#             sent_vec += (vec * tf_idf)\n",
    "#             weight_sum += tf_idf\n",
    "#     if weight_sum != 0:\n",
    "#         sent_vec /= weight_sum\n",
    "#     tfidf_sent_vectors.append(sent_vec)\n",
    "#     row += 1"
   ]
  },
  {
   "cell_type": "markdown",
   "metadata": {
    "colab_type": "text",
    "id": "Kxx72u1hLPo1"
   },
   "source": [
    "# [5] Assignment 5: Apply Logistic Regression"
   ]
  },
  {
   "cell_type": "markdown",
   "metadata": {
    "colab_type": "text",
    "id": "KDR9We0oLPo2"
   },
   "source": [
    "<ol>\n",
    "    <li><strong>Apply Logistic Regression on these feature sets</strong>\n",
    "        <ul>\n",
    "            <li><font color='red'>SET 1:</font>Review text, preprocessed one converted into vectors using (BOW)</li>\n",
    "            <li><font color='red'>SET 2:</font>Review text, preprocessed one converted into vectors using (TFIDF)</li>\n",
    "            <li><font color='red'>SET 3:</font>Review text, preprocessed one converted into vectors using (AVG W2v)</li>\n",
    "            <li><font color='red'>SET 4:</font>Review text, preprocessed one converted into vectors using (TFIDF W2v)</li>\n",
    "        </ul>\n",
    "    </li>\n",
    "    <br>\n",
    "    <li><strong>Hyper paramter tuning (find best hyper parameters corresponding the algorithm that you choose)</strong>\n",
    "        <ul>\n",
    "    <li>Find the best hyper parameter which will give the maximum <a href='https://www.appliedaicourse.com/course/applied-ai-course-online/lessons/receiver-operating-characteristic-curve-roc-curve-and-auc-1/'>AUC</a> value</li>\n",
    "    <li>Find the best hyper paramter using k-fold cross validation or simple cross validation data</li>\n",
    "    <li>Use gridsearch cv or randomsearch cv or you can also write your own for loops to do this task of hyperparameter tuning</li>          \n",
    "        </ul>\n",
    "    </li>\n",
    "    <br>\n",
    "    <li><strong>Pertubation Test</strong>\n",
    "        <ul>\n",
    "    <li>Get the weights W after fit your model with the data X i.e Train data.</li>\n",
    "    <li>Add a noise to the X (X' = X + e) and get the new data set X' (if X is a sparse\n",
    "matrix, X.data+=e)</li>\n",
    "    <li>Fit the model again on data X' and get the weights W'</li>\n",
    "    <li>Add a small eps value(to eliminate the divisible by zero error) to W and W’ i.e\n",
    "W=W+10^-6 and W’ = W’+10^-6</li>\n",
    "    <li>Now find the % change between W and W' (| (W-W') / (W) |)*100)</li>\n",
    "    <li>Calculate the 0th, 10th, 20th, 30th, ...100th percentiles, and observe any sudden rise in the values of percentage_change_vector</li>\n",
    "    <li> Ex: consider your 99th percentile is 1.3 and your 100th percentiles are 34.6, there is sudden rise from 1.3 to 34.6, now calculate the 99.1, 99.2, 99.3,..., 100th percentile values and get the proper value after which there is sudden rise the values, assume it is 2.5</li>\n",
    "            <li> Print the feature names whose % change is more than a threshold x(in our example it's 2.5)</li>\n",
    "        </ul>\n",
    "    </li>\n",
    "    <br>\n",
    "    <li><strong>Sparsity</strong>\n",
    "        <ul>\n",
    "    <li>Calculate sparsity on weight vector obtained after using L1 regularization</li>\n",
    "        </ul>\n",
    "    </li>\n",
    "    <br><font color='red'>NOTE: Do sparsity and multicollinearity for any one of the vectorizers. Bow or tf-idf is recommended.</font>\n",
    "    <br>\n",
    "    <br>\n",
    "    <li><strong>Feature importance</strong>\n",
    "        <ul>\n",
    "    <li>Get top 10 important features for both positive and negative classes separately.</li>\n",
    "        </ul>\n",
    "    </li>\n",
    "    <br>\n",
    "    <li><strong>Feature engineering</strong>\n",
    "        <ul>\n",
    "    <li>To increase the performance of your model, you can also experiment with with feature engineering like :</li>\n",
    "            <ul>\n",
    "            <li>Taking length of reviews as another feature.</li>\n",
    "            <li>Considering some features from review summary as well.</li>\n",
    "        </ul>\n",
    "        </ul>\n",
    "    </li>\n",
    "    <br>\n",
    "    <li><strong>Representation of results</strong>\n",
    "        <ul>\n",
    "    <li>You need to plot the performance of model both on train data and cross validation data for each hyper parameter, like shown in the figure.\n",
    "    <img src='train_cv_auc.JPG' width=300px></li>\n",
    "    <li>Once after you found the best hyper parameter, you need to train your model with it, and find the AUC on test data and plot the ROC curve on both train and test.\n",
    "    <img src='train_test_auc.JPG' width=300px></li>\n",
    "    <li>Along with plotting ROC curve, you need to print the <a href='https://www.appliedaicourse.com/course/applied-ai-course-online/lessons/confusion-matrix-tpr-fpr-fnr-tnr-1/'>confusion matrix</a> with predicted and original labels of test data points. Please visualize your confusion matrices using <a href='https://seaborn.pydata.org/generated/seaborn.heatmap.html'>seaborn heatmaps.\n",
    "    <img src='confusion_matrix.png' width=300px></li>\n",
    "        </ul>\n",
    "    </li>\n",
    "    <br>\n",
    "    <li><strong>Conclusion</strong>\n",
    "        <ul>\n",
    "    <li>You need to summarize the results at the end of the notebook, summarize it in the table format. To print out a table please refer to this prettytable library<a href='http://zetcode.com/python/prettytable/'>  link</a> \n",
    "        <img src='summary.JPG' width=400px>\n",
    "    </li>\n",
    "        </ul>\n",
    "</ol>"
   ]
  },
  {
   "cell_type": "markdown",
   "metadata": {
    "colab_type": "text",
    "id": "gilb-DOVLPo2"
   },
   "source": [
    "<h4><font color='red'>Note: Data Leakage</font></h4>\n",
    "\n",
    "1. There will be an issue of data-leakage if you vectorize the entire data and then split it into train/cv/test.\n",
    "2. To avoid the issue of data-leakag, make sure to split your data first and then vectorize it. \n",
    "3. While vectorizing your data, apply the method fit_transform() on you train data, and apply the method transform() on cv/test data.\n",
    "4. For more details please go through this <a href='https://soundcloud.com/applied-ai-course/leakage-bow-and-tfidf'>link.</a>"
   ]
  },
  {
   "cell_type": "markdown",
   "metadata": {
    "colab_type": "text",
    "id": "jiYocvSHLPo4"
   },
   "source": [
    "# Applying Logistic Regression"
   ]
  },
  {
   "cell_type": "code",
   "execution_count": 83,
   "metadata": {},
   "outputs": [],
   "source": [
    "#Getting the necessary imports and function definations\n",
    "from sklearn.linear_model import LogisticRegression\n",
    "from sklearn.metrics import confusion_matrix\n",
    "from sklearn.metrics import roc_curve, auc\n",
    "from sklearn.metrics import roc_auc_score\n",
    "from scipy.stats import uniform\n",
    "from sklearn.model_selection import train_test_split\n",
    "from sklearn.model_selection import RandomizedSearchCV\n",
    "from sklearn.model_selection import StratifiedKFold\n",
    "import pprint\n",
    "from sklearn.pipeline import Pipeline\n",
    "import os.path\n",
    "import pickle\n",
    "import pprint\n",
    "from sklearn import preprocessing\n",
    "import math\n",
    "\n",
    "import warnings\n",
    "warnings.filterwarnings('ignore')"
   ]
  },
  {
   "cell_type": "markdown",
   "metadata": {},
   "source": [
    "### [5.0.0] Splitting up the Dataset into D_train and D_test"
   ]
  },
  {
   "cell_type": "code",
   "execution_count": 84,
   "metadata": {},
   "outputs": [],
   "source": [
    "num_data_points = 50000"
   ]
  },
  {
   "cell_type": "code",
   "execution_count": 85,
   "metadata": {},
   "outputs": [],
   "source": [
    "Dx_train, Dx_test, Dy_train, Dy_test = train_test_split(preprocessed_reviews[:num_data_points], final['Score'].tolist()[:num_data_points], test_size=0.30, random_state=42)"
   ]
  },
  {
   "cell_type": "code",
   "execution_count": 86,
   "metadata": {},
   "outputs": [],
   "source": [
    "prettytable_data = []"
   ]
  },
  {
   "cell_type": "markdown",
   "metadata": {},
   "source": [
    "### [5.0.1] Defining some functions to increase code reusability and readability"
   ]
  },
  {
   "cell_type": "code",
   "execution_count": 87,
   "metadata": {},
   "outputs": [],
   "source": [
    "'''Creating Custom Vectorizers for TFIDF - W2Vec and Avg - W2Vec'''\n",
    "class Tfidf_W2Vec_Vectorizer(object):\n",
    "    def __init__(self, w2vec_model):\n",
    "        if(w2v_model is None):\n",
    "            raise Exception('Word 2 Vector model passed to Tfidf_W2Vec Vectorizer is None !')\n",
    "        self.tfidf = TfidfVectorizer(max_features=300)\n",
    "        self.dictionary = None\n",
    "        self.tfidf_feat = None\n",
    "        \n",
    "        self.word2vec = w2vec_model\n",
    "        \n",
    "    def fit(self, X):\n",
    "        #Initializing the TFIDF Vectorizer\n",
    "        self.tfidf.fit_transform(X)\n",
    "        # we are converting a dictionary with word as a key, and the idf as a value\n",
    "        self.dictionary = dict(zip(self.tfidf.get_feature_names(), list(self.tfidf.idf_)))\n",
    "        self.tfidf_feat = self.tfidf.get_feature_names()\n",
    "        \n",
    "        return self\n",
    "\n",
    "    def transform(self, X):\n",
    "        return np.array([\n",
    "                np.mean([self.word2vec[w] * self.dictionary[word]*(X.cout(word)/len(X))\n",
    "                         for w in words if w in self.word2vec and w in self.tfidf_feat] or\n",
    "                        [np.zeros(300)], axis=0)\n",
    "                for words in X\n",
    "            ])\n",
    "\n",
    "class Avg_W2Vec_Vectorizer(object):\n",
    "    def __init__(self, w2vec_model):\n",
    "        if(w2v_model is None):\n",
    "            raise Exception('Word 2 Vector model passed to Avg_W2Vec Vectorizer is None !')\n",
    "        self.word2vec = w2vec_model\n",
    "\n",
    "    def fit(self, X):\n",
    "        return self\n",
    "\n",
    "    def transform(self, X):\n",
    "        return np.array([\n",
    "            np.mean([self.word2vec[w] for w in words if w in self.word2vec]\n",
    "                    or [np.zeros(300)], axis=0)\n",
    "            for words in X\n",
    "        ])"
   ]
  },
  {
   "cell_type": "code",
   "execution_count": 96,
   "metadata": {},
   "outputs": [],
   "source": [
    "def get_vectorizer(vectorizer, train, W2V_model=None):\n",
    "    if(vectorizer=='BOW'):\n",
    "        vectorizer = CountVectorizer(ngram_range=(1,2), min_df=10, max_features=1000)\n",
    "    if(vectorizer=='TFIDF'):\n",
    "        vectorizer = TfidfVectorizer(ngram_range=(1,2), min_df=10, max_features=1000)\n",
    "    if(vectorizer=='TFIDF-W2Vec'):\n",
    "        vectorizer = Tfidf_W2Vec_Vectorizer(W2V_model)\n",
    "    if(vectorizer=='Avg-W2Vec'):\n",
    "        vectorizer = Avg_W2Vec_Vectorizer(W2V_model)\n",
    "    \n",
    "    vectorizer.fit(train)\n",
    "    return vectorizer"
   ]
  },
  {
   "cell_type": "code",
   "execution_count": 97,
   "metadata": {},
   "outputs": [],
   "source": [
    "'''Perform Simple Cross Validation'''\n",
    "def perform_hyperparameter_tuning(X, Y, vectorizer, vec_name, penalty, results_path, retrain=False, W2V_model=None):\n",
    "    #If the pandas dataframe with the hyperparameter info exists then return it\n",
    "\n",
    "    if(retrain==False):\n",
    "        # If Cross Validation results exists then return them\n",
    "        if(os.path.exists(results_path)):\n",
    "            return pd.read_csv(results_path)\n",
    "        else:\n",
    "            # If no data exists but retrain=False then mention accordingly\n",
    "            print('Retrain is set to be False but no Cross Validation Results DataFrame was found !\\nPlease set retrain to True.')\n",
    "    else:\n",
    "        # else perform hyperparameter tuning\n",
    "        print('Performing Hyperparameter Tuning...\\n')\n",
    "        # regularization parameter\n",
    "        c = [0.0001, 0.001, 0.01, 0.05, 0.1, 0.5, 1, 5, 10, 50, 100, 500, 1000, 5000, 10000]\n",
    "        c.sort()\n",
    "        hyperparameters = {\n",
    "            'logistic__penalty' : penalty,\n",
    "            'logistic__C' : c\n",
    "        }\n",
    "\n",
    "        penalties = []\n",
    "        C_values = []\n",
    "\n",
    "        train_scores = []\n",
    "        test_scores = []\n",
    "\n",
    "        train_mean_score = []\n",
    "        test_mean_score = []\n",
    "\n",
    "        # Initializing KFold\n",
    "        skf = StratifiedKFold(n_splits=3)\n",
    "        X = np.array(X)\n",
    "        Y = np.array(Y)\n",
    "\n",
    "        saver = 0 # This is a counter variable that saves \n",
    "        for penalty in hyperparameters['logistic__penalty']:\n",
    "            for reg_param in hyperparameters['logistic__C']:\n",
    "                \n",
    "                #Performing Cross Validation\n",
    "                for train_index, test_index in skf.split(X, Y):\n",
    "                    Dx_train, Dx_cv = X[train_index], X[test_index]\n",
    "                    Dy_train, Dy_cv = Y[train_index], Y[test_index]\n",
    "\n",
    "                    #Initializing the Vectorizer\n",
    "                    vectorizer = get_vectorizer(vectorizer, Dx_train.tolist(), W2V_model)\n",
    "\n",
    "                    #Transforming the data to features\n",
    "                    x_train = vectorizer.transform(Dx_train.tolist())\n",
    "                    x_cv = vectorizer.transform(Dx_cv.tolist())\n",
    "\n",
    "                    #Initializing the LR model\n",
    "                    log_reg_model = LogisticRegression(penalty=penalty, C=reg_param, max_iter=1000, solver='saga')\n",
    "\n",
    "                    # Fit the model\n",
    "                    log_reg_model.fit(x_train, Dy_train)\n",
    "\n",
    "                    #Prediction\n",
    "                    train_results = log_reg_model.predict_proba(x_train)\n",
    "                    cv_results = log_reg_model.predict_proba(x_cv)\n",
    "\n",
    "                    try:\n",
    "                        train_score = roc_auc_score(Dy_train, train_results[:, 1])\n",
    "                        test_score = roc_auc_score(Dy_cv, cv_results[:, 1])\n",
    "\n",
    "                        #storing the results to form a dataframe\n",
    "                        train_scores.append(train_score)\n",
    "                        test_scores.append(test_score)\n",
    "\n",
    "                    except Exception as e:\n",
    "                        print('Error Case : ', e)\n",
    "                        print(('Actual, Predicted'))\n",
    "                        [print((Dy_cv[i], cv_results[i, 1])) for i in range(len(Dy_cv))]\n",
    "\n",
    "                    print('CV iteration : C={0}, solver={1}, train_score={2}, test_score={3}'\n",
    "                      .format(reg_param, 'saga', train_score, test_score))\n",
    "\n",
    "                train_mean_score.append(sum(train_scores)/len(train_scores))\n",
    "                test_mean_score.append(sum(test_scores)/len(test_scores))\n",
    "\n",
    "                penalties.append(penalty)\n",
    "                C_values.append(reg_param)\n",
    "\n",
    "                print('C={0}, penalty={1}, solver=\"saga\", train_score={2}, test_score={3}'\n",
    "                      .format(reg_param, penalty, sum(train_scores)/len(train_scores), sum(test_scores)/len(test_scores)))\n",
    "\n",
    "                saver += 1\n",
    "\n",
    "                if(saver==5):\n",
    "                    # after every period of 100 iterations keep saving the parameters and results \n",
    "                    # so as to avoid data loss in case of system crash\n",
    "                    with open('saved_temp_data/{0}_penalties.pkl'.format(vec_name), 'wb') as file:\n",
    "                        pickle.dump(penalties, file)\n",
    "                    with open('saved_temp_data/{0}_reg_params.pkl'.format(vec_name), 'wb') as file:\n",
    "                        pickle.dump(C_values, file)\n",
    "                    with open('saved_temp_data/{0}_train_mean_score.pkl'.format(vec_name), 'wb') as file:\n",
    "                        pickle.dump(train_mean_score, file)\n",
    "                    with open('saved_temp_data/{0}_test_mean_score.pkl'.format(vec_name), 'wb') as file:\n",
    "                        pickle.dump(test_mean_score, file)\n",
    "                    saver = 0\n",
    "\n",
    "                train_scores = []\n",
    "                test_scores = []\n",
    "        try:\n",
    "            # Attempting to load saved data\n",
    "            # Load data from the saved files\n",
    "            with open('saved_temp_data/{0}_penalties.pkl'.format(vec_name), 'rb') as file:\n",
    "                penalties = pickle.load(file)\n",
    "            with open('saved_temp_data/{0}_reg_params.pkl'.format(vec_name), 'rb') as file:\n",
    "                C_values = pickle.load(file)\n",
    "            with open('saved_temp_data/{0}_train_mean_score.pkl'.format(vec_name), 'rb') as file:\n",
    "                train_mean_score = pickle.load(file)\n",
    "            with open('saved_temp_data/{0}_test_mean_score.pkl'.format(vec_name), 'rb') as file:\n",
    "                test_mean_score = pickle.load(file)\n",
    "        except Exception as ex:\n",
    "            print('Failed to load saved data from temp files')\n",
    "        # Creating a DataFrame from the saved data for visualization\n",
    "        results_df = pd.DataFrame({'C' : C_values, 'penalty' : penalties, \n",
    "                                   'solver' : ['saga' for i in C_values], 'train_score' : train_mean_score, \n",
    "                                   'test_score': test_mean_score})\n",
    "        \n",
    "        try:\n",
    "            # Attempting to remove the temporary files\n",
    "            os.remove('saved_temp_data/{0}_penalties.pkl'.format(vec_name))\n",
    "            os.remove('saved_temp_data/{0}_reg_params.pkl'.format(vec_name))\n",
    "            os.remove('saved_temp_data/{0}_train_mean_score.pkl'.format(vec_name))\n",
    "            os.remove('saved_temp_data/{0}_test_mean_score.pkl'.format(vec_name))\n",
    "        except Exception as e:\n",
    "            print('Error occurred while attempting to remove the temporary files')\n",
    "\n",
    "        #writing the results to csv after performing hyperparameter tuning\n",
    "        try:\n",
    "            results_df.to_csv(results_path)\n",
    "        except Exception as ex:\n",
    "            print(str(ex), \"\\nError occured while converting DataFrame to CSV after cross validation.\")\n",
    "        return results_df"
   ]
  },
  {
   "cell_type": "code",
   "execution_count": 98,
   "metadata": {},
   "outputs": [],
   "source": [
    "def analyse_results(df):\n",
    "    # plotting error curves\n",
    "    fig = plt.figure()\n",
    "    ax = fig.gca()\n",
    "\n",
    "    plt.plot([math.log10(i) for i in df.C.tolist()], df.test_score.tolist(), '-o', c='b', label='Validation AUC')\n",
    "    plt.plot([math.log10(i) for i in df.C.tolist()], df.train_score.tolist(), '-o', c='r', label='Train AUC')\n",
    "    plt.grid(True)\n",
    "    plt.xlabel('log10 of Hyperparameter C = 1/alpha')\n",
    "    plt.ylabel('Area Under ROC Curve')\n",
    "    plt.title('AUC ROC Curve for Logistic Regression')\n",
    "    plt.legend(loc='best')\n",
    "    plt.show()\n",
    "    \n",
    "    # return the best parameters\n",
    "    mmax = 0\n",
    "    ind_max = 0\n",
    "    for index, row in df.iterrows():\n",
    "        if(row['test_score']>mmax):\n",
    "            mmax=row['test_score']\n",
    "            ind_max = index\n",
    "        \n",
    "        \n",
    "    best_params = {\n",
    "        'logistic__C':df.loc[ind_max, 'C'], \n",
    "        'logistic__penalty':df.loc[ind_max, 'penalty'], \n",
    "        'logistic__solver':df.loc[ind_max, 'solver']\n",
    "    }\n",
    "    \n",
    "    return best_params"
   ]
  },
  {
   "cell_type": "code",
   "execution_count": 99,
   "metadata": {},
   "outputs": [],
   "source": [
    "def retrain_with_best_params(data, labels, best_params, vec_name, model_path, word2vec):\n",
    "    if(os.path.exists(model_path)):\n",
    "        print('Loading Model....')\n",
    "        with open(model_path, 'rb') as input_file:\n",
    "            clf = pickle.load(input_file)\n",
    "    else:\n",
    "        clf = LogisticRegression(penalty=best_params['logistic__penalty'], \n",
    "                                 C = best_params['logistic__C'], \n",
    "                                 solver=best_params['logistic__solver'], max_iter=1000)\n",
    "        print('Initializing Vectorizer')\n",
    "        vectorizer = get_vectorizer(vectorizer=vec_name, train=data, W2V_model=word2vec)\n",
    "        print('Training Model....')\n",
    "        clf.fit(vectorizer.transform(data), np.array(labels))\n",
    "    \n",
    "        print('Saving Trained Model....')\n",
    "        with open(model_path,'wb') as file:\n",
    "            pickle.dump(clf,file)\n",
    "    return clf"
   ]
  },
  {
   "cell_type": "code",
   "execution_count": 100,
   "metadata": {},
   "outputs": [],
   "source": [
    "def plot_confusion_matrix(model, data, labels, dataset_label):\n",
    "    pred = model.predict(data)\n",
    "    conf_mat = confusion_matrix(labels, pred)\n",
    "    \n",
    "    strings = strings = np.asarray([['TN = ', 'FP = '],\n",
    "                                    ['FN = ', 'TP = ']])\n",
    "\n",
    "    labels = (np.asarray([\"{0}{1}\".format(string, value)\n",
    "                          for string, value in zip(strings.flatten(),\n",
    "                                                   conf_mat.flatten())])\n",
    "             ).reshape(2, 2)\n",
    "\n",
    "    fig, ax = plt.subplots()\n",
    "    ax.set(xlabel='Predicted', ylabel='Actual', title='Confusion Matrix : {0}'.format(dataset_label))\n",
    "    sns.heatmap(conf_mat, annot=labels, fmt=\"\", cmap='YlGnBu', ax=ax)\n",
    "    ax.set_xlabel('Predicted')\n",
    "    ax.set_ylabel('Actual')\n",
    "    ax.set_xticklabels(['False', 'True'])\n",
    "    ax.set_yticklabels(['False', 'True'])\n",
    "    plt.show()"
   ]
  },
  {
   "cell_type": "code",
   "execution_count": 101,
   "metadata": {},
   "outputs": [],
   "source": [
    "def plot_AUC_ROC(model, vectorizer, Dx_train, Dx_test, Dy_train, Dy_test):\n",
    "    \n",
    "    #predicting probability of Dx_test, Dx_train\n",
    "    test_score = model.predict_proba(vectorizer.transform(Dx_test))\n",
    "    train_score = model.predict_proba(vectorizer.transform(Dx_train))\n",
    "\n",
    "    #Finding out the ROC_AUC_SCORE\n",
    "    train_roc_auc_score = roc_auc_score(np.array(Dy_train), train_score[:, 1])\n",
    "    print('Area Under the Curve for Train : ', train_roc_auc_score)\n",
    "    test_roc_auc_score = roc_auc_score(np.array(Dy_test), test_score[:, 1])\n",
    "    print('Area Under the Curve for Test : ', test_roc_auc_score)\n",
    "\n",
    "    #Plotting with matplotlib.pyplot\n",
    "    #ROC Curve for D-train\n",
    "    train_fpr, train_tpr, thresholds = roc_curve(np.array(Dy_train), train_score[:, 1])\n",
    "    plt.plot(train_fpr, train_tpr, label=\"train AUC =\"+str(auc(train_fpr, train_tpr)))\n",
    "\n",
    "    # #ROC Curve for D-test\n",
    "    test_fpr, test_tpr, thresholds = roc_curve(np.array(Dy_test), test_score[:, 1])\n",
    "    plt.plot(test_fpr, test_tpr, label=\"train AUC =\"+str(auc(test_fpr, test_tpr)))\n",
    "    \n",
    "    plt.legend()\n",
    "    plt.xlabel(\"FPR : False Positive Ratio\")\n",
    "    plt.ylabel(\"TPF : True Positive Ratio\")\n",
    "    plt.title(\"Area Under ROC Curve\")\n",
    "    plt.show()\n",
    "    \n",
    "    plot_confusion_matrix(model, vectorizer.transform(Dx_train), np.array(Dy_train), 'Training')\n",
    "    plot_confusion_matrix(model, vectorizer.transform(Dx_test), np.array(Dy_test), 'Testing')"
   ]
  },
  {
   "cell_type": "markdown",
   "metadata": {
    "colab_type": "text",
    "id": "LE_XPVZJLPo4"
   },
   "source": [
    "## [5.1.0] Logistic Regression on BOW,<font color='red'> SET 1</font>"
   ]
  },
  {
   "cell_type": "markdown",
   "metadata": {
    "colab_type": "text",
    "id": "_iciJvj2LPo4"
   },
   "source": [
    "### [5.1.0] Applying Logistic Regression with L1 regularization on BOW,<font color='red'> SET 1</font>"
   ]
  },
  {
   "cell_type": "code",
   "execution_count": 102,
   "metadata": {
    "colab": {},
    "colab_type": "code",
    "id": "MyOVi-xYLPo5",
    "scrolled": false
   },
   "outputs": [
    {
     "data": {
      "image/png": "[encoded data removed]",
      "text/plain": [
       "<Figure size 432x288 with 1 Axes>"
      ]
     },
     "metadata": {
      "needs_background": "light"
     },
     "output_type": "display_data"
    },
    {
     "name": "stdout",
     "output_type": "stream",
     "text": [
      "{'logistic__C': 0.5, 'logistic__penalty': 'l1', 'logistic__solver': 'saga'}\n",
      "Loading Model....\n",
      "Retraining Vectorizer with Dx_train\n",
      "Area Under the Curve for Train :  0.4367963077873671\n",
      "Area Under the Curve for Test :  0.4563715810580933\n"
     ]
    },
    {
     "data": {
      "image/png": "[encoded data removed]",
      "text/plain": [
       "<Figure size 432x288 with 1 Axes>"
      ]
     },
     "metadata": {
      "needs_background": "light"
     },
     "output_type": "display_data"
    },
    {
     "data": {
      "image/png": "[encoded data removed]",
      "text/plain": [
       "<Figure size 432x288 with 2 Axes>"
      ]
     },
     "metadata": {
      "needs_background": "light"
     },
     "output_type": "display_data"
    },
    {
     "data": {
      "image/png": "[encoded data removed]",
      "text/plain": [
       "<Figure size 432x288 with 2 Axes>"
      ]
     },
     "metadata": {
      "needs_background": "light"
     },
     "output_type": "display_data"
    }
   ],
   "source": [
    "# Please write all the code with proper documentation\n",
    "csv_path = 'saved_models/Assignment5/BOW_log_reg_results_l1.csv'\n",
    "cv_results = perform_hyperparameter_tuning(X=Dx_train, Y=Dy_train, vectorizer='BOW', vec_name='BOW', \n",
    "                                           penalty=['l1'], results_path=csv_path, retrain=False, W2V_model=None)\n",
    "# Analysing best parameters\n",
    "best_parameters = analyse_results(cv_results)\n",
    "pprint.pprint(best_parameters)\n",
    "# retraining the model with best parameters\n",
    "model_path = 'saved_models/Assignment5/{0}_log_reg_l1.pkl'.format('BOW')\n",
    "log_reg_model = retrain_with_best_params(Dx_train, Dy_train, best_parameters, 'BOW', model_path, None)\n",
    "\n",
    "print('Retraining Vectorizer with Dx_train')\n",
    "vectorizer_obj = get_vectorizer(W2V_model = None, train=Dx_train, vectorizer='BOW')\n",
    "\n",
    "# plotting AUC ROC \n",
    "plot_AUC_ROC(log_reg_model, vectorizer_obj, Dx_train, Dx_test, Dy_train, Dy_test)"
   ]
  },
  {
   "cell_type": "code",
   "execution_count": null,
   "metadata": {},
   "outputs": [],
   "source": []
  },
  {
   "cell_type": "code",
   "execution_count": null,
   "metadata": {},
   "outputs": [],
   "source": []
  },
  {
   "cell_type": "code",
   "execution_count": null,
   "metadata": {},
   "outputs": [],
   "source": []
  },
  {
   "cell_type": "markdown",
   "metadata": {
    "colab_type": "text",
    "id": "5h4NhywcLPo7"
   },
   "source": [
    "#### [5.1.0.1] Calculating sparsity on weight vector obtained using L1 regularization on BOW,<font color='red'> SET 1</font>"
   ]
  },
  {
   "cell_type": "code",
   "execution_count": 103,
   "metadata": {
    "colab": {},
    "colab_type": "code",
    "id": "-mmdLzUALPo-"
   },
   "outputs": [
    {
     "name": "stdout",
     "output_type": "stream",
     "text": [
      "Sparsity of the weight vector by L1 reguralization is :  0.532\n"
     ]
    }
   ],
   "source": [
    "# # Please write all the code with proper documentation\n",
    "# # fetching the coeff and calculating sparsity\n",
    "weights = log_reg_model.coef_\n",
    "elements = (weights.shape[0]*weights.shape[1])\n",
    "zeroes = elements - np.count_nonzero(weights)\n",
    "sparsity = zeroes/elements\n",
    "print('Sparsity of the weight vector by L1 reguralization is : ', sparsity)"
   ]
  },
  {
   "cell_type": "markdown",
   "metadata": {
    "colab_type": "text",
    "id": "eB1rF0BQLPpG"
   },
   "source": [
    "### [5.1.0.2] Feature Importance on BOW,<font color='red'> SET 1</font>"
   ]
  },
  {
   "cell_type": "code",
   "execution_count": 104,
   "metadata": {
    "colab": {},
    "colab_type": "code",
    "id": "oGRpCVJgLPpI"
   },
   "outputs": [],
   "source": [
    "# Please write all the code with proper documentation\n",
    "feature_names = vectorizer_obj.get_feature_names()\n",
    "weights = np.reshape(log_reg_model.coef_,(log_reg_model.coef_.shape[1], log_reg_model.coef_.shape[0]))\n",
    "\n",
    "# making a list of feature names along with their feature weights\n",
    "features_with_weights = [(feature_names[i],weights[i]) for i in range(len(feature_names))]\n",
    "features_with_weights.sort(key=lambda x : abs(x[1][0]), reverse=True)"
   ]
  },
  {
   "cell_type": "markdown",
   "metadata": {
    "colab_type": "text",
    "id": "JZTP19dqLPpI"
   },
   "source": [
    "#### [5.1.0.2.1] Top 10 important features of positive class from<font color='red'> SET 1</font>"
   ]
  },
  {
   "cell_type": "code",
   "execution_count": 105,
   "metadata": {},
   "outputs": [
    {
     "name": "stdout",
     "output_type": "stream",
     "text": [
      "Top 10 features of positive class with the feature names : \n",
      "dark  :  1.7588983462791592\n",
      "market  :  1.7158924410191987\n",
      "bean  :  1.369497949186002\n",
      "grew  :  1.3008940019709718\n",
      "making  :  1.2613725724790383\n",
      "herbal  :  1.2085813819297744\n",
      "work  :  1.2053674144854292\n",
      "pie  :  1.1430575870793058\n",
      "tazo  :  1.0573920527922243\n",
      "future  :  0.9987544734344743\n"
     ]
    }
   ],
   "source": [
    "positive_weights = [i for i in features_with_weights if i[1][0]>=0]\n",
    "print('Top 10 features of positive class with the feature names : ')\n",
    "for i in positive_weights[:10]:\n",
    "    print(i[0],' : ',i[1][0])"
   ]
  },
  {
   "cell_type": "markdown",
   "metadata": {
    "colab_type": "text",
    "id": "UJLYBE1gLPpJ"
   },
   "source": [
    "#### [5.1.0.2.2] Top 10 important features of negative class from<font color='red'> SET 1</font>"
   ]
  },
  {
   "cell_type": "code",
   "execution_count": 106,
   "metadata": {},
   "outputs": [
    {
     "name": "stdout",
     "output_type": "stream",
     "text": [
      "Top 10 features of negative class with the feature names : \n",
      "not sweet  :  -1.6678333486773904\n",
      "near  :  -1.456679307106826\n",
      "tasting  :  -1.1601914704808007\n",
      "turn  :  -1.0510992540245165\n",
      "diet  :  -0.8783677348939068\n",
      "rest  :  -0.8426317960769264\n",
      "deal  :  -0.8383468154606926\n",
      "cats  :  -0.8247752631218913\n",
      "mine  :  -0.689846826237546\n",
      "taste great  :  -0.6829593359365091\n"
     ]
    }
   ],
   "source": [
    "negative_weights = [i for i in features_with_weights if i[1][0]<0]\n",
    "print('Top 10 features of negative class with the feature names : ')\n",
    "for i in negative_weights[:10]:\n",
    "    print(i[0],' : ',i[1][0])"
   ]
  },
  {
   "cell_type": "markdown",
   "metadata": {
    "colab_type": "text",
    "id": "UaJkugTKLPpE"
   },
   "source": [
    "#### [5.1.0.2.3] Performing pertubation test (multicollinearity check) on BOW,<font color='red'> SET 1</font>"
   ]
  },
  {
   "cell_type": "code",
   "execution_count": 107,
   "metadata": {},
   "outputs": [],
   "source": [
    "# Get the weights W after fit your model with the data X i.e Train data.\n",
    "# Add a noise to the X (X' = X + e) and get the new data set X' (if X is a sparse matrix, X.data+=e)\n",
    "# Fit the model again on data X' and get the weights W'\n",
    "# Add a small eps value(to eliminate the divisible by zero error) to W and W’ i.e W=W+10^-6 and W’ = W’+10^-6\n",
    "# Now find the % change between W and W' (| (W-W') / (W) |)*100)\n",
    "# Calculate the 0th, 10th, 20th, 30th, ...100th percentiles, and observe any sudden rise in the values of percentage_change_vector\n",
    "# Ex: consider your 99th percentile is 1.3 and your 100th percentiles are 34.6, there is sudden rise from 1.3 to 34.6, now calculate the 99.1, 99.2, 99.3,..., 100th percentile values and get the proper value after which there is sudden rise the values, assume it is 2.5\n",
    "# Print the feature names whose % change is more than a threshold x(in our example it's 2.5)"
   ]
  },
  {
   "cell_type": "code",
   "execution_count": 108,
   "metadata": {},
   "outputs": [],
   "source": [
    "def pertubation_test(model, features, labels, features_with_weights):\n",
    "    \n",
    "    # saving initial model weights\n",
    "    W = model.coef_\n",
    "    \n",
    "    # change the data slightly\n",
    "    print('Adding noise to features...')\n",
    "    noise = np.random.normal(0,0.1,features.shape[0]*features.shape[1])\n",
    "    noise = np.reshape(noise, features.shape)\n",
    "    features = features + noise\n",
    "    \n",
    "    # retraining the model with the new features formed by adding errors \n",
    "    print('Retraining model...')\n",
    "    model.fit(features, labels)\n",
    "    \n",
    "    # getting the model weights after retraining\n",
    "    print('Calculating model weights percentage change...')\n",
    "    _W = model.coef_\n",
    "    epsilon_val = np.random.normal(0, 0.000005, model.coef_.shape[0]*model.coef_.shape[1])\n",
    "    epsilon_val = np.reshape(epsilon_val, _W.shape)\n",
    "    _W = _W + epsilon_val\n",
    "    W = W + epsilon_val\n",
    "    \n",
    "    percent_change = abs((W-_W)/W)*100\n",
    "#     0 : feature name\n",
    "#     1 : percent change\n",
    "    feature_percent_change = [(features_with_weights[i][0], percent_change[0][i])for i in range(percent_change.shape[1])]\n",
    "    \n",
    "    # sorting the data according to the weight values\n",
    "    feature_percent_change.sort(key=lambda x: x[1])\n",
    "    \n",
    "    # calculating percentile values and displaying\n",
    "    print('Percentile values of some intervals')\n",
    "    for i in range(0, 100, 10):\n",
    "        index = int((i/100)*(percent_change.shape[1]+1))\n",
    "        print('{0} th percentile : '.format(i),feature_percent_change[index])\n",
    "        \n",
    "    # printing those feature names with percent change difference above threshold\n",
    "    print('Percent Change above threshold = 2.5')\n",
    "    for i in range(1, 100):\n",
    "        indexi = int((i/100)*(percent_change.shape[1]+1))\n",
    "        indexi_ = int(((i-1)/100)*(percent_change.shape[1]+1))\n",
    "        difference = abs(feature_percent_change[indexi][1]-feature_percent_change[indexi_][1])\n",
    "        if(difference > 2.5):   # taking threshold of 2.5\n",
    "            print('\\n{0} th percentile : '.format(i-1),feature_percent_change[indexi_])\n",
    "            print('{0} th percentile : '.format(i),feature_percent_change[indexi])"
   ]
  },
  {
   "cell_type": "code",
   "execution_count": 110,
   "metadata": {
    "scrolled": false
   },
   "outputs": [
    {
     "name": "stdout",
     "output_type": "stream",
     "text": [
      "Retraining model...\n",
      "Percentile values of some intervals\n",
      "0 th percentile :  ('bean', 0.0)\n",
      "10 th percentile :  ('dishes', 33.908708104504974)\n",
      "20 th percentile :  ('looking', 90.59688734580558)\n",
      "30 th percentile :  ('bag', 119.70436908056392)\n",
      "40 th percentile :  ('grocery', 225.46765073156308)\n",
      "50 th percentile :  ('although', 1209.776653022569)\n",
      "60 th percentile :  ('send', 1071245.8801008393)\n",
      "70 th percentile :  ('use', 2730998.5978829702)\n",
      "80 th percentile :  ('heard', 5445837.039846171)\n",
      "90 th percentile :  ('recipes', 12928125.198747916)\n",
      "Percent Change above threshold = 2.5\n",
      "\n",
      "5 th percentile :  ('shipping', 0.0018817924870369932)\n",
      "6 th percentile :  ('told', 7.790569263093042)\n",
      "\n",
      "6 th percentile :  ('told', 7.790569263093042)\n",
      "7 th percentile :  ('juice', 16.284440481284467)\n",
      "\n",
      "7 th percentile :  ('juice', 16.284440481284467)\n",
      "8 th percentile :  ('calorie', 22.406771218407524)\n",
      "\n",
      "8 th percentile :  ('calorie', 22.406771218407524)\n",
      "9 th percentile :  ('dark', 28.575339371904523)\n",
      "\n",
      "9 th percentile :  ('dark', 28.575339371904523)\n",
      "10 th percentile :  ('dishes', 33.908708104504974)\n",
      "\n",
      "10 th percentile :  ('dishes', 33.908708104504974)\n",
      "11 th percentile :  ('blue', 41.84413859198982)\n",
      "\n",
      "11 th percentile :  ('blue', 41.84413859198982)\n",
      "12 th percentile :  ('homemade', 47.15677078903512)\n",
      "\n",
      "12 th percentile :  ('homemade', 47.15677078903512)\n",
      "13 th percentile :  ('mac', 51.74554337145969)\n",
      "\n",
      "13 th percentile :  ('mac', 51.74554337145969)\n",
      "14 th percentile :  ('idea', 60.732155687645374)\n",
      "\n",
      "14 th percentile :  ('idea', 60.732155687645374)\n",
      "15 th percentile :  ('experience', 66.34104838153334)\n",
      "\n",
      "15 th percentile :  ('experience', 66.34104838153334)\n",
      "16 th percentile :  ('skin', 71.36343986596296)\n",
      "\n",
      "16 th percentile :  ('skin', 71.36343986596296)\n",
      "17 th percentile :  ('pizza', 76.93117301605999)\n",
      "\n",
      "17 th percentile :  ('pizza', 76.93117301605999)\n",
      "18 th percentile :  ('guess', 81.63210340023157)\n",
      "\n",
      "18 th percentile :  ('guess', 81.63210340023157)\n",
      "19 th percentile :  ('takes', 86.95428419549714)\n",
      "\n",
      "19 th percentile :  ('takes', 86.95428419549714)\n",
      "20 th percentile :  ('looking', 90.59688734580558)\n",
      "\n",
      "20 th percentile :  ('looking', 90.59688734580558)\n",
      "21 th percentile :  ('believe', 96.14709916275392)\n",
      "\n",
      "21 th percentile :  ('believe', 96.14709916275392)\n",
      "22 th percentile :  ('oatmeal', 99.69117984254261)\n",
      "\n",
      "26 th percentile :  ('similar', 100.21778103777017)\n",
      "27 th percentile :  ('plant', 104.74196422476298)\n",
      "\n",
      "27 th percentile :  ('plant', 104.74196422476298)\n",
      "28 th percentile :  ('coming', 109.53668569091226)\n",
      "\n",
      "28 th percentile :  ('coming', 109.53668569091226)\n",
      "29 th percentile :  ('mind', 113.0588456852019)\n",
      "\n",
      "29 th percentile :  ('mind', 113.0588456852019)\n",
      "30 th percentile :  ('bag', 119.70436908056392)\n",
      "\n",
      "30 th percentile :  ('bag', 119.70436908056392)\n",
      "31 th percentile :  ('family', 124.21152358475265)\n",
      "\n",
      "31 th percentile :  ('family', 124.21152358475265)\n",
      "32 th percentile :  ('version', 134.4754419302683)\n",
      "\n",
      "32 th percentile :  ('version', 134.4754419302683)\n",
      "33 th percentile :  ('sold', 141.77402503604796)\n",
      "\n",
      "33 th percentile :  ('sold', 141.77402503604796)\n",
      "34 th percentile :  ('process', 147.4269056901607)\n",
      "\n",
      "34 th percentile :  ('process', 147.4269056901607)\n",
      "35 th percentile :  ('bowl', 153.22807063167076)\n",
      "\n",
      "35 th percentile :  ('bowl', 153.22807063167076)\n",
      "36 th percentile :  ('online', 170.0788526461357)\n",
      "\n",
      "36 th percentile :  ('online', 170.0788526461357)\n",
      "37 th percentile :  ('actually', 180.91285971972817)\n",
      "\n",
      "37 th percentile :  ('actually', 180.91285971972817)\n",
      "38 th percentile :  ('absolutely', 196.4899562585514)\n",
      "\n",
      "38 th percentile :  ('absolutely', 196.4899562585514)\n",
      "39 th percentile :  ('wish', 209.75412890514397)\n",
      "\n",
      "39 th percentile :  ('wish', 209.75412890514397)\n",
      "40 th percentile :  ('grocery', 225.46765073156308)\n",
      "\n",
      "40 th percentile :  ('grocery', 225.46765073156308)\n",
      "41 th percentile :  ('serve', 243.96806818318004)\n",
      "\n",
      "41 th percentile :  ('serve', 243.96806818318004)\n",
      "42 th percentile :  ('special', 275.7208640677584)\n",
      "\n",
      "42 th percentile :  ('special', 275.7208640677584)\n",
      "43 th percentile :  ('soy', 302.10827724999257)\n",
      "\n",
      "43 th percentile :  ('soy', 302.10827724999257)\n",
      "44 th percentile :  ('pie', 321.68122170542335)\n",
      "\n",
      "44 th percentile :  ('pie', 321.68122170542335)\n",
      "45 th percentile :  ('breakfast', 383.57901544889506)\n",
      "\n",
      "45 th percentile :  ('breakfast', 383.57901544889506)\n",
      "46 th percentile :  ('together', 425.69893762311847)\n",
      "\n",
      "46 th percentile :  ('together', 425.69893762311847)\n",
      "47 th percentile :  ('great product', 482.6001649706555)\n",
      "\n",
      "47 th percentile :  ('great product', 482.6001649706555)\n",
      "48 th percentile :  ('would like', 606.2326365327312)\n",
      "\n",
      "48 th percentile :  ('would like', 606.2326365327312)\n",
      "49 th percentile :  ('cookie', 914.9366887964937)\n",
      "\n",
      "49 th percentile :  ('cookie', 914.9366887964937)\n",
      "50 th percentile :  ('although', 1209.776653022569)\n",
      "\n",
      "50 th percentile :  ('although', 1209.776653022569)\n",
      "51 th percentile :  ('gourmet', 1969.4021521598895)\n",
      "\n",
      "51 th percentile :  ('gourmet', 1969.4021521598895)\n",
      "52 th percentile :  ('decided', 18709.266203101273)\n",
      "\n",
      "52 th percentile :  ('decided', 18709.266203101273)\n",
      "53 th percentile :  ('due', 124087.91542572256)\n",
      "\n",
      "53 th percentile :  ('due', 124087.91542572256)\n",
      "54 th percentile :  ('quick', 337830.6520297802)\n",
      "\n",
      "54 th percentile :  ('quick', 337830.6520297802)\n",
      "55 th percentile :  ('dont', 487020.6987485426)\n",
      "\n",
      "55 th percentile :  ('dont', 487020.6987485426)\n",
      "56 th percentile :  ('feeding', 575639.0848915715)\n",
      "\n",
      "56 th percentile :  ('feeding', 575639.0848915715)\n",
      "57 th percentile :  ('mill', 688308.2439013645)\n",
      "\n",
      "57 th percentile :  ('mill', 688308.2439013645)\n",
      "58 th percentile :  ('almost', 796848.984072817)\n",
      "\n",
      "58 th percentile :  ('almost', 796848.984072817)\n",
      "59 th percentile :  ('note', 986998.2876746082)\n",
      "\n",
      "59 th percentile :  ('note', 986998.2876746082)\n",
      "60 th percentile :  ('send', 1071245.8801008393)\n",
      "\n",
      "60 th percentile :  ('send', 1071245.8801008393)\n",
      "61 th percentile :  ('honey', 1115252.8294943317)\n",
      "\n",
      "61 th percentile :  ('honey', 1115252.8294943317)\n",
      "62 th percentile :  ('adds', 1235204.9775917802)\n",
      "\n",
      "62 th percentile :  ('adds', 1235204.9775917802)\n",
      "63 th percentile :  ('available', 1380741.5652227337)\n",
      "\n",
      "63 th percentile :  ('available', 1380741.5652227337)\n",
      "64 th percentile :  ('carbs', 1593677.8729125597)\n",
      "\n",
      "64 th percentile :  ('carbs', 1593677.8729125597)\n",
      "65 th percentile :  ('premium', 1683336.968403296)\n",
      "\n",
      "65 th percentile :  ('premium', 1683336.968403296)\n",
      "66 th percentile :  ('hard', 1847998.0605938581)\n",
      "\n",
      "66 th percentile :  ('hard', 1847998.0605938581)\n",
      "67 th percentile :  ('waste', 2148285.200139886)\n",
      "\n",
      "67 th percentile :  ('waste', 2148285.200139886)\n",
      "68 th percentile :  ('wonderful', 2343344.5599373486)\n",
      "\n",
      "68 th percentile :  ('wonderful', 2343344.5599373486)\n",
      "69 th percentile :  ('means', 2574579.631810685)\n",
      "\n",
      "69 th percentile :  ('means', 2574579.631810685)\n",
      "70 th percentile :  ('use', 2730998.5978829702)\n",
      "\n",
      "70 th percentile :  ('use', 2730998.5978829702)\n",
      "71 th percentile :  ('look', 2912284.8341515413)\n",
      "\n",
      "71 th percentile :  ('look', 2912284.8341515413)\n",
      "72 th percentile :  ('anywhere', 3237115.4930469682)\n",
      "\n",
      "72 th percentile :  ('anywhere', 3237115.4930469682)\n",
      "73 th percentile :  ('best', 3374187.9246632606)\n",
      "\n",
      "73 th percentile :  ('best', 3374187.9246632606)\n",
      "74 th percentile :  ('canidae', 3627556.800515986)\n",
      "\n",
      "74 th percentile :  ('canidae', 3627556.800515986)\n",
      "75 th percentile :  ('pasta', 3927100.8827545643)\n",
      "\n",
      "75 th percentile :  ('pasta', 3927100.8827545643)\n",
      "76 th percentile :  ('added', 4180326.6545383055)\n",
      "\n",
      "76 th percentile :  ('added', 4180326.6545383055)\n",
      "77 th percentile :  ('body', 4524431.657887404)\n",
      "\n",
      "77 th percentile :  ('body', 4524431.657887404)\n",
      "78 th percentile :  ('bottle', 4756964.888201692)\n",
      "\n",
      "78 th percentile :  ('bottle', 4756964.888201692)\n",
      "79 th percentile :  ('leaf', 5103452.119048471)\n",
      "\n",
      "79 th percentile :  ('leaf', 5103452.119048471)\n",
      "80 th percentile :  ('heard', 5445837.039846171)\n",
      "\n",
      "80 th percentile :  ('heard', 5445837.039846171)\n",
      "81 th percentile :  ('straight', 5685200.420300732)\n",
      "\n",
      "81 th percentile :  ('straight', 5685200.420300732)\n",
      "82 th percentile :  ('left', 6293380.218461779)\n",
      "\n",
      "82 th percentile :  ('left', 6293380.218461779)\n",
      "83 th percentile :  ('vegetarian', 6904288.903367348)\n",
      "\n",
      "83 th percentile :  ('vegetarian', 6904288.903367348)\n",
      "84 th percentile :  ('types', 7567205.361534697)\n",
      "\n",
      "84 th percentile :  ('types', 7567205.361534697)\n",
      "85 th percentile :  ('wine', 8175147.583771184)\n",
      "\n",
      "85 th percentile :  ('wine', 8175147.583771184)\n",
      "86 th percentile :  ('condition', 8644350.252401568)\n",
      "\n",
      "86 th percentile :  ('condition', 8644350.252401568)\n",
      "87 th percentile :  ('trap', 9272706.880760761)\n",
      "\n",
      "87 th percentile :  ('trap', 9272706.880760761)\n",
      "88 th percentile :  ('enough', 10176722.106261829)\n",
      "\n",
      "88 th percentile :  ('enough', 10176722.106261829)\n",
      "89 th percentile :  ('later', 11172492.153870694)\n",
      "\n",
      "89 th percentile :  ('later', 11172492.153870694)\n",
      "90 th percentile :  ('recipes', 12928125.198747916)\n",
      "\n",
      "90 th percentile :  ('recipes', 12928125.198747916)\n",
      "91 th percentile :  ('nearly', 14413371.556155)\n",
      "\n",
      "91 th percentile :  ('nearly', 14413371.556155)\n",
      "92 th percentile :  ('caffeine', 16941754.828604147)\n",
      "\n",
      "92 th percentile :  ('caffeine', 16941754.828604147)\n",
      "93 th percentile :  ('keeps', 19577180.250427388)\n",
      "\n",
      "93 th percentile :  ('keeps', 19577180.250427388)\n",
      "94 th percentile :  ('whole', 22967645.79870662)\n",
      "\n",
      "94 th percentile :  ('whole', 22967645.79870662)\n",
      "95 th percentile :  ('tried', 29202569.806171015)\n",
      "\n",
      "95 th percentile :  ('tried', 29202569.806171015)\n",
      "96 th percentile :  ('make sure', 33533880.8312176)\n",
      "\n",
      "96 th percentile :  ('make sure', 33533880.8312176)\n",
      "97 th percentile :  ('yummy', 42092315.74420511)\n",
      "\n",
      "97 th percentile :  ('yummy', 42092315.74420511)\n",
      "98 th percentile :  ('ice', 52292932.94390212)\n",
      "\n",
      "98 th percentile :  ('ice', 52292932.94390212)\n",
      "99 th percentile :  ('give try', 107311107.70983805)\n"
     ]
    }
   ],
   "source": [
    "pertubation_test(log_reg_model, vectorizer_obj.transform(Dx_train), Dy_train, features_with_weights)"
   ]
  },
  {
   "cell_type": "markdown",
   "metadata": {},
   "source": [
    "These are some of the features showing multicolinearity and hence we cant give feature importance or interpretability."
   ]
  },
  {
   "cell_type": "markdown",
   "metadata": {
    "colab_type": "text",
    "id": "aRHMa52qLPpA"
   },
   "source": [
    "### [5.1.2] Applying Logistic Regression with L2 regularization on BOW,<font color='red'> SET 1</font>"
   ]
  },
  {
   "cell_type": "code",
   "execution_count": 111,
   "metadata": {
    "colab": {},
    "colab_type": "code",
    "id": "GBbb9lxlLPpB",
    "scrolled": false
   },
   "outputs": [
    {
     "name": "stdout",
     "output_type": "stream",
     "text": [
      "Retrain is set to be False but no Cross Validation Results DataFrame was found !\n",
      "Please set retrain to True.\n"
     ]
    },
    {
     "ename": "AttributeError",
     "evalue": "'NoneType' object has no attribute 'C'",
     "output_type": "error",
     "traceback": [
      "\u001b[0;31m---------------------------------------------------------------------------\u001b[0m",
      "\u001b[0;31mAttributeError\u001b[0m                            Traceback (most recent call last)",
      "\u001b[0;32m<ipython-input-111-63882f0fbbdf>\u001b[0m in \u001b[0;36m<module>\u001b[0;34m\u001b[0m\n\u001b[1;32m      4\u001b[0m                                            penalty=['l2'], results_path=csv_path, retrain=False, W2V_model=None)\n\u001b[1;32m      5\u001b[0m \u001b[0;31m# Analysing best parameters\u001b[0m\u001b[0;34m\u001b[0m\u001b[0;34m\u001b[0m\u001b[0;34m\u001b[0m\u001b[0m\n\u001b[0;32m----> 6\u001b[0;31m \u001b[0mbest_parameters\u001b[0m \u001b[0;34m=\u001b[0m \u001b[0manalyse_results\u001b[0m\u001b[0;34m(\u001b[0m\u001b[0mcv_results\u001b[0m\u001b[0;34m)\u001b[0m\u001b[0;34m\u001b[0m\u001b[0;34m\u001b[0m\u001b[0m\n\u001b[0m\u001b[1;32m      7\u001b[0m \u001b[0;34m\u001b[0m\u001b[0m\n\u001b[1;32m      8\u001b[0m \u001b[0;31m# retraining the model with best parameters\u001b[0m\u001b[0;34m\u001b[0m\u001b[0;34m\u001b[0m\u001b[0;34m\u001b[0m\u001b[0m\n",
      "\u001b[0;32m<ipython-input-98-64de8c8be1db>\u001b[0m in \u001b[0;36manalyse_results\u001b[0;34m(df)\u001b[0m\n\u001b[1;32m      4\u001b[0m     \u001b[0max\u001b[0m \u001b[0;34m=\u001b[0m \u001b[0mfig\u001b[0m\u001b[0;34m.\u001b[0m\u001b[0mgca\u001b[0m\u001b[0;34m(\u001b[0m\u001b[0;34m)\u001b[0m\u001b[0;34m\u001b[0m\u001b[0;34m\u001b[0m\u001b[0m\n\u001b[1;32m      5\u001b[0m \u001b[0;34m\u001b[0m\u001b[0m\n\u001b[0;32m----> 6\u001b[0;31m     \u001b[0mplt\u001b[0m\u001b[0;34m.\u001b[0m\u001b[0mplot\u001b[0m\u001b[0;34m(\u001b[0m\u001b[0;34m[\u001b[0m\u001b[0mmath\u001b[0m\u001b[0;34m.\u001b[0m\u001b[0mlog10\u001b[0m\u001b[0;34m(\u001b[0m\u001b[0mi\u001b[0m\u001b[0;34m)\u001b[0m \u001b[0;32mfor\u001b[0m \u001b[0mi\u001b[0m \u001b[0;32min\u001b[0m \u001b[0mdf\u001b[0m\u001b[0;34m.\u001b[0m\u001b[0mC\u001b[0m\u001b[0;34m.\u001b[0m\u001b[0mtolist\u001b[0m\u001b[0;34m(\u001b[0m\u001b[0;34m)\u001b[0m\u001b[0;34m]\u001b[0m\u001b[0;34m,\u001b[0m \u001b[0mdf\u001b[0m\u001b[0;34m.\u001b[0m\u001b[0mtest_score\u001b[0m\u001b[0;34m.\u001b[0m\u001b[0mtolist\u001b[0m\u001b[0;34m(\u001b[0m\u001b[0;34m)\u001b[0m\u001b[0;34m,\u001b[0m \u001b[0;34m'-o'\u001b[0m\u001b[0;34m,\u001b[0m \u001b[0mc\u001b[0m\u001b[0;34m=\u001b[0m\u001b[0;34m'b'\u001b[0m\u001b[0;34m,\u001b[0m \u001b[0mlabel\u001b[0m\u001b[0;34m=\u001b[0m\u001b[0;34m'Validation AUC'\u001b[0m\u001b[0;34m)\u001b[0m\u001b[0;34m\u001b[0m\u001b[0;34m\u001b[0m\u001b[0m\n\u001b[0m\u001b[1;32m      7\u001b[0m     \u001b[0mplt\u001b[0m\u001b[0;34m.\u001b[0m\u001b[0mplot\u001b[0m\u001b[0;34m(\u001b[0m\u001b[0;34m[\u001b[0m\u001b[0mmath\u001b[0m\u001b[0;34m.\u001b[0m\u001b[0mlog10\u001b[0m\u001b[0;34m(\u001b[0m\u001b[0mi\u001b[0m\u001b[0;34m)\u001b[0m \u001b[0;32mfor\u001b[0m \u001b[0mi\u001b[0m \u001b[0;32min\u001b[0m \u001b[0mdf\u001b[0m\u001b[0;34m.\u001b[0m\u001b[0mC\u001b[0m\u001b[0;34m.\u001b[0m\u001b[0mtolist\u001b[0m\u001b[0;34m(\u001b[0m\u001b[0;34m)\u001b[0m\u001b[0;34m]\u001b[0m\u001b[0;34m,\u001b[0m \u001b[0mdf\u001b[0m\u001b[0;34m.\u001b[0m\u001b[0mtrain_score\u001b[0m\u001b[0;34m.\u001b[0m\u001b[0mtolist\u001b[0m\u001b[0;34m(\u001b[0m\u001b[0;34m)\u001b[0m\u001b[0;34m,\u001b[0m \u001b[0;34m'-o'\u001b[0m\u001b[0;34m,\u001b[0m \u001b[0mc\u001b[0m\u001b[0;34m=\u001b[0m\u001b[0;34m'r'\u001b[0m\u001b[0;34m,\u001b[0m \u001b[0mlabel\u001b[0m\u001b[0;34m=\u001b[0m\u001b[0;34m'Train AUC'\u001b[0m\u001b[0;34m)\u001b[0m\u001b[0;34m\u001b[0m\u001b[0;34m\u001b[0m\u001b[0m\n\u001b[1;32m      8\u001b[0m     \u001b[0mplt\u001b[0m\u001b[0;34m.\u001b[0m\u001b[0mgrid\u001b[0m\u001b[0;34m(\u001b[0m\u001b[0;32mTrue\u001b[0m\u001b[0;34m)\u001b[0m\u001b[0;34m\u001b[0m\u001b[0;34m\u001b[0m\u001b[0m\n",
      "\u001b[0;31mAttributeError\u001b[0m: 'NoneType' object has no attribute 'C'"
     ]
    },
    {
     "data": {
      "image/png": "[encoded data removed]",
      "text/plain": [
       "<Figure size 432x288 with 1 Axes>"
      ]
     },
     "metadata": {
      "needs_background": "light"
     },
     "output_type": "display_data"
    }
   ],
   "source": [
    "# Please write all the code with proper documentation\n",
    "csv_path = 'saved_models/Assignment5/BOW_log_reg_results_l2.csv'\n",
    "cv_results = perform_hyperparameter_tuning(X=Dx_train, Y=Dy_train, vectorizer='BOW', vec_name='BOW', \n",
    "                                           penalty=['l2'], results_path=csv_path, retrain=False, W2V_model=None)\n",
    "# Analysing best parameters\n",
    "best_parameters = analyse_results(cv_results)\n",
    "\n",
    "# retraining the model with best parameters\n",
    "model_path = 'saved_models/Assignment5/{0}_log_reg_l2.pkl'.format('BOW')\n",
    "log_reg = retrain_with_best_params(Dx_train, Dy_train, best_parameters, 'BOW', model_path, None)\n",
    "\n",
    "print('Retraining Vectorizer with Dx_train')\n",
    "vectorizer_obj = get_vectorizer(W2V_model=None, train=Dx_train, vectorizer='BOW')\n",
    "\n",
    "# plotting AUC ROC \n",
    "plot_AUC_ROC(log_reg, vectorizer_obj, Dx_train, Dx_test, Dy_train, Dy_test)"
   ]
  },
  {
   "cell_type": "code",
   "execution_count": 101,
   "metadata": {},
   "outputs": [],
   "source": [
    "# appending the data results\n",
    "prettytable_data.append(['BOW', 'LogisticRegression', 'L2', best_parameters['logistic__C'], 0.9382580822922262, 0.9100335243977971])"
   ]
  },
  {
   "cell_type": "markdown",
   "metadata": {
    "colab_type": "text",
    "id": "nKn3VXcZLPpN"
   },
   "source": [
    "## [5.2] Logistic Regression on TFIDF,<font color='red'> SET 2</font>"
   ]
  },
  {
   "cell_type": "markdown",
   "metadata": {
    "colab_type": "text",
    "id": "naTBSzm6LPpN"
   },
   "source": [
    "### [5.2.1] Applying Logistic Regression with L1 regularization on TFIDF,<font color='red'> SET 2</font>"
   ]
  },
  {
   "cell_type": "code",
   "execution_count": 112,
   "metadata": {
    "colab": {},
    "colab_type": "code",
    "id": "PEhaagXXLPpS",
    "scrolled": false
   },
   "outputs": [
    {
     "name": "stdout",
     "output_type": "stream",
     "text": [
      "Performing Hyperparameter Tuning...\n",
      "\n",
      "CV iteration : C=0.0001, solver=saga, train_score=0.5, test_score=0.5\n",
      "CV iteration : C=0.0001, solver=saga, train_score=0.5, test_score=0.5\n",
      "CV iteration : C=0.0001, solver=saga, train_score=0.5, test_score=0.5\n",
      "C=0.0001, penalty=l1, solver=\"saga\", train_score=0.5, test_score=0.5\n",
      "CV iteration : C=0.001, solver=saga, train_score=0.5, test_score=0.5\n",
      "CV iteration : C=0.001, solver=saga, train_score=0.5, test_score=0.5\n",
      "CV iteration : C=0.001, solver=saga, train_score=0.5, test_score=0.5\n",
      "C=0.001, penalty=l1, solver=\"saga\", train_score=0.5, test_score=0.5\n",
      "CV iteration : C=0.01, solver=saga, train_score=0.6665617195095608, test_score=0.6681858644614518\n",
      "CV iteration : C=0.01, solver=saga, train_score=0.6685603685768778, test_score=0.6626467618342968\n",
      "CV iteration : C=0.01, solver=saga, train_score=0.6652055427721493, test_score=0.6706821095986524\n",
      "C=0.01, penalty=l1, solver=\"saga\", train_score=0.6667758769528627, test_score=0.6671715786314669\n",
      "CV iteration : C=0.05, solver=saga, train_score=0.8041770829761086, test_score=0.8017703040931821\n",
      "CV iteration : C=0.05, solver=saga, train_score=0.8037810140759036, test_score=0.7927274819422581\n",
      "CV iteration : C=0.05, solver=saga, train_score=0.8036146639497352, test_score=0.8119102966116004\n",
      "C=0.05, penalty=l1, solver=\"saga\", train_score=0.8038575870005825, test_score=0.8021360275490136\n",
      "CV iteration : C=0.1, solver=saga, train_score=0.8679381965151272, test_score=0.8642294396264543\n",
      "CV iteration : C=0.1, solver=saga, train_score=0.8695065050823384, test_score=0.861486149429741\n",
      "CV iteration : C=0.1, solver=saga, train_score=0.8730289654257156, test_score=0.8696410213599373\n",
      "C=0.1, penalty=l1, solver=\"saga\", train_score=0.870157889007727, test_score=0.8651188701387108\n",
      "CV iteration : C=0.5, solver=saga, train_score=0.9320747515107496, test_score=0.9206993698856035\n",
      "CV iteration : C=0.5, solver=saga, train_score=0.9339976615879921, test_score=0.9200455677272446\n",
      "CV iteration : C=0.5, solver=saga, train_score=0.9337350981350971, test_score=0.9185992120404312\n",
      "C=0.5, penalty=l1, solver=\"saga\", train_score=0.9332691704112795, test_score=0.9197813832177598\n",
      "CV iteration : C=1, solver=saga, train_score=0.9422961297786423, test_score=0.9272684593083408\n",
      "CV iteration : C=1, solver=saga, train_score=0.9450814208798679, test_score=0.9251718491144083\n",
      "CV iteration : C=1, solver=saga, train_score=0.9442908507792929, test_score=0.9246337788948211\n",
      "C=1, penalty=l1, solver=\"saga\", train_score=0.9438894671459344, test_score=0.9256913624391901\n",
      "CV iteration : C=5, solver=saga, train_score=0.9485301022916028, test_score=0.9266142468200308\n",
      "CV iteration : C=5, solver=saga, train_score=0.9518881401945118, test_score=0.9226870081682624\n",
      "CV iteration : C=5, solver=saga, train_score=0.9507358227191722, test_score=0.9230406300299782\n",
      "C=5, penalty=l1, solver=\"saga\", train_score=0.9503846884017623, test_score=0.9241139616727572\n",
      "CV iteration : C=10, solver=saga, train_score=0.9488863305485187, test_score=0.9254514303574526\n",
      "CV iteration : C=10, solver=saga, train_score=0.9523000588853062, test_score=0.9211304508084145\n",
      "CV iteration : C=10, solver=saga, train_score=0.9510468381673914, test_score=0.9216271358061285\n",
      "C=10, penalty=l1, solver=\"saga\", train_score=0.9507444092004054, test_score=0.9227363389906652\n",
      "CV iteration : C=50, solver=saga, train_score=0.9489945018886383, test_score=0.9242266540722728\n",
      "CV iteration : C=50, solver=saga, train_score=0.9524706914436338, test_score=0.9189474661597958\n",
      "CV iteration : C=50, solver=saga, train_score=0.95112411208995, test_score=0.9201932988965471\n",
      "C=50, penalty=l1, solver=\"saga\", train_score=0.9508631018074074, test_score=0.921122473042872\n",
      "CV iteration : C=100, solver=saga, train_score=0.9489955424204293, test_score=0.9240637530817244\n",
      "CV iteration : C=100, solver=saga, train_score=0.952484203701538, test_score=0.9184872518104638\n",
      "CV iteration : C=100, solver=saga, train_score=0.9511242732910021, test_score=0.9200011865589602\n",
      "C=100, penalty=l1, solver=\"saga\", train_score=0.9508680064709898, test_score=0.9208507304837162\n",
      "CV iteration : C=500, solver=saga, train_score=0.9489949708607134, test_score=0.9239329750644834\n",
      "CV iteration : C=500, solver=saga, train_score=0.9524897580895485, test_score=0.9180891731394262\n",
      "CV iteration : C=500, solver=saga, train_score=0.9511235405589467, test_score=0.9198543323002923\n",
      "C=500, penalty=l1, solver=\"saga\", train_score=0.9508694231697362, test_score=0.9206254935014005\n",
      "CV iteration : C=1000, solver=saga, train_score=0.9489954984542973, test_score=0.923913513701093\n",
      "CV iteration : C=1000, solver=saga, train_score=0.9524900218863405, test_score=0.9180394645967904\n",
      "CV iteration : C=1000, solver=saga, train_score=0.9511219432030661, test_score=0.9198361000949248\n",
      "C=1000, penalty=l1, solver=\"saga\", train_score=0.9508691545145679, test_score=0.9205963594642693\n",
      "CV iteration : C=5000, solver=saga, train_score=0.9489942234364691, test_score=0.9239002072869675\n",
      "CV iteration : C=5000, solver=saga, train_score=0.9524907839659621, test_score=0.917996497189064\n",
      "CV iteration : C=5000, solver=saga, train_score=0.9511221044041183, test_score=0.91982214747474\n",
      "C=5000, penalty=l1, solver=\"saga\", train_score=0.9508690372688499, test_score=0.9205729506502571\n",
      "CV iteration : C=10000, solver=saga, train_score=0.9489939449842997, test_score=0.9238985073485991\n",
      "CV iteration : C=10000, solver=saga, train_score=0.9524905055137927, test_score=0.9179913387553942\n",
      "CV iteration : C=10000, solver=saga, train_score=0.9511217966566551, test_score=0.9198199783699212\n",
      "C=10000, penalty=l1, solver=\"saga\", train_score=0.9508687490515825, test_score=0.9205699414913049\n"
     ]
    },
    {
     "data": {
      "image/png": "[encoded data removed]",
      "text/plain": [
       "<Figure size 432x288 with 1 Axes>"
      ]
     },
     "metadata": {
      "needs_background": "light"
     },
     "output_type": "display_data"
    },
    {
     "name": "stdout",
     "output_type": "stream",
     "text": [
      "Initializing Vectorizer\n",
      "Training Model....\n",
      "Saving Trained Model....\n",
      "Retraining Vectorizer with Dx_train\n",
      "Area Under the Curve for Train :  0.942428704867502\n",
      "Area Under the Curve for Test :  0.9270154446654617\n"
     ]
    },
    {
     "data": {
      "image/png": "[encoded data removed]",
      "text/plain": [
       "<Figure size 432x288 with 1 Axes>"
      ]
     },
     "metadata": {
      "needs_background": "light"
     },
     "output_type": "display_data"
    },
    {
     "data": {
      "image/png": "[encoded data removed]",
      "text/plain": [
       "<Figure size 432x288 with 2 Axes>"
      ]
     },
     "metadata": {
      "needs_background": "light"
     },
     "output_type": "display_data"
    },
    {
     "data": {
      "image/png": "[encoded data removed]",
      "text/plain": [
       "<Figure size 432x288 with 2 Axes>"
      ]
     },
     "metadata": {
      "needs_background": "light"
     },
     "output_type": "display_data"
    }
   ],
   "source": [
    "# Please write all the code with proper documentation\n",
    "csv_path = 'saved_models/Assignment5/TFIDF_log_reg_results_l1.csv'\n",
    "cv_results = perform_hyperparameter_tuning(X=Dx_train, Y=Dy_train, vectorizer='TFIDF', vec_name='TFIDF', \n",
    "                                           penalty=['l1'], results_path=csv_path, retrain=True, W2V_model=None)\n",
    "# Analysing best parameters\n",
    "best_parameters = analyse_results(cv_results)\n",
    "\n",
    "# retraining the model with best parameters\n",
    "model_path = 'saved_models/Assignment5/{0}_log_reg_l1.pkl'.format('TFIDF')\n",
    "log_reg = retrain_with_best_params(Dx_train, Dy_train, best_parameters, 'TFIDF', model_path, None)\n",
    "\n",
    "print('Retraining Vectorizer with Dx_train')\n",
    "vectorizer_obj = get_vectorizer(W2V_model=None, train=Dx_train, vectorizer='TFIDF')\n",
    "\n",
    "# plotting AUC ROC \n",
    "plot_AUC_ROC(log_reg, vectorizer_obj, Dx_train, Dx_test, Dy_train, Dy_test)"
   ]
  },
  {
   "cell_type": "code",
   "execution_count": 103,
   "metadata": {},
   "outputs": [],
   "source": [
    "# appending the data results\n",
    "prettytable_data.append(['TFIDF', 'LogisticRegression', 'L1', best_parameters['logistic__C'], 0.9457748460045251, 0.9241645611979215])"
   ]
  },
  {
   "cell_type": "markdown",
   "metadata": {
    "colab_type": "text",
    "id": "NdFShHQJLPpV"
   },
   "source": [
    "### [5.2.2] Applying Logistic Regression with L2 regularization on TFIDF,<font color='red'> SET 2</font>"
   ]
  },
  {
   "cell_type": "code",
   "execution_count": 104,
   "metadata": {
    "colab": {},
    "colab_type": "code",
    "id": "Jyhq3JDzLPpW"
   },
   "outputs": [
    {
     "name": "stdout",
     "output_type": "stream",
     "text": [
      "Performing Hyperparameter Tuning...\n",
      "\n",
      "CV iteration : C=0.0001, solver=saga, train_score=0.8798092793159573, test_score=0.8728447272777151\n",
      "CV iteration : C=0.0001, solver=saga, train_score=0.8810619257107198, test_score=0.8717555943506241\n",
      "CV iteration : C=0.0001, solver=saga, train_score=0.8821455077487295, test_score=0.8782768138875237\n",
      "C=0.0001, penalty=l2, solver=\"saga\", train_score=0.8810055709251357, test_score=0.8742923785052876\n",
      "CV iteration : C=0.0005, solver=saga, train_score=0.8801611256150494, test_score=0.873169884454603\n",
      "CV iteration : C=0.0005, solver=saga, train_score=0.8814297024049769, test_score=0.8721075988300204\n",
      "CV iteration : C=0.0005, solver=saga, train_score=0.8825159184573564, test_score=0.878614373496869\n",
      "C=0.0005, penalty=l2, solver=\"saga\", train_score=0.881368915492461, test_score=0.8746306189271641\n",
      "CV iteration : C=0.001, solver=saga, train_score=0.8806628378027836, test_score=0.873641294949741\n",
      "CV iteration : C=0.001, solver=saga, train_score=0.8819374379527961, test_score=0.8725941329147812\n",
      "CV iteration : C=0.001, solver=saga, train_score=0.8830279955815671, test_score=0.8790605642205105\n",
      "C=0.001, penalty=l2, solver=\"saga\", train_score=0.8818760904457156, test_score=0.8750986640283441\n",
      "CV iteration : C=0.005, solver=saga, train_score=0.8843832225826468, test_score=0.8772383645373629\n",
      "CV iteration : C=0.005, solver=saga, train_score=0.8858062084281902, test_score=0.876274265008199\n",
      "CV iteration : C=0.005, solver=saga, train_score=0.8868866798222357, test_score=0.8824430193751477\n",
      "C=0.005, penalty=l2, solver=\"saga\", train_score=0.8856920369443575, test_score=0.8786518829735699\n",
      "CV iteration : C=0.01, solver=saga, train_score=0.8885251986023459, test_score=0.8812087757618333\n",
      "CV iteration : C=0.01, solver=saga, train_score=0.8899641734645634, test_score=0.8802546413886222\n",
      "CV iteration : C=0.01, solver=saga, train_score=0.8910350423536715, test_score=0.8860695867585648\n",
      "C=0.01, penalty=l2, solver=\"saga\", train_score=0.8898414714735269, test_score=0.8825110013030067\n",
      "CV iteration : C=0.05, solver=saga, train_score=0.9084327847239382, test_score=0.8999823089172554\n",
      "CV iteration : C=0.05, solver=saga, train_score=0.9101349555077398, test_score=0.8990206713677974\n",
      "CV iteration : C=0.05, solver=saga, train_score=0.9108930775695946, test_score=0.9026328125293123\n",
      "C=0.05, penalty=l2, solver=\"saga\", train_score=0.9098202726004242, test_score=0.9005452642714551\n",
      "CV iteration : C=0.1, solver=saga, train_score=0.9194536871024179, test_score=0.9100396132534699\n",
      "CV iteration : C=0.1, solver=saga, train_score=0.9213091238224038, test_score=0.9089228709825328\n",
      "CV iteration : C=0.1, solver=saga, train_score=0.9217435057371748, test_score=0.9110798929376761\n",
      "C=0.1, penalty=l2, solver=\"saga\", train_score=0.9208354388873321, test_score=0.9100141257245596\n",
      "CV iteration : C=0.5, solver=saga, train_score=0.9381872309455913, test_score=0.9249194668852594\n",
      "CV iteration : C=0.5, solver=saga, train_score=0.9406169679372585, test_score=0.9229405627687002\n",
      "CV iteration : C=0.5, solver=saga, train_score=0.9402876937592684, test_score=0.9233905593992353\n",
      "C=0.5, penalty=l2, solver=\"saga\", train_score=0.9396972975473727, test_score=0.9237501963510649\n",
      "CV iteration : C=1, solver=saga, train_score=0.9426568279256456, test_score=0.9271221180622438\n",
      "CV iteration : C=1, solver=saga, train_score=0.9453275872529873, test_score=0.9248006470551617\n",
      "CV iteration : C=1, solver=saga, train_score=0.9447659322620282, test_score=0.924989013777216\n",
      "C=1, penalty=l2, solver=\"saga\", train_score=0.9442501158135537, test_score=0.9256372596315404\n",
      "CV iteration : C=5, solver=saga, train_score=0.9476392458694551, test_score=0.9269606825358063\n",
      "CV iteration : C=5, solver=saga, train_score=0.9507945266269154, test_score=0.924041419408677\n",
      "CV iteration : C=5, solver=saga, train_score=0.9498135475357282, test_score=0.9241161542733007\n",
      "C=5, penalty=l2, solver=\"saga\", train_score=0.9494157733440329, test_score=0.9250394187392613\n",
      "CV iteration : C=10, solver=saga, train_score=0.9483878718545529, test_score=0.9260778869555053\n",
      "CV iteration : C=10, solver=saga, train_score=0.9516688664388049, test_score=0.9229209255496165\n",
      "CV iteration : C=10, solver=saga, train_score=0.9505821394978805, test_score=0.9229709841779632\n",
      "C=10, penalty=l2, solver=\"saga\", train_score=0.9502129592637462, test_score=0.9239899322276951\n",
      "CV iteration : C=50, solver=saga, train_score=0.9489310880709039, test_score=0.9245721518910173\n",
      "CV iteration : C=50, solver=saga, train_score=0.9523606295598375, test_score=0.9206639349634063\n",
      "CV iteration : C=50, solver=saga, train_score=0.9510807343522725, test_score=0.920896381980062\n",
      "C=50, penalty=l2, solver=\"saga\", train_score=0.9507908173276712, test_score=0.9220441562781619\n",
      "CV iteration : C=100, solver=saga, train_score=0.9489685472153757, test_score=0.9242503945908664\n",
      "CV iteration : C=100, solver=saga, train_score=0.9524238528576666, test_score=0.9200504330680921\n",
      "CV iteration : C=100, solver=saga, train_score=0.9511069808144956, test_score=0.9204278553392339\n",
      "C=100, penalty=l2, solver=\"saga\", train_score=0.9508331269625127, test_score=0.9215762276660642\n",
      "CV iteration : C=500, solver=saga, train_score=0.948991043219587, test_score=0.9239730115439884\n",
      "CV iteration : C=500, solver=saga, train_score=0.9524771251542845, test_score=0.9190808820124363\n",
      "CV iteration : C=500, solver=saga, train_score=0.9511228664454559, test_score=0.9199661877595889\n",
      "C=500, penalty=l2, solver=\"saga\", train_score=0.9508636782731091, test_score=0.9210066937720045\n",
      "CV iteration : C=1000, solver=saga, train_score=0.9489949562053359, test_score=0.9239361404669626\n",
      "CV iteration : C=1000, solver=saga, train_score=0.9524863873527611, test_score=0.9187164503973811\n",
      "CV iteration : C=1000, solver=saga, train_score=0.9511239362342567, test_score=0.9198982420167561\n",
      "C=1000, penalty=l2, solver=\"saga\", train_score=0.9508684265974513, test_score=0.9208502776270334\n"
     ]
    },
    {
     "data": {
      "image/png": "[encoded data removed]",
      "text/plain": [
       "<Figure size 432x288 with 1 Axes>"
      ]
     },
     "metadata": {
      "needs_background": "light"
     },
     "output_type": "display_data"
    },
    {
     "name": "stdout",
     "output_type": "stream",
     "text": [
      "Initializing Vectorizer\n",
      "Training Model....\n",
      "Saving Trained Model....\n",
      "Retraining Vectorizer with Dx_train\n",
      "Area Under the Curve for Train :  0.8790337403864614\n",
      "Area Under the Curve for Test :  0.8752523072385138\n"
     ]
    },
    {
     "data": {
      "image/png": "[encoded data removed]",
      "text/plain": [
       "<Figure size 432x288 with 1 Axes>"
      ]
     },
     "metadata": {
      "needs_background": "light"
     },
     "output_type": "display_data"
    },
    {
     "data": {
      "image/png": "[encoded data removed]",
      "text/plain": [
       "<Figure size 432x288 with 2 Axes>"
      ]
     },
     "metadata": {
      "needs_background": "light"
     },
     "output_type": "display_data"
    },
    {
     "data": {
      "image/png": "[encoded data removed]",
      "text/plain": [
       "<Figure size 432x288 with 2 Axes>"
      ]
     },
     "metadata": {
      "needs_background": "light"
     },
     "output_type": "display_data"
    }
   ],
   "source": [
    "# Please write all the code with proper documentation\n",
    "csv_path = 'saved_models/Assignment5/TFIDF_log_reg_results_l2.csv'\n",
    "cv_results = perform_hyperparameter_tuning(X=Dx_train, Y=Dy_train, vectorizer='TFIDF', vec_name='TFIDF', \n",
    "                                           penalty=['l2'], results_path=csv_path, retrain=True, W2V_model=None)\n",
    "# Analysing best parameters\n",
    "best_parameters = analyse_results(cv_results)\n",
    "\n",
    "# retraining the model with best parameters\n",
    "model_path = 'saved_models/Assignment5/{0}_log_reg_l2.pkl'.format('TFIDF')\n",
    "log_reg = retrain_with_best_params(Dx_train, Dy_train, best_parameters, 'TFIDF', model_path, None)\n",
    "\n",
    "print('Retraining Vectorizer with Dx_train')\n",
    "vectorizer_obj = get_vectorizer(W2V_model=None, train=Dx_train, vectorizer='TFIDF')\n",
    "\n",
    "# plotting AUC ROC \n",
    "plot_AUC_ROC(log_reg, vectorizer_obj, Dx_train, Dx_test, Dy_train, Dy_test)"
   ]
  },
  {
   "cell_type": "code",
   "execution_count": 105,
   "metadata": {},
   "outputs": [],
   "source": [
    "# appending the data results\n",
    "prettytable_data.append(['TFIDF', 'LogisticRegression', 'L2',best_parameters['logistic__C'], 0.944429374626571, 0.9267382574417762])"
   ]
  },
  {
   "cell_type": "markdown",
   "metadata": {
    "colab_type": "text",
    "id": "xeeJ8eVvLPpX"
   },
   "source": [
    "### [5.2.3] Feature Importance on TFIDF,<font color='red'> SET 2</font>"
   ]
  },
  {
   "cell_type": "code",
   "execution_count": 116,
   "metadata": {},
   "outputs": [],
   "source": [
    "# Please write all the code with proper documentation\n",
    "feature_names = vectorizer_obj.get_feature_names()\n",
    "weights = np.reshape(log_reg.coef_,(log_reg.coef_.shape[1], log_reg.coef_.shape[0]))\n",
    "\n",
    "# making a list of feature names along with their feature weights\n",
    "features_with_weights = [(feature_names[i],weights[i]) for i in range(len(feature_names))]\n",
    "features_with_weights.sort(key=lambda x : abs(x[1][0]), reverse=True)"
   ]
  },
  {
   "cell_type": "markdown",
   "metadata": {
    "colab_type": "text",
    "id": "Cj9XEmqQLPpY"
   },
   "source": [
    "#### [5.2.3.1] Top 10 important features of positive class from<font color='red'> SET 2</font>"
   ]
  },
  {
   "cell_type": "code",
   "execution_count": 117,
   "metadata": {},
   "outputs": [
    {
     "name": "stdout",
     "output_type": "stream",
     "text": [
      "Top 10 features of positive class with the feature names : \n",
      "great  :  11.040976046924444\n",
      "delicious  :  10.289949888284056\n",
      "best  :  9.63456991267656\n",
      "excellent  :  9.002203102345556\n",
      "loves  :  8.435223810270848\n",
      "perfect  :  8.362986856595269\n",
      "highly recommend  :  7.698501014892485\n",
      "pleased  :  7.5512283714033455\n",
      "love  :  6.87459619332238\n",
      "wonderful  :  6.855945960649811\n"
     ]
    }
   ],
   "source": [
    "positive_weights = [i for i in features_with_weights if i[1][0]>=0]\n",
    "print('Top 10 features of positive class with the feature names : ')\n",
    "for i in positive_weights[:10]:\n",
    "    print(i[0],' : ',i[1][0])"
   ]
  },
  {
   "cell_type": "markdown",
   "metadata": {
    "colab_type": "text",
    "id": "PowEfns4LPpg"
   },
   "source": [
    "#### [5.2.3.2] Top 10 important features of negative class from<font color='red'> SET 2</font>"
   ]
  },
  {
   "cell_type": "code",
   "execution_count": 118,
   "metadata": {
    "colab": {},
    "colab_type": "code",
    "id": "G7jrma95LPpg"
   },
   "outputs": [
    {
     "name": "stdout",
     "output_type": "stream",
     "text": [
      "Top 10 features of negative class with the feature names : \n",
      "great  :  11.040976046924444\n",
      "delicious  :  10.289949888284056\n",
      "best  :  9.63456991267656\n",
      "excellent  :  9.002203102345556\n",
      "loves  :  8.435223810270848\n",
      "perfect  :  8.362986856595269\n",
      "highly recommend  :  7.698501014892485\n",
      "pleased  :  7.5512283714033455\n",
      "love  :  6.87459619332238\n",
      "wonderful  :  6.855945960649811\n"
     ]
    }
   ],
   "source": [
    "# Please write all the code with proper documentation\n",
    "negative_weights = [i for i in features_with_weights if i[1][0]<0]\n",
    "print('Top 10 features of negative class with the feature names : ')\n",
    "for i in negative_weights[:10]:\n",
    "    print(i[0],' : ',i[1][0])"
   ]
  },
  {
   "cell_type": "markdown",
   "metadata": {},
   "source": [
    "## Preparing/Training Google Word2Vec"
   ]
  },
  {
   "cell_type": "code",
   "execution_count": 122,
   "metadata": {},
   "outputs": [
    {
     "name": "stdout",
     "output_type": "stream",
     "text": [
      "[('fantastic', 0.7889639139175415), ('terrific', 0.7843351364135742), ('awesome', 0.7653926014900208), ('excellent', 0.7597904205322266), ('wonderful', 0.7278671264648438), ('good', 0.7003934383392334), ('fabulous', 0.6398879289627075), ('incredible', 0.6174167394638062), ('amazing', 0.5957418084144592), ('phenomenal', 0.5938920378684998)]\n",
      "==================================================\n",
      "[('nastiest', 0.8008226156234741), ('greatest', 0.6651179790496826), ('disgusting', 0.6249040365219116), ('best', 0.6130609512329102), ('weakest', 0.5873509049415588), ('vile', 0.5743359923362732), ('sweetest', 0.571001410484314), ('horrible', 0.5672475099563599), ('awful', 0.5650882720947266), ('smoothest', 0.5627115964889526)]\n"
     ]
    }
   ],
   "source": [
    "is_your_ram_gt_16g=True\n",
    "want_to_use_google_w2v = False\n",
    "want_to_train_w2v = True\n",
    "\n",
    "path_to_word2vec = '/home/monodeepdas112/Datasets/GoogleNews-vectors-negative300.bin.gz'\n",
    "\n",
    "if want_to_train_w2v:\n",
    "    \n",
    "    # Train your own Word2Vec model using your own text corpus\n",
    "    i=0\n",
    "    list_of_sentences=[]\n",
    "    for sentance in preprocessed_reviews:\n",
    "        list_of_sentences.append(sentance.split())\n",
    "    \n",
    "    # min_count = 5 considers only words that occured atleast 5 times\n",
    "    w2v_model=Word2Vec(list_of_sentences,min_count=5,size=300, workers=4)\n",
    "    print(w2v_model.wv.most_similar('great'))\n",
    "    print('='*50)\n",
    "    print(w2v_model.wv.most_similar('worst'))\n",
    "    \n",
    "elif want_to_use_google_w2v and is_your_ram_gt_16g:\n",
    "    if os.path.isfile(path_to_word2vec):\n",
    "        print('Preparing to load pre-trained Word2Vec model !')\n",
    "        w2v_model=KeyedVectors.load_word2vec_format(path_to_word2vec, binary=True)\n",
    "        print('Successfully loaded model into memory !!')\n",
    "        print('Words similar to \"similar\" : ', w2v_model.wv.most_similar('great'))\n",
    "        print('Words similar to \"worst\" : ',w2v_model.wv.most_similar('worst'))\n",
    "    else:\n",
    "        print(\"you don't have google's word2vec file, keep want_to_train_w2v = True, to train your own w2v \")"
   ]
  },
  {
   "cell_type": "markdown",
   "metadata": {
    "colab_type": "text",
    "id": "sqYadGOgLPpi"
   },
   "source": [
    "## [5.3] Logistic Regression on AVG W2V,<font color='red'> SET 3</font>"
   ]
  },
  {
   "cell_type": "markdown",
   "metadata": {
    "colab_type": "text",
    "id": "kByBCEA1LPpj"
   },
   "source": [
    "### [5.3.1] Applying Logistic Regression with L1 regularization on AVG W2V<font color='red'> SET 3</font>"
   ]
  },
  {
   "cell_type": "code",
   "execution_count": null,
   "metadata": {
    "scrolled": false
   },
   "outputs": [
    {
     "name": "stdout",
     "output_type": "stream",
     "text": [
      "Performing Hyperparameter Tuning...\n",
      "\n",
      "CV iteration : C=0.0001, solver=saga, train_score=0.5, test_score=0.5\n",
      "CV iteration : C=0.0001, solver=saga, train_score=0.5, test_score=0.5\n",
      "CV iteration : C=0.0001, solver=saga, train_score=0.5, test_score=0.5\n",
      "C=0.0001, penalty=l1, solver=\"saga\", train_score=0.5, test_score=0.5\n",
      "CV iteration : C=0.001, solver=saga, train_score=0.5, test_score=0.5\n",
      "CV iteration : C=0.001, solver=saga, train_score=0.5, test_score=0.5\n",
      "CV iteration : C=0.001, solver=saga, train_score=0.5, test_score=0.5\n",
      "C=0.001, penalty=l1, solver=\"saga\", train_score=0.5, test_score=0.5\n",
      "CV iteration : C=0.01, solver=saga, train_score=0.59163501105162, test_score=0.5946369171981123\n",
      "CV iteration : C=0.01, solver=saga, train_score=0.5928956153162763, test_score=0.5896841174523761\n"
     ]
    }
   ],
   "source": [
    "# Please write all the code with proper documentation\n",
    "csv_path = 'saved_models/Assignment5/Avg-W2Vec_log_reg_results_l1.csv'\n",
    "cv_results = perform_hyperparameter_tuning(X=Dx_train, Y=Dy_train, vectorizer='Avg-W2Vec', vec_name='Avg-W2Vec', \n",
    "                                           penalty=['l1'], results_path=csv_path, retrain=True, W2V_model=w2v_model)\n",
    "# Analysing best parameters\n",
    "best_parameters = analyse_results(cv_results)\n",
    "\n",
    "# retraining the model with best parameters\n",
    "model_path = 'saved_models/Assignment5/{0}_log_reg_l1.pkl'.format('Avg-W2Vec')\n",
    "log_reg = retrain_with_best_params(Dx_train, Dy_train, best_parameters, 'Avg-W2Vec', model_path, w2v_model)\n",
    "\n",
    "print('Retraining Vectorizer with Dx_train')\n",
    "vectorizer_obj = get_vectorizer(W2V_model=w2v_model, train=Dx_train, vectorizer='Avg-W2Vec')\n",
    "\n",
    "# plotting AUC ROC \n",
    "plot_AUC_ROC(log_reg, vectorizer_obj, Dx_train, Dx_test, Dy_train, Dy_test)"
   ]
  },
  {
   "cell_type": "code",
   "execution_count": 111,
   "metadata": {},
   "outputs": [],
   "source": [
    "# appending the data results\n",
    "prettytable_data.append(['Avg Word2Vec', 'LogisticRegression', 'L1',best_parameters['logistic__C'], 0.4706469724881358, 0.48069986983621094])"
   ]
  },
  {
   "cell_type": "markdown",
   "metadata": {
    "colab_type": "text",
    "id": "O_8Gu2SfLPpn"
   },
   "source": [
    "### [5.3.2] Applying Logistic Regression with L2 regularization on AVG W2V,<font color='red'> SET 3</font>"
   ]
  },
  {
   "cell_type": "code",
   "execution_count": 112,
   "metadata": {
    "colab": {},
    "colab_type": "code",
    "id": "Zy3s4jk1LPpn"
   },
   "outputs": [
    {
     "name": "stdout",
     "output_type": "stream",
     "text": [
      "Performing Hyperparameter Tuning...\n",
      "\n",
      "CV iteration : C=0.0001, solver=saga, train_score=0.6190462309740227, test_score=0.62119317853421\n",
      "CV iteration : C=0.0001, solver=saga, train_score=0.6215470392180829, test_score=0.6185802560247867\n",
      "CV iteration : C=0.0001, solver=saga, train_score=0.6217065013029148, test_score=0.6191461430267853\n",
      "C=0.0001, penalty=l2, solver=\"saga\", train_score=0.6207665904983402, test_score=0.6196398591952607\n",
      "CV iteration : C=0.0005, solver=saga, train_score=0.6217796200564115, test_score=0.6239516509391103\n",
      "CV iteration : C=0.0005, solver=saga, train_score=0.6241055749934711, test_score=0.6211941750498053\n",
      "CV iteration : C=0.0005, solver=saga, train_score=0.6244111911749517, test_score=0.6215016736109287\n",
      "C=0.0005, penalty=l2, solver=\"saga\", train_score=0.6234321287416115, test_score=0.6222158331999481\n",
      "CV iteration : C=0.001, solver=saga, train_score=0.6247706360169967, test_score=0.6267523873289642\n",
      "CV iteration : C=0.001, solver=saga, train_score=0.6266183127146829, test_score=0.6237472480049464\n",
      "CV iteration : C=0.001, solver=saga, train_score=0.6271136975054635, test_score=0.623910024828629\n",
      "C=0.001, penalty=l2, solver=\"saga\", train_score=0.6261675487457143, test_score=0.6248032200541799\n",
      "CV iteration : C=0.005, solver=saga, train_score=0.6384192035857604, test_score=0.6386215914916795\n",
      "CV iteration : C=0.005, solver=saga, train_score=0.6378135114958245, test_score=0.6350867748194812\n",
      "CV iteration : C=0.005, solver=saga, train_score=0.6388282952044972, test_score=0.635296359515171\n",
      "C=0.005, penalty=l2, solver=\"saga\", train_score=0.6383536700953607, test_score=0.6363349086087772\n",
      "CV iteration : C=0.01, solver=saga, train_score=0.6461783172519877, test_score=0.6450226214901988\n",
      "CV iteration : C=0.01, solver=saga, train_score=0.644540080551816, test_score=0.6423011960180175\n",
      "CV iteration : C=0.01, solver=saga, train_score=0.6454906467632412, test_score=0.6423980086914272\n",
      "C=0.01, penalty=l2, solver=\"saga\", train_score=0.6454030148556816, test_score=0.6432406087332145\n",
      "CV iteration : C=0.05, solver=saga, train_score=0.6585330787987398, test_score=0.655204490275825\n",
      "CV iteration : C=0.05, solver=saga, train_score=0.6566457886161132, test_score=0.6553872629597146\n",
      "CV iteration : C=0.05, solver=saga, train_score=0.6565493906541608, test_score=0.655418031053139\n",
      "C=0.05, penalty=l2, solver=\"saga\", train_score=0.6572427526896713, test_score=0.6553365947628929\n",
      "CV iteration : C=0.1, solver=saga, train_score=0.6607006677283023, test_score=0.6570651021293663\n",
      "CV iteration : C=0.1, solver=saga, train_score=0.6592854419050583, test_score=0.6576014033753274\n",
      "CV iteration : C=0.1, solver=saga, train_score=0.6585186813261535, test_score=0.6581787738671879\n",
      "C=0.1, penalty=l2, solver=\"saga\", train_score=0.6595015969865048, test_score=0.6576150931239605\n",
      "CV iteration : C=0.5, solver=saga, train_score=0.6629432921898271, test_score=0.6589663366480569\n",
      "CV iteration : C=0.5, solver=saga, train_score=0.6624323910805029, test_score=0.6592311753221471\n",
      "CV iteration : C=0.5, solver=saga, train_score=0.6604712950165662, test_score=0.6614804445234441\n",
      "C=0.5, penalty=l2, solver=\"saga\", train_score=0.6619489927622987, test_score=0.6598926521645494\n",
      "CV iteration : C=1, solver=saga, train_score=0.6634646865493239, test_score=0.6593316475415785\n",
      "CV iteration : C=1, solver=saga, train_score=0.6631153902858883, test_score=0.6593985313235919\n",
      "CV iteration : C=1, solver=saga, train_score=0.6608910918657246, test_score=0.6623062285903492\n",
      "C=1, penalty=l2, solver=\"saga\", train_score=0.662490389566979, test_score=0.6603454691518399\n",
      "CV iteration : C=5, solver=saga, train_score=0.6639612253888585, test_score=0.6595835901314944\n",
      "CV iteration : C=5, solver=saga, train_score=0.6637794107776231, test_score=0.6594298922555615\n",
      "CV iteration : C=5, solver=saga, train_score=0.6613475253176511, test_score=0.6632027137494513\n",
      "C=5, penalty=l2, solver=\"saga\", train_score=0.6630293871613776, test_score=0.6607387320455024\n",
      "CV iteration : C=10, solver=saga, train_score=0.6640025682083245, test_score=0.6595926173904164\n",
      "CV iteration : C=10, solver=saga, train_score=0.6638456823939383, test_score=0.6594184616354979\n",
      "CV iteration : C=10, solver=saga, train_score=0.6614121229756518, test_score=0.6633222490122952\n",
      "C=10, penalty=l2, solver=\"saga\", train_score=0.6630867911926382, test_score=0.6607777760127366\n",
      "CV iteration : C=50, solver=saga, train_score=0.664009602789446, test_score=0.6595763214295052\n",
      "CV iteration : C=50, solver=saga, train_score=0.6638871864225551, test_score=0.659410841222122\n",
      "CV iteration : C=50, solver=saga, train_score=0.6614686752356848, test_score=0.6633665690999411\n",
      "C=50, penalty=l2, solver=\"saga\", train_score=0.6631218214825619, test_score=0.6607845772505228\n",
      "CV iteration : C=100, solver=saga, train_score=0.6640112148809529, test_score=0.6595658873250367\n",
      "CV iteration : C=100, solver=saga, train_score=0.6638909675099078, test_score=0.6594103722736065\n",
      "CV iteration : C=100, solver=saga, train_score=0.6614718992567283, test_score=0.6633834529428538\n",
      "C=100, penalty=l2, solver=\"saga\", train_score=0.6631246938825297, test_score=0.6607865708471657\n",
      "CV iteration : C=500, solver=saga, train_score=0.6640091338173711, test_score=0.6595676458819697\n",
      "CV iteration : C=500, solver=saga, train_score=0.6638915830357559, test_score=0.6594013450146845\n",
      "CV iteration : C=500, solver=saga, train_score=0.6614790507215886, test_score=0.6633890222660368\n",
      "C=500, penalty=l2, solver=\"saga\", train_score=0.663126589191572, test_score=0.6607860043875636\n",
      "CV iteration : C=1000, solver=saga, train_score=0.6640093243372764, test_score=0.6595707526658843\n",
      "CV iteration : C=1000, solver=saga, train_score=0.6638911726851905, test_score=0.6593981796122054\n",
      "CV iteration : C=1000, solver=saga, train_score=0.6614791533040765, test_score=0.6633850944275814\n",
      "C=1000, penalty=l2, solver=\"saga\", train_score=0.6631265501088478, test_score=0.660784675568557\n"
     ]
    },
    {
     "data": {
      "image/png": "[encoded data removed]",
      "text/plain": [
       "<Figure size 432x288 with 1 Axes>"
      ]
     },
     "metadata": {
      "needs_background": "light"
     },
     "output_type": "display_data"
    },
    {
     "name": "stdout",
     "output_type": "stream",
     "text": [
      "Initializing Vectorizer\n",
      "Training Model....\n",
      "Saving Trained Model....\n",
      "Retraining Vectorizer with Dx_train\n",
      "Area Under the Curve for Train :  0.62089878412949\n",
      "Area Under the Curve for Test :  0.6029454308667455\n"
     ]
    },
    {
     "data": {
      "image/png": "[encoded data removed]",
      "text/plain": [
       "<Figure size 432x288 with 1 Axes>"
      ]
     },
     "metadata": {
      "needs_background": "light"
     },
     "output_type": "display_data"
    },
    {
     "data": {
      "image/png": "[encoded data removed]",
      "text/plain": [
       "<Figure size 432x288 with 2 Axes>"
      ]
     },
     "metadata": {
      "needs_background": "light"
     },
     "output_type": "display_data"
    },
    {
     "data": {
      "image/png": "[encoded data removed]",
      "text/plain": [
       "<Figure size 432x288 with 2 Axes>"
      ]
     },
     "metadata": {
      "needs_background": "light"
     },
     "output_type": "display_data"
    }
   ],
   "source": [
    "# Please write all the code with proper documentation\n",
    "csv_path = 'saved_models/Assignment5/Avg-W2Vec_log_reg_results_l2.csv'\n",
    "cv_results = perform_hyperparameter_tuning(X=Dx_train, Y=Dy_train, vectorizer='Avg-W2Vec', vec_name='Avg-W2Vec', \n",
    "                                           penalty=['l2'], results_path=csv_path, retrain=True, W2V_model=w2v_model)\n",
    "# Analysing best parameters\n",
    "best_parameters = analyse_results(cv_results)\n",
    "\n",
    "# retraining the model with best parameters\n",
    "model_path = 'saved_models/Assignment5/{0}_log_reg_l2.pkl'.format('Avg-W2Vec')\n",
    "log_reg = retrain_with_best_params(Dx_train, Dy_train, best_parameters, 'Avg-W2Vec', model_path, w2v_model)\n",
    "\n",
    "print('Retraining Vectorizer with Dx_train')\n",
    "vectorizer_obj = get_vectorizer(W2V_model=w2v_model, train=Dx_train, vectorizer='Avg-W2Vec')\n",
    "\n",
    "# plotting AUC ROC \n",
    "plot_AUC_ROC(log_reg, vectorizer_obj, Dx_train, Dx_test, Dy_train, Dy_test)"
   ]
  },
  {
   "cell_type": "code",
   "execution_count": 113,
   "metadata": {},
   "outputs": [],
   "source": [
    "# appending the data results\n",
    "prettytable_data.append(['Avg Word2Vec', 'LogisticRegression', 'L2',best_parameters['logistic__C'], 0.4942940504411143, 0.5006688569346947])"
   ]
  },
  {
   "cell_type": "markdown",
   "metadata": {
    "colab_type": "text",
    "id": "pdXTwVIPLPpp"
   },
   "source": [
    "## [5.4] Logistic Regression on TFIDF W2V,<font color='red'> SET 4</font>"
   ]
  },
  {
   "cell_type": "markdown",
   "metadata": {
    "colab_type": "text",
    "id": "WP9NjwNSLPpp"
   },
   "source": [
    "### [5.4.1] Applying Logistic Regression with L1 regularization on TFIDF W2V,<font color='red'> SET 4</font>"
   ]
  },
  {
   "cell_type": "code",
   "execution_count": 114,
   "metadata": {
    "colab": {},
    "colab_type": "code",
    "id": "207gYymwLPpq"
   },
   "outputs": [
    {
     "name": "stdout",
     "output_type": "stream",
     "text": [
      "Performing Hyperparameter Tuning...\n",
      "\n",
      "CV iteration : C=0.0001, solver=saga, train_score=0.5, test_score=0.5\n",
      "CV iteration : C=0.0001, solver=saga, train_score=0.5, test_score=0.5\n",
      "CV iteration : C=0.0001, solver=saga, train_score=0.5, test_score=0.5\n",
      "C=0.0001, penalty=l1, solver=\"saga\", train_score=0.5, test_score=0.5\n",
      "CV iteration : C=0.0005, solver=saga, train_score=0.5, test_score=0.5\n",
      "CV iteration : C=0.0005, solver=saga, train_score=0.5, test_score=0.5\n",
      "CV iteration : C=0.0005, solver=saga, train_score=0.5, test_score=0.5\n",
      "C=0.0005, penalty=l1, solver=\"saga\", train_score=0.5, test_score=0.5\n",
      "CV iteration : C=0.001, solver=saga, train_score=0.5, test_score=0.5\n",
      "CV iteration : C=0.001, solver=saga, train_score=0.5, test_score=0.5\n",
      "CV iteration : C=0.001, solver=saga, train_score=0.5, test_score=0.5\n",
      "C=0.001, penalty=l1, solver=\"saga\", train_score=0.5, test_score=0.5\n",
      "CV iteration : C=0.005, solver=saga, train_score=0.5, test_score=0.5\n",
      "CV iteration : C=0.005, solver=saga, train_score=0.5, test_score=0.5\n",
      "CV iteration : C=0.005, solver=saga, train_score=0.5, test_score=0.5\n",
      "C=0.005, penalty=l1, solver=\"saga\", train_score=0.5, test_score=0.5\n",
      "CV iteration : C=0.01, solver=saga, train_score=0.5, test_score=0.5\n",
      "CV iteration : C=0.01, solver=saga, train_score=0.5, test_score=0.5\n",
      "CV iteration : C=0.01, solver=saga, train_score=0.5, test_score=0.5\n",
      "C=0.01, penalty=l1, solver=\"saga\", train_score=0.5, test_score=0.5\n",
      "CV iteration : C=0.05, solver=saga, train_score=0.5, test_score=0.5\n",
      "CV iteration : C=0.05, solver=saga, train_score=0.5, test_score=0.5\n",
      "CV iteration : C=0.05, solver=saga, train_score=0.5, test_score=0.5\n",
      "C=0.05, penalty=l1, solver=\"saga\", train_score=0.5, test_score=0.5\n",
      "CV iteration : C=0.1, solver=saga, train_score=0.5, test_score=0.5\n",
      "CV iteration : C=0.1, solver=saga, train_score=0.5, test_score=0.5\n",
      "CV iteration : C=0.1, solver=saga, train_score=0.5, test_score=0.5\n",
      "C=0.1, penalty=l1, solver=\"saga\", train_score=0.5, test_score=0.5\n",
      "CV iteration : C=0.5, solver=saga, train_score=0.5, test_score=0.5\n",
      "CV iteration : C=0.5, solver=saga, train_score=0.5, test_score=0.5\n",
      "CV iteration : C=0.5, solver=saga, train_score=0.5, test_score=0.5\n",
      "C=0.5, penalty=l1, solver=\"saga\", train_score=0.5, test_score=0.5\n",
      "CV iteration : C=1, solver=saga, train_score=0.5, test_score=0.5\n",
      "CV iteration : C=1, solver=saga, train_score=0.5, test_score=0.5\n",
      "CV iteration : C=1, solver=saga, train_score=0.5, test_score=0.5\n",
      "C=1, penalty=l1, solver=\"saga\", train_score=0.5, test_score=0.5\n",
      "CV iteration : C=5, solver=saga, train_score=0.5, test_score=0.5\n",
      "CV iteration : C=5, solver=saga, train_score=0.5, test_score=0.5\n",
      "CV iteration : C=5, solver=saga, train_score=0.5, test_score=0.5\n",
      "C=5, penalty=l1, solver=\"saga\", train_score=0.5, test_score=0.5\n",
      "CV iteration : C=10, solver=saga, train_score=0.5, test_score=0.5\n",
      "CV iteration : C=10, solver=saga, train_score=0.5, test_score=0.5\n",
      "CV iteration : C=10, solver=saga, train_score=0.5, test_score=0.5\n",
      "C=10, penalty=l1, solver=\"saga\", train_score=0.5, test_score=0.5\n",
      "CV iteration : C=50, solver=saga, train_score=0.5, test_score=0.5\n",
      "CV iteration : C=50, solver=saga, train_score=0.5, test_score=0.5\n",
      "CV iteration : C=50, solver=saga, train_score=0.5, test_score=0.5\n",
      "C=50, penalty=l1, solver=\"saga\", train_score=0.5, test_score=0.5\n",
      "CV iteration : C=100, solver=saga, train_score=0.5, test_score=0.5\n",
      "CV iteration : C=100, solver=saga, train_score=0.5, test_score=0.5\n",
      "CV iteration : C=100, solver=saga, train_score=0.5, test_score=0.5\n",
      "C=100, penalty=l1, solver=\"saga\", train_score=0.5, test_score=0.5\n",
      "CV iteration : C=500, solver=saga, train_score=0.5, test_score=0.5\n",
      "CV iteration : C=500, solver=saga, train_score=0.5, test_score=0.5\n",
      "CV iteration : C=500, solver=saga, train_score=0.5, test_score=0.5\n",
      "C=500, penalty=l1, solver=\"saga\", train_score=0.5, test_score=0.5\n",
      "CV iteration : C=1000, solver=saga, train_score=0.5, test_score=0.5\n",
      "CV iteration : C=1000, solver=saga, train_score=0.5, test_score=0.5\n",
      "CV iteration : C=1000, solver=saga, train_score=0.5, test_score=0.5\n",
      "C=1000, penalty=l1, solver=\"saga\", train_score=0.5, test_score=0.5\n"
     ]
    },
    {
     "data": {
      "image/png": "[encoded data removed]",
      "text/plain": [
       "<Figure size 432x288 with 1 Axes>"
      ]
     },
     "metadata": {
      "needs_background": "light"
     },
     "output_type": "display_data"
    },
    {
     "name": "stdout",
     "output_type": "stream",
     "text": [
      "Initializing Vectorizer\n",
      "Training Model....\n",
      "Saving Trained Model....\n",
      "Retraining Vectorizer with Dx_train\n",
      "Area Under the Curve for Train :  0.5\n",
      "Area Under the Curve for Test :  0.5\n"
     ]
    },
    {
     "data": {
      "image/png": "[encoded data removed]",
      "text/plain": [
       "<Figure size 432x288 with 1 Axes>"
      ]
     },
     "metadata": {
      "needs_background": "light"
     },
     "output_type": "display_data"
    },
    {
     "data": {
      "image/png": "[encoded data removed]",
      "text/plain": [
       "<Figure size 432x288 with 2 Axes>"
      ]
     },
     "metadata": {
      "needs_background": "light"
     },
     "output_type": "display_data"
    },
    {
     "data": {
      "image/png": "[encoded data removed]",
      "text/plain": [
       "<Figure size 432x288 with 2 Axes>"
      ]
     },
     "metadata": {
      "needs_background": "light"
     },
     "output_type": "display_data"
    }
   ],
   "source": [
    "# Please write all the code with proper documentation\n",
    "csv_path = 'saved_models/Assignment5/TFIDF-W2Vec_log_reg_results_l1.csv'\n",
    "cv_results = perform_hyperparameter_tuning(X=Dx_train, Y=Dy_train, vectorizer='TFIDF-W2Vec', vec_name='TFIDF-W2Vec', \n",
    "                                           penalty=['l1'], results_path=csv_path, retrain=True, W2V_model=w2v_model)\n",
    "# Analysing best parameters\n",
    "best_parameters = analyse_results(cv_results)\n",
    "\n",
    "# retraining the model with best parameters\n",
    "model_path = 'saved_models/Assignment5/{0}_log_reg_l1.pkl'.format('TFIDF-W2Vec')\n",
    "log_reg = retrain_with_best_params(Dx_train, Dy_train, best_parameters, 'TFIDF-W2Vec', model_path, w2v_model)\n",
    "\n",
    "print('Retraining Vectorizer with Dx_train')\n",
    "vectorizer_obj = get_vectorizer(W2V_model=w2v_model, train=Dx_train, vectorizer='TFIDF-W2Vec')\n",
    "\n",
    "# plotting AUC ROC \n",
    "plot_AUC_ROC(log_reg, vectorizer_obj, Dx_train, Dx_test, Dy_train, Dy_test)"
   ]
  },
  {
   "cell_type": "code",
   "execution_count": 115,
   "metadata": {},
   "outputs": [],
   "source": [
    "# appending the data results\n",
    "prettytable_data.append(['TFIDF Word2Vec', 'LogisticRegression', 'L1',best_parameters['logistic__C'], 0.5, 0.5])"
   ]
  },
  {
   "cell_type": "markdown",
   "metadata": {
    "colab_type": "text",
    "id": "ynUK2tYDLPps"
   },
   "source": [
    "### [5.4.2] Applying Logistic Regression with L2 regularization on TFIDF W2V,<font color='red'> SET 4</font>"
   ]
  },
  {
   "cell_type": "code",
   "execution_count": 116,
   "metadata": {
    "colab": {},
    "colab_type": "code",
    "id": "hVYuiXl2LPpt"
   },
   "outputs": [
    {
     "name": "stdout",
     "output_type": "stream",
     "text": [
      "Performing Hyperparameter Tuning...\n",
      "\n",
      "CV iteration : C=0.0001, solver=saga, train_score=0.6190465680477015, test_score=0.6211934130084678\n",
      "CV iteration : C=0.0001, solver=saga, train_score=0.6215472150826109, test_score=0.618579200890627\n",
      "CV iteration : C=0.0001, solver=saga, train_score=0.6217059297719116, test_score=0.619145791280058\n",
      "C=0.0001, penalty=l2, solver=\"saga\", train_score=0.6207665709674081, test_score=0.619639468393051\n",
      "CV iteration : C=0.0005, solver=saga, train_score=0.6217795760902796, test_score=0.6239508888977728\n",
      "CV iteration : C=0.0005, solver=saga, train_score=0.6241051060213962, test_score=0.6211963439366892\n",
      "CV iteration : C=0.0005, solver=saga, train_score=0.6244114549584916, test_score=0.6215016736109288\n",
      "C=0.0005, penalty=l2, solver=\"saga\", train_score=0.6234320456900558, test_score=0.6222163021484636\n",
      "CV iteration : C=0.001, solver=saga, train_score=0.624770518773978, test_score=0.6267509804834179\n",
      "CV iteration : C=0.001, solver=saga, train_score=0.6266181221947776, test_score=0.6237464273450445\n",
      "CV iteration : C=0.001, solver=saga, train_score=0.6271125251341749, test_score=0.6239103179509018\n",
      "C=0.001, penalty=l2, solver=\"saga\", train_score=0.6261670553676436, test_score=0.624802575259788\n",
      "CV iteration : C=0.005, solver=saga, train_score=0.6384192328965153, test_score=0.6386215914916795\n",
      "CV iteration : C=0.005, solver=saga, train_score=0.6378125442409204, test_score=0.635084840406855\n",
      "CV iteration : C=0.005, solver=saga, train_score=0.6388277383281352, test_score=0.6352968871352621\n",
      "C=0.005, penalty=l2, solver=\"saga\", train_score=0.638353171821857, test_score=0.6363344396779321\n",
      "CV iteration : C=0.01, solver=saga, train_score=0.6461784051842518, test_score=0.6450226801087633\n",
      "CV iteration : C=0.01, solver=saga, train_score=0.6445396408904959, test_score=0.6422999064096\n",
      "CV iteration : C=0.01, solver=saga, train_score=0.6454907200364467, test_score=0.6423983018137\n",
      "C=0.01, penalty=l2, solver=\"saga\", train_score=0.6454029220370647, test_score=0.6432402961106877\n",
      "CV iteration : C=0.05, solver=saga, train_score=0.6585331227648717, test_score=0.6552047247500827\n",
      "CV iteration : C=0.05, solver=saga, train_score=0.6566445282536623, test_score=0.6553867353926348\n",
      "CV iteration : C=0.05, solver=saga, train_score=0.6565491561799032, test_score=0.6554178551797754\n",
      "C=0.05, penalty=l2, solver=\"saga\", train_score=0.6572422690661458, test_score=0.655336438440831\n",
      "CV iteration : C=0.1, solver=saga, train_score=0.6607003892761328, test_score=0.6570656296964461\n",
      "CV iteration : C=0.1, solver=saga, train_score=0.6592852660405304, test_score=0.6576006999525541\n",
      "CV iteration : C=0.1, solver=saga, train_score=0.6585189158004113, test_score=0.6581794773606426\n",
      "C=0.1, penalty=l2, solver=\"saga\", train_score=0.6595015237056915, test_score=0.6576152690032143\n",
      "CV iteration : C=0.5, solver=saga, train_score=0.6629431456360537, test_score=0.6589664538851858\n",
      "CV iteration : C=0.5, solver=saga, train_score=0.6624324350466348, test_score=0.6592311167035827\n",
      "CV iteration : C=0.5, solver=saga, train_score=0.6604713096712073, test_score=0.6614799169033532\n",
      "C=0.5, penalty=l2, solver=\"saga\", train_score=0.6619489634512986, test_score=0.6598924958307072\n",
      "CV iteration : C=1, solver=saga, train_score=0.6634643201648907, test_score=0.6593316475415785\n",
      "CV iteration : C=1, solver=saga, train_score=0.6631153756305109, test_score=0.6593981796122054\n",
      "CV iteration : C=1, solver=saga, train_score=0.6608909160100312, test_score=0.6623057009702582\n",
      "C=1, penalty=l2, solver=\"saga\", train_score=0.6624902039351442, test_score=0.6603451760413473\n",
      "CV iteration : C=5, solver=saga, train_score=0.6639612986657452, test_score=0.6595841176985742\n",
      "CV iteration : C=5, solver=saga, train_score=0.6637795573313965, test_score=0.6594303025855125\n",
      "CV iteration : C=5, solver=saga, train_score=0.6613476279001389, test_score=0.6632015412603601\n",
      "C=5, penalty=l2, solver=\"saga\", train_score=0.6630294946324268, test_score=0.6607386538481489\n",
      "CV iteration : C=10, solver=saga, train_score=0.66400363805087, test_score=0.6595929104832386\n",
      "CV iteration : C=10, solver=saga, train_score=0.6638457556708249, test_score=0.6594182271612401\n",
      "CV iteration : C=10, solver=saga, train_score=0.6614119764292408, test_score=0.6633227180079317\n",
      "C=10, penalty=l2, solver=\"saga\", train_score=0.6630871233836452, test_score=0.6607779518841368\n",
      "CV iteration : C=50, solver=saga, train_score=0.6640096760663325, test_score=0.6595760283366829\n",
      "CV iteration : C=50, solver=saga, train_score=0.6638864389983108, test_score=0.6594110170778154\n",
      "CV iteration : C=50, solver=saga, train_score=0.6614685433439147, test_score=0.6633669794711229\n",
      "C=50, penalty=l2, solver=\"saga\", train_score=0.6631215528028527, test_score=0.6607846749618737\n",
      "CV iteration : C=100, solver=saga, train_score=0.6640111855701981, test_score=0.659566473510681\n",
      "CV iteration : C=100, solver=saga, train_score=0.663892066663208, test_score=0.6594103722736067\n",
      "CV iteration : C=100, solver=saga, train_score=0.6614716647824707, test_score=0.663383687440672\n",
      "C=100, penalty=l2, solver=\"saga\", train_score=0.6631249723386256, test_score=0.6607868444083199\n",
      "CV iteration : C=500, solver=saga, train_score=0.6640090898512392, test_score=0.6595678217376629\n",
      "CV iteration : C=500, solver=saga, train_score=0.6638913192389639, test_score=0.6594007002104758\n",
      "CV iteration : C=500, solver=saga, train_score=0.6614790214123065, test_score=0.6633893153883097\n",
      "C=500, penalty=l2, solver=\"saga\", train_score=0.6631264768341699, test_score=0.6607859457788162\n",
      "CV iteration : C=1000, solver=saga, train_score=0.6640091338173711, test_score=0.65957069404732\n",
      "CV iteration : C=1000, solver=saga, train_score=0.6638912166513224, test_score=0.6593978279008188\n",
      "CV iteration : C=1000, solver=saga, train_score=0.6614791386494353, test_score=0.6633855634232179\n",
      "C=1000, penalty=l2, solver=\"saga\", train_score=0.6631264963727097, test_score=0.6607846951237856\n"
     ]
    },
    {
     "data": {
      "image/png": "[encoded data removed]",
      "text/plain": [
       "<Figure size 432x288 with 1 Axes>"
      ]
     },
     "metadata": {
      "needs_background": "light"
     },
     "output_type": "display_data"
    },
    {
     "name": "stdout",
     "output_type": "stream",
     "text": [
      "Loading Model....\n",
      "Retraining Vectorizer with Dx_train\n",
      "Area Under the Curve for Train :  0.62089878412949\n",
      "Area Under the Curve for Test :  0.6029454308667455\n"
     ]
    },
    {
     "data": {
      "image/png": "[encoded data removed]",
      "text/plain": [
       "<Figure size 432x288 with 1 Axes>"
      ]
     },
     "metadata": {
      "needs_background": "light"
     },
     "output_type": "display_data"
    },
    {
     "data": {
      "image/png": "[encoded data removed]",
      "text/plain": [
       "<Figure size 432x288 with 2 Axes>"
      ]
     },
     "metadata": {
      "needs_background": "light"
     },
     "output_type": "display_data"
    },
    {
     "data": {
      "image/png": "[encoded data removed]",
      "text/plain": [
       "<Figure size 432x288 with 2 Axes>"
      ]
     },
     "metadata": {
      "needs_background": "light"
     },
     "output_type": "display_data"
    }
   ],
   "source": [
    "# Please write all the code with proper documentation\n",
    "csv_path = 'saved_models/Assignment5/Avg-W2Vec_log_reg_results_l2.csv'\n",
    "cv_results = perform_hyperparameter_tuning(X=Dx_train, Y=Dy_train, vectorizer='Avg-W2Vec', vec_name='Avg-W2Vec', \n",
    "                                           penalty=['l2'], results_path=csv_path, retrain=True, W2V_model=w2v_model)\n",
    "# Analysing best parameters\n",
    "best_parameters = analyse_results(cv_results)\n",
    "\n",
    "# retraining the model with best parameters\n",
    "model_path = 'saved_models/Assignment5/{0}_log_reg_l2.pkl'.format('Avg-W2Vec')\n",
    "log_reg = retrain_with_best_params(Dx_train, Dy_train, best_parameters, 'Avg-W2Vec', model_path, w2v_model)\n",
    "\n",
    "print('Retraining Vectorizer with Dx_train')\n",
    "vectorizer_obj = get_vectorizer(W2V_model=w2v_model, train=Dx_train, vectorizer='Avg-W2Vec')\n",
    "\n",
    "# plotting AUC ROC \n",
    "plot_AUC_ROC(log_reg, vectorizer_obj, Dx_train, Dx_test, Dy_train, Dy_test)"
   ]
  },
  {
   "cell_type": "code",
   "execution_count": 117,
   "metadata": {},
   "outputs": [],
   "source": [
    "# appending the data results\n",
    "prettytable_data.append(['TFIDF Word2Vec', 'LogisticRegression', 'L2',best_parameters['logistic__C'], 0.4942940504411143, 0.5006688569346947])"
   ]
  },
  {
   "cell_type": "markdown",
   "metadata": {
    "colab_type": "text",
    "id": "nOvsBNf2LPpv"
   },
   "source": [
    "# [6] Conclusions"
   ]
  },
  {
   "cell_type": "code",
   "execution_count": null,
   "metadata": {},
   "outputs": [],
   "source": [
    "from prettytable import PrettyTable"
   ]
  },
  {
   "cell_type": "code",
   "execution_count": null,
   "metadata": {
    "colab": {},
    "colab_type": "code",
    "id": "T7VxD0q2LPpw"
   },
   "outputs": [],
   "source": [
    "# Please compare all your models using Prettytable library\n",
    "x = PrettyTable()\n",
    "\n",
    "x.field_names = [\"Vectorizer\", \"Model\", \"Penalty\", \"Hyper parameter: 1/C\", \"Train AUC\", \"Test AUC\"]\n",
    "[x.add_row(i) for i in prettytable_data]\n",
    "print(x)"
   ]
  },
  {
   "cell_type": "markdown",
   "metadata": {},
   "source": [
    "If had saved these models in my harddisk to avoid having to retrain these over and over again to save time, as retraining these on a single processor was taking a lot of time. But the Dataset segregation into Train and Test is being done differently in cell 35. Hence I guess a part of the test data that was a part of train data while model training might have become a part of train data during evaluation and hence the odd occurance of Train AUC < Test AUC in TFIDF W2V and Avg W2V."
   ]
  },
  {
   "cell_type": "code",
   "execution_count": null,
   "metadata": {},
   "outputs": [],
   "source": []
  }
 ],
 "metadata": {
  "colab": {
   "name": "05 Amazon Fine Food Reviews Analysis_Logistic Regression.ipynb",
   "provenance": [],
   "version": "0.3.2"
  },
  "kernelspec": {
   "display_name": "Python 3",
   "language": "python",
   "name": "python3"
  },
  "language_info": {
   "codemirror_mode": {
    "name": "ipython",
    "version": 3
   },
   "file_extension": ".py",
   "mimetype": "text/x-python",
   "name": "python",
   "nbconvert_exporter": "python",
   "pygments_lexer": "ipython3",
   "version": "3.6.7"
  }
 },
 "nbformat": 4,
 "nbformat_minor": 2
}
