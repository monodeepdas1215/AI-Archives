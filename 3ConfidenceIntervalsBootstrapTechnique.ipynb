{
 "cells": [
  {
   "cell_type": "markdown",
   "metadata": {},
   "source": [
    "## Empirical bootstrap based Confidence Interval"
   ]
  },
  {
   "cell_type": "code",
   "execution_count": 1,
   "metadata": {},
   "outputs": [],
   "source": [
    "import numpy\n",
    "from pandas import read_csv\n",
    "from sklearn.utils import resample\n",
    "from sklearn.metrics import accuracy_score\n",
    "from matplotlib import pyplot"
   ]
  },
  {
   "cell_type": "code",
   "execution_count": 2,
   "metadata": {},
   "outputs": [],
   "source": [
    "#loading the dataset\n",
    "x = numpy.array([180, 162, 158, 172, 168, 150, 171, 183, 165, 176])"
   ]
  },
  {
   "cell_type": "code",
   "execution_count": 3,
   "metadata": {},
   "outputs": [],
   "source": [
    "#configure bootstrap\n",
    "k = 1000 # number of samples to be taken from the actual sample x\n",
    "m = int(len(x)) # size of each sample here m=n\n",
    "\n",
    "#run bootstrap\n",
    "medians = list()\n",
    "variances = list()\n",
    "for i in range(k):\n",
    "    #prepare train and test sets\n",
    "    s = resample(x, n_samples=m)\n",
    "    median = numpy.median(s)\n",
    "    vr = numpy.var(s)\n",
    "    \n",
    "    medians.append(median)\n",
    "    variances.append(vr)"
   ]
  },
  {
   "cell_type": "code",
   "execution_count": 4,
   "metadata": {},
   "outputs": [
    {
     "data": {
      "image/png": "[encoded data removed]",
      "text/plain": [
       "<Figure size 432x288 with 1 Axes>"
      ]
     },
     "metadata": {},
     "output_type": "display_data"
    }
   ],
   "source": [
    "#plotting the median\n",
    "pyplot.hist(medians)\n",
    "pyplot.show()"
   ]
  },
  {
   "cell_type": "code",
   "execution_count": 5,
   "metadata": {},
   "outputs": [
    {
     "data": {
      "image/png": "[encoded data removed]",
      "text/plain": [
       "<Figure size 432x288 with 1 Axes>"
      ]
     },
     "metadata": {},
     "output_type": "display_data"
    }
   ],
   "source": [
    "#plotting the variance\n",
    "pyplot.hist(variances)\n",
    "pyplot.show()"
   ]
  },
  {
   "cell_type": "code",
   "execution_count": 6,
   "metadata": {},
   "outputs": [
    {
     "name": "stdout",
     "output_type": "stream",
     "text": [
      "95 confidence interval for medians 161 and 176\n",
      "95 confidence interval  for variance 29 and 149\n"
     ]
    }
   ],
   "source": [
    "#generating confidence intervals of 95%\n",
    "alpha = 0.95\n",
    "p = ((1.0-alpha)/2.0) * 100\n",
    "m_lower = numpy.percentile(medians, p)\n",
    "v_lower = numpy.percentile(variances, p)\n",
    "\n",
    "p = (alpha+((1.0-alpha)/2.0)) * 100\n",
    "m_upper = numpy.percentile(medians, p)\n",
    "v_upper = numpy.percentile(variances, p)\n",
    "\n",
    "print('%.lf confidence interval for medians %.lf and %.lf' % (alpha*100, m_lower, m_upper))\n",
    "print('%.lf confidence interval  for variance %.lf and %.lf' % (alpha*100, v_lower, v_upper))"
   ]
  }
 ],
 "metadata": {
  "kernelspec": {
   "display_name": "Python 3",
   "language": "python",
   "name": "python3"
  },
  "language_info": {
   "codemirror_mode": {
    "name": "ipython",
    "version": 3
   },
   "file_extension": ".py",
   "mimetype": "text/x-python",
   "name": "python",
   "nbconvert_exporter": "python",
   "pygments_lexer": "ipython3",
   "version": "3.6.5"
  }
 },
 "nbformat": 4,
 "nbformat_minor": 2
}
